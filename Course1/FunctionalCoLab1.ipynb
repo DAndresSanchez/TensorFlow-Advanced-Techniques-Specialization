{
  "cells": [
    {
      "cell_type": "markdown",
      "metadata": {
        "id": "xuxY6G-Og7RG"
      },
      "source": [
        "# Ungraded Lab: Practice with the Keras Functional API\n",
        "\n",
        "This lab will demonstrate how to build models with the Functional syntax. You'll build one using the Sequential API and see how you can do the same with the Functional API. Both will arrive at the same architecture and you can train and evaluate it as usual."
      ]
    },
    {
      "cell_type": "markdown",
      "metadata": {
        "id": "aO7GSqjOg7RL"
      },
      "source": [
        "## Imports"
      ]
    },
    {
      "cell_type": "code",
      "execution_count": 1,
      "metadata": {
        "id": "56OszBVcg7RL"
      },
      "outputs": [],
      "source": [
        "try:\n",
        "  # %tensorflow_version only exists in Colab.\n",
        "  %tensorflow_version 2.x\n",
        "except Exception:\n",
        "  pass\n",
        "\n",
        "import tensorflow as tf\n",
        "from tensorflow.python.keras.utils.vis_utils import plot_model\n",
        "import pydot\n",
        "from tensorflow.keras.models import Model"
      ]
    },
    {
      "cell_type": "markdown",
      "metadata": {
        "id": "vBEoAZ3Lg7RN"
      },
      "source": [
        "## Sequential API\n",
        "\n",
        "Here is how we use the `Sequential()` class to build a model."
      ]
    },
    {
      "cell_type": "code",
      "execution_count": 2,
      "metadata": {
        "id": "04Y-C9RYUTes"
      },
      "outputs": [],
      "source": [
        "def build_model_with_sequential():\n",
        "    \n",
        "    # instantiate a Sequential class and linearly stack the layers of your model\n",
        "    seq_model = tf.keras.models.Sequential([tf.keras.layers.Flatten(input_shape=(28, 28)),\n",
        "                                            tf.keras.layers.Dense(128, activation=tf.nn.relu),\n",
        "                                            tf.keras.layers.Dense(10, activation=tf.nn.softmax)])\n",
        "    return seq_model"
      ]
    },
    {
      "cell_type": "markdown",
      "metadata": {
        "id": "PVjlMeWwg7RO"
      },
      "source": [
        "## Functional API\n",
        "\n",
        "And here is how you build the same model above with the functional syntax."
      ]
    },
    {
      "cell_type": "code",
      "execution_count": 3,
      "metadata": {
        "id": "6VxRcmRbg7RO"
      },
      "outputs": [],
      "source": [
        "def build_model_with_functional():\n",
        "    \n",
        "    # instantiate the input Tensor\n",
        "    input_layer = tf.keras.Input(shape=(28, 28))\n",
        "    \n",
        "    # stack the layers using the syntax: new_layer()(previous_layer)\n",
        "    flatten_layer = tf.keras.layers.Flatten()(input_layer)\n",
        "    first_dense = tf.keras.layers.Dense(128, activation=tf.nn.relu)(flatten_layer)\n",
        "    output_layer = tf.keras.layers.Dense(10, activation=tf.nn.softmax)(first_dense)\n",
        "    \n",
        "    # declare inputs and outputs\n",
        "    func_model = Model(inputs=input_layer, outputs=output_layer)\n",
        "    \n",
        "    return func_model"
      ]
    },
    {
      "cell_type": "markdown",
      "metadata": {
        "id": "T-KIJFp8g7RP"
      },
      "source": [
        "## Build the model and visualize the model graph"
      ]
    },
    {
      "cell_type": "markdown",
      "metadata": {
        "id": "paDkK0f_g7RP"
      },
      "source": [
        "You can choose how to build your model below. Just uncomment which function you'd like to use. You'll notice that the plot will look the same."
      ]
    },
    {
      "cell_type": "code",
      "execution_count": 10,
      "metadata": {
        "id": "kjHHOAkUg7RQ",
        "outputId": "7d9228f4-c09b-4105-a093-b803ae53e394",
        "colab": {
          "base_uri": "https://localhost:8080/",
          "height": 422
        }
      },
      "outputs": [
        {
          "output_type": "execute_result",
          "data": {
            "image/png": "[encoded data removed]",
            "text/plain": [
              "<IPython.core.display.Image object>"
            ]
          },
          "metadata": {},
          "execution_count": 10
        }
      ],
      "source": [
        "model = build_model_with_functional()\n",
        "# model = build_model_with_sequential()\n",
        "\n",
        "# Plot model graph\n",
        "plot_model(model, show_shapes=True, show_layer_names=True, to_file='model.png')"
      ]
    },
    {
      "cell_type": "markdown",
      "metadata": {
        "id": "P4c2FYsIg7RQ"
      },
      "source": [
        "## Training the model\n",
        "\n",
        "Regardless if you built it with the Sequential or Functional API, you'll follow the same steps when training and evaluating your model."
      ]
    },
    {
      "cell_type": "code",
      "execution_count": null,
      "metadata": {
        "id": "N0tEoSY3g7RR"
      },
      "outputs": [],
      "source": [
        "# prepare fashion mnist dataset\n",
        "mnist = tf.keras.datasets.fashion_mnist\n",
        "(training_images, training_labels), (test_images, test_labels) = mnist.load_data()\n",
        "training_images = training_images / 255.0\n",
        "test_images = test_images / 255.0\n",
        "\n",
        "# configure, train, and evaluate the model\n",
        "model.compile(optimizer=tf.optimizers.Adam(),\n",
        "              loss='sparse_categorical_crossentropy',\n",
        "              metrics=['accuracy'])\n",
        "model.fit(training_images, training_labels, epochs=5)\n",
        "model.evaluate(test_images, test_labels)"
      ]
    }
  ],
  "metadata": {
    "colab": {
      "name": "FunctionalCoLab1.ipynb",
      "provenance": []
    },
    "kernelspec": {
      "display_name": "Python 3",
      "language": "python",
      "name": "python3"
    },
    "language_info": {
      "codemirror_mode": {
        "name": "ipython",
        "version": 3
      },
      "file_extension": ".py",
      "mimetype": "text/x-python",
      "name": "python",
      "nbconvert_exporter": "python",
      "pygments_lexer": "ipython3",
      "version": "3.7.4"
    }
  },
  "nbformat": 4,
  "nbformat_minor": 0
}