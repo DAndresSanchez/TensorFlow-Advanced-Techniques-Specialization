{
  "cells": [
    {
      "cell_type": "markdown",
      "metadata": {
        "id": "ZL_6GK8qX35J"
      },
      "source": [
        "\n",
        "\n",
        "# Week 1: Multiple Output Models using the Keras Functional API\n",
        "\n",
        "Welcome to the first programming assignment of the course! Your task will be to use the Keras functional API to train a model to predict two outputs. For this lab, you will use the **[Wine Quality Dataset](https://archive.ics.uci.edu/ml/datasets/Wine+Quality)** from the **UCI machine learning repository**. It has separate datasets for red wine and white wine.\n",
        "\n",
        "Normally, the wines are classified into one of the quality ratings specified in the attributes. In this exercise, you will combine the two datasets to predict the wine quality and whether the wine is red or white solely from the attributes. \n",
        "\n",
        "You will model wine quality estimations as a regression problem and wine type detection as a binary classification problem.\n",
        "\n",
        "#### Please complete sections that are marked **(TODO)**"
      ]
    },
    {
      "cell_type": "markdown",
      "metadata": {
        "id": "obdcD6urYBY9"
      },
      "source": [
        "## Imports"
      ]
    },
    {
      "cell_type": "code",
      "execution_count": 1,
      "metadata": {
        "id": "t8N3pcTQ5oQI"
      },
      "outputs": [],
      "source": [
        "import tensorflow as tf\n",
        "from tensorflow.keras.models import Model\n",
        "from tensorflow.keras.layers import Dense, Input\n",
        "\n",
        "import numpy as np\n",
        "import matplotlib.pyplot as plt\n",
        "import pandas as pd\n",
        "from sklearn.model_selection import train_test_split\n",
        "from sklearn.metrics import confusion_matrix\n",
        "import itertools\n",
        "\n",
        "import utils"
      ]
    },
    {
      "cell_type": "markdown",
      "metadata": {
        "id": "gQMERzWQYpgm"
      },
      "source": [
        "## Load Dataset\n",
        "\n",
        "\n",
        "You will now download the dataset from the [UCI Machine Learning Repository](https://archive.ics.uci.edu/ml/index.php). \n",
        "\n",
        "### Pre-process the white wine dataset (TODO)\n",
        "You will add a new column named `is_red` in your dataframe to indicate if the wine is white or red. \n",
        "- In the white wine dataset, you will fill the column `is_red` with  zeros (0)."
      ]
    },
    {
      "cell_type": "code",
      "execution_count": 2,
      "metadata": {
        "deletable": false,
        "id": "2qYAjKXCd4RH",
        "nbgrader": {
          "cell_type": "code",
          "checksum": "cb9f284ba6255170fe04a309a407d72d",
          "grade": false,
          "grade_id": "cell-e5bfa0f152d9a21f",
          "locked": false,
          "schema_version": 3,
          "solution": true,
          "task": false
        }
      },
      "outputs": [],
      "source": [
        "# Please uncomment all lines in this cell and replace those marked with `# YOUR CODE HERE`.\n",
        "# You can select all lines in this code cell with Ctrl+A (Windows/Linux) or Cmd+A (Mac), then press Ctrl+/ (Windows/Linux) or Cmd+/ (Mac) to uncomment.\n",
        "\n",
        "\n",
        "\n",
        "# URL of the white wine dataset\n",
        "URL = 'http://archive.ics.uci.edu/ml/machine-learning-databases/wine-quality/winequality-white.csv'\n",
        "\n",
        "# load the dataset from the URL\n",
        "white_df = pd.read_csv(URL, sep=\";\")\n",
        "\n",
        "# fill the `is_red` column with zeros.\n",
        "white_df['is_red'] = 0\n",
        "\n",
        "# keep only the first of duplicate items\n",
        "white_df = white_df.drop_duplicates(keep='first')\n"
      ]
    },
    {
      "cell_type": "code",
      "execution_count": 3,
      "metadata": {
        "deletable": false,
        "editable": false,
        "nbgrader": {
          "cell_type": "code",
          "checksum": "defe38d6ec58fd31cd67b89e46c4373f",
          "grade": true,
          "grade_id": "cell-30575e713b55fc51",
          "locked": true,
          "points": 1,
          "schema_version": 3,
          "solution": false,
          "task": false
        },
        "id": "rl-VRDbI6sOs",
        "outputId": "888eb986-692a-4eae-b426-0a574abe76f0",
        "colab": {
          "base_uri": "https://localhost:8080/"
        }
      },
      "outputs": [
        {
          "output_type": "stream",
          "name": "stdout",
          "text": [
            "\u001b[92m All public tests passed\n"
          ]
        }
      ],
      "source": [
        "# You can click `File -> Open` in the menu above and open the `utils.py` file \n",
        "# in case you want to inspect the unit tests being used for each graded function.\n",
        "\n",
        "utils.test_white_df(white_df)\n"
      ]
    },
    {
      "cell_type": "code",
      "execution_count": 4,
      "metadata": {
        "id": "OQHK0ohBQRCk",
        "outputId": "7964a87d-6caf-4ebf-8eb4-5e8da7c11d33",
        "colab": {
          "base_uri": "https://localhost:8080/"
        }
      },
      "outputs": [
        {
          "output_type": "stream",
          "name": "stdout",
          "text": [
            "8.8\n",
            "9.1\n"
          ]
        }
      ],
      "source": [
        "print(white_df.alcohol[0])\n",
        "print(white_df.alcohol[100])\n",
        "\n",
        "# EXPECTED OUTPUT\n",
        "# 8.8\n",
        "# 9.1"
      ]
    },
    {
      "cell_type": "markdown",
      "metadata": {
        "id": "cdqVDLAh6sOw"
      },
      "source": [
        "### Pre-process the red wine dataset (TODO)\n",
        "- In the red wine dataset, you will fill in the column `is_red` with ones (1)."
      ]
    },
    {
      "cell_type": "code",
      "execution_count": 5,
      "metadata": {
        "deletable": false,
        "id": "8y3QxKwBed8v",
        "nbgrader": {
          "cell_type": "code",
          "checksum": "be72275f78e2c2d0038dde9aa63f8d4f",
          "grade": false,
          "grade_id": "cell-e47a40f306593274",
          "locked": false,
          "schema_version": 3,
          "solution": true,
          "task": false
        }
      },
      "outputs": [],
      "source": [
        "# Please uncomment all lines in this cell and replace those marked with `# YOUR CODE HERE`.\n",
        "# You can select all lines in this code cell with Ctrl+A (Windows/Linux) or Cmd+A (Mac), then press Ctrl+/ (Windows/Linux) or Cmd+/ (Mac) to uncomment.\n",
        "\n",
        "\n",
        "\n",
        "# URL of the red wine dataset\n",
        "URL = 'http://archive.ics.uci.edu/ml/machine-learning-databases/wine-quality/winequality-red.csv'\n",
        "\n",
        "# load the dataset from the URL\n",
        "red_df = pd.read_csv(URL, sep=\";\")\n",
        "\n",
        "# fill the `is_red` column with ones.\n",
        "red_df['is_red'] = 1\n",
        "\n",
        "# keep only the first of duplicate items\n",
        "red_df = red_df.drop_duplicates(keep='first')\n"
      ]
    },
    {
      "cell_type": "code",
      "execution_count": 6,
      "metadata": {
        "deletable": false,
        "editable": false,
        "nbgrader": {
          "cell_type": "code",
          "checksum": "d8e0c91b0fd668b63ba74a8f2f958b59",
          "grade": true,
          "grade_id": "cell-2a75937adcc0c25b",
          "locked": true,
          "points": 1,
          "schema_version": 3,
          "solution": false,
          "task": false
        },
        "id": "Jdm3Z52z6sOx",
        "outputId": "d261e36c-8e17-411a-e311-0cfc89bfae06",
        "colab": {
          "base_uri": "https://localhost:8080/"
        }
      },
      "outputs": [
        {
          "output_type": "stream",
          "name": "stdout",
          "text": [
            "\u001b[92m All public tests passed\n"
          ]
        }
      ],
      "source": [
        "utils.test_red_df(red_df)\n"
      ]
    },
    {
      "cell_type": "code",
      "execution_count": 7,
      "metadata": {
        "id": "zsB3LUzNQpo_",
        "outputId": "c1fa651d-44e8-47bc-9386-94b3eb177163",
        "colab": {
          "base_uri": "https://localhost:8080/"
        }
      },
      "outputs": [
        {
          "output_type": "stream",
          "name": "stdout",
          "text": [
            "9.4\n",
            "10.2\n"
          ]
        }
      ],
      "source": [
        "print(red_df.alcohol[0])\n",
        "print(red_df.alcohol[100])\n",
        "\n",
        "# EXPECTED OUTPUT\n",
        "# 9.4\n",
        "# 10.2"
      ]
    },
    {
      "cell_type": "markdown",
      "metadata": {
        "id": "2G8B-NYuM6-f"
      },
      "source": [
        "### Concatenate the datasets\n",
        "\n",
        "Next, concatenate the red and white wine dataframes."
      ]
    },
    {
      "cell_type": "code",
      "execution_count": 8,
      "metadata": {
        "id": "YpQrOjJbfN3m"
      },
      "outputs": [],
      "source": [
        "df = pd.concat([red_df, white_df], ignore_index=True, axis=0)"
      ]
    },
    {
      "cell_type": "code",
      "execution_count": 9,
      "metadata": {
        "id": "Se2dTmThQyjb",
        "outputId": "59c9df70-b6ad-487a-d20f-9e9a0c2e3455",
        "colab": {
          "base_uri": "https://localhost:8080/"
        }
      },
      "outputs": [
        {
          "output_type": "stream",
          "name": "stdout",
          "text": [
            "9.4\n",
            "9.5\n"
          ]
        }
      ],
      "source": [
        "print(df.alcohol[0])\n",
        "print(df.alcohol[100])\n",
        "\n",
        "# EXPECTED OUTPUT\n",
        "# 9.4\n",
        "# 9.5"
      ]
    },
    {
      "cell_type": "code",
      "execution_count": 10,
      "metadata": {
        "id": "wx6y3rPpQv4k"
      },
      "outputs": [],
      "source": [
        "# NOTE: In a real-world scenario, you should shuffle the data.\n",
        "# YOU ARE NOT going to do that here because we want to test\n",
        "# with deterministic data. But if you want the code to do it,\n",
        "# it's in the commented line below:\n",
        "\n",
        "#df = df.iloc[np.random.permutation(len(df))]"
      ]
    },
    {
      "cell_type": "markdown",
      "metadata": {
        "id": "-EqIcbg5M_n1"
      },
      "source": [
        "This will chart the quality of the wines."
      ]
    },
    {
      "cell_type": "code",
      "execution_count": 11,
      "metadata": {
        "id": "IsvK0-Sgy17C",
        "outputId": "f0a30bf0-8208-45ac-9194-1e223b8b5ca6",
        "colab": {
          "base_uri": "https://localhost:8080/",
          "height": 265
        }
      },
      "outputs": [
        {
          "output_type": "display_data",
          "data": {
            "image/png": "[encoded data removed]",
            "text/plain": [
              "<Figure size 432x288 with 1 Axes>"
            ]
          },
          "metadata": {
            "needs_background": "light"
          }
        }
      ],
      "source": [
        "df['quality'].hist(bins=20);"
      ]
    },
    {
      "cell_type": "markdown",
      "metadata": {
        "id": "Nut1rmYLzf-p"
      },
      "source": [
        "### Imbalanced data (TODO)\n",
        "You can see from the plot above that the wine quality dataset is imbalanced. \n",
        "- Since there are very few observations with quality equal to 3, 4, 8 and 9, you can drop these observations from your dataset. \n",
        "- You can do this by removing data belonging to all classes except those > 4 and < 8."
      ]
    },
    {
      "cell_type": "code",
      "execution_count": 12,
      "metadata": {
        "deletable": false,
        "id": "doH9_-gnf3sz",
        "nbgrader": {
          "cell_type": "code",
          "checksum": "d9ba9fc3a3ca02ccc567be33652b80fe",
          "grade": false,
          "grade_id": "cell-6a3e9db696f6827b",
          "locked": false,
          "schema_version": 3,
          "solution": true,
          "task": false
        }
      },
      "outputs": [],
      "source": [
        "# Please uncomment all lines in this cell and replace those marked with `# YOUR CODE HERE`.\n",
        "# You can select all lines in this code cell with Ctrl+A (Windows/Linux) or Cmd+A (Mac), then press Ctrl+/ (Windows/Linux) or Cmd+/ (Mac) to uncomment.\n",
        "\n",
        "\n",
        "\n",
        "# get data with wine quality greater than 4 and less than 8\n",
        "df = df[(df['quality'] > 4) & (df['quality'] < 8)]\n",
        "\n",
        "# reset index and drop the old one\n",
        "df.reset_index(drop=True, inplace=True)"
      ]
    },
    {
      "cell_type": "code",
      "execution_count": 13,
      "metadata": {
        "deletable": false,
        "editable": false,
        "nbgrader": {
          "cell_type": "code",
          "checksum": "281e1d86a4803560ed5892cd7eda4c01",
          "grade": true,
          "grade_id": "cell-aed3da719d4682c7",
          "locked": true,
          "points": 1,
          "schema_version": 3,
          "solution": false,
          "task": false
        },
        "id": "wyf1Dr0f6sO0",
        "outputId": "f993000b-98b0-4992-8b38-00c8acd8f16c",
        "colab": {
          "base_uri": "https://localhost:8080/"
        }
      },
      "outputs": [
        {
          "output_type": "stream",
          "name": "stdout",
          "text": [
            "\u001b[92m All public tests passed\n"
          ]
        }
      ],
      "source": [
        "utils.test_df_drop(df)\n",
        "\n"
      ]
    },
    {
      "cell_type": "code",
      "execution_count": 14,
      "metadata": {
        "id": "xNR1iAlMRPXO",
        "outputId": "18cae2dd-5b96-4ac2-91d1-9305813b30ed",
        "colab": {
          "base_uri": "https://localhost:8080/"
        }
      },
      "outputs": [
        {
          "output_type": "stream",
          "name": "stdout",
          "text": [
            "9.4\n",
            "10.9\n"
          ]
        }
      ],
      "source": [
        "print(df.alcohol[0])\n",
        "print(df.alcohol[100])\n",
        "\n",
        "# EXPECTED OUTPUT\n",
        "# 9.4\n",
        "# 10.9"
      ]
    },
    {
      "cell_type": "markdown",
      "metadata": {
        "id": "cwhuRpnVRTzG"
      },
      "source": [
        "You can plot again to see the new range of data and quality"
      ]
    },
    {
      "cell_type": "code",
      "execution_count": 15,
      "metadata": {
        "id": "857ygzZiLgGg",
        "outputId": "8a437976-5e8c-4248-a552-1cd768377731",
        "colab": {
          "base_uri": "https://localhost:8080/",
          "height": 265
        }
      },
      "outputs": [
        {
          "output_type": "display_data",
          "data": {
            "image/png": "[encoded data removed]",
            "text/plain": [
              "<Figure size 432x288 with 1 Axes>"
            ]
          },
          "metadata": {
            "needs_background": "light"
          }
        }
      ],
      "source": [
        "df['quality'].hist(bins=20);"
      ]
    },
    {
      "cell_type": "markdown",
      "metadata": {
        "id": "n3k0vqSsp84t"
      },
      "source": [
        "### Train Test Split (TODO)\n",
        "\n",
        "Next, you can split the datasets into training, test and validation datasets.\n",
        "- The data frame should be split 80:20 into `train` and `test` sets.\n",
        "- The resulting `train` should then be split 80:20 into `train` and `val` sets.\n",
        "- The `train_test_split` parameter `test_size` takes a float value that ranges between 0. and 1, and represents the proportion of the dataset that is allocated to the test set.  The rest of the data is allocated to the training set."
      ]
    },
    {
      "cell_type": "code",
      "execution_count": 16,
      "metadata": {
        "deletable": false,
        "id": "PAVIf2-fgRVY",
        "nbgrader": {
          "cell_type": "code",
          "checksum": "7f5738f4fb51d65adc9a8acbdf2b9970",
          "grade": false,
          "grade_id": "cell-91946cadf745206b",
          "locked": false,
          "schema_version": 3,
          "solution": true,
          "task": false
        }
      },
      "outputs": [],
      "source": [
        "# Please uncomment all lines in this cell and replace those marked with `# YOUR CODE HERE`.\n",
        "# You can select all lines in this code cell with Ctrl+A (Windows/Linux) or Cmd+A (Mac), then press Ctrl+/ (Windows/Linux) or Cmd+/ (Mac) to uncomment.\n",
        "\n",
        "\n",
        "\n",
        "# Please do not change the random_state parameter. This is needed for grading.\n",
        "\n",
        "# split df into 80:20 train and test sets\n",
        "train, test = train_test_split(df, test_size=0.2, random_state=1)\n",
        "                               \n",
        "# split train into 80:20 train and val sets\n",
        "train, val = train_test_split(train, test_size=0.2, random_state=1)"
      ]
    },
    {
      "cell_type": "code",
      "execution_count": 17,
      "metadata": {
        "deletable": false,
        "editable": false,
        "id": "57h9LcEzRWpk",
        "nbgrader": {
          "cell_type": "code",
          "checksum": "42adbe9e66efac7c7a5f8cd73ac92f22",
          "grade": true,
          "grade_id": "cell-64b8b38cd0b965f6",
          "locked": true,
          "points": 1,
          "schema_version": 3,
          "solution": false,
          "task": false
        },
        "outputId": "d5297479-5862-4eec-889f-7e7c640f8477",
        "colab": {
          "base_uri": "https://localhost:8080/"
        }
      },
      "outputs": [
        {
          "output_type": "stream",
          "name": "stdout",
          "text": [
            "\u001b[92m All public tests passed\n"
          ]
        }
      ],
      "source": [
        "utils.test_data_sizes(train.size, test.size, val.size)\n",
        "\n"
      ]
    },
    {
      "cell_type": "markdown",
      "metadata": {
        "id": "RwTNu4KFqG-K"
      },
      "source": [
        "Here's where you can explore the training stats. You can pop the labels 'is_red' and 'quality' from the data as these will be used as the labels\n"
      ]
    },
    {
      "cell_type": "code",
      "execution_count": 18,
      "metadata": {
        "id": "Y_afyhhHM6WQ"
      },
      "outputs": [],
      "source": [
        "train_stats = train.describe()\n",
        "train_stats.pop('is_red')\n",
        "train_stats.pop('quality')\n",
        "train_stats = train_stats.transpose()"
      ]
    },
    {
      "cell_type": "markdown",
      "metadata": {
        "id": "ahvbYm4fNqSt"
      },
      "source": [
        "Explore the training stats!"
      ]
    },
    {
      "cell_type": "code",
      "execution_count": 19,
      "metadata": {
        "id": "n_gAtPjZ0otF",
        "outputId": "10ba4365-1c69-4661-9805-e052e430f18f",
        "colab": {
          "base_uri": "https://localhost:8080/",
          "height": 394
        }
      },
      "outputs": [
        {
          "output_type": "execute_result",
          "data": {
            "text/html": [
              "\n",
              "  <div id=\"df-20b5cf2a-002f-46c3-8ef8-4dc28d29f53c\">\n",
              "    <div class=\"colab-df-container\">\n",
              "      <div>\n",
              "<style scoped>\n",
              "    .dataframe tbody tr th:only-of-type {\n",
              "        vertical-align: middle;\n",
              "    }\n",
              "\n",
              "    .dataframe tbody tr th {\n",
              "        vertical-align: top;\n",
              "    }\n",
              "\n",
              "    .dataframe thead th {\n",
              "        text-align: right;\n",
              "    }\n",
              "</style>\n",
              "<table border=\"1\" class=\"dataframe\">\n",
              "  <thead>\n",
              "    <tr style=\"text-align: right;\">\n",
              "      <th></th>\n",
              "      <th>count</th>\n",
              "      <th>mean</th>\n",
              "      <th>std</th>\n",
              "      <th>min</th>\n",
              "      <th>25%</th>\n",
              "      <th>50%</th>\n",
              "      <th>75%</th>\n",
              "      <th>max</th>\n",
              "    </tr>\n",
              "  </thead>\n",
              "  <tbody>\n",
              "    <tr>\n",
              "      <th>fixed acidity</th>\n",
              "      <td>3155.0</td>\n",
              "      <td>7.221616</td>\n",
              "      <td>1.325297</td>\n",
              "      <td>3.80000</td>\n",
              "      <td>6.40000</td>\n",
              "      <td>7.00000</td>\n",
              "      <td>7.7000</td>\n",
              "      <td>15.60000</td>\n",
              "    </tr>\n",
              "    <tr>\n",
              "      <th>volatile acidity</th>\n",
              "      <td>3155.0</td>\n",
              "      <td>0.338929</td>\n",
              "      <td>0.162476</td>\n",
              "      <td>0.08000</td>\n",
              "      <td>0.23000</td>\n",
              "      <td>0.29000</td>\n",
              "      <td>0.4000</td>\n",
              "      <td>1.24000</td>\n",
              "    </tr>\n",
              "    <tr>\n",
              "      <th>citric acid</th>\n",
              "      <td>3155.0</td>\n",
              "      <td>0.321569</td>\n",
              "      <td>0.147970</td>\n",
              "      <td>0.00000</td>\n",
              "      <td>0.25000</td>\n",
              "      <td>0.31000</td>\n",
              "      <td>0.4000</td>\n",
              "      <td>1.66000</td>\n",
              "    </tr>\n",
              "    <tr>\n",
              "      <th>residual sugar</th>\n",
              "      <td>3155.0</td>\n",
              "      <td>5.155911</td>\n",
              "      <td>4.639632</td>\n",
              "      <td>0.60000</td>\n",
              "      <td>1.80000</td>\n",
              "      <td>2.80000</td>\n",
              "      <td>7.6500</td>\n",
              "      <td>65.80000</td>\n",
              "    </tr>\n",
              "    <tr>\n",
              "      <th>chlorides</th>\n",
              "      <td>3155.0</td>\n",
              "      <td>0.056976</td>\n",
              "      <td>0.036802</td>\n",
              "      <td>0.01200</td>\n",
              "      <td>0.03800</td>\n",
              "      <td>0.04700</td>\n",
              "      <td>0.0660</td>\n",
              "      <td>0.61100</td>\n",
              "    </tr>\n",
              "    <tr>\n",
              "      <th>free sulfur dioxide</th>\n",
              "      <td>3155.0</td>\n",
              "      <td>30.388590</td>\n",
              "      <td>17.236784</td>\n",
              "      <td>1.00000</td>\n",
              "      <td>17.00000</td>\n",
              "      <td>28.00000</td>\n",
              "      <td>41.0000</td>\n",
              "      <td>131.00000</td>\n",
              "    </tr>\n",
              "    <tr>\n",
              "      <th>total sulfur dioxide</th>\n",
              "      <td>3155.0</td>\n",
              "      <td>115.062282</td>\n",
              "      <td>56.706617</td>\n",
              "      <td>6.00000</td>\n",
              "      <td>75.00000</td>\n",
              "      <td>117.00000</td>\n",
              "      <td>156.0000</td>\n",
              "      <td>344.00000</td>\n",
              "    </tr>\n",
              "    <tr>\n",
              "      <th>density</th>\n",
              "      <td>3155.0</td>\n",
              "      <td>0.994633</td>\n",
              "      <td>0.003005</td>\n",
              "      <td>0.98711</td>\n",
              "      <td>0.99232</td>\n",
              "      <td>0.99481</td>\n",
              "      <td>0.9968</td>\n",
              "      <td>1.03898</td>\n",
              "    </tr>\n",
              "    <tr>\n",
              "      <th>pH</th>\n",
              "      <td>3155.0</td>\n",
              "      <td>3.223201</td>\n",
              "      <td>0.161272</td>\n",
              "      <td>2.72000</td>\n",
              "      <td>3.11000</td>\n",
              "      <td>3.21000</td>\n",
              "      <td>3.3300</td>\n",
              "      <td>4.01000</td>\n",
              "    </tr>\n",
              "    <tr>\n",
              "      <th>sulphates</th>\n",
              "      <td>3155.0</td>\n",
              "      <td>0.534051</td>\n",
              "      <td>0.149149</td>\n",
              "      <td>0.22000</td>\n",
              "      <td>0.43000</td>\n",
              "      <td>0.51000</td>\n",
              "      <td>0.6000</td>\n",
              "      <td>1.95000</td>\n",
              "    </tr>\n",
              "    <tr>\n",
              "      <th>alcohol</th>\n",
              "      <td>3155.0</td>\n",
              "      <td>10.504466</td>\n",
              "      <td>1.154654</td>\n",
              "      <td>8.50000</td>\n",
              "      <td>9.50000</td>\n",
              "      <td>10.30000</td>\n",
              "      <td>11.3000</td>\n",
              "      <td>14.00000</td>\n",
              "    </tr>\n",
              "  </tbody>\n",
              "</table>\n",
              "</div>\n",
              "      <button class=\"colab-df-convert\" onclick=\"convertToInteractive('df-20b5cf2a-002f-46c3-8ef8-4dc28d29f53c')\"\n",
              "              title=\"Convert this dataframe to an interactive table.\"\n",
              "              style=\"display:none;\">\n",
              "        \n",
              "  <svg xmlns=\"http://www.w3.org/2000/svg\" height=\"24px\"viewBox=\"0 0 24 24\"\n",
              "       width=\"24px\">\n",
              "    <path d=\"M0 0h24v24H0V0z\" fill=\"none\"/>\n",
              "    <path d=\"M18.56 5.44l.94 2.06.94-2.06 2.06-.94-2.06-.94-.94-2.06-.94 2.06-2.06.94zm-11 1L8.5 8.5l.94-2.06 2.06-.94-2.06-.94L8.5 2.5l-.94 2.06-2.06.94zm10 10l.94 2.06.94-2.06 2.06-.94-2.06-.94-.94-2.06-.94 2.06-2.06.94z\"/><path d=\"M17.41 7.96l-1.37-1.37c-.4-.4-.92-.59-1.43-.59-.52 0-1.04.2-1.43.59L10.3 9.45l-7.72 7.72c-.78.78-.78 2.05 0 2.83L4 21.41c.39.39.9.59 1.41.59.51 0 1.02-.2 1.41-.59l7.78-7.78 2.81-2.81c.8-.78.8-2.07 0-2.86zM5.41 20L4 18.59l7.72-7.72 1.47 1.35L5.41 20z\"/>\n",
              "  </svg>\n",
              "      </button>\n",
              "      \n",
              "  <style>\n",
              "    .colab-df-container {\n",
              "      display:flex;\n",
              "      flex-wrap:wrap;\n",
              "      gap: 12px;\n",
              "    }\n",
              "\n",
              "    .colab-df-convert {\n",
              "      background-color: #E8F0FE;\n",
              "      border: none;\n",
              "      border-radius: 50%;\n",
              "      cursor: pointer;\n",
              "      display: none;\n",
              "      fill: #1967D2;\n",
              "      height: 32px;\n",
              "      padding: 0 0 0 0;\n",
              "      width: 32px;\n",
              "    }\n",
              "\n",
              "    .colab-df-convert:hover {\n",
              "      background-color: #E2EBFA;\n",
              "      box-shadow: 0px 1px 2px rgba(60, 64, 67, 0.3), 0px 1px 3px 1px rgba(60, 64, 67, 0.15);\n",
              "      fill: #174EA6;\n",
              "    }\n",
              "\n",
              "    [theme=dark] .colab-df-convert {\n",
              "      background-color: #3B4455;\n",
              "      fill: #D2E3FC;\n",
              "    }\n",
              "\n",
              "    [theme=dark] .colab-df-convert:hover {\n",
              "      background-color: #434B5C;\n",
              "      box-shadow: 0px 1px 3px 1px rgba(0, 0, 0, 0.15);\n",
              "      filter: drop-shadow(0px 1px 2px rgba(0, 0, 0, 0.3));\n",
              "      fill: #FFFFFF;\n",
              "    }\n",
              "  </style>\n",
              "\n",
              "      <script>\n",
              "        const buttonEl =\n",
              "          document.querySelector('#df-20b5cf2a-002f-46c3-8ef8-4dc28d29f53c button.colab-df-convert');\n",
              "        buttonEl.style.display =\n",
              "          google.colab.kernel.accessAllowed ? 'block' : 'none';\n",
              "\n",
              "        async function convertToInteractive(key) {\n",
              "          const element = document.querySelector('#df-20b5cf2a-002f-46c3-8ef8-4dc28d29f53c');\n",
              "          const dataTable =\n",
              "            await google.colab.kernel.invokeFunction('convertToInteractive',\n",
              "                                                     [key], {});\n",
              "          if (!dataTable) return;\n",
              "\n",
              "          const docLinkHtml = 'Like what you see? Visit the ' +\n",
              "            '<a target=\"_blank\" href=https://colab.research.google.com/notebooks/data_table.ipynb>data table notebook</a>'\n",
              "            + ' to learn more about interactive tables.';\n",
              "          element.innerHTML = '';\n",
              "          dataTable['output_type'] = 'display_data';\n",
              "          await google.colab.output.renderOutput(dataTable, element);\n",
              "          const docLink = document.createElement('div');\n",
              "          docLink.innerHTML = docLinkHtml;\n",
              "          element.appendChild(docLink);\n",
              "        }\n",
              "      </script>\n",
              "    </div>\n",
              "  </div>\n",
              "  "
            ],
            "text/plain": [
              "                       count        mean  ...       75%        max\n",
              "fixed acidity         3155.0    7.221616  ...    7.7000   15.60000\n",
              "volatile acidity      3155.0    0.338929  ...    0.4000    1.24000\n",
              "citric acid           3155.0    0.321569  ...    0.4000    1.66000\n",
              "residual sugar        3155.0    5.155911  ...    7.6500   65.80000\n",
              "chlorides             3155.0    0.056976  ...    0.0660    0.61100\n",
              "free sulfur dioxide   3155.0   30.388590  ...   41.0000  131.00000\n",
              "total sulfur dioxide  3155.0  115.062282  ...  156.0000  344.00000\n",
              "density               3155.0    0.994633  ...    0.9968    1.03898\n",
              "pH                    3155.0    3.223201  ...    3.3300    4.01000\n",
              "sulphates             3155.0    0.534051  ...    0.6000    1.95000\n",
              "alcohol               3155.0   10.504466  ...   11.3000   14.00000\n",
              "\n",
              "[11 rows x 8 columns]"
            ]
          },
          "metadata": {},
          "execution_count": 19
        }
      ],
      "source": [
        "train_stats"
      ]
    },
    {
      "cell_type": "markdown",
      "metadata": {
        "id": "bGPvt9jir_HC"
      },
      "source": [
        "### Get the labels (TODO)\n",
        "\n",
        "The features and labels are currently in the same dataframe.\n",
        "- You will want to store the label columns `is_red` and `quality` separately from the feature columns.  \n",
        "- The following function, `format_output`, gets these two columns from the dataframe (it's given to you).\n",
        "- `format_output` also formats the data into numpy arrays. \n",
        "- Please use the `format_output` and apply it to the `train`, `val` and `test` sets to get dataframes for the labels."
      ]
    },
    {
      "cell_type": "code",
      "execution_count": 20,
      "metadata": {
        "id": "Z_fs14XQqZVP"
      },
      "outputs": [],
      "source": [
        "def format_output(data):\n",
        "    is_red = data.pop('is_red')\n",
        "    is_red = np.array(is_red)\n",
        "    quality = data.pop('quality')\n",
        "    quality = np.array(quality)\n",
        "    return (quality, is_red)"
      ]
    },
    {
      "cell_type": "code",
      "execution_count": 21,
      "metadata": {
        "deletable": false,
        "id": "8L3ZZe1fQicm",
        "nbgrader": {
          "cell_type": "code",
          "checksum": "7a86809e54895a816434c48dc903f55d",
          "grade": false,
          "grade_id": "cell-5c30fa2c2a354b0f",
          "locked": false,
          "schema_version": 3,
          "solution": true,
          "task": false
        }
      },
      "outputs": [],
      "source": [
        "# Please uncomment all lines in this cell and replace those marked with `# YOUR CODE HERE`.\n",
        "# You can select all lines in this code cell with Ctrl+A (Windows/Linux) or Cmd+A (Mac), then press Ctrl+/ (Windows/Linux) or Cmd+/ (Mac) to uncomment.\n",
        "\n",
        "\n",
        "\n",
        "# format the output of the train set\n",
        "train_Y = format_output(train)\n",
        "\n",
        "# format the output of the val set\n",
        "val_Y = format_output(val)\n",
        "    \n",
        "# format the output of the test set\n",
        "test_Y = format_output(test)"
      ]
    },
    {
      "cell_type": "code",
      "execution_count": 22,
      "metadata": {
        "deletable": false,
        "editable": false,
        "nbgrader": {
          "cell_type": "code",
          "checksum": "359cabbafaed14ec9bbc1e57a7b6f32c",
          "grade": true,
          "grade_id": "cell-4977d8befb80f56b",
          "locked": true,
          "points": 1,
          "schema_version": 3,
          "solution": false,
          "task": false
        },
        "id": "_f71WhsE6sO2",
        "outputId": "f87c24de-0a5d-4bc2-8d47-d48784732c5e",
        "colab": {
          "base_uri": "https://localhost:8080/"
        }
      },
      "outputs": [
        {
          "output_type": "stream",
          "name": "stdout",
          "text": [
            "\u001b[92m All public tests passed\n"
          ]
        }
      ],
      "source": [
        "utils.test_format_output(df, train_Y, val_Y, test_Y)"
      ]
    },
    {
      "cell_type": "markdown",
      "metadata": {
        "id": "LFS008qQ6sO2"
      },
      "source": [
        "Notice that after you get the labels, the `train`, `val` and `test` dataframes no longer contain the label columns, and contain just the feature columns.\n",
        "- This is because you used `.pop` in the `format_output` function."
      ]
    },
    {
      "cell_type": "code",
      "execution_count": 23,
      "metadata": {
        "id": "fkJBHNEU6sO2",
        "outputId": "0696e175-b781-4e27-ab49-86dcdfaf7815",
        "colab": {
          "base_uri": "https://localhost:8080/",
          "height": 267
        }
      },
      "outputs": [
        {
          "output_type": "execute_result",
          "data": {
            "text/html": [
              "\n",
              "  <div id=\"df-2eb9e39e-dc9b-44b0-b7a4-1d24da8d8d6d\">\n",
              "    <div class=\"colab-df-container\">\n",
              "      <div>\n",
              "<style scoped>\n",
              "    .dataframe tbody tr th:only-of-type {\n",
              "        vertical-align: middle;\n",
              "    }\n",
              "\n",
              "    .dataframe tbody tr th {\n",
              "        vertical-align: top;\n",
              "    }\n",
              "\n",
              "    .dataframe thead th {\n",
              "        text-align: right;\n",
              "    }\n",
              "</style>\n",
              "<table border=\"1\" class=\"dataframe\">\n",
              "  <thead>\n",
              "    <tr style=\"text-align: right;\">\n",
              "      <th></th>\n",
              "      <th>fixed acidity</th>\n",
              "      <th>volatile acidity</th>\n",
              "      <th>citric acid</th>\n",
              "      <th>residual sugar</th>\n",
              "      <th>chlorides</th>\n",
              "      <th>free sulfur dioxide</th>\n",
              "      <th>total sulfur dioxide</th>\n",
              "      <th>density</th>\n",
              "      <th>pH</th>\n",
              "      <th>sulphates</th>\n",
              "      <th>alcohol</th>\n",
              "    </tr>\n",
              "  </thead>\n",
              "  <tbody>\n",
              "    <tr>\n",
              "      <th>225</th>\n",
              "      <td>7.5</td>\n",
              "      <td>0.65</td>\n",
              "      <td>0.18</td>\n",
              "      <td>7.0</td>\n",
              "      <td>0.088</td>\n",
              "      <td>27.0</td>\n",
              "      <td>94.0</td>\n",
              "      <td>0.99915</td>\n",
              "      <td>3.38</td>\n",
              "      <td>0.77</td>\n",
              "      <td>9.4</td>\n",
              "    </tr>\n",
              "    <tr>\n",
              "      <th>3557</th>\n",
              "      <td>6.3</td>\n",
              "      <td>0.27</td>\n",
              "      <td>0.29</td>\n",
              "      <td>12.2</td>\n",
              "      <td>0.044</td>\n",
              "      <td>59.0</td>\n",
              "      <td>196.0</td>\n",
              "      <td>0.99782</td>\n",
              "      <td>3.14</td>\n",
              "      <td>0.40</td>\n",
              "      <td>8.8</td>\n",
              "    </tr>\n",
              "    <tr>\n",
              "      <th>3825</th>\n",
              "      <td>8.8</td>\n",
              "      <td>0.27</td>\n",
              "      <td>0.25</td>\n",
              "      <td>5.0</td>\n",
              "      <td>0.024</td>\n",
              "      <td>52.0</td>\n",
              "      <td>99.0</td>\n",
              "      <td>0.99250</td>\n",
              "      <td>2.87</td>\n",
              "      <td>0.49</td>\n",
              "      <td>11.4</td>\n",
              "    </tr>\n",
              "    <tr>\n",
              "      <th>1740</th>\n",
              "      <td>6.4</td>\n",
              "      <td>0.45</td>\n",
              "      <td>0.07</td>\n",
              "      <td>1.1</td>\n",
              "      <td>0.030</td>\n",
              "      <td>10.0</td>\n",
              "      <td>131.0</td>\n",
              "      <td>0.99050</td>\n",
              "      <td>2.97</td>\n",
              "      <td>0.28</td>\n",
              "      <td>10.8</td>\n",
              "    </tr>\n",
              "    <tr>\n",
              "      <th>1221</th>\n",
              "      <td>7.2</td>\n",
              "      <td>0.53</td>\n",
              "      <td>0.13</td>\n",
              "      <td>2.0</td>\n",
              "      <td>0.058</td>\n",
              "      <td>18.0</td>\n",
              "      <td>22.0</td>\n",
              "      <td>0.99573</td>\n",
              "      <td>3.21</td>\n",
              "      <td>0.68</td>\n",
              "      <td>9.9</td>\n",
              "    </tr>\n",
              "  </tbody>\n",
              "</table>\n",
              "</div>\n",
              "      <button class=\"colab-df-convert\" onclick=\"convertToInteractive('df-2eb9e39e-dc9b-44b0-b7a4-1d24da8d8d6d')\"\n",
              "              title=\"Convert this dataframe to an interactive table.\"\n",
              "              style=\"display:none;\">\n",
              "        \n",
              "  <svg xmlns=\"http://www.w3.org/2000/svg\" height=\"24px\"viewBox=\"0 0 24 24\"\n",
              "       width=\"24px\">\n",
              "    <path d=\"M0 0h24v24H0V0z\" fill=\"none\"/>\n",
              "    <path d=\"M18.56 5.44l.94 2.06.94-2.06 2.06-.94-2.06-.94-.94-2.06-.94 2.06-2.06.94zm-11 1L8.5 8.5l.94-2.06 2.06-.94-2.06-.94L8.5 2.5l-.94 2.06-2.06.94zm10 10l.94 2.06.94-2.06 2.06-.94-2.06-.94-.94-2.06-.94 2.06-2.06.94z\"/><path d=\"M17.41 7.96l-1.37-1.37c-.4-.4-.92-.59-1.43-.59-.52 0-1.04.2-1.43.59L10.3 9.45l-7.72 7.72c-.78.78-.78 2.05 0 2.83L4 21.41c.39.39.9.59 1.41.59.51 0 1.02-.2 1.41-.59l7.78-7.78 2.81-2.81c.8-.78.8-2.07 0-2.86zM5.41 20L4 18.59l7.72-7.72 1.47 1.35L5.41 20z\"/>\n",
              "  </svg>\n",
              "      </button>\n",
              "      \n",
              "  <style>\n",
              "    .colab-df-container {\n",
              "      display:flex;\n",
              "      flex-wrap:wrap;\n",
              "      gap: 12px;\n",
              "    }\n",
              "\n",
              "    .colab-df-convert {\n",
              "      background-color: #E8F0FE;\n",
              "      border: none;\n",
              "      border-radius: 50%;\n",
              "      cursor: pointer;\n",
              "      display: none;\n",
              "      fill: #1967D2;\n",
              "      height: 32px;\n",
              "      padding: 0 0 0 0;\n",
              "      width: 32px;\n",
              "    }\n",
              "\n",
              "    .colab-df-convert:hover {\n",
              "      background-color: #E2EBFA;\n",
              "      box-shadow: 0px 1px 2px rgba(60, 64, 67, 0.3), 0px 1px 3px 1px rgba(60, 64, 67, 0.15);\n",
              "      fill: #174EA6;\n",
              "    }\n",
              "\n",
              "    [theme=dark] .colab-df-convert {\n",
              "      background-color: #3B4455;\n",
              "      fill: #D2E3FC;\n",
              "    }\n",
              "\n",
              "    [theme=dark] .colab-df-convert:hover {\n",
              "      background-color: #434B5C;\n",
              "      box-shadow: 0px 1px 3px 1px rgba(0, 0, 0, 0.15);\n",
              "      filter: drop-shadow(0px 1px 2px rgba(0, 0, 0, 0.3));\n",
              "      fill: #FFFFFF;\n",
              "    }\n",
              "  </style>\n",
              "\n",
              "      <script>\n",
              "        const buttonEl =\n",
              "          document.querySelector('#df-2eb9e39e-dc9b-44b0-b7a4-1d24da8d8d6d button.colab-df-convert');\n",
              "        buttonEl.style.display =\n",
              "          google.colab.kernel.accessAllowed ? 'block' : 'none';\n",
              "\n",
              "        async function convertToInteractive(key) {\n",
              "          const element = document.querySelector('#df-2eb9e39e-dc9b-44b0-b7a4-1d24da8d8d6d');\n",
              "          const dataTable =\n",
              "            await google.colab.kernel.invokeFunction('convertToInteractive',\n",
              "                                                     [key], {});\n",
              "          if (!dataTable) return;\n",
              "\n",
              "          const docLinkHtml = 'Like what you see? Visit the ' +\n",
              "            '<a target=\"_blank\" href=https://colab.research.google.com/notebooks/data_table.ipynb>data table notebook</a>'\n",
              "            + ' to learn more about interactive tables.';\n",
              "          element.innerHTML = '';\n",
              "          dataTable['output_type'] = 'display_data';\n",
              "          await google.colab.output.renderOutput(dataTable, element);\n",
              "          const docLink = document.createElement('div');\n",
              "          docLink.innerHTML = docLinkHtml;\n",
              "          element.appendChild(docLink);\n",
              "        }\n",
              "      </script>\n",
              "    </div>\n",
              "  </div>\n",
              "  "
            ],
            "text/plain": [
              "      fixed acidity  volatile acidity  citric acid  ...    pH  sulphates  alcohol\n",
              "225             7.5              0.65         0.18  ...  3.38       0.77      9.4\n",
              "3557            6.3              0.27         0.29  ...  3.14       0.40      8.8\n",
              "3825            8.8              0.27         0.25  ...  2.87       0.49     11.4\n",
              "1740            6.4              0.45         0.07  ...  2.97       0.28     10.8\n",
              "1221            7.2              0.53         0.13  ...  3.21       0.68      9.9\n",
              "\n",
              "[5 rows x 11 columns]"
            ]
          },
          "metadata": {},
          "execution_count": 23
        }
      ],
      "source": [
        "train.head()"
      ]
    },
    {
      "cell_type": "markdown",
      "metadata": {
        "id": "hEdbrruAsN1D"
      },
      "source": [
        "### Normalize the data (TODO)\n",
        "\n",
        "Next, you can normalize the data, x, using the formula:\n",
        "$$x_{norm} = \\frac{x - \\mu}{\\sigma}$$\n",
        "- The `norm` function is defined for you.\n",
        "- Please apply the `norm` function to normalize the dataframes that contains the feature columns of `train`, `val` and `test` sets."
      ]
    },
    {
      "cell_type": "code",
      "execution_count": 24,
      "metadata": {
        "id": "WWiZPAHCLjUs"
      },
      "outputs": [],
      "source": [
        "def norm(x):\n",
        "    return (x - train_stats['mean']) / train_stats['std']"
      ]
    },
    {
      "cell_type": "code",
      "execution_count": 25,
      "metadata": {
        "deletable": false,
        "id": "JEaOi2I2Lk69",
        "nbgrader": {
          "cell_type": "code",
          "checksum": "6bc0cdcb563d192f271067aa3373ff32",
          "grade": false,
          "grade_id": "cell-d8416d975c371095",
          "locked": false,
          "schema_version": 3,
          "solution": true,
          "task": false
        }
      },
      "outputs": [],
      "source": [
        "# Please uncomment all lines in this cell and replace those marked with `# YOUR CODE HERE`.\n",
        "# You can select all lines in this code cell with Ctrl+A (Windows/Linux) or Cmd+A (Mac), then press Ctrl+/ (Windows/Linux) or Cmd+/ (Mac) to uncomment.\n",
        "\n",
        "\n",
        "\n",
        "# normalize the train set\n",
        "norm_train_X = norm(train)\n",
        "    \n",
        "# normalize the val set\n",
        "norm_val_X = norm(val)\n",
        "\n",
        "# normalize the test set\n",
        "norm_test_X = norm(test)"
      ]
    },
    {
      "cell_type": "code",
      "execution_count": 26,
      "metadata": {
        "deletable": false,
        "editable": false,
        "nbgrader": {
          "cell_type": "code",
          "checksum": "4f567db45bf40191601780379cc100b8",
          "grade": true,
          "grade_id": "cell-97fad979d157529b",
          "locked": true,
          "points": 1,
          "schema_version": 3,
          "solution": false,
          "task": false
        },
        "id": "G1zv81c06sO3",
        "outputId": "c00b2497-f448-41c6-aed8-758f81c5fc8c",
        "colab": {
          "base_uri": "https://localhost:8080/"
        }
      },
      "outputs": [
        {
          "output_type": "stream",
          "name": "stdout",
          "text": [
            "\u001b[92m All public tests passed\n"
          ]
        }
      ],
      "source": [
        "utils.test_norm(norm_train_X, norm_val_X, norm_test_X, train, val, test)\n"
      ]
    },
    {
      "cell_type": "markdown",
      "metadata": {
        "id": "hzykDwQhsaPO"
      },
      "source": [
        "## Define the Model (TODO)\n",
        "\n",
        "Define the model using the functional API. The base model will be 2 `Dense` layers of 128 neurons each, and have the `'relu'` activation.\n",
        "- Check out the documentation for [tf.keras.layers.Dense](https://www.tensorflow.org/api_docs/python/tf/keras/layers/Dense)"
      ]
    },
    {
      "cell_type": "code",
      "execution_count": 27,
      "metadata": {
        "deletable": false,
        "id": "Rhcns3oTFkM6",
        "nbgrader": {
          "cell_type": "code",
          "checksum": "74b031247e569526552bf13a034a1c07",
          "grade": false,
          "grade_id": "cell-73fceedad1fe351c",
          "locked": false,
          "schema_version": 3,
          "solution": true,
          "task": false
        }
      },
      "outputs": [],
      "source": [
        "# Please uncomment all lines in this cell and replace those marked with `# YOUR CODE HERE`.\n",
        "# You can select all lines in this code cell with Ctrl+A (Windows/Linux) or Cmd+A (Mac), then press Ctrl+/ (Windows/Linux) or Cmd+/ (Mac) to uncomment.\n",
        "\n",
        "\n",
        "\n",
        "def base_model(inputs):\n",
        "    \n",
        "    # connect a Dense layer with 128 neurons and a relu activation\n",
        "    x = Dense(units=128, activation='relu')(inputs)\n",
        "    \n",
        "    # connect another Dense layer with 128 neurons and a relu activation\n",
        "    x = Dense(units=128, activation='relu')(x)\n",
        "\n",
        "    return x\n",
        "  "
      ]
    },
    {
      "cell_type": "code",
      "execution_count": null,
      "metadata": {
        "deletable": false,
        "editable": false,
        "nbgrader": {
          "cell_type": "code",
          "checksum": "9255924b3def80f679616e4c851a43e1",
          "grade": true,
          "grade_id": "cell-54f742a133353d75",
          "locked": true,
          "points": 1,
          "schema_version": 3,
          "solution": false,
          "task": false
        },
        "id": "KS7-dzrA6sO3"
      },
      "outputs": [],
      "source": [
        "utils.test_base_model(base_model)"
      ]
    },
    {
      "cell_type": "markdown",
      "metadata": {
        "id": "xem_fcVws6Kz"
      },
      "source": [
        "# Define output layers of the model (TODO)\n",
        "\n",
        "You will add output layers to the base model. \n",
        "- The model will need two outputs.\n",
        "\n",
        "One output layer will predict wine quality, which is a numeric value.\n",
        "- Define a `Dense` layer with 1 neuron.\n",
        "- Since this is a regression output, the activation can be left as its default value `None`.\n",
        "\n",
        "The other output layer will predict the wine type, which is either red `1` or not red `0` (white).\n",
        "- Define a `Dense` layer with 1 neuron.\n",
        "- Since there are two possible categories, you can use a sigmoid activation for binary classification.\n",
        "\n",
        "Define the `Model`\n",
        "- Define the `Model` object, and set the following parameters:\n",
        "  - `inputs`: pass in the inputs to the model as a list.\n",
        "  - `outputs`: pass in a list of the outputs that you just defined: wine quality, then wine type.\n",
        "  - **Note**: please list the wine quality before wine type in the outputs, as this will affect the calculated loss if you choose the other order."
      ]
    },
    {
      "cell_type": "code",
      "execution_count": 29,
      "metadata": {
        "deletable": false,
        "id": "n5UGF8PMVLPt",
        "nbgrader": {
          "cell_type": "code",
          "checksum": "76d35b90d20cdcbb22986cd8211057de",
          "grade": false,
          "grade_id": "cell-19e285f482f021fb",
          "locked": false,
          "schema_version": 3,
          "solution": true,
          "task": false
        }
      },
      "outputs": [],
      "source": [
        "# Please uncomment all lines in this cell and replace those marked with `# YOUR CODE HERE`.\n",
        "# You can select all lines in this code cell with Ctrl+A (Windows/Linux) or Cmd+A (Mac), then press Ctrl+/ (Windows/Linux) or Cmd+/ (Mac) to uncomment.\n",
        "\n",
        "\n",
        "\n",
        "def final_model(inputs):\n",
        "    \n",
        "    # get the base model\n",
        "    base = base_model(inputs)\n",
        "\n",
        "    # connect the output Dense layer for regression\n",
        "    wine_quality = Dense(units=1, name='wine_quality')(base)\n",
        "\n",
        "    # connect the output Dense layer for classification. this will use a sigmoid activation.\n",
        "    wine_type = Dense(units=1, activation='sigmoid', name='wine_type')(base)\n",
        "\n",
        "    # define the model using the input and output layers\n",
        "    model = Model(inputs=inputs, outputs=[wine_quality, wine_type])\n",
        "\n",
        "    return model"
      ]
    },
    {
      "cell_type": "code",
      "execution_count": null,
      "metadata": {
        "deletable": false,
        "editable": false,
        "nbgrader": {
          "cell_type": "code",
          "checksum": "89cbf89d8ab5e2e59ecf7f63f517520a",
          "grade": true,
          "grade_id": "cell-40d050f855c817d1",
          "locked": true,
          "points": 1,
          "schema_version": 3,
          "solution": false,
          "task": false
        },
        "id": "upr_tAg_6sO4"
      },
      "outputs": [],
      "source": [
        "utils.test_final_model(final_model)"
      ]
    },
    {
      "cell_type": "markdown",
      "metadata": {
        "id": "5R0BMTsltZyu"
      },
      "source": [
        "## Compiling the Model\n",
        "\n",
        "Next, compile the model. When setting the loss parameter of `model.compile`, you're setting the loss for each of the two outputs (wine quality and wine type).\n",
        "\n",
        "To set more than one loss, use a dictionary of key-value pairs.\n",
        "- You can look at the docs for the losses [here](https://www.tensorflow.org/api_docs/python/tf/keras/losses#functions).\n",
        "    - **Note**: For the desired spelling, please look at the \"Functions\" section of the documentation and not the \"classes\" section on that same page.\n",
        "- wine_type: Since you will be performing binary classification on wine type, you should use the binary crossentropy loss function for it.  Please pass this in as a string.  \n",
        "  - **Hint**, this should be all lowercase.  In the documentation, you'll see this under the \"Functions\" section, not the \"Classes\" section.\n",
        "- wine_quality: since this is a regression output, use the mean squared error.  Please pass it in as a string, all lowercase.\n",
        "  - **Hint**: You may notice that there are two aliases for mean squared error.  Please use the shorter name.\n",
        "\n",
        "\n",
        "You will also set the metric for each of the two outputs.  Again, to set metrics for two or more outputs, use a dictionary with key value pairs.\n",
        "- The metrics documentation is linked [here](https://www.tensorflow.org/api_docs/python/tf/keras/metrics).\n",
        "- For the wine type, please set it to accuracy as a string, all lowercase.\n",
        "- For wine quality, please use the root mean squared error.  Instead of a string, you'll set it to an instance of the class [RootMeanSquaredError](https://www.tensorflow.org/api_docs/python/tf/keras/metrics/RootMeanSquaredError), which belongs to the tf.keras.metrics module.\n",
        "\n",
        "**Note**: If you see the error message \n",
        ">Exception: wine quality loss function is incorrect.\n",
        "\n",
        "- Please also check your other losses and metrics, as the error may be caused by the other three key-value pairs and not the wine quality loss."
      ]
    },
    {
      "cell_type": "code",
      "execution_count": 31,
      "metadata": {
        "deletable": false,
        "id": "LK11duUbUjmh",
        "nbgrader": {
          "cell_type": "code",
          "checksum": "22f45067ca69eb2ccadb43874dbcc27b",
          "grade": false,
          "grade_id": "cell-81afdc4dcca51d5e",
          "locked": false,
          "schema_version": 3,
          "solution": true,
          "task": false
        },
        "outputId": "e9f6f82e-e03f-4916-ba3b-66becc3fd22b",
        "colab": {
          "base_uri": "https://localhost:8080/"
        }
      },
      "outputs": [
        {
          "output_type": "stream",
          "name": "stderr",
          "text": [
            "/usr/local/lib/python3.7/dist-packages/keras/optimizer_v2/rmsprop.py:130: UserWarning: The `lr` argument is deprecated, use `learning_rate` instead.\n",
            "  super(RMSprop, self).__init__(name, **kwargs)\n"
          ]
        }
      ],
      "source": [
        "# Please uncomment all lines in this cell and replace those marked with `# YOUR CODE HERE`.\n",
        "# You can select all lines in this code cell with Ctrl+A (Windows/Linux) or Cmd+A (Mac), then press Ctrl+/ (Windows/Linux) or Cmd+/ (Mac) to uncomment.\n",
        "\n",
        "\n",
        "\n",
        "inputs = tf.keras.layers.Input(shape=(11,))\n",
        "rms = tf.keras.optimizers.RMSprop(lr=0.0001)\n",
        "model = final_model(inputs)\n",
        "\n",
        "model.compile(optimizer=rms, \n",
        "              loss = {'wine_type': 'binary_crossentropy', \n",
        "                      'wine_quality': 'mean_squared_error'},\n",
        "              metrics = {'wine_type': 'accuracy',\n",
        "                         'wine_quality': tf.keras.metrics.RootMeanSquaredError()}\n",
        "             )\n"
      ]
    },
    {
      "cell_type": "code",
      "execution_count": null,
      "metadata": {
        "deletable": false,
        "editable": false,
        "nbgrader": {
          "cell_type": "code",
          "checksum": "88e02238ea5e456ff65e835cc8158054",
          "grade": true,
          "grade_id": "cell-2eeeba02391c4632",
          "locked": true,
          "points": 1,
          "schema_version": 3,
          "solution": false,
          "task": false
        },
        "id": "csnOXvfW6sO4"
      },
      "outputs": [],
      "source": [
        "utils.test_model_compile(model)"
      ]
    },
    {
      "cell_type": "markdown",
      "metadata": {
        "id": "90MpAMpWuKm-"
      },
      "source": [
        "## Training the Model\n",
        "\n",
        "Fit the model to the training inputs and outputs. \n",
        "- Check the documentation for [model.fit](https://www.tensorflow.org/api_docs/python/tf/keras/Model#fit).\n",
        "- Remember to use the normalized training set as inputs. \n",
        "- For the validation data, please use the normalized validation set."
      ]
    },
    {
      "cell_type": "code",
      "execution_count": 33,
      "metadata": {
        "deletable": false,
        "id": "_eiZkle4XwiY",
        "nbgrader": {
          "cell_type": "code",
          "checksum": "2ca7664be03bfd6fd3651ae44d17b793",
          "grade": false,
          "grade_id": "cell-0bb56262896f6680",
          "locked": false,
          "schema_version": 3,
          "solution": true,
          "task": false
        },
        "outputId": "221830ab-67ed-43ba-c931-255f73ad3ee8",
        "colab": {
          "base_uri": "https://localhost:8080/"
        }
      },
      "outputs": [
        {
          "output_type": "stream",
          "name": "stdout",
          "text": [
            "Epoch 1/180\n",
            "99/99 [==============================] - 2s 5ms/step - loss: 26.4170 - wine_quality_loss: 25.6999 - wine_type_loss: 0.7171 - wine_quality_root_mean_squared_error: 5.0695 - wine_type_accuracy: 0.3854 - val_loss: 18.3890 - val_wine_quality_loss: 17.7283 - val_wine_type_loss: 0.6607 - val_wine_quality_root_mean_squared_error: 4.2105 - val_wine_type_accuracy: 0.5830\n",
            "Epoch 2/180\n",
            "99/99 [==============================] - 0s 3ms/step - loss: 12.1260 - wine_quality_loss: 11.5274 - wine_type_loss: 0.5986 - wine_quality_root_mean_squared_error: 3.3952 - wine_type_accuracy: 0.8101 - val_loss: 6.7684 - val_wine_quality_loss: 6.2287 - val_wine_type_loss: 0.5397 - val_wine_quality_root_mean_squared_error: 2.4957 - val_wine_type_accuracy: 0.9062\n",
            "Epoch 3/180\n",
            "99/99 [==============================] - 0s 3ms/step - loss: 4.3520 - wine_quality_loss: 3.8711 - wine_type_loss: 0.4809 - wine_quality_root_mean_squared_error: 1.9675 - wine_type_accuracy: 0.8748 - val_loss: 2.8683 - val_wine_quality_loss: 2.4422 - val_wine_type_loss: 0.4261 - val_wine_quality_root_mean_squared_error: 1.5628 - val_wine_type_accuracy: 0.8834\n",
            "Epoch 4/180\n",
            "99/99 [==============================] - 0s 3ms/step - loss: 2.6750 - wine_quality_loss: 2.3017 - wine_type_loss: 0.3733 - wine_quality_root_mean_squared_error: 1.5171 - wine_type_accuracy: 0.8992 - val_loss: 2.3571 - val_wine_quality_loss: 2.0219 - val_wine_type_loss: 0.3352 - val_wine_quality_root_mean_squared_error: 1.4219 - val_wine_type_accuracy: 0.9214\n",
            "Epoch 5/180\n",
            "99/99 [==============================] - 0s 2ms/step - loss: 2.2564 - wine_quality_loss: 1.9616 - wine_type_loss: 0.2949 - wine_quality_root_mean_squared_error: 1.4006 - wine_type_accuracy: 0.9420 - val_loss: 2.0468 - val_wine_quality_loss: 1.7811 - val_wine_type_loss: 0.2657 - val_wine_quality_root_mean_squared_error: 1.3346 - val_wine_type_accuracy: 0.9556\n",
            "Epoch 6/180\n",
            "99/99 [==============================] - 0s 2ms/step - loss: 1.9828 - wine_quality_loss: 1.7474 - wine_type_loss: 0.2354 - wine_quality_root_mean_squared_error: 1.3219 - wine_type_accuracy: 0.9655 - val_loss: 1.8312 - val_wine_quality_loss: 1.6187 - val_wine_type_loss: 0.2125 - val_wine_quality_root_mean_squared_error: 1.2723 - val_wine_type_accuracy: 0.9772\n",
            "Epoch 7/180\n",
            "99/99 [==============================] - 0s 2ms/step - loss: 1.7765 - wine_quality_loss: 1.5885 - wine_type_loss: 0.1880 - wine_quality_root_mean_squared_error: 1.2604 - wine_type_accuracy: 0.9762 - val_loss: 1.6602 - val_wine_quality_loss: 1.4902 - val_wine_type_loss: 0.1701 - val_wine_quality_root_mean_squared_error: 1.2207 - val_wine_type_accuracy: 0.9823\n",
            "Epoch 8/180\n",
            "99/99 [==============================] - 0s 3ms/step - loss: 1.6261 - wine_quality_loss: 1.4730 - wine_type_loss: 0.1531 - wine_quality_root_mean_squared_error: 1.2137 - wine_type_accuracy: 0.9784 - val_loss: 1.5174 - val_wine_quality_loss: 1.3794 - val_wine_type_loss: 0.1380 - val_wine_quality_root_mean_squared_error: 1.1745 - val_wine_type_accuracy: 0.9873\n",
            "Epoch 9/180\n",
            "99/99 [==============================] - 0s 2ms/step - loss: 1.4926 - wine_quality_loss: 1.3664 - wine_type_loss: 0.1263 - wine_quality_root_mean_squared_error: 1.1689 - wine_type_accuracy: 0.9819 - val_loss: 1.4071 - val_wine_quality_loss: 1.2935 - val_wine_type_loss: 0.1136 - val_wine_quality_root_mean_squared_error: 1.1373 - val_wine_type_accuracy: 0.9899\n",
            "Epoch 10/180\n",
            "99/99 [==============================] - 0s 2ms/step - loss: 1.3756 - wine_quality_loss: 1.2693 - wine_type_loss: 0.1063 - wine_quality_root_mean_squared_error: 1.1266 - wine_type_accuracy: 0.9864 - val_loss: 1.2957 - val_wine_quality_loss: 1.1993 - val_wine_type_loss: 0.0965 - val_wine_quality_root_mean_squared_error: 1.0951 - val_wine_type_accuracy: 0.9899\n",
            "Epoch 11/180\n",
            "99/99 [==============================] - 0s 3ms/step - loss: 1.2745 - wine_quality_loss: 1.1826 - wine_type_loss: 0.0920 - wine_quality_root_mean_squared_error: 1.0875 - wine_type_accuracy: 0.9880 - val_loss: 1.2007 - val_wine_quality_loss: 1.1175 - val_wine_type_loss: 0.0832 - val_wine_quality_root_mean_squared_error: 1.0571 - val_wine_type_accuracy: 0.9886\n",
            "Epoch 12/180\n",
            "99/99 [==============================] - 0s 3ms/step - loss: 1.1862 - wine_quality_loss: 1.1055 - wine_type_loss: 0.0807 - wine_quality_root_mean_squared_error: 1.0514 - wine_type_accuracy: 0.9899 - val_loss: 1.1305 - val_wine_quality_loss: 1.0582 - val_wine_type_loss: 0.0723 - val_wine_quality_root_mean_squared_error: 1.0287 - val_wine_type_accuracy: 0.9873\n",
            "Epoch 13/180\n",
            "99/99 [==============================] - 0s 2ms/step - loss: 1.1099 - wine_quality_loss: 1.0378 - wine_type_loss: 0.0722 - wine_quality_root_mean_squared_error: 1.0187 - wine_type_accuracy: 0.9902 - val_loss: 1.0498 - val_wine_quality_loss: 0.9846 - val_wine_type_loss: 0.0652 - val_wine_quality_root_mean_squared_error: 0.9923 - val_wine_type_accuracy: 0.9886\n",
            "Epoch 14/180\n",
            "99/99 [==============================] - 0s 2ms/step - loss: 1.0412 - wine_quality_loss: 0.9758 - wine_type_loss: 0.0654 - wine_quality_root_mean_squared_error: 0.9878 - wine_type_accuracy: 0.9918 - val_loss: 0.9861 - val_wine_quality_loss: 0.9271 - val_wine_type_loss: 0.0589 - val_wine_quality_root_mean_squared_error: 0.9629 - val_wine_type_accuracy: 0.9899\n",
            "Epoch 15/180\n",
            "99/99 [==============================] - 0s 2ms/step - loss: 0.9744 - wine_quality_loss: 0.9141 - wine_type_loss: 0.0602 - wine_quality_root_mean_squared_error: 0.9561 - wine_type_accuracy: 0.9921 - val_loss: 0.9228 - val_wine_quality_loss: 0.8680 - val_wine_type_loss: 0.0548 - val_wine_quality_root_mean_squared_error: 0.9317 - val_wine_type_accuracy: 0.9899\n",
            "Epoch 16/180\n",
            "99/99 [==============================] - 0s 2ms/step - loss: 0.9189 - wine_quality_loss: 0.8627 - wine_type_loss: 0.0562 - wine_quality_root_mean_squared_error: 0.9288 - wine_type_accuracy: 0.9924 - val_loss: 0.8680 - val_wine_quality_loss: 0.8175 - val_wine_type_loss: 0.0505 - val_wine_quality_root_mean_squared_error: 0.9042 - val_wine_type_accuracy: 0.9924\n",
            "Epoch 17/180\n",
            "99/99 [==============================] - 0s 3ms/step - loss: 0.8636 - wine_quality_loss: 0.8109 - wine_type_loss: 0.0527 - wine_quality_root_mean_squared_error: 0.9005 - wine_type_accuracy: 0.9924 - val_loss: 0.8119 - val_wine_quality_loss: 0.7641 - val_wine_type_loss: 0.0477 - val_wine_quality_root_mean_squared_error: 0.8742 - val_wine_type_accuracy: 0.9924\n",
            "Epoch 18/180\n",
            "99/99 [==============================] - 1s 5ms/step - loss: 0.8160 - wine_quality_loss: 0.7659 - wine_type_loss: 0.0501 - wine_quality_root_mean_squared_error: 0.8751 - wine_type_accuracy: 0.9927 - val_loss: 0.7662 - val_wine_quality_loss: 0.7208 - val_wine_type_loss: 0.0454 - val_wine_quality_root_mean_squared_error: 0.8490 - val_wine_type_accuracy: 0.9924\n",
            "Epoch 19/180\n",
            "99/99 [==============================] - 0s 4ms/step - loss: 0.7708 - wine_quality_loss: 0.7228 - wine_type_loss: 0.0480 - wine_quality_root_mean_squared_error: 0.8502 - wine_type_accuracy: 0.9924 - val_loss: 0.7275 - val_wine_quality_loss: 0.6840 - val_wine_type_loss: 0.0435 - val_wine_quality_root_mean_squared_error: 0.8270 - val_wine_type_accuracy: 0.9924\n",
            "Epoch 20/180\n",
            "99/99 [==============================] - 1s 5ms/step - loss: 0.7308 - wine_quality_loss: 0.6847 - wine_type_loss: 0.0461 - wine_quality_root_mean_squared_error: 0.8274 - wine_type_accuracy: 0.9927 - val_loss: 0.6918 - val_wine_quality_loss: 0.6500 - val_wine_type_loss: 0.0418 - val_wine_quality_root_mean_squared_error: 0.8062 - val_wine_type_accuracy: 0.9924\n",
            "Epoch 21/180\n",
            "99/99 [==============================] - 0s 5ms/step - loss: 0.6905 - wine_quality_loss: 0.6460 - wine_type_loss: 0.0445 - wine_quality_root_mean_squared_error: 0.8037 - wine_type_accuracy: 0.9927 - val_loss: 0.6572 - val_wine_quality_loss: 0.6163 - val_wine_type_loss: 0.0409 - val_wine_quality_root_mean_squared_error: 0.7851 - val_wine_type_accuracy: 0.9924\n",
            "Epoch 22/180\n",
            "99/99 [==============================] - 1s 5ms/step - loss: 0.6573 - wine_quality_loss: 0.6142 - wine_type_loss: 0.0431 - wine_quality_root_mean_squared_error: 0.7837 - wine_type_accuracy: 0.9921 - val_loss: 0.6240 - val_wine_quality_loss: 0.5846 - val_wine_type_loss: 0.0394 - val_wine_quality_root_mean_squared_error: 0.7646 - val_wine_type_accuracy: 0.9924\n",
            "Epoch 23/180\n",
            "99/99 [==============================] - 1s 6ms/step - loss: 0.6243 - wine_quality_loss: 0.5825 - wine_type_loss: 0.0419 - wine_quality_root_mean_squared_error: 0.7632 - wine_type_accuracy: 0.9924 - val_loss: 0.6021 - val_wine_quality_loss: 0.5638 - val_wine_type_loss: 0.0383 - val_wine_quality_root_mean_squared_error: 0.7509 - val_wine_type_accuracy: 0.9924\n",
            "Epoch 24/180\n",
            "99/99 [==============================] - 1s 5ms/step - loss: 0.5954 - wine_quality_loss: 0.5546 - wine_type_loss: 0.0409 - wine_quality_root_mean_squared_error: 0.7447 - wine_type_accuracy: 0.9927 - val_loss: 0.5671 - val_wine_quality_loss: 0.5295 - val_wine_type_loss: 0.0376 - val_wine_quality_root_mean_squared_error: 0.7277 - val_wine_type_accuracy: 0.9924\n",
            "Epoch 25/180\n",
            "99/99 [==============================] - 1s 7ms/step - loss: 0.5700 - wine_quality_loss: 0.5301 - wine_type_loss: 0.0399 - wine_quality_root_mean_squared_error: 0.7281 - wine_type_accuracy: 0.9924 - val_loss: 0.5465 - val_wine_quality_loss: 0.5096 - val_wine_type_loss: 0.0369 - val_wine_quality_root_mean_squared_error: 0.7139 - val_wine_type_accuracy: 0.9924\n",
            "Epoch 26/180\n",
            "99/99 [==============================] - 1s 6ms/step - loss: 0.5449 - wine_quality_loss: 0.5059 - wine_type_loss: 0.0391 - wine_quality_root_mean_squared_error: 0.7112 - wine_type_accuracy: 0.9927 - val_loss: 0.5208 - val_wine_quality_loss: 0.4844 - val_wine_type_loss: 0.0364 - val_wine_quality_root_mean_squared_error: 0.6960 - val_wine_type_accuracy: 0.9924\n",
            "Epoch 27/180\n",
            "99/99 [==============================] - 1s 5ms/step - loss: 0.5238 - wine_quality_loss: 0.4855 - wine_type_loss: 0.0383 - wine_quality_root_mean_squared_error: 0.6968 - wine_type_accuracy: 0.9927 - val_loss: 0.4997 - val_wine_quality_loss: 0.4639 - val_wine_type_loss: 0.0358 - val_wine_quality_root_mean_squared_error: 0.6811 - val_wine_type_accuracy: 0.9937\n",
            "Epoch 28/180\n",
            "99/99 [==============================] - 1s 6ms/step - loss: 0.5063 - wine_quality_loss: 0.4686 - wine_type_loss: 0.0376 - wine_quality_root_mean_squared_error: 0.6846 - wine_type_accuracy: 0.9927 - val_loss: 0.4812 - val_wine_quality_loss: 0.4460 - val_wine_type_loss: 0.0352 - val_wine_quality_root_mean_squared_error: 0.6678 - val_wine_type_accuracy: 0.9937\n",
            "Epoch 29/180\n",
            "99/99 [==============================] - 1s 6ms/step - loss: 0.4872 - wine_quality_loss: 0.4501 - wine_type_loss: 0.0371 - wine_quality_root_mean_squared_error: 0.6709 - wine_type_accuracy: 0.9937 - val_loss: 0.4733 - val_wine_quality_loss: 0.4385 - val_wine_type_loss: 0.0348 - val_wine_quality_root_mean_squared_error: 0.6622 - val_wine_type_accuracy: 0.9937\n",
            "Epoch 30/180\n",
            "99/99 [==============================] - 1s 6ms/step - loss: 0.4719 - wine_quality_loss: 0.4355 - wine_type_loss: 0.0364 - wine_quality_root_mean_squared_error: 0.6599 - wine_type_accuracy: 0.9940 - val_loss: 0.4613 - val_wine_quality_loss: 0.4268 - val_wine_type_loss: 0.0344 - val_wine_quality_root_mean_squared_error: 0.6533 - val_wine_type_accuracy: 0.9937\n",
            "Epoch 31/180\n",
            "99/99 [==============================] - 1s 6ms/step - loss: 0.4589 - wine_quality_loss: 0.4230 - wine_type_loss: 0.0359 - wine_quality_root_mean_squared_error: 0.6504 - wine_type_accuracy: 0.9940 - val_loss: 0.4446 - val_wine_quality_loss: 0.4105 - val_wine_type_loss: 0.0341 - val_wine_quality_root_mean_squared_error: 0.6407 - val_wine_type_accuracy: 0.9937\n",
            "Epoch 32/180\n",
            "99/99 [==============================] - 1s 5ms/step - loss: 0.4460 - wine_quality_loss: 0.4106 - wine_type_loss: 0.0354 - wine_quality_root_mean_squared_error: 0.6408 - wine_type_accuracy: 0.9940 - val_loss: 0.4325 - val_wine_quality_loss: 0.3986 - val_wine_type_loss: 0.0338 - val_wine_quality_root_mean_squared_error: 0.6314 - val_wine_type_accuracy: 0.9937\n",
            "Epoch 33/180\n",
            "99/99 [==============================] - 1s 6ms/step - loss: 0.4362 - wine_quality_loss: 0.4014 - wine_type_loss: 0.0348 - wine_quality_root_mean_squared_error: 0.6335 - wine_type_accuracy: 0.9940 - val_loss: 0.4219 - val_wine_quality_loss: 0.3884 - val_wine_type_loss: 0.0335 - val_wine_quality_root_mean_squared_error: 0.6232 - val_wine_type_accuracy: 0.9937\n",
            "Epoch 34/180\n",
            "99/99 [==============================] - 1s 7ms/step - loss: 0.4253 - wine_quality_loss: 0.3908 - wine_type_loss: 0.0344 - wine_quality_root_mean_squared_error: 0.6252 - wine_type_accuracy: 0.9940 - val_loss: 0.4093 - val_wine_quality_loss: 0.3759 - val_wine_type_loss: 0.0334 - val_wine_quality_root_mean_squared_error: 0.6131 - val_wine_type_accuracy: 0.9949\n",
            "Epoch 35/180\n",
            "99/99 [==============================] - 1s 6ms/step - loss: 0.4150 - wine_quality_loss: 0.3810 - wine_type_loss: 0.0339 - wine_quality_root_mean_squared_error: 0.6173 - wine_type_accuracy: 0.9943 - val_loss: 0.4064 - val_wine_quality_loss: 0.3733 - val_wine_type_loss: 0.0332 - val_wine_quality_root_mean_squared_error: 0.6110 - val_wine_type_accuracy: 0.9949\n",
            "Epoch 36/180\n",
            "99/99 [==============================] - 1s 8ms/step - loss: 0.4070 - wine_quality_loss: 0.3735 - wine_type_loss: 0.0334 - wine_quality_root_mean_squared_error: 0.6112 - wine_type_accuracy: 0.9946 - val_loss: 0.4065 - val_wine_quality_loss: 0.3736 - val_wine_type_loss: 0.0329 - val_wine_quality_root_mean_squared_error: 0.6113 - val_wine_type_accuracy: 0.9949\n",
            "Epoch 37/180\n",
            "99/99 [==============================] - 1s 7ms/step - loss: 0.3999 - wine_quality_loss: 0.3668 - wine_type_loss: 0.0331 - wine_quality_root_mean_squared_error: 0.6056 - wine_type_accuracy: 0.9943 - val_loss: 0.3915 - val_wine_quality_loss: 0.3587 - val_wine_type_loss: 0.0328 - val_wine_quality_root_mean_squared_error: 0.5989 - val_wine_type_accuracy: 0.9949\n",
            "Epoch 38/180\n",
            "99/99 [==============================] - 1s 5ms/step - loss: 0.3937 - wine_quality_loss: 0.3610 - wine_type_loss: 0.0327 - wine_quality_root_mean_squared_error: 0.6008 - wine_type_accuracy: 0.9946 - val_loss: 0.3929 - val_wine_quality_loss: 0.3603 - val_wine_type_loss: 0.0326 - val_wine_quality_root_mean_squared_error: 0.6002 - val_wine_type_accuracy: 0.9949\n",
            "Epoch 39/180\n",
            "99/99 [==============================] - 1s 5ms/step - loss: 0.3880 - wine_quality_loss: 0.3557 - wine_type_loss: 0.0323 - wine_quality_root_mean_squared_error: 0.5964 - wine_type_accuracy: 0.9946 - val_loss: 0.3844 - val_wine_quality_loss: 0.3520 - val_wine_type_loss: 0.0324 - val_wine_quality_root_mean_squared_error: 0.5933 - val_wine_type_accuracy: 0.9949\n",
            "Epoch 40/180\n",
            "99/99 [==============================] - 0s 5ms/step - loss: 0.3837 - wine_quality_loss: 0.3517 - wine_type_loss: 0.0320 - wine_quality_root_mean_squared_error: 0.5930 - wine_type_accuracy: 0.9946 - val_loss: 0.3829 - val_wine_quality_loss: 0.3506 - val_wine_type_loss: 0.0323 - val_wine_quality_root_mean_squared_error: 0.5921 - val_wine_type_accuracy: 0.9949\n",
            "Epoch 41/180\n",
            "99/99 [==============================] - 1s 5ms/step - loss: 0.3782 - wine_quality_loss: 0.3466 - wine_type_loss: 0.0316 - wine_quality_root_mean_squared_error: 0.5887 - wine_type_accuracy: 0.9946 - val_loss: 0.3776 - val_wine_quality_loss: 0.3453 - val_wine_type_loss: 0.0322 - val_wine_quality_root_mean_squared_error: 0.5876 - val_wine_type_accuracy: 0.9949\n",
            "Epoch 42/180\n",
            "99/99 [==============================] - 1s 7ms/step - loss: 0.3748 - wine_quality_loss: 0.3435 - wine_type_loss: 0.0313 - wine_quality_root_mean_squared_error: 0.5861 - wine_type_accuracy: 0.9946 - val_loss: 0.3690 - val_wine_quality_loss: 0.3370 - val_wine_type_loss: 0.0320 - val_wine_quality_root_mean_squared_error: 0.5805 - val_wine_type_accuracy: 0.9949\n",
            "Epoch 43/180\n",
            "99/99 [==============================] - 1s 6ms/step - loss: 0.3697 - wine_quality_loss: 0.3387 - wine_type_loss: 0.0309 - wine_quality_root_mean_squared_error: 0.5820 - wine_type_accuracy: 0.9946 - val_loss: 0.3750 - val_wine_quality_loss: 0.3431 - val_wine_type_loss: 0.0319 - val_wine_quality_root_mean_squared_error: 0.5857 - val_wine_type_accuracy: 0.9949\n",
            "Epoch 44/180\n",
            "99/99 [==============================] - 1s 6ms/step - loss: 0.3649 - wine_quality_loss: 0.3343 - wine_type_loss: 0.0306 - wine_quality_root_mean_squared_error: 0.5782 - wine_type_accuracy: 0.9946 - val_loss: 0.3698 - val_wine_quality_loss: 0.3379 - val_wine_type_loss: 0.0319 - val_wine_quality_root_mean_squared_error: 0.5813 - val_wine_type_accuracy: 0.9949\n",
            "Epoch 45/180\n",
            "99/99 [==============================] - 1s 10ms/step - loss: 0.3628 - wine_quality_loss: 0.3325 - wine_type_loss: 0.0303 - wine_quality_root_mean_squared_error: 0.5766 - wine_type_accuracy: 0.9946 - val_loss: 0.3643 - val_wine_quality_loss: 0.3327 - val_wine_type_loss: 0.0316 - val_wine_quality_root_mean_squared_error: 0.5768 - val_wine_type_accuracy: 0.9949\n",
            "Epoch 46/180\n",
            "99/99 [==============================] - 1s 6ms/step - loss: 0.3589 - wine_quality_loss: 0.3289 - wine_type_loss: 0.0300 - wine_quality_root_mean_squared_error: 0.5735 - wine_type_accuracy: 0.9946 - val_loss: 0.3586 - val_wine_quality_loss: 0.3271 - val_wine_type_loss: 0.0316 - val_wine_quality_root_mean_squared_error: 0.5719 - val_wine_type_accuracy: 0.9949\n",
            "Epoch 47/180\n",
            "99/99 [==============================] - 1s 7ms/step - loss: 0.3578 - wine_quality_loss: 0.3281 - wine_type_loss: 0.0297 - wine_quality_root_mean_squared_error: 0.5728 - wine_type_accuracy: 0.9946 - val_loss: 0.3578 - val_wine_quality_loss: 0.3264 - val_wine_type_loss: 0.0314 - val_wine_quality_root_mean_squared_error: 0.5713 - val_wine_type_accuracy: 0.9949\n",
            "Epoch 48/180\n",
            "99/99 [==============================] - 1s 6ms/step - loss: 0.3545 - wine_quality_loss: 0.3250 - wine_type_loss: 0.0295 - wine_quality_root_mean_squared_error: 0.5701 - wine_type_accuracy: 0.9946 - val_loss: 0.3579 - val_wine_quality_loss: 0.3266 - val_wine_type_loss: 0.0312 - val_wine_quality_root_mean_squared_error: 0.5715 - val_wine_type_accuracy: 0.9949\n",
            "Epoch 49/180\n",
            "99/99 [==============================] - 1s 9ms/step - loss: 0.3501 - wine_quality_loss: 0.3210 - wine_type_loss: 0.0291 - wine_quality_root_mean_squared_error: 0.5666 - wine_type_accuracy: 0.9946 - val_loss: 0.3526 - val_wine_quality_loss: 0.3215 - val_wine_type_loss: 0.0311 - val_wine_quality_root_mean_squared_error: 0.5670 - val_wine_type_accuracy: 0.9949\n",
            "Epoch 50/180\n",
            "99/99 [==============================] - 0s 4ms/step - loss: 0.3512 - wine_quality_loss: 0.3223 - wine_type_loss: 0.0288 - wine_quality_root_mean_squared_error: 0.5678 - wine_type_accuracy: 0.9946 - val_loss: 0.3571 - val_wine_quality_loss: 0.3261 - val_wine_type_loss: 0.0309 - val_wine_quality_root_mean_squared_error: 0.5711 - val_wine_type_accuracy: 0.9949\n",
            "Epoch 51/180\n",
            "99/99 [==============================] - 1s 5ms/step - loss: 0.3473 - wine_quality_loss: 0.3187 - wine_type_loss: 0.0285 - wine_quality_root_mean_squared_error: 0.5646 - wine_type_accuracy: 0.9946 - val_loss: 0.3571 - val_wine_quality_loss: 0.3263 - val_wine_type_loss: 0.0308 - val_wine_quality_root_mean_squared_error: 0.5712 - val_wine_type_accuracy: 0.9949\n",
            "Epoch 52/180\n",
            "99/99 [==============================] - 1s 6ms/step - loss: 0.3452 - wine_quality_loss: 0.3170 - wine_type_loss: 0.0282 - wine_quality_root_mean_squared_error: 0.5630 - wine_type_accuracy: 0.9946 - val_loss: 0.3537 - val_wine_quality_loss: 0.3230 - val_wine_type_loss: 0.0306 - val_wine_quality_root_mean_squared_error: 0.5684 - val_wine_type_accuracy: 0.9937\n",
            "Epoch 53/180\n",
            "99/99 [==============================] - 0s 5ms/step - loss: 0.3428 - wine_quality_loss: 0.3147 - wine_type_loss: 0.0281 - wine_quality_root_mean_squared_error: 0.5610 - wine_type_accuracy: 0.9946 - val_loss: 0.3550 - val_wine_quality_loss: 0.3244 - val_wine_type_loss: 0.0306 - val_wine_quality_root_mean_squared_error: 0.5696 - val_wine_type_accuracy: 0.9937\n",
            "Epoch 54/180\n",
            "99/99 [==============================] - 1s 6ms/step - loss: 0.3413 - wine_quality_loss: 0.3135 - wine_type_loss: 0.0279 - wine_quality_root_mean_squared_error: 0.5599 - wine_type_accuracy: 0.9946 - val_loss: 0.3469 - val_wine_quality_loss: 0.3165 - val_wine_type_loss: 0.0305 - val_wine_quality_root_mean_squared_error: 0.5625 - val_wine_type_accuracy: 0.9949\n",
            "Epoch 55/180\n",
            "99/99 [==============================] - 1s 5ms/step - loss: 0.3393 - wine_quality_loss: 0.3117 - wine_type_loss: 0.0276 - wine_quality_root_mean_squared_error: 0.5583 - wine_type_accuracy: 0.9946 - val_loss: 0.3463 - val_wine_quality_loss: 0.3160 - val_wine_type_loss: 0.0304 - val_wine_quality_root_mean_squared_error: 0.5621 - val_wine_type_accuracy: 0.9937\n",
            "Epoch 56/180\n",
            "99/99 [==============================] - 1s 6ms/step - loss: 0.3380 - wine_quality_loss: 0.3106 - wine_type_loss: 0.0274 - wine_quality_root_mean_squared_error: 0.5573 - wine_type_accuracy: 0.9946 - val_loss: 0.3512 - val_wine_quality_loss: 0.3209 - val_wine_type_loss: 0.0303 - val_wine_quality_root_mean_squared_error: 0.5665 - val_wine_type_accuracy: 0.9937\n",
            "Epoch 57/180\n",
            "99/99 [==============================] - 1s 6ms/step - loss: 0.3384 - wine_quality_loss: 0.3113 - wine_type_loss: 0.0271 - wine_quality_root_mean_squared_error: 0.5579 - wine_type_accuracy: 0.9946 - val_loss: 0.3520 - val_wine_quality_loss: 0.3218 - val_wine_type_loss: 0.0302 - val_wine_quality_root_mean_squared_error: 0.5673 - val_wine_type_accuracy: 0.9937\n",
            "Epoch 58/180\n",
            "99/99 [==============================] - 1s 6ms/step - loss: 0.3353 - wine_quality_loss: 0.3084 - wine_type_loss: 0.0269 - wine_quality_root_mean_squared_error: 0.5553 - wine_type_accuracy: 0.9946 - val_loss: 0.3476 - val_wine_quality_loss: 0.3175 - val_wine_type_loss: 0.0301 - val_wine_quality_root_mean_squared_error: 0.5635 - val_wine_type_accuracy: 0.9937\n",
            "Epoch 59/180\n",
            "99/99 [==============================] - 1s 6ms/step - loss: 0.3345 - wine_quality_loss: 0.3078 - wine_type_loss: 0.0268 - wine_quality_root_mean_squared_error: 0.5548 - wine_type_accuracy: 0.9946 - val_loss: 0.3508 - val_wine_quality_loss: 0.3209 - val_wine_type_loss: 0.0300 - val_wine_quality_root_mean_squared_error: 0.5665 - val_wine_type_accuracy: 0.9937\n",
            "Epoch 60/180\n",
            "99/99 [==============================] - 1s 7ms/step - loss: 0.3329 - wine_quality_loss: 0.3063 - wine_type_loss: 0.0266 - wine_quality_root_mean_squared_error: 0.5535 - wine_type_accuracy: 0.9946 - val_loss: 0.3451 - val_wine_quality_loss: 0.3152 - val_wine_type_loss: 0.0299 - val_wine_quality_root_mean_squared_error: 0.5614 - val_wine_type_accuracy: 0.9949\n",
            "Epoch 61/180\n",
            "99/99 [==============================] - 1s 5ms/step - loss: 0.3318 - wine_quality_loss: 0.3053 - wine_type_loss: 0.0264 - wine_quality_root_mean_squared_error: 0.5526 - wine_type_accuracy: 0.9949 - val_loss: 0.3525 - val_wine_quality_loss: 0.3228 - val_wine_type_loss: 0.0297 - val_wine_quality_root_mean_squared_error: 0.5681 - val_wine_type_accuracy: 0.9937\n",
            "Epoch 62/180\n",
            "99/99 [==============================] - 0s 4ms/step - loss: 0.3310 - wine_quality_loss: 0.3047 - wine_type_loss: 0.0262 - wine_quality_root_mean_squared_error: 0.5520 - wine_type_accuracy: 0.9949 - val_loss: 0.3534 - val_wine_quality_loss: 0.3237 - val_wine_type_loss: 0.0297 - val_wine_quality_root_mean_squared_error: 0.5689 - val_wine_type_accuracy: 0.9937\n",
            "Epoch 63/180\n",
            "99/99 [==============================] - 0s 5ms/step - loss: 0.3306 - wine_quality_loss: 0.3045 - wine_type_loss: 0.0261 - wine_quality_root_mean_squared_error: 0.5518 - wine_type_accuracy: 0.9949 - val_loss: 0.3506 - val_wine_quality_loss: 0.3208 - val_wine_type_loss: 0.0297 - val_wine_quality_root_mean_squared_error: 0.5664 - val_wine_type_accuracy: 0.9949\n",
            "Epoch 64/180\n",
            "99/99 [==============================] - 0s 5ms/step - loss: 0.3287 - wine_quality_loss: 0.3028 - wine_type_loss: 0.0259 - wine_quality_root_mean_squared_error: 0.5503 - wine_type_accuracy: 0.9949 - val_loss: 0.3522 - val_wine_quality_loss: 0.3226 - val_wine_type_loss: 0.0296 - val_wine_quality_root_mean_squared_error: 0.5680 - val_wine_type_accuracy: 0.9949\n",
            "Epoch 65/180\n",
            "99/99 [==============================] - 1s 5ms/step - loss: 0.3281 - wine_quality_loss: 0.3024 - wine_type_loss: 0.0257 - wine_quality_root_mean_squared_error: 0.5499 - wine_type_accuracy: 0.9952 - val_loss: 0.3506 - val_wine_quality_loss: 0.3213 - val_wine_type_loss: 0.0293 - val_wine_quality_root_mean_squared_error: 0.5668 - val_wine_type_accuracy: 0.9937\n",
            "Epoch 66/180\n",
            "99/99 [==============================] - 1s 5ms/step - loss: 0.3261 - wine_quality_loss: 0.3005 - wine_type_loss: 0.0255 - wine_quality_root_mean_squared_error: 0.5482 - wine_type_accuracy: 0.9952 - val_loss: 0.3415 - val_wine_quality_loss: 0.3122 - val_wine_type_loss: 0.0293 - val_wine_quality_root_mean_squared_error: 0.5588 - val_wine_type_accuracy: 0.9937\n",
            "Epoch 67/180\n",
            "99/99 [==============================] - 0s 4ms/step - loss: 0.3255 - wine_quality_loss: 0.3001 - wine_type_loss: 0.0254 - wine_quality_root_mean_squared_error: 0.5478 - wine_type_accuracy: 0.9956 - val_loss: 0.3467 - val_wine_quality_loss: 0.3175 - val_wine_type_loss: 0.0292 - val_wine_quality_root_mean_squared_error: 0.5635 - val_wine_type_accuracy: 0.9937\n",
            "Epoch 68/180\n",
            "99/99 [==============================] - 0s 4ms/step - loss: 0.3240 - wine_quality_loss: 0.2987 - wine_type_loss: 0.0253 - wine_quality_root_mean_squared_error: 0.5465 - wine_type_accuracy: 0.9959 - val_loss: 0.3431 - val_wine_quality_loss: 0.3139 - val_wine_type_loss: 0.0292 - val_wine_quality_root_mean_squared_error: 0.5603 - val_wine_type_accuracy: 0.9937\n",
            "Epoch 69/180\n",
            "99/99 [==============================] - 0s 5ms/step - loss: 0.3240 - wine_quality_loss: 0.2988 - wine_type_loss: 0.0251 - wine_quality_root_mean_squared_error: 0.5467 - wine_type_accuracy: 0.9956 - val_loss: 0.3432 - val_wine_quality_loss: 0.3141 - val_wine_type_loss: 0.0292 - val_wine_quality_root_mean_squared_error: 0.5604 - val_wine_type_accuracy: 0.9937\n",
            "Epoch 70/180\n",
            "99/99 [==============================] - 0s 4ms/step - loss: 0.3220 - wine_quality_loss: 0.2970 - wine_type_loss: 0.0250 - wine_quality_root_mean_squared_error: 0.5450 - wine_type_accuracy: 0.9959 - val_loss: 0.3525 - val_wine_quality_loss: 0.3235 - val_wine_type_loss: 0.0290 - val_wine_quality_root_mean_squared_error: 0.5688 - val_wine_type_accuracy: 0.9937\n",
            "Epoch 71/180\n",
            "99/99 [==============================] - 1s 5ms/step - loss: 0.3222 - wine_quality_loss: 0.2975 - wine_type_loss: 0.0248 - wine_quality_root_mean_squared_error: 0.5454 - wine_type_accuracy: 0.9956 - val_loss: 0.3454 - val_wine_quality_loss: 0.3164 - val_wine_type_loss: 0.0290 - val_wine_quality_root_mean_squared_error: 0.5625 - val_wine_type_accuracy: 0.9937\n",
            "Epoch 72/180\n",
            "99/99 [==============================] - 0s 4ms/step - loss: 0.3207 - wine_quality_loss: 0.2960 - wine_type_loss: 0.0247 - wine_quality_root_mean_squared_error: 0.5441 - wine_type_accuracy: 0.9956 - val_loss: 0.3465 - val_wine_quality_loss: 0.3176 - val_wine_type_loss: 0.0289 - val_wine_quality_root_mean_squared_error: 0.5636 - val_wine_type_accuracy: 0.9949\n",
            "Epoch 73/180\n",
            "99/99 [==============================] - 0s 5ms/step - loss: 0.3207 - wine_quality_loss: 0.2962 - wine_type_loss: 0.0245 - wine_quality_root_mean_squared_error: 0.5442 - wine_type_accuracy: 0.9959 - val_loss: 0.3404 - val_wine_quality_loss: 0.3116 - val_wine_type_loss: 0.0288 - val_wine_quality_root_mean_squared_error: 0.5582 - val_wine_type_accuracy: 0.9937\n",
            "Epoch 74/180\n",
            "99/99 [==============================] - 1s 5ms/step - loss: 0.3191 - wine_quality_loss: 0.2946 - wine_type_loss: 0.0244 - wine_quality_root_mean_squared_error: 0.5428 - wine_type_accuracy: 0.9959 - val_loss: 0.3388 - val_wine_quality_loss: 0.3103 - val_wine_type_loss: 0.0285 - val_wine_quality_root_mean_squared_error: 0.5570 - val_wine_type_accuracy: 0.9937\n",
            "Epoch 75/180\n",
            "99/99 [==============================] - 0s 5ms/step - loss: 0.3184 - wine_quality_loss: 0.2942 - wine_type_loss: 0.0242 - wine_quality_root_mean_squared_error: 0.5424 - wine_type_accuracy: 0.9959 - val_loss: 0.3418 - val_wine_quality_loss: 0.3130 - val_wine_type_loss: 0.0287 - val_wine_quality_root_mean_squared_error: 0.5595 - val_wine_type_accuracy: 0.9937\n",
            "Epoch 76/180\n",
            "99/99 [==============================] - 1s 5ms/step - loss: 0.3182 - wine_quality_loss: 0.2940 - wine_type_loss: 0.0242 - wine_quality_root_mean_squared_error: 0.5423 - wine_type_accuracy: 0.9959 - val_loss: 0.3376 - val_wine_quality_loss: 0.3091 - val_wine_type_loss: 0.0285 - val_wine_quality_root_mean_squared_error: 0.5560 - val_wine_type_accuracy: 0.9937\n",
            "Epoch 77/180\n",
            "99/99 [==============================] - 1s 7ms/step - loss: 0.3159 - wine_quality_loss: 0.2919 - wine_type_loss: 0.0240 - wine_quality_root_mean_squared_error: 0.5403 - wine_type_accuracy: 0.9959 - val_loss: 0.3424 - val_wine_quality_loss: 0.3139 - val_wine_type_loss: 0.0284 - val_wine_quality_root_mean_squared_error: 0.5603 - val_wine_type_accuracy: 0.9937\n",
            "Epoch 78/180\n",
            "99/99 [==============================] - 1s 7ms/step - loss: 0.3165 - wine_quality_loss: 0.2927 - wine_type_loss: 0.0238 - wine_quality_root_mean_squared_error: 0.5410 - wine_type_accuracy: 0.9959 - val_loss: 0.3365 - val_wine_quality_loss: 0.3082 - val_wine_type_loss: 0.0283 - val_wine_quality_root_mean_squared_error: 0.5552 - val_wine_type_accuracy: 0.9937\n",
            "Epoch 79/180\n",
            "99/99 [==============================] - 0s 5ms/step - loss: 0.3158 - wine_quality_loss: 0.2921 - wine_type_loss: 0.0237 - wine_quality_root_mean_squared_error: 0.5405 - wine_type_accuracy: 0.9959 - val_loss: 0.3361 - val_wine_quality_loss: 0.3079 - val_wine_type_loss: 0.0282 - val_wine_quality_root_mean_squared_error: 0.5549 - val_wine_type_accuracy: 0.9937\n",
            "Epoch 80/180\n",
            "99/99 [==============================] - 1s 7ms/step - loss: 0.3149 - wine_quality_loss: 0.2912 - wine_type_loss: 0.0236 - wine_quality_root_mean_squared_error: 0.5397 - wine_type_accuracy: 0.9962 - val_loss: 0.3350 - val_wine_quality_loss: 0.3068 - val_wine_type_loss: 0.0282 - val_wine_quality_root_mean_squared_error: 0.5539 - val_wine_type_accuracy: 0.9937\n",
            "Epoch 81/180\n",
            "99/99 [==============================] - 1s 5ms/step - loss: 0.3143 - wine_quality_loss: 0.2908 - wine_type_loss: 0.0235 - wine_quality_root_mean_squared_error: 0.5393 - wine_type_accuracy: 0.9959 - val_loss: 0.3380 - val_wine_quality_loss: 0.3100 - val_wine_type_loss: 0.0281 - val_wine_quality_root_mean_squared_error: 0.5567 - val_wine_type_accuracy: 0.9937\n",
            "Epoch 82/180\n",
            "99/99 [==============================] - 1s 6ms/step - loss: 0.3141 - wine_quality_loss: 0.2907 - wine_type_loss: 0.0234 - wine_quality_root_mean_squared_error: 0.5392 - wine_type_accuracy: 0.9962 - val_loss: 0.3366 - val_wine_quality_loss: 0.3084 - val_wine_type_loss: 0.0282 - val_wine_quality_root_mean_squared_error: 0.5553 - val_wine_type_accuracy: 0.9937\n",
            "Epoch 83/180\n",
            "99/99 [==============================] - 0s 3ms/step - loss: 0.3123 - wine_quality_loss: 0.2890 - wine_type_loss: 0.0233 - wine_quality_root_mean_squared_error: 0.5376 - wine_type_accuracy: 0.9962 - val_loss: 0.3405 - val_wine_quality_loss: 0.3124 - val_wine_type_loss: 0.0281 - val_wine_quality_root_mean_squared_error: 0.5590 - val_wine_type_accuracy: 0.9949\n",
            "Epoch 84/180\n",
            "99/99 [==============================] - 0s 2ms/step - loss: 0.3122 - wine_quality_loss: 0.2890 - wine_type_loss: 0.0232 - wine_quality_root_mean_squared_error: 0.5376 - wine_type_accuracy: 0.9959 - val_loss: 0.3438 - val_wine_quality_loss: 0.3156 - val_wine_type_loss: 0.0282 - val_wine_quality_root_mean_squared_error: 0.5618 - val_wine_type_accuracy: 0.9937\n",
            "Epoch 85/180\n",
            "99/99 [==============================] - 0s 3ms/step - loss: 0.3120 - wine_quality_loss: 0.2889 - wine_type_loss: 0.0231 - wine_quality_root_mean_squared_error: 0.5375 - wine_type_accuracy: 0.9959 - val_loss: 0.3437 - val_wine_quality_loss: 0.3157 - val_wine_type_loss: 0.0280 - val_wine_quality_root_mean_squared_error: 0.5619 - val_wine_type_accuracy: 0.9937\n",
            "Epoch 86/180\n",
            "99/99 [==============================] - 0s 3ms/step - loss: 0.3106 - wine_quality_loss: 0.2877 - wine_type_loss: 0.0230 - wine_quality_root_mean_squared_error: 0.5363 - wine_type_accuracy: 0.9962 - val_loss: 0.3412 - val_wine_quality_loss: 0.3134 - val_wine_type_loss: 0.0279 - val_wine_quality_root_mean_squared_error: 0.5598 - val_wine_type_accuracy: 0.9937\n",
            "Epoch 87/180\n",
            "99/99 [==============================] - 0s 3ms/step - loss: 0.3108 - wine_quality_loss: 0.2880 - wine_type_loss: 0.0229 - wine_quality_root_mean_squared_error: 0.5366 - wine_type_accuracy: 0.9962 - val_loss: 0.3347 - val_wine_quality_loss: 0.3068 - val_wine_type_loss: 0.0279 - val_wine_quality_root_mean_squared_error: 0.5539 - val_wine_type_accuracy: 0.9937\n",
            "Epoch 88/180\n",
            "99/99 [==============================] - 0s 3ms/step - loss: 0.3088 - wine_quality_loss: 0.2860 - wine_type_loss: 0.0228 - wine_quality_root_mean_squared_error: 0.5348 - wine_type_accuracy: 0.9962 - val_loss: 0.3342 - val_wine_quality_loss: 0.3064 - val_wine_type_loss: 0.0278 - val_wine_quality_root_mean_squared_error: 0.5536 - val_wine_type_accuracy: 0.9937\n",
            "Epoch 89/180\n",
            "99/99 [==============================] - 0s 3ms/step - loss: 0.3090 - wine_quality_loss: 0.2864 - wine_type_loss: 0.0226 - wine_quality_root_mean_squared_error: 0.5351 - wine_type_accuracy: 0.9962 - val_loss: 0.3348 - val_wine_quality_loss: 0.3069 - val_wine_type_loss: 0.0279 - val_wine_quality_root_mean_squared_error: 0.5540 - val_wine_type_accuracy: 0.9949\n",
            "Epoch 90/180\n",
            "99/99 [==============================] - 0s 3ms/step - loss: 0.3090 - wine_quality_loss: 0.2866 - wine_type_loss: 0.0225 - wine_quality_root_mean_squared_error: 0.5353 - wine_type_accuracy: 0.9962 - val_loss: 0.3370 - val_wine_quality_loss: 0.3091 - val_wine_type_loss: 0.0278 - val_wine_quality_root_mean_squared_error: 0.5560 - val_wine_type_accuracy: 0.9949\n",
            "Epoch 91/180\n",
            "99/99 [==============================] - 0s 2ms/step - loss: 0.3083 - wine_quality_loss: 0.2860 - wine_type_loss: 0.0224 - wine_quality_root_mean_squared_error: 0.5348 - wine_type_accuracy: 0.9965 - val_loss: 0.3389 - val_wine_quality_loss: 0.3112 - val_wine_type_loss: 0.0276 - val_wine_quality_root_mean_squared_error: 0.5579 - val_wine_type_accuracy: 0.9937\n",
            "Epoch 92/180\n",
            "99/99 [==============================] - 0s 2ms/step - loss: 0.3071 - wine_quality_loss: 0.2848 - wine_type_loss: 0.0222 - wine_quality_root_mean_squared_error: 0.5337 - wine_type_accuracy: 0.9965 - val_loss: 0.3379 - val_wine_quality_loss: 0.3101 - val_wine_type_loss: 0.0278 - val_wine_quality_root_mean_squared_error: 0.5568 - val_wine_type_accuracy: 0.9949\n",
            "Epoch 93/180\n",
            "99/99 [==============================] - 0s 3ms/step - loss: 0.3067 - wine_quality_loss: 0.2846 - wine_type_loss: 0.0222 - wine_quality_root_mean_squared_error: 0.5334 - wine_type_accuracy: 0.9962 - val_loss: 0.3393 - val_wine_quality_loss: 0.3115 - val_wine_type_loss: 0.0277 - val_wine_quality_root_mean_squared_error: 0.5581 - val_wine_type_accuracy: 0.9949\n",
            "Epoch 94/180\n",
            "99/99 [==============================] - 0s 3ms/step - loss: 0.3065 - wine_quality_loss: 0.2844 - wine_type_loss: 0.0221 - wine_quality_root_mean_squared_error: 0.5333 - wine_type_accuracy: 0.9965 - val_loss: 0.3496 - val_wine_quality_loss: 0.3220 - val_wine_type_loss: 0.0276 - val_wine_quality_root_mean_squared_error: 0.5674 - val_wine_type_accuracy: 0.9937\n",
            "Epoch 95/180\n",
            "99/99 [==============================] - 0s 3ms/step - loss: 0.3045 - wine_quality_loss: 0.2825 - wine_type_loss: 0.0220 - wine_quality_root_mean_squared_error: 0.5315 - wine_type_accuracy: 0.9965 - val_loss: 0.3356 - val_wine_quality_loss: 0.3082 - val_wine_type_loss: 0.0275 - val_wine_quality_root_mean_squared_error: 0.5551 - val_wine_type_accuracy: 0.9937\n",
            "Epoch 96/180\n",
            "99/99 [==============================] - 0s 3ms/step - loss: 0.3059 - wine_quality_loss: 0.2841 - wine_type_loss: 0.0219 - wine_quality_root_mean_squared_error: 0.5330 - wine_type_accuracy: 0.9965 - val_loss: 0.3391 - val_wine_quality_loss: 0.3117 - val_wine_type_loss: 0.0274 - val_wine_quality_root_mean_squared_error: 0.5583 - val_wine_type_accuracy: 0.9937\n",
            "Epoch 97/180\n",
            "99/99 [==============================] - 0s 3ms/step - loss: 0.3047 - wine_quality_loss: 0.2829 - wine_type_loss: 0.0218 - wine_quality_root_mean_squared_error: 0.5319 - wine_type_accuracy: 0.9965 - val_loss: 0.3353 - val_wine_quality_loss: 0.3079 - val_wine_type_loss: 0.0274 - val_wine_quality_root_mean_squared_error: 0.5549 - val_wine_type_accuracy: 0.9937\n",
            "Epoch 98/180\n",
            "99/99 [==============================] - 0s 3ms/step - loss: 0.3024 - wine_quality_loss: 0.2808 - wine_type_loss: 0.0216 - wine_quality_root_mean_squared_error: 0.5299 - wine_type_accuracy: 0.9965 - val_loss: 0.3357 - val_wine_quality_loss: 0.3082 - val_wine_type_loss: 0.0274 - val_wine_quality_root_mean_squared_error: 0.5552 - val_wine_type_accuracy: 0.9949\n",
            "Epoch 99/180\n",
            "99/99 [==============================] - 0s 2ms/step - loss: 0.3039 - wine_quality_loss: 0.2824 - wine_type_loss: 0.0215 - wine_quality_root_mean_squared_error: 0.5314 - wine_type_accuracy: 0.9965 - val_loss: 0.3390 - val_wine_quality_loss: 0.3115 - val_wine_type_loss: 0.0275 - val_wine_quality_root_mean_squared_error: 0.5581 - val_wine_type_accuracy: 0.9949\n",
            "Epoch 100/180\n",
            "99/99 [==============================] - 0s 3ms/step - loss: 0.3031 - wine_quality_loss: 0.2817 - wine_type_loss: 0.0214 - wine_quality_root_mean_squared_error: 0.5308 - wine_type_accuracy: 0.9965 - val_loss: 0.3355 - val_wine_quality_loss: 0.3081 - val_wine_type_loss: 0.0274 - val_wine_quality_root_mean_squared_error: 0.5551 - val_wine_type_accuracy: 0.9937\n",
            "Epoch 101/180\n",
            "99/99 [==============================] - 0s 3ms/step - loss: 0.3023 - wine_quality_loss: 0.2809 - wine_type_loss: 0.0214 - wine_quality_root_mean_squared_error: 0.5300 - wine_type_accuracy: 0.9965 - val_loss: 0.3441 - val_wine_quality_loss: 0.3169 - val_wine_type_loss: 0.0273 - val_wine_quality_root_mean_squared_error: 0.5629 - val_wine_type_accuracy: 0.9949\n",
            "Epoch 102/180\n",
            "99/99 [==============================] - 0s 3ms/step - loss: 0.3012 - wine_quality_loss: 0.2799 - wine_type_loss: 0.0212 - wine_quality_root_mean_squared_error: 0.5291 - wine_type_accuracy: 0.9965 - val_loss: 0.3355 - val_wine_quality_loss: 0.3083 - val_wine_type_loss: 0.0272 - val_wine_quality_root_mean_squared_error: 0.5552 - val_wine_type_accuracy: 0.9949\n",
            "Epoch 103/180\n",
            "99/99 [==============================] - 0s 3ms/step - loss: 0.3014 - wine_quality_loss: 0.2803 - wine_type_loss: 0.0211 - wine_quality_root_mean_squared_error: 0.5294 - wine_type_accuracy: 0.9965 - val_loss: 0.3390 - val_wine_quality_loss: 0.3117 - val_wine_type_loss: 0.0272 - val_wine_quality_root_mean_squared_error: 0.5583 - val_wine_type_accuracy: 0.9949\n",
            "Epoch 104/180\n",
            "99/99 [==============================] - 0s 3ms/step - loss: 0.3004 - wine_quality_loss: 0.2794 - wine_type_loss: 0.0210 - wine_quality_root_mean_squared_error: 0.5286 - wine_type_accuracy: 0.9965 - val_loss: 0.3332 - val_wine_quality_loss: 0.3060 - val_wine_type_loss: 0.0272 - val_wine_quality_root_mean_squared_error: 0.5532 - val_wine_type_accuracy: 0.9949\n",
            "Epoch 105/180\n",
            "99/99 [==============================] - 0s 3ms/step - loss: 0.3003 - wine_quality_loss: 0.2794 - wine_type_loss: 0.0209 - wine_quality_root_mean_squared_error: 0.5286 - wine_type_accuracy: 0.9965 - val_loss: 0.3361 - val_wine_quality_loss: 0.3089 - val_wine_type_loss: 0.0272 - val_wine_quality_root_mean_squared_error: 0.5558 - val_wine_type_accuracy: 0.9949\n",
            "Epoch 106/180\n",
            "99/99 [==============================] - 0s 3ms/step - loss: 0.2996 - wine_quality_loss: 0.2788 - wine_type_loss: 0.0208 - wine_quality_root_mean_squared_error: 0.5280 - wine_type_accuracy: 0.9965 - val_loss: 0.3330 - val_wine_quality_loss: 0.3059 - val_wine_type_loss: 0.0271 - val_wine_quality_root_mean_squared_error: 0.5531 - val_wine_type_accuracy: 0.9962\n",
            "Epoch 107/180\n",
            "99/99 [==============================] - 0s 3ms/step - loss: 0.2984 - wine_quality_loss: 0.2777 - wine_type_loss: 0.0207 - wine_quality_root_mean_squared_error: 0.5270 - wine_type_accuracy: 0.9965 - val_loss: 0.3447 - val_wine_quality_loss: 0.3177 - val_wine_type_loss: 0.0270 - val_wine_quality_root_mean_squared_error: 0.5636 - val_wine_type_accuracy: 0.9949\n",
            "Epoch 108/180\n",
            "99/99 [==============================] - 0s 3ms/step - loss: 0.2985 - wine_quality_loss: 0.2778 - wine_type_loss: 0.0207 - wine_quality_root_mean_squared_error: 0.5271 - wine_type_accuracy: 0.9965 - val_loss: 0.3353 - val_wine_quality_loss: 0.3083 - val_wine_type_loss: 0.0270 - val_wine_quality_root_mean_squared_error: 0.5552 - val_wine_type_accuracy: 0.9962\n",
            "Epoch 109/180\n",
            "99/99 [==============================] - 0s 3ms/step - loss: 0.2980 - wine_quality_loss: 0.2775 - wine_type_loss: 0.0205 - wine_quality_root_mean_squared_error: 0.5268 - wine_type_accuracy: 0.9965 - val_loss: 0.3369 - val_wine_quality_loss: 0.3100 - val_wine_type_loss: 0.0269 - val_wine_quality_root_mean_squared_error: 0.5568 - val_wine_type_accuracy: 0.9962\n",
            "Epoch 110/180\n",
            "99/99 [==============================] - 0s 3ms/step - loss: 0.2967 - wine_quality_loss: 0.2763 - wine_type_loss: 0.0204 - wine_quality_root_mean_squared_error: 0.5257 - wine_type_accuracy: 0.9965 - val_loss: 0.3339 - val_wine_quality_loss: 0.3069 - val_wine_type_loss: 0.0270 - val_wine_quality_root_mean_squared_error: 0.5540 - val_wine_type_accuracy: 0.9962\n",
            "Epoch 111/180\n",
            "99/99 [==============================] - 0s 3ms/step - loss: 0.2969 - wine_quality_loss: 0.2765 - wine_type_loss: 0.0204 - wine_quality_root_mean_squared_error: 0.5258 - wine_type_accuracy: 0.9965 - val_loss: 0.3309 - val_wine_quality_loss: 0.3040 - val_wine_type_loss: 0.0269 - val_wine_quality_root_mean_squared_error: 0.5513 - val_wine_type_accuracy: 0.9962\n",
            "Epoch 112/180\n",
            "99/99 [==============================] - 0s 3ms/step - loss: 0.2958 - wine_quality_loss: 0.2756 - wine_type_loss: 0.0202 - wine_quality_root_mean_squared_error: 0.5249 - wine_type_accuracy: 0.9965 - val_loss: 0.3379 - val_wine_quality_loss: 0.3112 - val_wine_type_loss: 0.0267 - val_wine_quality_root_mean_squared_error: 0.5578 - val_wine_type_accuracy: 0.9962\n",
            "Epoch 113/180\n",
            "99/99 [==============================] - 0s 3ms/step - loss: 0.2947 - wine_quality_loss: 0.2745 - wine_type_loss: 0.0201 - wine_quality_root_mean_squared_error: 0.5240 - wine_type_accuracy: 0.9965 - val_loss: 0.3407 - val_wine_quality_loss: 0.3140 - val_wine_type_loss: 0.0267 - val_wine_quality_root_mean_squared_error: 0.5604 - val_wine_type_accuracy: 0.9962\n",
            "Epoch 114/180\n",
            "99/99 [==============================] - 0s 3ms/step - loss: 0.2945 - wine_quality_loss: 0.2745 - wine_type_loss: 0.0201 - wine_quality_root_mean_squared_error: 0.5239 - wine_type_accuracy: 0.9965 - val_loss: 0.3355 - val_wine_quality_loss: 0.3087 - val_wine_type_loss: 0.0268 - val_wine_quality_root_mean_squared_error: 0.5556 - val_wine_type_accuracy: 0.9962\n",
            "Epoch 115/180\n",
            "99/99 [==============================] - 0s 3ms/step - loss: 0.2948 - wine_quality_loss: 0.2748 - wine_type_loss: 0.0200 - wine_quality_root_mean_squared_error: 0.5243 - wine_type_accuracy: 0.9965 - val_loss: 0.3442 - val_wine_quality_loss: 0.3175 - val_wine_type_loss: 0.0268 - val_wine_quality_root_mean_squared_error: 0.5634 - val_wine_type_accuracy: 0.9962\n",
            "Epoch 116/180\n",
            "99/99 [==============================] - 0s 3ms/step - loss: 0.2957 - wine_quality_loss: 0.2758 - wine_type_loss: 0.0199 - wine_quality_root_mean_squared_error: 0.5252 - wine_type_accuracy: 0.9965 - val_loss: 0.3374 - val_wine_quality_loss: 0.3106 - val_wine_type_loss: 0.0268 - val_wine_quality_root_mean_squared_error: 0.5573 - val_wine_type_accuracy: 0.9962\n",
            "Epoch 117/180\n",
            "99/99 [==============================] - 0s 3ms/step - loss: 0.2945 - wine_quality_loss: 0.2748 - wine_type_loss: 0.0197 - wine_quality_root_mean_squared_error: 0.5242 - wine_type_accuracy: 0.9965 - val_loss: 0.3344 - val_wine_quality_loss: 0.3076 - val_wine_type_loss: 0.0268 - val_wine_quality_root_mean_squared_error: 0.5546 - val_wine_type_accuracy: 0.9962\n",
            "Epoch 118/180\n",
            "99/99 [==============================] - 0s 3ms/step - loss: 0.2933 - wine_quality_loss: 0.2736 - wine_type_loss: 0.0197 - wine_quality_root_mean_squared_error: 0.5231 - wine_type_accuracy: 0.9965 - val_loss: 0.3349 - val_wine_quality_loss: 0.3082 - val_wine_type_loss: 0.0267 - val_wine_quality_root_mean_squared_error: 0.5552 - val_wine_type_accuracy: 0.9962\n",
            "Epoch 119/180\n",
            "99/99 [==============================] - 0s 3ms/step - loss: 0.2931 - wine_quality_loss: 0.2735 - wine_type_loss: 0.0196 - wine_quality_root_mean_squared_error: 0.5230 - wine_type_accuracy: 0.9965 - val_loss: 0.3391 - val_wine_quality_loss: 0.3123 - val_wine_type_loss: 0.0268 - val_wine_quality_root_mean_squared_error: 0.5589 - val_wine_type_accuracy: 0.9962\n",
            "Epoch 120/180\n",
            "99/99 [==============================] - 0s 3ms/step - loss: 0.2933 - wine_quality_loss: 0.2737 - wine_type_loss: 0.0196 - wine_quality_root_mean_squared_error: 0.5232 - wine_type_accuracy: 0.9965 - val_loss: 0.3374 - val_wine_quality_loss: 0.3107 - val_wine_type_loss: 0.0267 - val_wine_quality_root_mean_squared_error: 0.5574 - val_wine_type_accuracy: 0.9962\n",
            "Epoch 121/180\n",
            "99/99 [==============================] - 0s 3ms/step - loss: 0.2933 - wine_quality_loss: 0.2739 - wine_type_loss: 0.0194 - wine_quality_root_mean_squared_error: 0.5233 - wine_type_accuracy: 0.9965 - val_loss: 0.3388 - val_wine_quality_loss: 0.3122 - val_wine_type_loss: 0.0265 - val_wine_quality_root_mean_squared_error: 0.5588 - val_wine_type_accuracy: 0.9962\n",
            "Epoch 122/180\n",
            "99/99 [==============================] - 0s 3ms/step - loss: 0.2920 - wine_quality_loss: 0.2727 - wine_type_loss: 0.0194 - wine_quality_root_mean_squared_error: 0.5222 - wine_type_accuracy: 0.9965 - val_loss: 0.3362 - val_wine_quality_loss: 0.3097 - val_wine_type_loss: 0.0265 - val_wine_quality_root_mean_squared_error: 0.5565 - val_wine_type_accuracy: 0.9962\n",
            "Epoch 123/180\n",
            "99/99 [==============================] - 0s 3ms/step - loss: 0.2916 - wine_quality_loss: 0.2724 - wine_type_loss: 0.0193 - wine_quality_root_mean_squared_error: 0.5219 - wine_type_accuracy: 0.9965 - val_loss: 0.3407 - val_wine_quality_loss: 0.3143 - val_wine_type_loss: 0.0263 - val_wine_quality_root_mean_squared_error: 0.5607 - val_wine_type_accuracy: 0.9962\n",
            "Epoch 124/180\n",
            "99/99 [==============================] - 0s 3ms/step - loss: 0.2919 - wine_quality_loss: 0.2727 - wine_type_loss: 0.0192 - wine_quality_root_mean_squared_error: 0.5222 - wine_type_accuracy: 0.9965 - val_loss: 0.3322 - val_wine_quality_loss: 0.3058 - val_wine_type_loss: 0.0263 - val_wine_quality_root_mean_squared_error: 0.5530 - val_wine_type_accuracy: 0.9962\n",
            "Epoch 125/180\n",
            "99/99 [==============================] - 0s 3ms/step - loss: 0.2913 - wine_quality_loss: 0.2723 - wine_type_loss: 0.0191 - wine_quality_root_mean_squared_error: 0.5218 - wine_type_accuracy: 0.9965 - val_loss: 0.3486 - val_wine_quality_loss: 0.3220 - val_wine_type_loss: 0.0266 - val_wine_quality_root_mean_squared_error: 0.5675 - val_wine_type_accuracy: 0.9962\n",
            "Epoch 126/180\n",
            "99/99 [==============================] - 0s 3ms/step - loss: 0.2891 - wine_quality_loss: 0.2701 - wine_type_loss: 0.0190 - wine_quality_root_mean_squared_error: 0.5197 - wine_type_accuracy: 0.9965 - val_loss: 0.3305 - val_wine_quality_loss: 0.3041 - val_wine_type_loss: 0.0265 - val_wine_quality_root_mean_squared_error: 0.5514 - val_wine_type_accuracy: 0.9962\n",
            "Epoch 127/180\n",
            "99/99 [==============================] - 0s 3ms/step - loss: 0.2899 - wine_quality_loss: 0.2710 - wine_type_loss: 0.0189 - wine_quality_root_mean_squared_error: 0.5206 - wine_type_accuracy: 0.9965 - val_loss: 0.3338 - val_wine_quality_loss: 0.3074 - val_wine_type_loss: 0.0264 - val_wine_quality_root_mean_squared_error: 0.5544 - val_wine_type_accuracy: 0.9962\n",
            "Epoch 128/180\n",
            "99/99 [==============================] - 0s 3ms/step - loss: 0.2893 - wine_quality_loss: 0.2705 - wine_type_loss: 0.0188 - wine_quality_root_mean_squared_error: 0.5201 - wine_type_accuracy: 0.9965 - val_loss: 0.3350 - val_wine_quality_loss: 0.3086 - val_wine_type_loss: 0.0264 - val_wine_quality_root_mean_squared_error: 0.5555 - val_wine_type_accuracy: 0.9962\n",
            "Epoch 129/180\n",
            "99/99 [==============================] - 0s 3ms/step - loss: 0.2894 - wine_quality_loss: 0.2707 - wine_type_loss: 0.0187 - wine_quality_root_mean_squared_error: 0.5203 - wine_type_accuracy: 0.9965 - val_loss: 0.3340 - val_wine_quality_loss: 0.3077 - val_wine_type_loss: 0.0263 - val_wine_quality_root_mean_squared_error: 0.5547 - val_wine_type_accuracy: 0.9962\n",
            "Epoch 130/180\n",
            "99/99 [==============================] - 0s 3ms/step - loss: 0.2897 - wine_quality_loss: 0.2710 - wine_type_loss: 0.0187 - wine_quality_root_mean_squared_error: 0.5206 - wine_type_accuracy: 0.9965 - val_loss: 0.3295 - val_wine_quality_loss: 0.3032 - val_wine_type_loss: 0.0263 - val_wine_quality_root_mean_squared_error: 0.5507 - val_wine_type_accuracy: 0.9962\n",
            "Epoch 131/180\n",
            "99/99 [==============================] - 0s 3ms/step - loss: 0.2879 - wine_quality_loss: 0.2694 - wine_type_loss: 0.0185 - wine_quality_root_mean_squared_error: 0.5191 - wine_type_accuracy: 0.9965 - val_loss: 0.3424 - val_wine_quality_loss: 0.3160 - val_wine_type_loss: 0.0264 - val_wine_quality_root_mean_squared_error: 0.5622 - val_wine_type_accuracy: 0.9962\n",
            "Epoch 132/180\n",
            "99/99 [==============================] - 0s 3ms/step - loss: 0.2876 - wine_quality_loss: 0.2692 - wine_type_loss: 0.0185 - wine_quality_root_mean_squared_error: 0.5188 - wine_type_accuracy: 0.9965 - val_loss: 0.3400 - val_wine_quality_loss: 0.3138 - val_wine_type_loss: 0.0262 - val_wine_quality_root_mean_squared_error: 0.5602 - val_wine_type_accuracy: 0.9962\n",
            "Epoch 133/180\n",
            "99/99 [==============================] - 0s 3ms/step - loss: 0.2864 - wine_quality_loss: 0.2681 - wine_type_loss: 0.0184 - wine_quality_root_mean_squared_error: 0.5178 - wine_type_accuracy: 0.9965 - val_loss: 0.3376 - val_wine_quality_loss: 0.3111 - val_wine_type_loss: 0.0264 - val_wine_quality_root_mean_squared_error: 0.5578 - val_wine_type_accuracy: 0.9962\n",
            "Epoch 134/180\n",
            "99/99 [==============================] - 0s 3ms/step - loss: 0.2870 - wine_quality_loss: 0.2686 - wine_type_loss: 0.0184 - wine_quality_root_mean_squared_error: 0.5183 - wine_type_accuracy: 0.9965 - val_loss: 0.3394 - val_wine_quality_loss: 0.3130 - val_wine_type_loss: 0.0264 - val_wine_quality_root_mean_squared_error: 0.5595 - val_wine_type_accuracy: 0.9962\n",
            "Epoch 135/180\n",
            "99/99 [==============================] - 0s 3ms/step - loss: 0.2868 - wine_quality_loss: 0.2685 - wine_type_loss: 0.0183 - wine_quality_root_mean_squared_error: 0.5182 - wine_type_accuracy: 0.9965 - val_loss: 0.3364 - val_wine_quality_loss: 0.3103 - val_wine_type_loss: 0.0262 - val_wine_quality_root_mean_squared_error: 0.5570 - val_wine_type_accuracy: 0.9962\n",
            "Epoch 136/180\n",
            "99/99 [==============================] - 0s 3ms/step - loss: 0.2868 - wine_quality_loss: 0.2686 - wine_type_loss: 0.0182 - wine_quality_root_mean_squared_error: 0.5183 - wine_type_accuracy: 0.9968 - val_loss: 0.3409 - val_wine_quality_loss: 0.3147 - val_wine_type_loss: 0.0263 - val_wine_quality_root_mean_squared_error: 0.5610 - val_wine_type_accuracy: 0.9962\n",
            "Epoch 137/180\n",
            "99/99 [==============================] - 0s 3ms/step - loss: 0.2850 - wine_quality_loss: 0.2669 - wine_type_loss: 0.0181 - wine_quality_root_mean_squared_error: 0.5166 - wine_type_accuracy: 0.9965 - val_loss: 0.3399 - val_wine_quality_loss: 0.3136 - val_wine_type_loss: 0.0264 - val_wine_quality_root_mean_squared_error: 0.5600 - val_wine_type_accuracy: 0.9962\n",
            "Epoch 138/180\n",
            "99/99 [==============================] - 0s 3ms/step - loss: 0.2853 - wine_quality_loss: 0.2672 - wine_type_loss: 0.0180 - wine_quality_root_mean_squared_error: 0.5169 - wine_type_accuracy: 0.9968 - val_loss: 0.3414 - val_wine_quality_loss: 0.3151 - val_wine_type_loss: 0.0263 - val_wine_quality_root_mean_squared_error: 0.5613 - val_wine_type_accuracy: 0.9962\n",
            "Epoch 139/180\n",
            "99/99 [==============================] - 0s 3ms/step - loss: 0.2847 - wine_quality_loss: 0.2667 - wine_type_loss: 0.0179 - wine_quality_root_mean_squared_error: 0.5165 - wine_type_accuracy: 0.9965 - val_loss: 0.3359 - val_wine_quality_loss: 0.3096 - val_wine_type_loss: 0.0263 - val_wine_quality_root_mean_squared_error: 0.5564 - val_wine_type_accuracy: 0.9962\n",
            "Epoch 140/180\n",
            "99/99 [==============================] - 0s 3ms/step - loss: 0.2841 - wine_quality_loss: 0.2661 - wine_type_loss: 0.0180 - wine_quality_root_mean_squared_error: 0.5159 - wine_type_accuracy: 0.9968 - val_loss: 0.3344 - val_wine_quality_loss: 0.3081 - val_wine_type_loss: 0.0263 - val_wine_quality_root_mean_squared_error: 0.5550 - val_wine_type_accuracy: 0.9962\n",
            "Epoch 141/180\n",
            "99/99 [==============================] - 0s 3ms/step - loss: 0.2834 - wine_quality_loss: 0.2655 - wine_type_loss: 0.0179 - wine_quality_root_mean_squared_error: 0.5153 - wine_type_accuracy: 0.9965 - val_loss: 0.3368 - val_wine_quality_loss: 0.3105 - val_wine_type_loss: 0.0263 - val_wine_quality_root_mean_squared_error: 0.5572 - val_wine_type_accuracy: 0.9962\n",
            "Epoch 142/180\n",
            "99/99 [==============================] - 0s 3ms/step - loss: 0.2838 - wine_quality_loss: 0.2661 - wine_type_loss: 0.0177 - wine_quality_root_mean_squared_error: 0.5159 - wine_type_accuracy: 0.9968 - val_loss: 0.3385 - val_wine_quality_loss: 0.3122 - val_wine_type_loss: 0.0264 - val_wine_quality_root_mean_squared_error: 0.5587 - val_wine_type_accuracy: 0.9962\n",
            "Epoch 143/180\n",
            "99/99 [==============================] - 0s 3ms/step - loss: 0.2842 - wine_quality_loss: 0.2665 - wine_type_loss: 0.0177 - wine_quality_root_mean_squared_error: 0.5162 - wine_type_accuracy: 0.9968 - val_loss: 0.3336 - val_wine_quality_loss: 0.3073 - val_wine_type_loss: 0.0263 - val_wine_quality_root_mean_squared_error: 0.5543 - val_wine_type_accuracy: 0.9962\n",
            "Epoch 144/180\n",
            "99/99 [==============================] - 0s 3ms/step - loss: 0.2827 - wine_quality_loss: 0.2651 - wine_type_loss: 0.0176 - wine_quality_root_mean_squared_error: 0.5149 - wine_type_accuracy: 0.9968 - val_loss: 0.3405 - val_wine_quality_loss: 0.3142 - val_wine_type_loss: 0.0263 - val_wine_quality_root_mean_squared_error: 0.5605 - val_wine_type_accuracy: 0.9962\n",
            "Epoch 145/180\n",
            "99/99 [==============================] - 0s 3ms/step - loss: 0.2827 - wine_quality_loss: 0.2652 - wine_type_loss: 0.0175 - wine_quality_root_mean_squared_error: 0.5150 - wine_type_accuracy: 0.9971 - val_loss: 0.3465 - val_wine_quality_loss: 0.3202 - val_wine_type_loss: 0.0263 - val_wine_quality_root_mean_squared_error: 0.5659 - val_wine_type_accuracy: 0.9962\n",
            "Epoch 146/180\n",
            "99/99 [==============================] - 0s 3ms/step - loss: 0.2822 - wine_quality_loss: 0.2647 - wine_type_loss: 0.0175 - wine_quality_root_mean_squared_error: 0.5145 - wine_type_accuracy: 0.9968 - val_loss: 0.3422 - val_wine_quality_loss: 0.3161 - val_wine_type_loss: 0.0262 - val_wine_quality_root_mean_squared_error: 0.5622 - val_wine_type_accuracy: 0.9962\n",
            "Epoch 147/180\n",
            "99/99 [==============================] - 0s 3ms/step - loss: 0.2817 - wine_quality_loss: 0.2644 - wine_type_loss: 0.0174 - wine_quality_root_mean_squared_error: 0.5142 - wine_type_accuracy: 0.9971 - val_loss: 0.3357 - val_wine_quality_loss: 0.3093 - val_wine_type_loss: 0.0264 - val_wine_quality_root_mean_squared_error: 0.5562 - val_wine_type_accuracy: 0.9962\n",
            "Epoch 148/180\n",
            "99/99 [==============================] - 0s 3ms/step - loss: 0.2808 - wine_quality_loss: 0.2635 - wine_type_loss: 0.0173 - wine_quality_root_mean_squared_error: 0.5133 - wine_type_accuracy: 0.9971 - val_loss: 0.3366 - val_wine_quality_loss: 0.3102 - val_wine_type_loss: 0.0264 - val_wine_quality_root_mean_squared_error: 0.5570 - val_wine_type_accuracy: 0.9962\n",
            "Epoch 149/180\n",
            "99/99 [==============================] - 0s 3ms/step - loss: 0.2814 - wine_quality_loss: 0.2642 - wine_type_loss: 0.0173 - wine_quality_root_mean_squared_error: 0.5140 - wine_type_accuracy: 0.9971 - val_loss: 0.3343 - val_wine_quality_loss: 0.3081 - val_wine_type_loss: 0.0262 - val_wine_quality_root_mean_squared_error: 0.5551 - val_wine_type_accuracy: 0.9962\n",
            "Epoch 150/180\n",
            "99/99 [==============================] - 0s 3ms/step - loss: 0.2807 - wine_quality_loss: 0.2635 - wine_type_loss: 0.0172 - wine_quality_root_mean_squared_error: 0.5133 - wine_type_accuracy: 0.9971 - val_loss: 0.3335 - val_wine_quality_loss: 0.3072 - val_wine_type_loss: 0.0263 - val_wine_quality_root_mean_squared_error: 0.5543 - val_wine_type_accuracy: 0.9962\n",
            "Epoch 151/180\n",
            "99/99 [==============================] - 0s 3ms/step - loss: 0.2799 - wine_quality_loss: 0.2629 - wine_type_loss: 0.0171 - wine_quality_root_mean_squared_error: 0.5127 - wine_type_accuracy: 0.9971 - val_loss: 0.3390 - val_wine_quality_loss: 0.3128 - val_wine_type_loss: 0.0263 - val_wine_quality_root_mean_squared_error: 0.5593 - val_wine_type_accuracy: 0.9962\n",
            "Epoch 152/180\n",
            "99/99 [==============================] - 0s 3ms/step - loss: 0.2805 - wine_quality_loss: 0.2634 - wine_type_loss: 0.0171 - wine_quality_root_mean_squared_error: 0.5132 - wine_type_accuracy: 0.9971 - val_loss: 0.3382 - val_wine_quality_loss: 0.3119 - val_wine_type_loss: 0.0263 - val_wine_quality_root_mean_squared_error: 0.5585 - val_wine_type_accuracy: 0.9962\n",
            "Epoch 153/180\n",
            "99/99 [==============================] - 0s 3ms/step - loss: 0.2798 - wine_quality_loss: 0.2628 - wine_type_loss: 0.0169 - wine_quality_root_mean_squared_error: 0.5127 - wine_type_accuracy: 0.9971 - val_loss: 0.3417 - val_wine_quality_loss: 0.3156 - val_wine_type_loss: 0.0262 - val_wine_quality_root_mean_squared_error: 0.5618 - val_wine_type_accuracy: 0.9962\n",
            "Epoch 154/180\n",
            "99/99 [==============================] - 0s 3ms/step - loss: 0.2776 - wine_quality_loss: 0.2607 - wine_type_loss: 0.0168 - wine_quality_root_mean_squared_error: 0.5106 - wine_type_accuracy: 0.9971 - val_loss: 0.3440 - val_wine_quality_loss: 0.3178 - val_wine_type_loss: 0.0262 - val_wine_quality_root_mean_squared_error: 0.5637 - val_wine_type_accuracy: 0.9962\n",
            "Epoch 155/180\n",
            "99/99 [==============================] - 0s 3ms/step - loss: 0.2786 - wine_quality_loss: 0.2618 - wine_type_loss: 0.0168 - wine_quality_root_mean_squared_error: 0.5116 - wine_type_accuracy: 0.9971 - val_loss: 0.3352 - val_wine_quality_loss: 0.3090 - val_wine_type_loss: 0.0263 - val_wine_quality_root_mean_squared_error: 0.5559 - val_wine_type_accuracy: 0.9962\n",
            "Epoch 156/180\n",
            "99/99 [==============================] - 0s 3ms/step - loss: 0.2778 - wine_quality_loss: 0.2611 - wine_type_loss: 0.0167 - wine_quality_root_mean_squared_error: 0.5110 - wine_type_accuracy: 0.9971 - val_loss: 0.3352 - val_wine_quality_loss: 0.3090 - val_wine_type_loss: 0.0262 - val_wine_quality_root_mean_squared_error: 0.5558 - val_wine_type_accuracy: 0.9962\n",
            "Epoch 157/180\n",
            "99/99 [==============================] - 0s 3ms/step - loss: 0.2780 - wine_quality_loss: 0.2613 - wine_type_loss: 0.0166 - wine_quality_root_mean_squared_error: 0.5112 - wine_type_accuracy: 0.9971 - val_loss: 0.3365 - val_wine_quality_loss: 0.3104 - val_wine_type_loss: 0.0261 - val_wine_quality_root_mean_squared_error: 0.5572 - val_wine_type_accuracy: 0.9962\n",
            "Epoch 158/180\n",
            "99/99 [==============================] - 0s 3ms/step - loss: 0.2773 - wine_quality_loss: 0.2607 - wine_type_loss: 0.0166 - wine_quality_root_mean_squared_error: 0.5105 - wine_type_accuracy: 0.9971 - val_loss: 0.3365 - val_wine_quality_loss: 0.3103 - val_wine_type_loss: 0.0261 - val_wine_quality_root_mean_squared_error: 0.5571 - val_wine_type_accuracy: 0.9962\n",
            "Epoch 159/180\n",
            "99/99 [==============================] - 0s 3ms/step - loss: 0.2761 - wine_quality_loss: 0.2596 - wine_type_loss: 0.0165 - wine_quality_root_mean_squared_error: 0.5095 - wine_type_accuracy: 0.9971 - val_loss: 0.3399 - val_wine_quality_loss: 0.3137 - val_wine_type_loss: 0.0262 - val_wine_quality_root_mean_squared_error: 0.5601 - val_wine_type_accuracy: 0.9962\n",
            "Epoch 160/180\n",
            "99/99 [==============================] - 0s 3ms/step - loss: 0.2763 - wine_quality_loss: 0.2598 - wine_type_loss: 0.0165 - wine_quality_root_mean_squared_error: 0.5097 - wine_type_accuracy: 0.9971 - val_loss: 0.3383 - val_wine_quality_loss: 0.3121 - val_wine_type_loss: 0.0262 - val_wine_quality_root_mean_squared_error: 0.5586 - val_wine_type_accuracy: 0.9962\n",
            "Epoch 161/180\n",
            "99/99 [==============================] - 0s 3ms/step - loss: 0.2757 - wine_quality_loss: 0.2593 - wine_type_loss: 0.0164 - wine_quality_root_mean_squared_error: 0.5093 - wine_type_accuracy: 0.9971 - val_loss: 0.3335 - val_wine_quality_loss: 0.3073 - val_wine_type_loss: 0.0261 - val_wine_quality_root_mean_squared_error: 0.5544 - val_wine_type_accuracy: 0.9962\n",
            "Epoch 162/180\n",
            "99/99 [==============================] - 0s 3ms/step - loss: 0.2758 - wine_quality_loss: 0.2595 - wine_type_loss: 0.0163 - wine_quality_root_mean_squared_error: 0.5094 - wine_type_accuracy: 0.9971 - val_loss: 0.3416 - val_wine_quality_loss: 0.3156 - val_wine_type_loss: 0.0260 - val_wine_quality_root_mean_squared_error: 0.5618 - val_wine_type_accuracy: 0.9962\n",
            "Epoch 163/180\n",
            "99/99 [==============================] - 0s 3ms/step - loss: 0.2748 - wine_quality_loss: 0.2586 - wine_type_loss: 0.0162 - wine_quality_root_mean_squared_error: 0.5085 - wine_type_accuracy: 0.9971 - val_loss: 0.3373 - val_wine_quality_loss: 0.3113 - val_wine_type_loss: 0.0259 - val_wine_quality_root_mean_squared_error: 0.5580 - val_wine_type_accuracy: 0.9962\n",
            "Epoch 164/180\n",
            "99/99 [==============================] - 0s 3ms/step - loss: 0.2744 - wine_quality_loss: 0.2581 - wine_type_loss: 0.0162 - wine_quality_root_mean_squared_error: 0.5081 - wine_type_accuracy: 0.9971 - val_loss: 0.3373 - val_wine_quality_loss: 0.3111 - val_wine_type_loss: 0.0261 - val_wine_quality_root_mean_squared_error: 0.5578 - val_wine_type_accuracy: 0.9962\n",
            "Epoch 165/180\n",
            "99/99 [==============================] - 0s 3ms/step - loss: 0.2743 - wine_quality_loss: 0.2582 - wine_type_loss: 0.0161 - wine_quality_root_mean_squared_error: 0.5081 - wine_type_accuracy: 0.9971 - val_loss: 0.3603 - val_wine_quality_loss: 0.3342 - val_wine_type_loss: 0.0261 - val_wine_quality_root_mean_squared_error: 0.5781 - val_wine_type_accuracy: 0.9962\n",
            "Epoch 166/180\n",
            "99/99 [==============================] - 0s 3ms/step - loss: 0.2739 - wine_quality_loss: 0.2579 - wine_type_loss: 0.0160 - wine_quality_root_mean_squared_error: 0.5079 - wine_type_accuracy: 0.9971 - val_loss: 0.3511 - val_wine_quality_loss: 0.3249 - val_wine_type_loss: 0.0262 - val_wine_quality_root_mean_squared_error: 0.5700 - val_wine_type_accuracy: 0.9962\n",
            "Epoch 167/180\n",
            "99/99 [==============================] - 0s 3ms/step - loss: 0.2732 - wine_quality_loss: 0.2572 - wine_type_loss: 0.0159 - wine_quality_root_mean_squared_error: 0.5072 - wine_type_accuracy: 0.9971 - val_loss: 0.3452 - val_wine_quality_loss: 0.3190 - val_wine_type_loss: 0.0262 - val_wine_quality_root_mean_squared_error: 0.5648 - val_wine_type_accuracy: 0.9962\n",
            "Epoch 168/180\n",
            "99/99 [==============================] - 0s 3ms/step - loss: 0.2735 - wine_quality_loss: 0.2576 - wine_type_loss: 0.0159 - wine_quality_root_mean_squared_error: 0.5075 - wine_type_accuracy: 0.9971 - val_loss: 0.3391 - val_wine_quality_loss: 0.3129 - val_wine_type_loss: 0.0262 - val_wine_quality_root_mean_squared_error: 0.5593 - val_wine_type_accuracy: 0.9962\n",
            "Epoch 169/180\n",
            "99/99 [==============================] - 0s 3ms/step - loss: 0.2731 - wine_quality_loss: 0.2572 - wine_type_loss: 0.0159 - wine_quality_root_mean_squared_error: 0.5071 - wine_type_accuracy: 0.9971 - val_loss: 0.3360 - val_wine_quality_loss: 0.3098 - val_wine_type_loss: 0.0262 - val_wine_quality_root_mean_squared_error: 0.5566 - val_wine_type_accuracy: 0.9962\n",
            "Epoch 170/180\n",
            "99/99 [==============================] - 0s 3ms/step - loss: 0.2727 - wine_quality_loss: 0.2569 - wine_type_loss: 0.0158 - wine_quality_root_mean_squared_error: 0.5068 - wine_type_accuracy: 0.9971 - val_loss: 0.3433 - val_wine_quality_loss: 0.3170 - val_wine_type_loss: 0.0263 - val_wine_quality_root_mean_squared_error: 0.5631 - val_wine_type_accuracy: 0.9962\n",
            "Epoch 171/180\n",
            "99/99 [==============================] - 0s 3ms/step - loss: 0.2731 - wine_quality_loss: 0.2573 - wine_type_loss: 0.0157 - wine_quality_root_mean_squared_error: 0.5073 - wine_type_accuracy: 0.9971 - val_loss: 0.3340 - val_wine_quality_loss: 0.3080 - val_wine_type_loss: 0.0261 - val_wine_quality_root_mean_squared_error: 0.5549 - val_wine_type_accuracy: 0.9962\n",
            "Epoch 172/180\n",
            "99/99 [==============================] - 0s 3ms/step - loss: 0.2712 - wine_quality_loss: 0.2555 - wine_type_loss: 0.0157 - wine_quality_root_mean_squared_error: 0.5055 - wine_type_accuracy: 0.9971 - val_loss: 0.3440 - val_wine_quality_loss: 0.3179 - val_wine_type_loss: 0.0261 - val_wine_quality_root_mean_squared_error: 0.5639 - val_wine_type_accuracy: 0.9962\n",
            "Epoch 173/180\n",
            "99/99 [==============================] - 0s 3ms/step - loss: 0.2717 - wine_quality_loss: 0.2561 - wine_type_loss: 0.0156 - wine_quality_root_mean_squared_error: 0.5061 - wine_type_accuracy: 0.9971 - val_loss: 0.3374 - val_wine_quality_loss: 0.3111 - val_wine_type_loss: 0.0263 - val_wine_quality_root_mean_squared_error: 0.5578 - val_wine_type_accuracy: 0.9962\n",
            "Epoch 174/180\n",
            "99/99 [==============================] - 0s 3ms/step - loss: 0.2722 - wine_quality_loss: 0.2567 - wine_type_loss: 0.0156 - wine_quality_root_mean_squared_error: 0.5066 - wine_type_accuracy: 0.9971 - val_loss: 0.3309 - val_wine_quality_loss: 0.3047 - val_wine_type_loss: 0.0262 - val_wine_quality_root_mean_squared_error: 0.5520 - val_wine_type_accuracy: 0.9962\n",
            "Epoch 175/180\n",
            "99/99 [==============================] - 0s 3ms/step - loss: 0.2704 - wine_quality_loss: 0.2551 - wine_type_loss: 0.0153 - wine_quality_root_mean_squared_error: 0.5051 - wine_type_accuracy: 0.9971 - val_loss: 0.3379 - val_wine_quality_loss: 0.3114 - val_wine_type_loss: 0.0265 - val_wine_quality_root_mean_squared_error: 0.5580 - val_wine_type_accuracy: 0.9962\n",
            "Epoch 176/180\n",
            "99/99 [==============================] - 0s 3ms/step - loss: 0.2715 - wine_quality_loss: 0.2561 - wine_type_loss: 0.0154 - wine_quality_root_mean_squared_error: 0.5061 - wine_type_accuracy: 0.9971 - val_loss: 0.3352 - val_wine_quality_loss: 0.3089 - val_wine_type_loss: 0.0263 - val_wine_quality_root_mean_squared_error: 0.5558 - val_wine_type_accuracy: 0.9962\n",
            "Epoch 177/180\n",
            "99/99 [==============================] - 0s 3ms/step - loss: 0.2699 - wine_quality_loss: 0.2545 - wine_type_loss: 0.0154 - wine_quality_root_mean_squared_error: 0.5045 - wine_type_accuracy: 0.9971 - val_loss: 0.3347 - val_wine_quality_loss: 0.3085 - val_wine_type_loss: 0.0263 - val_wine_quality_root_mean_squared_error: 0.5554 - val_wine_type_accuracy: 0.9962\n",
            "Epoch 178/180\n",
            "99/99 [==============================] - 0s 3ms/step - loss: 0.2697 - wine_quality_loss: 0.2543 - wine_type_loss: 0.0153 - wine_quality_root_mean_squared_error: 0.5043 - wine_type_accuracy: 0.9971 - val_loss: 0.3378 - val_wine_quality_loss: 0.3114 - val_wine_type_loss: 0.0263 - val_wine_quality_root_mean_squared_error: 0.5581 - val_wine_type_accuracy: 0.9962\n",
            "Epoch 179/180\n",
            "99/99 [==============================] - 0s 3ms/step - loss: 0.2698 - wine_quality_loss: 0.2546 - wine_type_loss: 0.0152 - wine_quality_root_mean_squared_error: 0.5046 - wine_type_accuracy: 0.9971 - val_loss: 0.3396 - val_wine_quality_loss: 0.3133 - val_wine_type_loss: 0.0262 - val_wine_quality_root_mean_squared_error: 0.5598 - val_wine_type_accuracy: 0.9962\n",
            "Epoch 180/180\n",
            "99/99 [==============================] - 0s 3ms/step - loss: 0.2691 - wine_quality_loss: 0.2540 - wine_type_loss: 0.0151 - wine_quality_root_mean_squared_error: 0.5040 - wine_type_accuracy: 0.9971 - val_loss: 0.3496 - val_wine_quality_loss: 0.3232 - val_wine_type_loss: 0.0264 - val_wine_quality_root_mean_squared_error: 0.5685 - val_wine_type_accuracy: 0.9962\n"
          ]
        }
      ],
      "source": [
        "# Please uncomment all lines in this cell and replace those marked with `# YOUR CODE HERE`.\n",
        "# You can select all lines in this code cell with Ctrl+A (Windows/Linux) or Cmd+A (Mac), then press Ctrl+/ (Windows/Linux) or Cmd+/ (Mac) to uncomment.\n",
        "\n",
        "\n",
        "\n",
        "history = model.fit(norm_train_X, train_Y,\n",
        "                    epochs = 180, validation_data=(norm_val_X, val_Y))"
      ]
    },
    {
      "cell_type": "code",
      "execution_count": null,
      "metadata": {
        "deletable": false,
        "editable": false,
        "nbgrader": {
          "cell_type": "code",
          "checksum": "fadad8896eda9c8c2115970724b15508",
          "grade": true,
          "grade_id": "cell-eb4d5b41bef8f0ab",
          "locked": true,
          "points": 1,
          "schema_version": 3,
          "solution": false,
          "task": false
        },
        "id": "OwC_selg6sO4"
      },
      "outputs": [],
      "source": [
        "utils.test_history(history)"
      ]
    },
    {
      "cell_type": "code",
      "execution_count": 44,
      "metadata": {
        "id": "CubF2J2gSf6q",
        "outputId": "c6b1799e-beb3-48cc-a13f-01b4bd330560",
        "colab": {
          "base_uri": "https://localhost:8080/"
        }
      },
      "outputs": [
        {
          "output_type": "stream",
          "name": "stdout",
          "text": [
            "25/25 [==============================] - 0s 2ms/step - loss: 0.3496 - wine_quality_loss: 0.3232 - wine_type_loss: 0.0264 - wine_quality_root_mean_squared_error: 0.5685 - wine_type_accuracy: 0.9962\n",
            "\n",
            "loss: 0.3496188521385193\n",
            "wine_quality_loss: 0.32322728633880615\n",
            "wine_type_loss: 0.026391619816422462\n",
            "wine_quality_rmse: 0.568530797958374\n",
            "wine_type_accuracy: 0.9961977005004883\n"
          ]
        }
      ],
      "source": [
        "# Gather the training metrics\n",
        "loss, wine_quality_loss, wine_type_loss, wine_quality_rmse, wine_type_accuracy = model.evaluate(x=norm_val_X, y=val_Y)\n",
        "\n",
        "print()\n",
        "print(f'loss: {loss}')\n",
        "print(f'wine_quality_loss: {wine_quality_loss}')\n",
        "print(f'wine_type_loss: {wine_type_loss}')\n",
        "print(f'wine_quality_rmse: {wine_quality_rmse}')\n",
        "print(f'wine_type_accuracy: {wine_type_accuracy}')\n",
        "\n",
        "# EXPECTED VALUES\n",
        "# ~ 0.30 - 0.38\n",
        "# ~ 0.30 - 0.38\n",
        "# ~ 0.018 - 0.030\n",
        "# ~ 0.50 - 0.62\n",
        "# ~ 0.97 - 1.0\n",
        "\n",
        "# Example:\n",
        "#0.3657050132751465\n",
        "#0.3463745415210724\n",
        "#0.019330406561493874\n",
        "#0.5885359048843384\n",
        "#0.9974651336669922"
      ]
    },
    {
      "cell_type": "markdown",
      "metadata": {
        "id": "gPtTGAP4usnm"
      },
      "source": [
        "## Analyze the Model Performance\n",
        "\n",
        "Note that the model has two outputs. The output at index 0 is quality and index 1 is wine type\n",
        "\n",
        "So, round the quality predictions to the nearest integer."
      ]
    },
    {
      "cell_type": "code",
      "execution_count": 45,
      "metadata": {
        "id": "tBq9PEeAaW-Y"
      },
      "outputs": [],
      "source": [
        "predictions = model.predict(norm_test_X)\n",
        "quality_pred = predictions[0]\n",
        "type_pred = predictions[1]"
      ]
    },
    {
      "cell_type": "code",
      "execution_count": 46,
      "metadata": {
        "id": "YLhgTR4xTIxj",
        "colab": {
          "base_uri": "https://localhost:8080/"
        },
        "outputId": "68eaa113-a277-407f-ce02-911fe7301d77"
      },
      "outputs": [
        {
          "output_type": "stream",
          "name": "stdout",
          "text": [
            "[5.909675]\n"
          ]
        }
      ],
      "source": [
        "print(quality_pred[0])\n",
        "\n",
        "# EXPECTED OUTPUT\n",
        "# 5.6 - 6.0"
      ]
    },
    {
      "cell_type": "code",
      "execution_count": 47,
      "metadata": {
        "id": "MPi-eYfGTUXi",
        "colab": {
          "base_uri": "https://localhost:8080/"
        },
        "outputId": "34b37a2b-e500-468c-990f-504ff4928f09"
      },
      "outputs": [
        {
          "output_type": "stream",
          "name": "stdout",
          "text": [
            "[0.00021127]\n",
            "[0.9999895]\n"
          ]
        }
      ],
      "source": [
        "print(type_pred[0])\n",
        "print(type_pred[944])\n",
        "\n",
        "# EXPECTED OUTPUT\n",
        "# A number close to zero\n",
        "# A number close to or equal to 1"
      ]
    },
    {
      "cell_type": "markdown",
      "metadata": {
        "id": "Kohk-9C6vt_s"
      },
      "source": [
        "### Plot Utilities\n",
        "\n",
        "We define a few utilities to visualize the model performance."
      ]
    },
    {
      "cell_type": "code",
      "execution_count": 48,
      "metadata": {
        "id": "62gEOFUhn6aQ"
      },
      "outputs": [],
      "source": [
        "def plot_metrics(metric_name, title, ylim=5):\n",
        "    plt.title(title)\n",
        "    plt.ylim(0,ylim)\n",
        "    plt.plot(history.history[metric_name],color='blue',label=metric_name)\n",
        "    plt.plot(history.history['val_' + metric_name],color='green',label='val_' + metric_name)\n"
      ]
    },
    {
      "cell_type": "code",
      "execution_count": 49,
      "metadata": {
        "id": "6rfgSx7uz5dj"
      },
      "outputs": [],
      "source": [
        "def plot_confusion_matrix(y_true, y_pred, title='', labels=[0,1]):\n",
        "    cm = confusion_matrix(y_true, y_pred)\n",
        "    fig = plt.figure()\n",
        "    ax = fig.add_subplot(111)\n",
        "    cax = ax.matshow(cm)\n",
        "    plt.title('Confusion matrix of the classifier')\n",
        "    fig.colorbar(cax)\n",
        "    ax.set_xticklabels([''] + labels)\n",
        "    ax.set_yticklabels([''] + labels)\n",
        "    plt.xlabel('Predicted')\n",
        "    plt.ylabel('True')\n",
        "    fmt = 'd'\n",
        "    thresh = cm.max() / 2.\n",
        "    for i, j in itertools.product(range(cm.shape[0]), range(cm.shape[1])):\n",
        "          plt.text(j, i, format(cm[i, j], fmt),\n",
        "                  horizontalalignment=\"center\",\n",
        "                  color=\"black\" if cm[i, j] > thresh else \"white\")\n",
        "    plt.show()"
      ]
    },
    {
      "cell_type": "code",
      "execution_count": 50,
      "metadata": {
        "id": "dfVLIqi017Vf"
      },
      "outputs": [],
      "source": [
        "def plot_diff(y_true, y_pred, title = '' ):\n",
        "    plt.scatter(y_true, y_pred)\n",
        "    plt.title(title)\n",
        "    plt.xlabel('True Values')\n",
        "    plt.ylabel('Predictions')\n",
        "    plt.axis('equal')\n",
        "    plt.axis('square')\n",
        "    plt.plot([-100, 100], [-100, 100])\n",
        "    return plt"
      ]
    },
    {
      "cell_type": "markdown",
      "metadata": {
        "id": "8sd1jdFbwE0I"
      },
      "source": [
        "### Plots for Metrics"
      ]
    },
    {
      "cell_type": "code",
      "execution_count": 51,
      "metadata": {
        "id": "f3MwZ5J1pOfj",
        "colab": {
          "base_uri": "https://localhost:8080/",
          "height": 281
        },
        "outputId": "1fd4cad6-c5a5-4c5c-835c-95434ae996e8"
      },
      "outputs": [
        {
          "output_type": "display_data",
          "data": {
            "image/png": "[encoded data removed]",
            "text/plain": [
              "<Figure size 432x288 with 1 Axes>"
            ]
          },
          "metadata": {
            "needs_background": "light"
          }
        }
      ],
      "source": [
        "plot_metrics('wine_quality_root_mean_squared_error', 'RMSE', ylim=2)"
      ]
    },
    {
      "cell_type": "code",
      "execution_count": 52,
      "metadata": {
        "id": "QIAxEezCppnd",
        "colab": {
          "base_uri": "https://localhost:8080/",
          "height": 281
        },
        "outputId": "4f7d8bb3-4aef-4ab7-e7d7-07d41060afd0"
      },
      "outputs": [
        {
          "output_type": "display_data",
          "data": {
            "image/png": "[encoded data removed]",
            "text/plain": [
              "<Figure size 432x288 with 1 Axes>"
            ]
          },
          "metadata": {
            "needs_background": "light"
          }
        }
      ],
      "source": [
        "plot_metrics('wine_type_loss', 'Wine Type Loss', ylim=0.2)"
      ]
    },
    {
      "cell_type": "markdown",
      "metadata": {
        "id": "uYV9AOAMwI9p"
      },
      "source": [
        "### Plots for Confusion Matrix\n",
        "\n",
        "Plot the confusion matrices for wine type. You can see that the model performs well for prediction of wine type from the confusion matrix and the loss metrics."
      ]
    },
    {
      "cell_type": "code",
      "execution_count": 53,
      "metadata": {
        "id": "C3hvTYxIaf3n",
        "colab": {
          "base_uri": "https://localhost:8080/",
          "height": 289
        },
        "outputId": "a6056757-25d3-4ced-dfd8-e6e70e3ed83d"
      },
      "outputs": [
        {
          "output_type": "display_data",
          "data": {
            "image/png": "[encoded data removed]",
            "text/plain": [
              "<Figure size 432x288 with 2 Axes>"
            ]
          },
          "metadata": {
            "needs_background": "light"
          }
        }
      ],
      "source": [
        "plot_confusion_matrix(test_Y[1], np.round(type_pred), title='Wine Type', labels = [0, 1])"
      ]
    },
    {
      "cell_type": "code",
      "execution_count": 54,
      "metadata": {
        "id": "GW91ym8P2I5y",
        "colab": {
          "base_uri": "https://localhost:8080/",
          "height": 295
        },
        "outputId": "9ed97596-8072-49a2-c65d-6139d0f41770"
      },
      "outputs": [
        {
          "output_type": "display_data",
          "data": {
            "image/png": "[encoded data removed]",
            "text/plain": [
              "<Figure size 432x288 with 1 Axes>"
            ]
          },
          "metadata": {
            "needs_background": "light"
          }
        }
      ],
      "source": [
        "scatter_plot = plot_diff(test_Y[0], quality_pred, title='Type')"
      ]
    }
  ],
  "metadata": {
    "colab": {
      "name": "exercise-answer.ipynb",
      "provenance": []
    },
    "kernelspec": {
      "display_name": "Python 3",
      "language": "python",
      "name": "python3"
    },
    "language_info": {
      "codemirror_mode": {
        "name": "ipython",
        "version": 3
      },
      "file_extension": ".py",
      "mimetype": "text/x-python",
      "name": "python",
      "nbconvert_exporter": "python",
      "pygments_lexer": "ipython3",
      "version": "3.7.6"
    }
  },
  "nbformat": 4,
  "nbformat_minor": 0
}