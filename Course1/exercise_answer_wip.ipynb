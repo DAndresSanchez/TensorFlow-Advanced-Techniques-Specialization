{
  "cells": [
    {
      "cell_type": "markdown",
      "metadata": {
        "id": "ZL_6GK8qX35J"
      },
      "source": [
        "\n",
        "\n",
        "# Week 1: Multiple Output Models using the Keras Functional API\n",
        "\n",
        "Welcome to the first programming assignment of the course! Your task will be to use the Keras functional API to train a model to predict two outputs. For this lab, you will use the **[Wine Quality Dataset](https://archive.ics.uci.edu/ml/datasets/Wine+Quality)** from the **UCI machine learning repository**. It has separate datasets for red wine and white wine.\n",
        "\n",
        "Normally, the wines are classified into one of the quality ratings specified in the attributes. In this exercise, you will combine the two datasets to predict the wine quality and whether the wine is red or white solely from the attributes. \n",
        "\n",
        "You will model wine quality estimations as a regression problem and wine type detection as a binary classification problem.\n",
        "\n",
        "#### Please complete sections that are marked **(TODO)**"
      ]
    },
    {
      "cell_type": "markdown",
      "metadata": {
        "id": "obdcD6urYBY9"
      },
      "source": [
        "## Imports"
      ]
    },
    {
      "cell_type": "code",
      "execution_count": 63,
      "metadata": {
        "id": "t8N3pcTQ5oQI"
      },
      "outputs": [],
      "source": [
        "import tensorflow as tf\n",
        "from tensorflow.keras.models import Model\n",
        "from tensorflow.keras.layers import Dense, Input\n",
        "\n",
        "import numpy as np\n",
        "import matplotlib.pyplot as plt\n",
        "import pandas as pd\n",
        "from sklearn.model_selection import train_test_split\n",
        "from sklearn.metrics import confusion_matrix\n",
        "import itertools\n",
        "\n",
        "import utils"
      ]
    },
    {
      "cell_type": "markdown",
      "metadata": {
        "id": "gQMERzWQYpgm"
      },
      "source": [
        "## Load Dataset\n",
        "\n",
        "\n",
        "You will now download the dataset from the [UCI Machine Learning Repository](https://archive.ics.uci.edu/ml/index.php). \n",
        "\n",
        "### Pre-process the white wine dataset (TODO)\n",
        "You will add a new column named `is_red` in your dataframe to indicate if the wine is white or red. \n",
        "- In the white wine dataset, you will fill the column `is_red` with  zeros (0)."
      ]
    },
    {
      "cell_type": "code",
      "execution_count": 64,
      "metadata": {
        "deletable": false,
        "id": "2qYAjKXCd4RH",
        "nbgrader": {
          "cell_type": "code",
          "checksum": "cb9f284ba6255170fe04a309a407d72d",
          "grade": false,
          "grade_id": "cell-e5bfa0f152d9a21f",
          "locked": false,
          "schema_version": 3,
          "solution": true,
          "task": false
        }
      },
      "outputs": [],
      "source": [
        "# Please uncomment all lines in this cell and replace those marked with `# YOUR CODE HERE`.\n",
        "# You can select all lines in this code cell with Ctrl+A (Windows/Linux) or Cmd+A (Mac), then press Ctrl+/ (Windows/Linux) or Cmd+/ (Mac) to uncomment.\n",
        "\n",
        "\n",
        "\n",
        "# URL of the white wine dataset\n",
        "URL = 'http://archive.ics.uci.edu/ml/machine-learning-databases/wine-quality/winequality-white.csv'\n",
        "\n",
        "# load the dataset from the URL\n",
        "white_df = pd.read_csv(URL, sep=\";\")\n",
        "\n",
        "# fill the `is_red` column with zeros.\n",
        "white_df['is_red'] = 0\n",
        "\n",
        "# keep only the first of duplicate items\n",
        "white_df = white_df.drop_duplicates(keep='first')\n"
      ]
    },
    {
      "cell_type": "code",
      "execution_count": 65,
      "metadata": {
        "deletable": false,
        "editable": false,
        "nbgrader": {
          "cell_type": "code",
          "checksum": "defe38d6ec58fd31cd67b89e46c4373f",
          "grade": true,
          "grade_id": "cell-30575e713b55fc51",
          "locked": true,
          "points": 1,
          "schema_version": 3,
          "solution": false,
          "task": false
        },
        "id": "rl-VRDbI6sOs",
        "outputId": "c45c6525-5578-454c-86e2-281fa84c3aeb",
        "colab": {
          "base_uri": "https://localhost:8080/"
        }
      },
      "outputs": [
        {
          "output_type": "stream",
          "name": "stdout",
          "text": [
            "\u001b[92m All public tests passed\n"
          ]
        }
      ],
      "source": [
        "# You can click `File -> Open` in the menu above and open the `utils.py` file \n",
        "# in case you want to inspect the unit tests being used for each graded function.\n",
        "\n",
        "utils.test_white_df(white_df)\n"
      ]
    },
    {
      "cell_type": "code",
      "execution_count": 66,
      "metadata": {
        "id": "OQHK0ohBQRCk",
        "outputId": "adb41d66-a1ec-4200-bc2c-ff4f08057fdd",
        "colab": {
          "base_uri": "https://localhost:8080/"
        }
      },
      "outputs": [
        {
          "output_type": "stream",
          "name": "stdout",
          "text": [
            "8.8\n",
            "9.1\n"
          ]
        }
      ],
      "source": [
        "print(white_df.alcohol[0])\n",
        "print(white_df.alcohol[100])\n",
        "\n",
        "# EXPECTED OUTPUT\n",
        "# 8.8\n",
        "# 9.1"
      ]
    },
    {
      "cell_type": "markdown",
      "metadata": {
        "id": "cdqVDLAh6sOw"
      },
      "source": [
        "### Pre-process the red wine dataset (TODO)\n",
        "- In the red wine dataset, you will fill in the column `is_red` with ones (1)."
      ]
    },
    {
      "cell_type": "code",
      "execution_count": 67,
      "metadata": {
        "deletable": false,
        "id": "8y3QxKwBed8v",
        "nbgrader": {
          "cell_type": "code",
          "checksum": "be72275f78e2c2d0038dde9aa63f8d4f",
          "grade": false,
          "grade_id": "cell-e47a40f306593274",
          "locked": false,
          "schema_version": 3,
          "solution": true,
          "task": false
        }
      },
      "outputs": [],
      "source": [
        "# Please uncomment all lines in this cell and replace those marked with `# YOUR CODE HERE`.\n",
        "# You can select all lines in this code cell with Ctrl+A (Windows/Linux) or Cmd+A (Mac), then press Ctrl+/ (Windows/Linux) or Cmd+/ (Mac) to uncomment.\n",
        "\n",
        "\n",
        "\n",
        "# URL of the red wine dataset\n",
        "URL = 'http://archive.ics.uci.edu/ml/machine-learning-databases/wine-quality/winequality-red.csv'\n",
        "\n",
        "# load the dataset from the URL\n",
        "red_df = pd.read_csv(URL, sep=\";\")\n",
        "\n",
        "# fill the `is_red` column with ones.\n",
        "red_df['is_red'] = 1\n",
        "\n",
        "# keep only the first of duplicate items\n",
        "red_df = red_df.drop_duplicates(keep='first')\n"
      ]
    },
    {
      "cell_type": "code",
      "execution_count": 68,
      "metadata": {
        "deletable": false,
        "editable": false,
        "nbgrader": {
          "cell_type": "code",
          "checksum": "d8e0c91b0fd668b63ba74a8f2f958b59",
          "grade": true,
          "grade_id": "cell-2a75937adcc0c25b",
          "locked": true,
          "points": 1,
          "schema_version": 3,
          "solution": false,
          "task": false
        },
        "id": "Jdm3Z52z6sOx",
        "outputId": "1968fe47-f5a6-4254-b28b-c05846ed5f28",
        "colab": {
          "base_uri": "https://localhost:8080/"
        }
      },
      "outputs": [
        {
          "output_type": "stream",
          "name": "stdout",
          "text": [
            "\u001b[92m All public tests passed\n"
          ]
        }
      ],
      "source": [
        "utils.test_red_df(red_df)\n"
      ]
    },
    {
      "cell_type": "code",
      "execution_count": 69,
      "metadata": {
        "id": "zsB3LUzNQpo_",
        "outputId": "a17a6759-b5e2-4e8d-e2b8-31d2332c1bee",
        "colab": {
          "base_uri": "https://localhost:8080/"
        }
      },
      "outputs": [
        {
          "output_type": "stream",
          "name": "stdout",
          "text": [
            "9.4\n",
            "10.2\n"
          ]
        }
      ],
      "source": [
        "print(red_df.alcohol[0])\n",
        "print(red_df.alcohol[100])\n",
        "\n",
        "# EXPECTED OUTPUT\n",
        "# 9.4\n",
        "# 10.2"
      ]
    },
    {
      "cell_type": "markdown",
      "metadata": {
        "id": "2G8B-NYuM6-f"
      },
      "source": [
        "### Concatenate the datasets\n",
        "\n",
        "Next, concatenate the red and white wine dataframes."
      ]
    },
    {
      "cell_type": "code",
      "execution_count": 70,
      "metadata": {
        "id": "YpQrOjJbfN3m"
      },
      "outputs": [],
      "source": [
        "df = pd.concat([red_df, white_df], ignore_index=True, axis=0)"
      ]
    },
    {
      "cell_type": "code",
      "execution_count": 71,
      "metadata": {
        "id": "Se2dTmThQyjb",
        "outputId": "678324c0-cce1-4d92-fbea-dd0893e0491d",
        "colab": {
          "base_uri": "https://localhost:8080/"
        }
      },
      "outputs": [
        {
          "output_type": "stream",
          "name": "stdout",
          "text": [
            "9.4\n",
            "9.5\n"
          ]
        }
      ],
      "source": [
        "print(df.alcohol[0])\n",
        "print(df.alcohol[100])\n",
        "\n",
        "# EXPECTED OUTPUT\n",
        "# 9.4\n",
        "# 9.5"
      ]
    },
    {
      "cell_type": "code",
      "execution_count": 72,
      "metadata": {
        "id": "wx6y3rPpQv4k"
      },
      "outputs": [],
      "source": [
        "# NOTE: In a real-world scenario, you should shuffle the data.\n",
        "# YOU ARE NOT going to do that here because we want to test\n",
        "# with deterministic data. But if you want the code to do it,\n",
        "# it's in the commented line below:\n",
        "\n",
        "#df = df.iloc[np.random.permutation(len(df))]"
      ]
    },
    {
      "cell_type": "markdown",
      "metadata": {
        "id": "-EqIcbg5M_n1"
      },
      "source": [
        "This will chart the quality of the wines."
      ]
    },
    {
      "cell_type": "code",
      "execution_count": 73,
      "metadata": {
        "id": "IsvK0-Sgy17C",
        "outputId": "942e42d2-31f7-4221-b686-6dfe5464d41e",
        "colab": {
          "base_uri": "https://localhost:8080/",
          "height": 265
        }
      },
      "outputs": [
        {
          "output_type": "display_data",
          "data": {
            "image/png": "[encoded data removed]",
            "text/plain": [
              "<Figure size 432x288 with 1 Axes>"
            ]
          },
          "metadata": {
            "needs_background": "light"
          }
        }
      ],
      "source": [
        "df['quality'].hist(bins=20);"
      ]
    },
    {
      "cell_type": "markdown",
      "metadata": {
        "id": "Nut1rmYLzf-p"
      },
      "source": [
        "### Imbalanced data (TODO)\n",
        "You can see from the plot above that the wine quality dataset is imbalanced. \n",
        "- Since there are very few observations with quality equal to 3, 4, 8 and 9, you can drop these observations from your dataset. \n",
        "- You can do this by removing data belonging to all classes except those > 4 and < 8."
      ]
    },
    {
      "cell_type": "code",
      "execution_count": 74,
      "metadata": {
        "deletable": false,
        "id": "doH9_-gnf3sz",
        "nbgrader": {
          "cell_type": "code",
          "checksum": "d9ba9fc3a3ca02ccc567be33652b80fe",
          "grade": false,
          "grade_id": "cell-6a3e9db696f6827b",
          "locked": false,
          "schema_version": 3,
          "solution": true,
          "task": false
        }
      },
      "outputs": [],
      "source": [
        "# Please uncomment all lines in this cell and replace those marked with `# YOUR CODE HERE`.\n",
        "# You can select all lines in this code cell with Ctrl+A (Windows/Linux) or Cmd+A (Mac), then press Ctrl+/ (Windows/Linux) or Cmd+/ (Mac) to uncomment.\n",
        "\n",
        "\n",
        "\n",
        "# get data with wine quality greater than 4 and less than 8\n",
        "df = df[(df['quality'] > 4) & (df['quality'] < 8)]\n",
        "\n",
        "# reset index and drop the old one\n",
        "df.reset_index(drop=True, inplace=True)"
      ]
    },
    {
      "cell_type": "code",
      "execution_count": 75,
      "metadata": {
        "deletable": false,
        "editable": false,
        "nbgrader": {
          "cell_type": "code",
          "checksum": "281e1d86a4803560ed5892cd7eda4c01",
          "grade": true,
          "grade_id": "cell-aed3da719d4682c7",
          "locked": true,
          "points": 1,
          "schema_version": 3,
          "solution": false,
          "task": false
        },
        "id": "wyf1Dr0f6sO0",
        "outputId": "601c8808-21f3-4e00-f558-87e09399753e",
        "colab": {
          "base_uri": "https://localhost:8080/"
        }
      },
      "outputs": [
        {
          "output_type": "stream",
          "name": "stdout",
          "text": [
            "\u001b[92m All public tests passed\n"
          ]
        }
      ],
      "source": [
        "utils.test_df_drop(df)\n",
        "\n"
      ]
    },
    {
      "cell_type": "code",
      "execution_count": 76,
      "metadata": {
        "id": "xNR1iAlMRPXO",
        "outputId": "2ff78dd4-8b7b-4632-a7c6-05db0418c132",
        "colab": {
          "base_uri": "https://localhost:8080/"
        }
      },
      "outputs": [
        {
          "output_type": "stream",
          "name": "stdout",
          "text": [
            "9.4\n",
            "10.9\n"
          ]
        }
      ],
      "source": [
        "print(df.alcohol[0])\n",
        "print(df.alcohol[100])\n",
        "\n",
        "# EXPECTED OUTPUT\n",
        "# 9.4\n",
        "# 10.9"
      ]
    },
    {
      "cell_type": "markdown",
      "metadata": {
        "id": "cwhuRpnVRTzG"
      },
      "source": [
        "You can plot again to see the new range of data and quality"
      ]
    },
    {
      "cell_type": "code",
      "execution_count": 77,
      "metadata": {
        "id": "857ygzZiLgGg",
        "outputId": "626724fd-8e00-470f-ae40-c3da5cfae37d",
        "colab": {
          "base_uri": "https://localhost:8080/",
          "height": 265
        }
      },
      "outputs": [
        {
          "output_type": "display_data",
          "data": {
            "image/png": "[encoded data removed]",
            "text/plain": [
              "<Figure size 432x288 with 1 Axes>"
            ]
          },
          "metadata": {
            "needs_background": "light"
          }
        }
      ],
      "source": [
        "df['quality'].hist(bins=20);"
      ]
    },
    {
      "cell_type": "markdown",
      "metadata": {
        "id": "n3k0vqSsp84t"
      },
      "source": [
        "### Train Test Split (TODO)\n",
        "\n",
        "Next, you can split the datasets into training, test and validation datasets.\n",
        "- The data frame should be split 80:20 into `train` and `test` sets.\n",
        "- The resulting `train` should then be split 80:20 into `train` and `val` sets.\n",
        "- The `train_test_split` parameter `test_size` takes a float value that ranges between 0. and 1, and represents the proportion of the dataset that is allocated to the test set.  The rest of the data is allocated to the training set."
      ]
    },
    {
      "cell_type": "code",
      "execution_count": 78,
      "metadata": {
        "deletable": false,
        "id": "PAVIf2-fgRVY",
        "nbgrader": {
          "cell_type": "code",
          "checksum": "7f5738f4fb51d65adc9a8acbdf2b9970",
          "grade": false,
          "grade_id": "cell-91946cadf745206b",
          "locked": false,
          "schema_version": 3,
          "solution": true,
          "task": false
        }
      },
      "outputs": [],
      "source": [
        "# Please uncomment all lines in this cell and replace those marked with `# YOUR CODE HERE`.\n",
        "# You can select all lines in this code cell with Ctrl+A (Windows/Linux) or Cmd+A (Mac), then press Ctrl+/ (Windows/Linux) or Cmd+/ (Mac) to uncomment.\n",
        "\n",
        "\n",
        "\n",
        "# Please do not change the random_state parameter. This is needed for grading.\n",
        "\n",
        "# split df into 80:20 train and test sets\n",
        "train, test = train_test_split(df, test_size=0.2, random_state=1)\n",
        "                               \n",
        "# split train into 80:20 train and val sets\n",
        "train, val = train_test_split(train, test_size=0.2, random_state=1)"
      ]
    },
    {
      "cell_type": "code",
      "execution_count": 79,
      "metadata": {
        "deletable": false,
        "editable": false,
        "id": "57h9LcEzRWpk",
        "nbgrader": {
          "cell_type": "code",
          "checksum": "42adbe9e66efac7c7a5f8cd73ac92f22",
          "grade": true,
          "grade_id": "cell-64b8b38cd0b965f6",
          "locked": true,
          "points": 1,
          "schema_version": 3,
          "solution": false,
          "task": false
        },
        "outputId": "816a4fd3-caa5-407e-b997-3f0f57486769",
        "colab": {
          "base_uri": "https://localhost:8080/"
        }
      },
      "outputs": [
        {
          "output_type": "stream",
          "name": "stdout",
          "text": [
            "\u001b[92m All public tests passed\n"
          ]
        }
      ],
      "source": [
        "utils.test_data_sizes(train.size, test.size, val.size)\n",
        "\n"
      ]
    },
    {
      "cell_type": "markdown",
      "metadata": {
        "id": "RwTNu4KFqG-K"
      },
      "source": [
        "Here's where you can explore the training stats. You can pop the labels 'is_red' and 'quality' from the data as these will be used as the labels\n"
      ]
    },
    {
      "cell_type": "code",
      "execution_count": 80,
      "metadata": {
        "id": "Y_afyhhHM6WQ"
      },
      "outputs": [],
      "source": [
        "train_stats = train.describe()\n",
        "train_stats.pop('is_red')\n",
        "train_stats.pop('quality')\n",
        "train_stats = train_stats.transpose()"
      ]
    },
    {
      "cell_type": "markdown",
      "metadata": {
        "id": "ahvbYm4fNqSt"
      },
      "source": [
        "Explore the training stats!"
      ]
    },
    {
      "cell_type": "code",
      "execution_count": 81,
      "metadata": {
        "id": "n_gAtPjZ0otF",
        "outputId": "79b21402-2d41-4975-d44f-81582f333588",
        "colab": {
          "base_uri": "https://localhost:8080/",
          "height": 394
        }
      },
      "outputs": [
        {
          "output_type": "execute_result",
          "data": {
            "text/html": [
              "\n",
              "  <div id=\"df-2e1bf54a-9a9b-4564-bb2c-7ec199a92f54\">\n",
              "    <div class=\"colab-df-container\">\n",
              "      <div>\n",
              "<style scoped>\n",
              "    .dataframe tbody tr th:only-of-type {\n",
              "        vertical-align: middle;\n",
              "    }\n",
              "\n",
              "    .dataframe tbody tr th {\n",
              "        vertical-align: top;\n",
              "    }\n",
              "\n",
              "    .dataframe thead th {\n",
              "        text-align: right;\n",
              "    }\n",
              "</style>\n",
              "<table border=\"1\" class=\"dataframe\">\n",
              "  <thead>\n",
              "    <tr style=\"text-align: right;\">\n",
              "      <th></th>\n",
              "      <th>count</th>\n",
              "      <th>mean</th>\n",
              "      <th>std</th>\n",
              "      <th>min</th>\n",
              "      <th>25%</th>\n",
              "      <th>50%</th>\n",
              "      <th>75%</th>\n",
              "      <th>max</th>\n",
              "    </tr>\n",
              "  </thead>\n",
              "  <tbody>\n",
              "    <tr>\n",
              "      <th>fixed acidity</th>\n",
              "      <td>3155.0</td>\n",
              "      <td>7.221616</td>\n",
              "      <td>1.325297</td>\n",
              "      <td>3.80000</td>\n",
              "      <td>6.40000</td>\n",
              "      <td>7.00000</td>\n",
              "      <td>7.7000</td>\n",
              "      <td>15.60000</td>\n",
              "    </tr>\n",
              "    <tr>\n",
              "      <th>volatile acidity</th>\n",
              "      <td>3155.0</td>\n",
              "      <td>0.338929</td>\n",
              "      <td>0.162476</td>\n",
              "      <td>0.08000</td>\n",
              "      <td>0.23000</td>\n",
              "      <td>0.29000</td>\n",
              "      <td>0.4000</td>\n",
              "      <td>1.24000</td>\n",
              "    </tr>\n",
              "    <tr>\n",
              "      <th>citric acid</th>\n",
              "      <td>3155.0</td>\n",
              "      <td>0.321569</td>\n",
              "      <td>0.147970</td>\n",
              "      <td>0.00000</td>\n",
              "      <td>0.25000</td>\n",
              "      <td>0.31000</td>\n",
              "      <td>0.4000</td>\n",
              "      <td>1.66000</td>\n",
              "    </tr>\n",
              "    <tr>\n",
              "      <th>residual sugar</th>\n",
              "      <td>3155.0</td>\n",
              "      <td>5.155911</td>\n",
              "      <td>4.639632</td>\n",
              "      <td>0.60000</td>\n",
              "      <td>1.80000</td>\n",
              "      <td>2.80000</td>\n",
              "      <td>7.6500</td>\n",
              "      <td>65.80000</td>\n",
              "    </tr>\n",
              "    <tr>\n",
              "      <th>chlorides</th>\n",
              "      <td>3155.0</td>\n",
              "      <td>0.056976</td>\n",
              "      <td>0.036802</td>\n",
              "      <td>0.01200</td>\n",
              "      <td>0.03800</td>\n",
              "      <td>0.04700</td>\n",
              "      <td>0.0660</td>\n",
              "      <td>0.61100</td>\n",
              "    </tr>\n",
              "    <tr>\n",
              "      <th>free sulfur dioxide</th>\n",
              "      <td>3155.0</td>\n",
              "      <td>30.388590</td>\n",
              "      <td>17.236784</td>\n",
              "      <td>1.00000</td>\n",
              "      <td>17.00000</td>\n",
              "      <td>28.00000</td>\n",
              "      <td>41.0000</td>\n",
              "      <td>131.00000</td>\n",
              "    </tr>\n",
              "    <tr>\n",
              "      <th>total sulfur dioxide</th>\n",
              "      <td>3155.0</td>\n",
              "      <td>115.062282</td>\n",
              "      <td>56.706617</td>\n",
              "      <td>6.00000</td>\n",
              "      <td>75.00000</td>\n",
              "      <td>117.00000</td>\n",
              "      <td>156.0000</td>\n",
              "      <td>344.00000</td>\n",
              "    </tr>\n",
              "    <tr>\n",
              "      <th>density</th>\n",
              "      <td>3155.0</td>\n",
              "      <td>0.994633</td>\n",
              "      <td>0.003005</td>\n",
              "      <td>0.98711</td>\n",
              "      <td>0.99232</td>\n",
              "      <td>0.99481</td>\n",
              "      <td>0.9968</td>\n",
              "      <td>1.03898</td>\n",
              "    </tr>\n",
              "    <tr>\n",
              "      <th>pH</th>\n",
              "      <td>3155.0</td>\n",
              "      <td>3.223201</td>\n",
              "      <td>0.161272</td>\n",
              "      <td>2.72000</td>\n",
              "      <td>3.11000</td>\n",
              "      <td>3.21000</td>\n",
              "      <td>3.3300</td>\n",
              "      <td>4.01000</td>\n",
              "    </tr>\n",
              "    <tr>\n",
              "      <th>sulphates</th>\n",
              "      <td>3155.0</td>\n",
              "      <td>0.534051</td>\n",
              "      <td>0.149149</td>\n",
              "      <td>0.22000</td>\n",
              "      <td>0.43000</td>\n",
              "      <td>0.51000</td>\n",
              "      <td>0.6000</td>\n",
              "      <td>1.95000</td>\n",
              "    </tr>\n",
              "    <tr>\n",
              "      <th>alcohol</th>\n",
              "      <td>3155.0</td>\n",
              "      <td>10.504466</td>\n",
              "      <td>1.154654</td>\n",
              "      <td>8.50000</td>\n",
              "      <td>9.50000</td>\n",
              "      <td>10.30000</td>\n",
              "      <td>11.3000</td>\n",
              "      <td>14.00000</td>\n",
              "    </tr>\n",
              "  </tbody>\n",
              "</table>\n",
              "</div>\n",
              "      <button class=\"colab-df-convert\" onclick=\"convertToInteractive('df-2e1bf54a-9a9b-4564-bb2c-7ec199a92f54')\"\n",
              "              title=\"Convert this dataframe to an interactive table.\"\n",
              "              style=\"display:none;\">\n",
              "        \n",
              "  <svg xmlns=\"http://www.w3.org/2000/svg\" height=\"24px\"viewBox=\"0 0 24 24\"\n",
              "       width=\"24px\">\n",
              "    <path d=\"M0 0h24v24H0V0z\" fill=\"none\"/>\n",
              "    <path d=\"M18.56 5.44l.94 2.06.94-2.06 2.06-.94-2.06-.94-.94-2.06-.94 2.06-2.06.94zm-11 1L8.5 8.5l.94-2.06 2.06-.94-2.06-.94L8.5 2.5l-.94 2.06-2.06.94zm10 10l.94 2.06.94-2.06 2.06-.94-2.06-.94-.94-2.06-.94 2.06-2.06.94z\"/><path d=\"M17.41 7.96l-1.37-1.37c-.4-.4-.92-.59-1.43-.59-.52 0-1.04.2-1.43.59L10.3 9.45l-7.72 7.72c-.78.78-.78 2.05 0 2.83L4 21.41c.39.39.9.59 1.41.59.51 0 1.02-.2 1.41-.59l7.78-7.78 2.81-2.81c.8-.78.8-2.07 0-2.86zM5.41 20L4 18.59l7.72-7.72 1.47 1.35L5.41 20z\"/>\n",
              "  </svg>\n",
              "      </button>\n",
              "      \n",
              "  <style>\n",
              "    .colab-df-container {\n",
              "      display:flex;\n",
              "      flex-wrap:wrap;\n",
              "      gap: 12px;\n",
              "    }\n",
              "\n",
              "    .colab-df-convert {\n",
              "      background-color: #E8F0FE;\n",
              "      border: none;\n",
              "      border-radius: 50%;\n",
              "      cursor: pointer;\n",
              "      display: none;\n",
              "      fill: #1967D2;\n",
              "      height: 32px;\n",
              "      padding: 0 0 0 0;\n",
              "      width: 32px;\n",
              "    }\n",
              "\n",
              "    .colab-df-convert:hover {\n",
              "      background-color: #E2EBFA;\n",
              "      box-shadow: 0px 1px 2px rgba(60, 64, 67, 0.3), 0px 1px 3px 1px rgba(60, 64, 67, 0.15);\n",
              "      fill: #174EA6;\n",
              "    }\n",
              "\n",
              "    [theme=dark] .colab-df-convert {\n",
              "      background-color: #3B4455;\n",
              "      fill: #D2E3FC;\n",
              "    }\n",
              "\n",
              "    [theme=dark] .colab-df-convert:hover {\n",
              "      background-color: #434B5C;\n",
              "      box-shadow: 0px 1px 3px 1px rgba(0, 0, 0, 0.15);\n",
              "      filter: drop-shadow(0px 1px 2px rgba(0, 0, 0, 0.3));\n",
              "      fill: #FFFFFF;\n",
              "    }\n",
              "  </style>\n",
              "\n",
              "      <script>\n",
              "        const buttonEl =\n",
              "          document.querySelector('#df-2e1bf54a-9a9b-4564-bb2c-7ec199a92f54 button.colab-df-convert');\n",
              "        buttonEl.style.display =\n",
              "          google.colab.kernel.accessAllowed ? 'block' : 'none';\n",
              "\n",
              "        async function convertToInteractive(key) {\n",
              "          const element = document.querySelector('#df-2e1bf54a-9a9b-4564-bb2c-7ec199a92f54');\n",
              "          const dataTable =\n",
              "            await google.colab.kernel.invokeFunction('convertToInteractive',\n",
              "                                                     [key], {});\n",
              "          if (!dataTable) return;\n",
              "\n",
              "          const docLinkHtml = 'Like what you see? Visit the ' +\n",
              "            '<a target=\"_blank\" href=https://colab.research.google.com/notebooks/data_table.ipynb>data table notebook</a>'\n",
              "            + ' to learn more about interactive tables.';\n",
              "          element.innerHTML = '';\n",
              "          dataTable['output_type'] = 'display_data';\n",
              "          await google.colab.output.renderOutput(dataTable, element);\n",
              "          const docLink = document.createElement('div');\n",
              "          docLink.innerHTML = docLinkHtml;\n",
              "          element.appendChild(docLink);\n",
              "        }\n",
              "      </script>\n",
              "    </div>\n",
              "  </div>\n",
              "  "
            ],
            "text/plain": [
              "                       count        mean  ...       75%        max\n",
              "fixed acidity         3155.0    7.221616  ...    7.7000   15.60000\n",
              "volatile acidity      3155.0    0.338929  ...    0.4000    1.24000\n",
              "citric acid           3155.0    0.321569  ...    0.4000    1.66000\n",
              "residual sugar        3155.0    5.155911  ...    7.6500   65.80000\n",
              "chlorides             3155.0    0.056976  ...    0.0660    0.61100\n",
              "free sulfur dioxide   3155.0   30.388590  ...   41.0000  131.00000\n",
              "total sulfur dioxide  3155.0  115.062282  ...  156.0000  344.00000\n",
              "density               3155.0    0.994633  ...    0.9968    1.03898\n",
              "pH                    3155.0    3.223201  ...    3.3300    4.01000\n",
              "sulphates             3155.0    0.534051  ...    0.6000    1.95000\n",
              "alcohol               3155.0   10.504466  ...   11.3000   14.00000\n",
              "\n",
              "[11 rows x 8 columns]"
            ]
          },
          "metadata": {},
          "execution_count": 81
        }
      ],
      "source": [
        "train_stats"
      ]
    },
    {
      "cell_type": "markdown",
      "metadata": {
        "id": "bGPvt9jir_HC"
      },
      "source": [
        "### Get the labels (TODO)\n",
        "\n",
        "The features and labels are currently in the same dataframe.\n",
        "- You will want to store the label columns `is_red` and `quality` separately from the feature columns.  \n",
        "- The following function, `format_output`, gets these two columns from the dataframe (it's given to you).\n",
        "- `format_output` also formats the data into numpy arrays. \n",
        "- Please use the `format_output` and apply it to the `train`, `val` and `test` sets to get dataframes for the labels."
      ]
    },
    {
      "cell_type": "code",
      "execution_count": 82,
      "metadata": {
        "id": "Z_fs14XQqZVP"
      },
      "outputs": [],
      "source": [
        "def format_output(data):\n",
        "    is_red = data.pop('is_red')\n",
        "    is_red = np.array(is_red)\n",
        "    quality = data.pop('quality')\n",
        "    quality = np.array(quality)\n",
        "    return (quality, is_red)"
      ]
    },
    {
      "cell_type": "code",
      "execution_count": 83,
      "metadata": {
        "deletable": false,
        "id": "8L3ZZe1fQicm",
        "nbgrader": {
          "cell_type": "code",
          "checksum": "7a86809e54895a816434c48dc903f55d",
          "grade": false,
          "grade_id": "cell-5c30fa2c2a354b0f",
          "locked": false,
          "schema_version": 3,
          "solution": true,
          "task": false
        }
      },
      "outputs": [],
      "source": [
        "# Please uncomment all lines in this cell and replace those marked with `# YOUR CODE HERE`.\n",
        "# You can select all lines in this code cell with Ctrl+A (Windows/Linux) or Cmd+A (Mac), then press Ctrl+/ (Windows/Linux) or Cmd+/ (Mac) to uncomment.\n",
        "\n",
        "\n",
        "\n",
        "# format the output of the train set\n",
        "train_Y = format_output(train)\n",
        "\n",
        "# format the output of the val set\n",
        "val_Y = format_output(val)\n",
        "    \n",
        "# format the output of the test set\n",
        "test_Y = format_output(test)"
      ]
    },
    {
      "cell_type": "code",
      "execution_count": 84,
      "metadata": {
        "deletable": false,
        "editable": false,
        "nbgrader": {
          "cell_type": "code",
          "checksum": "359cabbafaed14ec9bbc1e57a7b6f32c",
          "grade": true,
          "grade_id": "cell-4977d8befb80f56b",
          "locked": true,
          "points": 1,
          "schema_version": 3,
          "solution": false,
          "task": false
        },
        "id": "_f71WhsE6sO2",
        "outputId": "1b1f058b-58a4-43fd-d381-51d9b9d4fefb",
        "colab": {
          "base_uri": "https://localhost:8080/"
        }
      },
      "outputs": [
        {
          "output_type": "stream",
          "name": "stdout",
          "text": [
            "\u001b[92m All public tests passed\n"
          ]
        }
      ],
      "source": [
        "utils.test_format_output(df, train_Y, val_Y, test_Y)"
      ]
    },
    {
      "cell_type": "markdown",
      "metadata": {
        "id": "LFS008qQ6sO2"
      },
      "source": [
        "Notice that after you get the labels, the `train`, `val` and `test` dataframes no longer contain the label columns, and contain just the feature columns.\n",
        "- This is because you used `.pop` in the `format_output` function."
      ]
    },
    {
      "cell_type": "code",
      "execution_count": 85,
      "metadata": {
        "id": "fkJBHNEU6sO2",
        "outputId": "dfd70bb3-1f7a-42b7-f219-66bb0ce7979c",
        "colab": {
          "base_uri": "https://localhost:8080/",
          "height": 250
        }
      },
      "outputs": [
        {
          "output_type": "execute_result",
          "data": {
            "text/html": [
              "\n",
              "  <div id=\"df-a24a4578-412a-4404-bb5e-f4a5592ac5fa\">\n",
              "    <div class=\"colab-df-container\">\n",
              "      <div>\n",
              "<style scoped>\n",
              "    .dataframe tbody tr th:only-of-type {\n",
              "        vertical-align: middle;\n",
              "    }\n",
              "\n",
              "    .dataframe tbody tr th {\n",
              "        vertical-align: top;\n",
              "    }\n",
              "\n",
              "    .dataframe thead th {\n",
              "        text-align: right;\n",
              "    }\n",
              "</style>\n",
              "<table border=\"1\" class=\"dataframe\">\n",
              "  <thead>\n",
              "    <tr style=\"text-align: right;\">\n",
              "      <th></th>\n",
              "      <th>fixed acidity</th>\n",
              "      <th>volatile acidity</th>\n",
              "      <th>citric acid</th>\n",
              "      <th>residual sugar</th>\n",
              "      <th>chlorides</th>\n",
              "      <th>free sulfur dioxide</th>\n",
              "      <th>total sulfur dioxide</th>\n",
              "      <th>density</th>\n",
              "      <th>pH</th>\n",
              "      <th>sulphates</th>\n",
              "      <th>alcohol</th>\n",
              "    </tr>\n",
              "  </thead>\n",
              "  <tbody>\n",
              "    <tr>\n",
              "      <th>225</th>\n",
              "      <td>7.5</td>\n",
              "      <td>0.65</td>\n",
              "      <td>0.18</td>\n",
              "      <td>7.0</td>\n",
              "      <td>0.088</td>\n",
              "      <td>27.0</td>\n",
              "      <td>94.0</td>\n",
              "      <td>0.99915</td>\n",
              "      <td>3.38</td>\n",
              "      <td>0.77</td>\n",
              "      <td>9.4</td>\n",
              "    </tr>\n",
              "    <tr>\n",
              "      <th>3557</th>\n",
              "      <td>6.3</td>\n",
              "      <td>0.27</td>\n",
              "      <td>0.29</td>\n",
              "      <td>12.2</td>\n",
              "      <td>0.044</td>\n",
              "      <td>59.0</td>\n",
              "      <td>196.0</td>\n",
              "      <td>0.99782</td>\n",
              "      <td>3.14</td>\n",
              "      <td>0.40</td>\n",
              "      <td>8.8</td>\n",
              "    </tr>\n",
              "    <tr>\n",
              "      <th>3825</th>\n",
              "      <td>8.8</td>\n",
              "      <td>0.27</td>\n",
              "      <td>0.25</td>\n",
              "      <td>5.0</td>\n",
              "      <td>0.024</td>\n",
              "      <td>52.0</td>\n",
              "      <td>99.0</td>\n",
              "      <td>0.99250</td>\n",
              "      <td>2.87</td>\n",
              "      <td>0.49</td>\n",
              "      <td>11.4</td>\n",
              "    </tr>\n",
              "    <tr>\n",
              "      <th>1740</th>\n",
              "      <td>6.4</td>\n",
              "      <td>0.45</td>\n",
              "      <td>0.07</td>\n",
              "      <td>1.1</td>\n",
              "      <td>0.030</td>\n",
              "      <td>10.0</td>\n",
              "      <td>131.0</td>\n",
              "      <td>0.99050</td>\n",
              "      <td>2.97</td>\n",
              "      <td>0.28</td>\n",
              "      <td>10.8</td>\n",
              "    </tr>\n",
              "    <tr>\n",
              "      <th>1221</th>\n",
              "      <td>7.2</td>\n",
              "      <td>0.53</td>\n",
              "      <td>0.13</td>\n",
              "      <td>2.0</td>\n",
              "      <td>0.058</td>\n",
              "      <td>18.0</td>\n",
              "      <td>22.0</td>\n",
              "      <td>0.99573</td>\n",
              "      <td>3.21</td>\n",
              "      <td>0.68</td>\n",
              "      <td>9.9</td>\n",
              "    </tr>\n",
              "  </tbody>\n",
              "</table>\n",
              "</div>\n",
              "      <button class=\"colab-df-convert\" onclick=\"convertToInteractive('df-a24a4578-412a-4404-bb5e-f4a5592ac5fa')\"\n",
              "              title=\"Convert this dataframe to an interactive table.\"\n",
              "              style=\"display:none;\">\n",
              "        \n",
              "  <svg xmlns=\"http://www.w3.org/2000/svg\" height=\"24px\"viewBox=\"0 0 24 24\"\n",
              "       width=\"24px\">\n",
              "    <path d=\"M0 0h24v24H0V0z\" fill=\"none\"/>\n",
              "    <path d=\"M18.56 5.44l.94 2.06.94-2.06 2.06-.94-2.06-.94-.94-2.06-.94 2.06-2.06.94zm-11 1L8.5 8.5l.94-2.06 2.06-.94-2.06-.94L8.5 2.5l-.94 2.06-2.06.94zm10 10l.94 2.06.94-2.06 2.06-.94-2.06-.94-.94-2.06-.94 2.06-2.06.94z\"/><path d=\"M17.41 7.96l-1.37-1.37c-.4-.4-.92-.59-1.43-.59-.52 0-1.04.2-1.43.59L10.3 9.45l-7.72 7.72c-.78.78-.78 2.05 0 2.83L4 21.41c.39.39.9.59 1.41.59.51 0 1.02-.2 1.41-.59l7.78-7.78 2.81-2.81c.8-.78.8-2.07 0-2.86zM5.41 20L4 18.59l7.72-7.72 1.47 1.35L5.41 20z\"/>\n",
              "  </svg>\n",
              "      </button>\n",
              "      \n",
              "  <style>\n",
              "    .colab-df-container {\n",
              "      display:flex;\n",
              "      flex-wrap:wrap;\n",
              "      gap: 12px;\n",
              "    }\n",
              "\n",
              "    .colab-df-convert {\n",
              "      background-color: #E8F0FE;\n",
              "      border: none;\n",
              "      border-radius: 50%;\n",
              "      cursor: pointer;\n",
              "      display: none;\n",
              "      fill: #1967D2;\n",
              "      height: 32px;\n",
              "      padding: 0 0 0 0;\n",
              "      width: 32px;\n",
              "    }\n",
              "\n",
              "    .colab-df-convert:hover {\n",
              "      background-color: #E2EBFA;\n",
              "      box-shadow: 0px 1px 2px rgba(60, 64, 67, 0.3), 0px 1px 3px 1px rgba(60, 64, 67, 0.15);\n",
              "      fill: #174EA6;\n",
              "    }\n",
              "\n",
              "    [theme=dark] .colab-df-convert {\n",
              "      background-color: #3B4455;\n",
              "      fill: #D2E3FC;\n",
              "    }\n",
              "\n",
              "    [theme=dark] .colab-df-convert:hover {\n",
              "      background-color: #434B5C;\n",
              "      box-shadow: 0px 1px 3px 1px rgba(0, 0, 0, 0.15);\n",
              "      filter: drop-shadow(0px 1px 2px rgba(0, 0, 0, 0.3));\n",
              "      fill: #FFFFFF;\n",
              "    }\n",
              "  </style>\n",
              "\n",
              "      <script>\n",
              "        const buttonEl =\n",
              "          document.querySelector('#df-a24a4578-412a-4404-bb5e-f4a5592ac5fa button.colab-df-convert');\n",
              "        buttonEl.style.display =\n",
              "          google.colab.kernel.accessAllowed ? 'block' : 'none';\n",
              "\n",
              "        async function convertToInteractive(key) {\n",
              "          const element = document.querySelector('#df-a24a4578-412a-4404-bb5e-f4a5592ac5fa');\n",
              "          const dataTable =\n",
              "            await google.colab.kernel.invokeFunction('convertToInteractive',\n",
              "                                                     [key], {});\n",
              "          if (!dataTable) return;\n",
              "\n",
              "          const docLinkHtml = 'Like what you see? Visit the ' +\n",
              "            '<a target=\"_blank\" href=https://colab.research.google.com/notebooks/data_table.ipynb>data table notebook</a>'\n",
              "            + ' to learn more about interactive tables.';\n",
              "          element.innerHTML = '';\n",
              "          dataTable['output_type'] = 'display_data';\n",
              "          await google.colab.output.renderOutput(dataTable, element);\n",
              "          const docLink = document.createElement('div');\n",
              "          docLink.innerHTML = docLinkHtml;\n",
              "          element.appendChild(docLink);\n",
              "        }\n",
              "      </script>\n",
              "    </div>\n",
              "  </div>\n",
              "  "
            ],
            "text/plain": [
              "      fixed acidity  volatile acidity  citric acid  ...    pH  sulphates  alcohol\n",
              "225             7.5              0.65         0.18  ...  3.38       0.77      9.4\n",
              "3557            6.3              0.27         0.29  ...  3.14       0.40      8.8\n",
              "3825            8.8              0.27         0.25  ...  2.87       0.49     11.4\n",
              "1740            6.4              0.45         0.07  ...  2.97       0.28     10.8\n",
              "1221            7.2              0.53         0.13  ...  3.21       0.68      9.9\n",
              "\n",
              "[5 rows x 11 columns]"
            ]
          },
          "metadata": {},
          "execution_count": 85
        }
      ],
      "source": [
        "train.head()"
      ]
    },
    {
      "cell_type": "markdown",
      "metadata": {
        "id": "hEdbrruAsN1D"
      },
      "source": [
        "### Normalize the data (TODO)\n",
        "\n",
        "Next, you can normalize the data, x, using the formula:\n",
        "$$x_{norm} = \\frac{x - \\mu}{\\sigma}$$\n",
        "- The `norm` function is defined for you.\n",
        "- Please apply the `norm` function to normalize the dataframes that contains the feature columns of `train`, `val` and `test` sets."
      ]
    },
    {
      "cell_type": "code",
      "execution_count": 86,
      "metadata": {
        "id": "WWiZPAHCLjUs"
      },
      "outputs": [],
      "source": [
        "def norm(x):\n",
        "    return (x - train_stats['mean']) / train_stats['std']"
      ]
    },
    {
      "cell_type": "code",
      "execution_count": 87,
      "metadata": {
        "deletable": false,
        "id": "JEaOi2I2Lk69",
        "nbgrader": {
          "cell_type": "code",
          "checksum": "6bc0cdcb563d192f271067aa3373ff32",
          "grade": false,
          "grade_id": "cell-d8416d975c371095",
          "locked": false,
          "schema_version": 3,
          "solution": true,
          "task": false
        }
      },
      "outputs": [],
      "source": [
        "# Please uncomment all lines in this cell and replace those marked with `# YOUR CODE HERE`.\n",
        "# You can select all lines in this code cell with Ctrl+A (Windows/Linux) or Cmd+A (Mac), then press Ctrl+/ (Windows/Linux) or Cmd+/ (Mac) to uncomment.\n",
        "\n",
        "\n",
        "\n",
        "# normalize the train set\n",
        "norm_train_X = norm(train)\n",
        "    \n",
        "# normalize the val set\n",
        "norm_val_X = norm(val)\n",
        "\n",
        "# normalize the test set\n",
        "norm_test_X = norm(test)"
      ]
    },
    {
      "cell_type": "code",
      "execution_count": 88,
      "metadata": {
        "deletable": false,
        "editable": false,
        "nbgrader": {
          "cell_type": "code",
          "checksum": "4f567db45bf40191601780379cc100b8",
          "grade": true,
          "grade_id": "cell-97fad979d157529b",
          "locked": true,
          "points": 1,
          "schema_version": 3,
          "solution": false,
          "task": false
        },
        "id": "G1zv81c06sO3",
        "outputId": "16e3a6c0-5d85-4e4c-c955-54d62b412e19",
        "colab": {
          "base_uri": "https://localhost:8080/"
        }
      },
      "outputs": [
        {
          "output_type": "stream",
          "name": "stdout",
          "text": [
            "\u001b[92m All public tests passed\n"
          ]
        }
      ],
      "source": [
        "utils.test_norm(norm_train_X, norm_val_X, norm_test_X, train, val, test)\n"
      ]
    },
    {
      "cell_type": "markdown",
      "metadata": {
        "id": "hzykDwQhsaPO"
      },
      "source": [
        "## Define the Model (TODO)\n",
        "\n",
        "Define the model using the functional API. The base model will be 2 `Dense` layers of 128 neurons each, and have the `'relu'` activation.\n",
        "- Check out the documentation for [tf.keras.layers.Dense](https://www.tensorflow.org/api_docs/python/tf/keras/layers/Dense)"
      ]
    },
    {
      "cell_type": "code",
      "execution_count": 113,
      "metadata": {
        "deletable": false,
        "id": "Rhcns3oTFkM6",
        "nbgrader": {
          "cell_type": "code",
          "checksum": "74b031247e569526552bf13a034a1c07",
          "grade": false,
          "grade_id": "cell-73fceedad1fe351c",
          "locked": false,
          "schema_version": 3,
          "solution": true,
          "task": false
        }
      },
      "outputs": [],
      "source": [
        "# Please uncomment all lines in this cell and replace those marked with `# YOUR CODE HERE`.\n",
        "# You can select all lines in this code cell with Ctrl+A (Windows/Linux) or Cmd+A (Mac), then press Ctrl+/ (Windows/Linux) or Cmd+/ (Mac) to uncomment.\n",
        "\n",
        "\n",
        "\n",
        "def base_model(inputs):\n",
        "    \n",
        "    # connect a Dense layer with 128 neurons and a relu activation\n",
        "    x = Dense(units=128, activation='relu')(inputs)\n",
        "    \n",
        "    # connect another Dense layer with 128 neurons and a relu activation\n",
        "    x = Dense(units=128, activation='relu')(x)\n",
        "\n",
        "    return x\n",
        "  "
      ]
    },
    {
      "cell_type": "code",
      "execution_count": 114,
      "metadata": {
        "deletable": false,
        "editable": false,
        "nbgrader": {
          "cell_type": "code",
          "checksum": "9255924b3def80f679616e4c851a43e1",
          "grade": true,
          "grade_id": "cell-54f742a133353d75",
          "locked": true,
          "points": 1,
          "schema_version": 3,
          "solution": false,
          "task": false
        },
        "id": "KS7-dzrA6sO3",
        "outputId": "5195a76b-f50a-467b-9ddb-464de13b2280",
        "colab": {
          "base_uri": "https://localhost:8080/",
          "height": 432
        }
      },
      "outputs": [
        {
          "output_type": "stream",
          "name": "stdout",
          "text": [
            "return_type_check: Return type is incorrect. Please check implementation.\n",
            "Expected: <class 'tensorflow.python.framework.ops.Tensor'>\n",
            "Result: <class 'keras.engine.keras_tensor.KerasTensor'>\n",
            "Please open utils.py if you want to see the unit test here.\n",
            "\n",
            "\u001b[92m 5  Tests passed\n",
            "\u001b[91m 1  Tests failed\n"
          ]
        },
        {
          "output_type": "error",
          "ename": "Exception",
          "evalue": "ignored",
          "traceback": [
            "\u001b[0;31m---------------------------------------------------------------------------\u001b[0m",
            "\u001b[0;31mException\u001b[0m                                 Traceback (most recent call last)",
            "\u001b[0;32m<ipython-input-114-468cefd178cd>\u001b[0m in \u001b[0;36m<module>\u001b[0;34m()\u001b[0m\n\u001b[0;32m----> 1\u001b[0;31m \u001b[0mutils\u001b[0m\u001b[0;34m.\u001b[0m\u001b[0mtest_base_model\u001b[0m\u001b[0;34m(\u001b[0m\u001b[0mbase_model\u001b[0m\u001b[0;34m)\u001b[0m\u001b[0;34m\u001b[0m\u001b[0;34m\u001b[0m\u001b[0m\n\u001b[0m",
            "\u001b[0;32m/content/utils.py\u001b[0m in \u001b[0;36mtest_base_model\u001b[0;34m(base_model)\u001b[0m\n\u001b[1;32m    257\u001b[0m     ]\n\u001b[1;32m    258\u001b[0m \u001b[0;34m\u001b[0m\u001b[0m\n\u001b[0;32m--> 259\u001b[0;31m     \u001b[0mtest_loop\u001b[0m\u001b[0;34m(\u001b[0m\u001b[0mtest_cases\u001b[0m\u001b[0;34m)\u001b[0m\u001b[0;34m\u001b[0m\u001b[0;34m\u001b[0m\u001b[0m\n\u001b[0m\u001b[1;32m    260\u001b[0m \u001b[0;34m\u001b[0m\u001b[0m\n\u001b[1;32m    261\u001b[0m \u001b[0;32mdef\u001b[0m \u001b[0mtest_final_model\u001b[0m\u001b[0;34m(\u001b[0m\u001b[0mfinal_model\u001b[0m\u001b[0;34m)\u001b[0m\u001b[0;34m:\u001b[0m\u001b[0;34m\u001b[0m\u001b[0;34m\u001b[0m\u001b[0m\n",
            "\u001b[0;32m/content/utils.py\u001b[0m in \u001b[0;36mtest_loop\u001b[0;34m(test_cases)\u001b[0m\n\u001b[1;32m     25\u001b[0m         \u001b[0mprint\u001b[0m\u001b[0;34m(\u001b[0m\u001b[0;34m'\\033[92m'\u001b[0m\u001b[0;34m,\u001b[0m \u001b[0msuccess\u001b[0m\u001b[0;34m,\u001b[0m\u001b[0;34m\" Tests passed\"\u001b[0m\u001b[0;34m)\u001b[0m\u001b[0;34m\u001b[0m\u001b[0;34m\u001b[0m\u001b[0m\n\u001b[1;32m     26\u001b[0m         \u001b[0mprint\u001b[0m\u001b[0;34m(\u001b[0m\u001b[0;34m'\\033[91m'\u001b[0m\u001b[0;34m,\u001b[0m \u001b[0mfails\u001b[0m\u001b[0;34m,\u001b[0m \u001b[0;34m\" Tests failed\"\u001b[0m\u001b[0;34m)\u001b[0m\u001b[0;34m\u001b[0m\u001b[0;34m\u001b[0m\u001b[0m\n\u001b[0;32m---> 27\u001b[0;31m         \u001b[0;32mraise\u001b[0m \u001b[0mException\u001b[0m\u001b[0;34m(\u001b[0m\u001b[0mtest_case\u001b[0m\u001b[0;34m[\u001b[0m\u001b[0;34m\"error_message\"\u001b[0m\u001b[0;34m]\u001b[0m\u001b[0;34m)\u001b[0m\u001b[0;34m\u001b[0m\u001b[0;34m\u001b[0m\u001b[0m\n\u001b[0m\u001b[1;32m     28\u001b[0m \u001b[0;34m\u001b[0m\u001b[0m\n\u001b[1;32m     29\u001b[0m \u001b[0;32mdef\u001b[0m \u001b[0mtest_white_df\u001b[0m\u001b[0;34m(\u001b[0m\u001b[0mwhite_df\u001b[0m\u001b[0;34m)\u001b[0m\u001b[0;34m:\u001b[0m\u001b[0;34m\u001b[0m\u001b[0;34m\u001b[0m\u001b[0m\n",
            "\u001b[0;31mException\u001b[0m: Output layer type is incorrect. Please check implementation."
          ]
        }
      ],
      "source": [
        "utils.test_base_model(base_model)"
      ]
    },
    {
      "cell_type": "markdown",
      "metadata": {
        "id": "xem_fcVws6Kz"
      },
      "source": [
        "# Define output layers of the model (TODO)\n",
        "\n",
        "You will add output layers to the base model. \n",
        "- The model will need two outputs.\n",
        "\n",
        "One output layer will predict wine quality, which is a numeric value.\n",
        "- Define a `Dense` layer with 1 neuron.\n",
        "- Since this is a regression output, the activation can be left as its default value `None`.\n",
        "\n",
        "The other output layer will predict the wine type, which is either red `1` or not red `0` (white).\n",
        "- Define a `Dense` layer with 1 neuron.\n",
        "- Since there are two possible categories, you can use a sigmoid activation for binary classification.\n",
        "\n",
        "Define the `Model`\n",
        "- Define the `Model` object, and set the following parameters:\n",
        "  - `inputs`: pass in the inputs to the model as a list.\n",
        "  - `outputs`: pass in a list of the outputs that you just defined: wine quality, then wine type.\n",
        "  - **Note**: please list the wine quality before wine type in the outputs, as this will affect the calculated loss if you choose the other order."
      ]
    },
    {
      "cell_type": "code",
      "execution_count": 123,
      "metadata": {
        "deletable": false,
        "id": "n5UGF8PMVLPt",
        "nbgrader": {
          "cell_type": "code",
          "checksum": "76d35b90d20cdcbb22986cd8211057de",
          "grade": false,
          "grade_id": "cell-19e285f482f021fb",
          "locked": false,
          "schema_version": 3,
          "solution": true,
          "task": false
        }
      },
      "outputs": [],
      "source": [
        "# Please uncomment all lines in this cell and replace those marked with `# YOUR CODE HERE`.\n",
        "# You can select all lines in this code cell with Ctrl+A (Windows/Linux) or Cmd+A (Mac), then press Ctrl+/ (Windows/Linux) or Cmd+/ (Mac) to uncomment.\n",
        "\n",
        "\n",
        "\n",
        "def final_model(inputs):\n",
        "    \n",
        "    # get the base model\n",
        "    base = base_model(inputs)\n",
        "\n",
        "    # connect the output Dense layer for regression\n",
        "    wine_quality = Dense(units=1, name='wine_quality')(base)\n",
        "\n",
        "    # connect the output Dense layer for classification. this will use a sigmoid activation.\n",
        "    wine_type = Dense(units=1, activation='sigmoid', name='wine_type')(base)\n",
        "\n",
        "    # define the model using the input and output layers\n",
        "    model = Model(inputs=inputs, outputs=[wine_quality, wine_type])\n",
        "\n",
        "    return model"
      ]
    },
    {
      "cell_type": "code",
      "execution_count": 124,
      "metadata": {
        "deletable": false,
        "editable": false,
        "nbgrader": {
          "cell_type": "code",
          "checksum": "89cbf89d8ab5e2e59ecf7f63f517520a",
          "grade": true,
          "grade_id": "cell-40d050f855c817d1",
          "locked": true,
          "points": 1,
          "schema_version": 3,
          "solution": false,
          "task": false
        },
        "id": "upr_tAg_6sO4",
        "outputId": "fa260602-2c7a-422d-ec88-a3ba2c905568",
        "colab": {
          "base_uri": "https://localhost:8080/",
          "height": 432
        }
      },
      "outputs": [
        {
          "output_type": "stream",
          "name": "stdout",
          "text": [
            "return_type_check: Return type is incorrect. Please check implementation.\n",
            "Expected: <class 'keras.engine.training.Model'>\n",
            "Result: <class 'keras.engine.functional.Functional'>\n",
            "Please open utils.py if you want to see the unit test here.\n",
            "\n",
            "\u001b[92m 1  Tests passed\n",
            "\u001b[91m 1  Tests failed\n"
          ]
        },
        {
          "output_type": "error",
          "ename": "Exception",
          "evalue": "ignored",
          "traceback": [
            "\u001b[0;31m---------------------------------------------------------------------------\u001b[0m",
            "\u001b[0;31mException\u001b[0m                                 Traceback (most recent call last)",
            "\u001b[0;32m<ipython-input-124-627ff8303ae7>\u001b[0m in \u001b[0;36m<module>\u001b[0;34m()\u001b[0m\n\u001b[0;32m----> 1\u001b[0;31m \u001b[0mutils\u001b[0m\u001b[0;34m.\u001b[0m\u001b[0mtest_final_model\u001b[0m\u001b[0;34m(\u001b[0m\u001b[0mfinal_model\u001b[0m\u001b[0;34m)\u001b[0m\u001b[0;34m\u001b[0m\u001b[0;34m\u001b[0m\u001b[0m\n\u001b[0m",
            "\u001b[0;32m/content/utils.py\u001b[0m in \u001b[0;36mtest_final_model\u001b[0;34m(final_model)\u001b[0m\n\u001b[1;32m    279\u001b[0m     ]\n\u001b[1;32m    280\u001b[0m \u001b[0;34m\u001b[0m\u001b[0m\n\u001b[0;32m--> 281\u001b[0;31m     \u001b[0mtest_loop\u001b[0m\u001b[0;34m(\u001b[0m\u001b[0mtest_cases\u001b[0m\u001b[0;34m)\u001b[0m\u001b[0;34m\u001b[0m\u001b[0;34m\u001b[0m\u001b[0m\n\u001b[0m\u001b[1;32m    282\u001b[0m \u001b[0;34m\u001b[0m\u001b[0m\n\u001b[1;32m    283\u001b[0m \u001b[0;32mdef\u001b[0m \u001b[0mtest_model_compile\u001b[0m\u001b[0;34m(\u001b[0m\u001b[0mmodel\u001b[0m\u001b[0;34m)\u001b[0m\u001b[0;34m:\u001b[0m\u001b[0;34m\u001b[0m\u001b[0;34m\u001b[0m\u001b[0m\n",
            "\u001b[0;32m/content/utils.py\u001b[0m in \u001b[0;36mtest_loop\u001b[0;34m(test_cases)\u001b[0m\n\u001b[1;32m     25\u001b[0m         \u001b[0mprint\u001b[0m\u001b[0;34m(\u001b[0m\u001b[0;34m'\\033[92m'\u001b[0m\u001b[0;34m,\u001b[0m \u001b[0msuccess\u001b[0m\u001b[0;34m,\u001b[0m\u001b[0;34m\" Tests passed\"\u001b[0m\u001b[0;34m)\u001b[0m\u001b[0;34m\u001b[0m\u001b[0;34m\u001b[0m\u001b[0m\n\u001b[1;32m     26\u001b[0m         \u001b[0mprint\u001b[0m\u001b[0;34m(\u001b[0m\u001b[0;34m'\\033[91m'\u001b[0m\u001b[0;34m,\u001b[0m \u001b[0mfails\u001b[0m\u001b[0;34m,\u001b[0m \u001b[0;34m\" Tests failed\"\u001b[0m\u001b[0;34m)\u001b[0m\u001b[0;34m\u001b[0m\u001b[0;34m\u001b[0m\u001b[0m\n\u001b[0;32m---> 27\u001b[0;31m         \u001b[0;32mraise\u001b[0m \u001b[0mException\u001b[0m\u001b[0;34m(\u001b[0m\u001b[0mtest_case\u001b[0m\u001b[0;34m[\u001b[0m\u001b[0;34m\"error_message\"\u001b[0m\u001b[0;34m]\u001b[0m\u001b[0;34m)\u001b[0m\u001b[0;34m\u001b[0m\u001b[0;34m\u001b[0m\u001b[0m\n\u001b[0m\u001b[1;32m     28\u001b[0m \u001b[0;34m\u001b[0m\u001b[0m\n\u001b[1;32m     29\u001b[0m \u001b[0;32mdef\u001b[0m \u001b[0mtest_white_df\u001b[0m\u001b[0;34m(\u001b[0m\u001b[0mwhite_df\u001b[0m\u001b[0;34m)\u001b[0m\u001b[0;34m:\u001b[0m\u001b[0;34m\u001b[0m\u001b[0;34m\u001b[0m\u001b[0m\n",
            "\u001b[0;31mException\u001b[0m: wine_quality layer has an incorrect activation. Please check implementation."
          ]
        }
      ],
      "source": [
        "utils.test_final_model(final_model)"
      ]
    },
    {
      "cell_type": "markdown",
      "metadata": {
        "id": "5R0BMTsltZyu"
      },
      "source": [
        "## Compiling the Model\n",
        "\n",
        "Next, compile the model. When setting the loss parameter of `model.compile`, you're setting the loss for each of the two outputs (wine quality and wine type).\n",
        "\n",
        "To set more than one loss, use a dictionary of key-value pairs.\n",
        "- You can look at the docs for the losses [here](https://www.tensorflow.org/api_docs/python/tf/keras/losses#functions).\n",
        "    - **Note**: For the desired spelling, please look at the \"Functions\" section of the documentation and not the \"classes\" section on that same page.\n",
        "- wine_type: Since you will be performing binary classification on wine type, you should use the binary crossentropy loss function for it.  Please pass this in as a string.  \n",
        "  - **Hint**, this should be all lowercase.  In the documentation, you'll see this under the \"Functions\" section, not the \"Classes\" section.\n",
        "- wine_quality: since this is a regression output, use the mean squared error.  Please pass it in as a string, all lowercase.\n",
        "  - **Hint**: You may notice that there are two aliases for mean squared error.  Please use the shorter name.\n",
        "\n",
        "\n",
        "You will also set the metric for each of the two outputs.  Again, to set metrics for two or more outputs, use a dictionary with key value pairs.\n",
        "- The metrics documentation is linked [here](https://www.tensorflow.org/api_docs/python/tf/keras/metrics).\n",
        "- For the wine type, please set it to accuracy as a string, all lowercase.\n",
        "- For wine quality, please use the root mean squared error.  Instead of a string, you'll set it to an instance of the class [RootMeanSquaredError](https://www.tensorflow.org/api_docs/python/tf/keras/metrics/RootMeanSquaredError), which belongs to the tf.keras.metrics module.\n",
        "\n",
        "**Note**: If you see the error message \n",
        ">Exception: wine quality loss function is incorrect.\n",
        "\n",
        "- Please also check your other losses and metrics, as the error may be caused by the other three key-value pairs and not the wine quality loss."
      ]
    },
    {
      "cell_type": "code",
      "execution_count": 129,
      "metadata": {
        "deletable": false,
        "id": "LK11duUbUjmh",
        "nbgrader": {
          "cell_type": "code",
          "checksum": "22f45067ca69eb2ccadb43874dbcc27b",
          "grade": false,
          "grade_id": "cell-81afdc4dcca51d5e",
          "locked": false,
          "schema_version": 3,
          "solution": true,
          "task": false
        },
        "outputId": "28e76f7c-de5f-4953-b3cd-d61a05faea7b",
        "colab": {
          "base_uri": "https://localhost:8080/"
        }
      },
      "outputs": [
        {
          "output_type": "stream",
          "name": "stderr",
          "text": [
            "/usr/local/lib/python3.7/dist-packages/keras/optimizer_v2/rmsprop.py:130: UserWarning: The `lr` argument is deprecated, use `learning_rate` instead.\n",
            "  super(RMSprop, self).__init__(name, **kwargs)\n"
          ]
        }
      ],
      "source": [
        "# Please uncomment all lines in this cell and replace those marked with `# YOUR CODE HERE`.\n",
        "# You can select all lines in this code cell with Ctrl+A (Windows/Linux) or Cmd+A (Mac), then press Ctrl+/ (Windows/Linux) or Cmd+/ (Mac) to uncomment.\n",
        "\n",
        "\n",
        "\n",
        "inputs = tf.keras.layers.Input(shape=(11,))\n",
        "rms = tf.keras.optimizers.RMSprop(lr=0.0001)\n",
        "model = final_model(inputs)\n",
        "\n",
        "model.compile(optimizer=rms, \n",
        "              loss = {'wine_type': 'binary_crossentropy', \n",
        "                      'wine_quality': 'mean_squared_error'},\n",
        "              metrics = {'wine_type': 'accuracy',\n",
        "                         'wine_quality': tf.keras.metrics.RootMeanSquaredError()}\n",
        "             )\n"
      ]
    },
    {
      "cell_type": "code",
      "execution_count": 130,
      "metadata": {
        "deletable": false,
        "editable": false,
        "nbgrader": {
          "cell_type": "code",
          "checksum": "88e02238ea5e456ff65e835cc8158054",
          "grade": true,
          "grade_id": "cell-2eeeba02391c4632",
          "locked": true,
          "points": 1,
          "schema_version": 3,
          "solution": false,
          "task": false
        },
        "id": "csnOXvfW6sO4",
        "outputId": "ebe8a7d3-81f5-42e0-c56b-8d24293e8da9",
        "colab": {
          "base_uri": "https://localhost:8080/",
          "height": 286
        }
      },
      "outputs": [
        {
          "output_type": "error",
          "ename": "IndexError",
          "evalue": "ignored",
          "traceback": [
            "\u001b[0;31m---------------------------------------------------------------------------\u001b[0m",
            "\u001b[0;31mIndexError\u001b[0m                                Traceback (most recent call last)",
            "\u001b[0;32m<ipython-input-130-9a25711e305e>\u001b[0m in \u001b[0;36m<module>\u001b[0;34m()\u001b[0m\n\u001b[0;32m----> 1\u001b[0;31m \u001b[0mutils\u001b[0m\u001b[0;34m.\u001b[0m\u001b[0mtest_model_compile\u001b[0m\u001b[0;34m(\u001b[0m\u001b[0mmodel\u001b[0m\u001b[0;34m)\u001b[0m\u001b[0;34m\u001b[0m\u001b[0;34m\u001b[0m\u001b[0m\n\u001b[0m",
            "\u001b[0;32m/content/utils.py\u001b[0m in \u001b[0;36mtest_model_compile\u001b[0;34m(model)\u001b[0m\n\u001b[1;32m    288\u001b[0m         {\n\u001b[1;32m    289\u001b[0m             \u001b[0;34m\"name\"\u001b[0m\u001b[0;34m:\u001b[0m \u001b[0;34m\"metrics_0_check\"\u001b[0m\u001b[0;34m,\u001b[0m\u001b[0;34m\u001b[0m\u001b[0;34m\u001b[0m\u001b[0m\n\u001b[0;32m--> 290\u001b[0;31m             \u001b[0;34m\"result\"\u001b[0m\u001b[0;34m:\u001b[0m \u001b[0mtype\u001b[0m\u001b[0;34m(\u001b[0m\u001b[0mmodel\u001b[0m\u001b[0;34m.\u001b[0m\u001b[0mmetrics\u001b[0m\u001b[0;34m[\u001b[0m\u001b[0;36m0\u001b[0m\u001b[0;34m]\u001b[0m\u001b[0;34m)\u001b[0m\u001b[0;34m,\u001b[0m\u001b[0;34m\u001b[0m\u001b[0;34m\u001b[0m\u001b[0m\n\u001b[0m\u001b[1;32m    291\u001b[0m             \u001b[0;34m\"expected\"\u001b[0m\u001b[0;34m:\u001b[0m \u001b[0mtf\u001b[0m\u001b[0;34m.\u001b[0m\u001b[0mkeras\u001b[0m\u001b[0;34m.\u001b[0m\u001b[0mmetrics\u001b[0m\u001b[0;34m.\u001b[0m\u001b[0mRootMeanSquaredError\u001b[0m\u001b[0;34m,\u001b[0m\u001b[0;34m\u001b[0m\u001b[0;34m\u001b[0m\u001b[0m\n\u001b[1;32m    292\u001b[0m             \u001b[0;34m\"error_message\"\u001b[0m\u001b[0;34m:\u001b[0m \u001b[0;34m'wine quality metrics is incorrect. Please check implementation.'\u001b[0m\u001b[0;34m\u001b[0m\u001b[0;34m\u001b[0m\u001b[0m\n",
            "\u001b[0;31mIndexError\u001b[0m: list index out of range"
          ]
        }
      ],
      "source": [
        "utils.test_model_compile(model)"
      ]
    },
    {
      "cell_type": "markdown",
      "metadata": {
        "id": "90MpAMpWuKm-"
      },
      "source": [
        "## Training the Model\n",
        "\n",
        "Fit the model to the training inputs and outputs. \n",
        "- Check the documentation for [model.fit](https://www.tensorflow.org/api_docs/python/tf/keras/Model#fit).\n",
        "- Remember to use the normalized training set as inputs. \n",
        "- For the validation data, please use the normalized validation set."
      ]
    },
    {
      "cell_type": "code",
      "execution_count": 133,
      "metadata": {
        "deletable": false,
        "id": "_eiZkle4XwiY",
        "nbgrader": {
          "cell_type": "code",
          "checksum": "2ca7664be03bfd6fd3651ae44d17b793",
          "grade": false,
          "grade_id": "cell-0bb56262896f6680",
          "locked": false,
          "schema_version": 3,
          "solution": true,
          "task": false
        },
        "outputId": "9fd19dfe-c28d-4c26-f106-06df25d6f381",
        "colab": {
          "base_uri": "https://localhost:8080/"
        }
      },
      "outputs": [
        {
          "output_type": "stream",
          "name": "stdout",
          "text": [
            "Epoch 1/180\n",
            "99/99 [==============================] - 3s 11ms/step - loss: 27.6581 - wine_quality_loss: 27.0349 - wine_type_loss: 0.6233 - wine_quality_root_mean_squared_error: 5.1995 - wine_type_accuracy: 0.7971 - val_loss: 20.8545 - val_wine_quality_loss: 20.2683 - val_wine_type_loss: 0.5862 - val_wine_quality_root_mean_squared_error: 4.5020 - val_wine_type_accuracy: 0.8314\n",
            "Epoch 2/180\n",
            "99/99 [==============================] - 1s 6ms/step - loss: 14.8220 - wine_quality_loss: 14.2893 - wine_type_loss: 0.5327 - wine_quality_root_mean_squared_error: 3.7801 - wine_type_accuracy: 0.8726 - val_loss: 9.8644 - val_wine_quality_loss: 9.3782 - val_wine_type_loss: 0.4862 - val_wine_quality_root_mean_squared_error: 3.0624 - val_wine_type_accuracy: 0.8352\n",
            "Epoch 3/180\n",
            "99/99 [==============================] - 1s 6ms/step - loss: 6.2029 - wine_quality_loss: 5.7685 - wine_type_loss: 0.4344 - wine_quality_root_mean_squared_error: 2.4018 - wine_type_accuracy: 0.8399 - val_loss: 3.8159 - val_wine_quality_loss: 3.4173 - val_wine_type_loss: 0.3986 - val_wine_quality_root_mean_squared_error: 1.8486 - val_wine_type_accuracy: 0.8314\n",
            "Epoch 4/180\n",
            "99/99 [==============================] - 1s 5ms/step - loss: 2.9311 - wine_quality_loss: 2.5814 - wine_type_loss: 0.3497 - wine_quality_root_mean_squared_error: 1.6067 - wine_type_accuracy: 0.8827 - val_loss: 2.4922 - val_wine_quality_loss: 2.1744 - val_wine_type_loss: 0.3178 - val_wine_quality_root_mean_squared_error: 1.4746 - val_wine_type_accuracy: 0.9075\n",
            "Epoch 5/180\n",
            "99/99 [==============================] - 0s 5ms/step - loss: 2.2999 - wine_quality_loss: 2.0223 - wine_type_loss: 0.2775 - wine_quality_root_mean_squared_error: 1.4221 - wine_type_accuracy: 0.9496 - val_loss: 2.1198 - val_wine_quality_loss: 1.8671 - val_wine_type_loss: 0.2527 - val_wine_quality_root_mean_squared_error: 1.3664 - val_wine_type_accuracy: 0.9645\n",
            "Epoch 6/180\n",
            "99/99 [==============================] - 0s 5ms/step - loss: 2.0057 - wine_quality_loss: 1.7850 - wine_type_loss: 0.2208 - wine_quality_root_mean_squared_error: 1.3360 - wine_type_accuracy: 0.9718 - val_loss: 1.8648 - val_wine_quality_loss: 1.6637 - val_wine_type_loss: 0.2011 - val_wine_quality_root_mean_squared_error: 1.2898 - val_wine_type_accuracy: 0.9785\n",
            "Epoch 7/180\n",
            "99/99 [==============================] - 1s 5ms/step - loss: 1.7924 - wine_quality_loss: 1.6156 - wine_type_loss: 0.1768 - wine_quality_root_mean_squared_error: 1.2711 - wine_type_accuracy: 0.9813 - val_loss: 1.6858 - val_wine_quality_loss: 1.5240 - val_wine_type_loss: 0.1618 - val_wine_quality_root_mean_squared_error: 1.2345 - val_wine_type_accuracy: 0.9835\n",
            "Epoch 8/180\n",
            "99/99 [==============================] - 0s 4ms/step - loss: 1.6299 - wine_quality_loss: 1.4851 - wine_type_loss: 0.1448 - wine_quality_root_mean_squared_error: 1.2187 - wine_type_accuracy: 0.9845 - val_loss: 1.5389 - val_wine_quality_loss: 1.4057 - val_wine_type_loss: 0.1332 - val_wine_quality_root_mean_squared_error: 1.1856 - val_wine_type_accuracy: 0.9886\n",
            "Epoch 9/180\n",
            "99/99 [==============================] - 1s 5ms/step - loss: 1.4983 - wine_quality_loss: 1.3778 - wine_type_loss: 0.1205 - wine_quality_root_mean_squared_error: 1.1738 - wine_type_accuracy: 0.9870 - val_loss: 1.4126 - val_wine_quality_loss: 1.3009 - val_wine_type_loss: 0.1117 - val_wine_quality_root_mean_squared_error: 1.1406 - val_wine_type_accuracy: 0.9911\n",
            "Epoch 10/180\n",
            "99/99 [==============================] - 1s 6ms/step - loss: 1.3864 - wine_quality_loss: 1.2834 - wine_type_loss: 0.1031 - wine_quality_root_mean_squared_error: 1.1329 - wine_type_accuracy: 0.9873 - val_loss: 1.3127 - val_wine_quality_loss: 1.2164 - val_wine_type_loss: 0.0963 - val_wine_quality_root_mean_squared_error: 1.1029 - val_wine_type_accuracy: 0.9911\n",
            "Epoch 11/180\n",
            "99/99 [==============================] - 1s 5ms/step - loss: 1.2924 - wine_quality_loss: 1.2021 - wine_type_loss: 0.0903 - wine_quality_root_mean_squared_error: 1.0964 - wine_type_accuracy: 0.9883 - val_loss: 1.2231 - val_wine_quality_loss: 1.1388 - val_wine_type_loss: 0.0843 - val_wine_quality_root_mean_squared_error: 1.0671 - val_wine_type_accuracy: 0.9924\n",
            "Epoch 12/180\n",
            "99/99 [==============================] - 0s 5ms/step - loss: 1.2091 - wine_quality_loss: 1.1289 - wine_type_loss: 0.0802 - wine_quality_root_mean_squared_error: 1.0625 - wine_type_accuracy: 0.9892 - val_loss: 1.1418 - val_wine_quality_loss: 1.0667 - val_wine_type_loss: 0.0750 - val_wine_quality_root_mean_squared_error: 1.0328 - val_wine_type_accuracy: 0.9924\n",
            "Epoch 13/180\n",
            "99/99 [==============================] - 0s 4ms/step - loss: 1.1315 - wine_quality_loss: 1.0591 - wine_type_loss: 0.0724 - wine_quality_root_mean_squared_error: 1.0291 - wine_type_accuracy: 0.9899 - val_loss: 1.0683 - val_wine_quality_loss: 1.0004 - val_wine_type_loss: 0.0679 - val_wine_quality_root_mean_squared_error: 1.0002 - val_wine_type_accuracy: 0.9924\n",
            "Epoch 14/180\n",
            "99/99 [==============================] - 0s 4ms/step - loss: 1.0638 - wine_quality_loss: 0.9976 - wine_type_loss: 0.0662 - wine_quality_root_mean_squared_error: 0.9988 - wine_type_accuracy: 0.9899 - val_loss: 1.0056 - val_wine_quality_loss: 0.9432 - val_wine_type_loss: 0.0624 - val_wine_quality_root_mean_squared_error: 0.9712 - val_wine_type_accuracy: 0.9924\n",
            "Epoch 15/180\n",
            "99/99 [==============================] - 0s 5ms/step - loss: 1.0058 - wine_quality_loss: 0.9444 - wine_type_loss: 0.0614 - wine_quality_root_mean_squared_error: 0.9718 - wine_type_accuracy: 0.9899 - val_loss: 0.9409 - val_wine_quality_loss: 0.8830 - val_wine_type_loss: 0.0579 - val_wine_quality_root_mean_squared_error: 0.9397 - val_wine_type_accuracy: 0.9924\n",
            "Epoch 16/180\n",
            "99/99 [==============================] - 0s 5ms/step - loss: 0.9454 - wine_quality_loss: 0.8880 - wine_type_loss: 0.0574 - wine_quality_root_mean_squared_error: 0.9423 - wine_type_accuracy: 0.9902 - val_loss: 0.8906 - val_wine_quality_loss: 0.8362 - val_wine_type_loss: 0.0544 - val_wine_quality_root_mean_squared_error: 0.9144 - val_wine_type_accuracy: 0.9924\n",
            "Epoch 17/180\n",
            "99/99 [==============================] - 0s 5ms/step - loss: 0.8955 - wine_quality_loss: 0.8414 - wine_type_loss: 0.0542 - wine_quality_root_mean_squared_error: 0.9173 - wine_type_accuracy: 0.9899 - val_loss: 0.8393 - val_wine_quality_loss: 0.7879 - val_wine_type_loss: 0.0514 - val_wine_quality_root_mean_squared_error: 0.8876 - val_wine_type_accuracy: 0.9911\n",
            "Epoch 18/180\n",
            "99/99 [==============================] - 1s 5ms/step - loss: 0.8483 - wine_quality_loss: 0.7968 - wine_type_loss: 0.0515 - wine_quality_root_mean_squared_error: 0.8926 - wine_type_accuracy: 0.9902 - val_loss: 0.7931 - val_wine_quality_loss: 0.7441 - val_wine_type_loss: 0.0489 - val_wine_quality_root_mean_squared_error: 0.8626 - val_wine_type_accuracy: 0.9924\n",
            "Epoch 19/180\n",
            "99/99 [==============================] - 1s 6ms/step - loss: 0.8048 - wine_quality_loss: 0.7556 - wine_type_loss: 0.0491 - wine_quality_root_mean_squared_error: 0.8693 - wine_type_accuracy: 0.9902 - val_loss: 0.7516 - val_wine_quality_loss: 0.7047 - val_wine_type_loss: 0.0470 - val_wine_quality_root_mean_squared_error: 0.8394 - val_wine_type_accuracy: 0.9924\n",
            "Epoch 20/180\n",
            "99/99 [==============================] - 1s 6ms/step - loss: 0.7626 - wine_quality_loss: 0.7154 - wine_type_loss: 0.0472 - wine_quality_root_mean_squared_error: 0.8458 - wine_type_accuracy: 0.9905 - val_loss: 0.7096 - val_wine_quality_loss: 0.6644 - val_wine_type_loss: 0.0452 - val_wine_quality_root_mean_squared_error: 0.8151 - val_wine_type_accuracy: 0.9924\n",
            "Epoch 21/180\n",
            "99/99 [==============================] - 1s 6ms/step - loss: 0.7258 - wine_quality_loss: 0.6804 - wine_type_loss: 0.0454 - wine_quality_root_mean_squared_error: 0.8249 - wine_type_accuracy: 0.9908 - val_loss: 0.6874 - val_wine_quality_loss: 0.6435 - val_wine_type_loss: 0.0439 - val_wine_quality_root_mean_squared_error: 0.8022 - val_wine_type_accuracy: 0.9924\n",
            "Epoch 22/180\n",
            "99/99 [==============================] - 0s 5ms/step - loss: 0.6906 - wine_quality_loss: 0.6466 - wine_type_loss: 0.0440 - wine_quality_root_mean_squared_error: 0.8041 - wine_type_accuracy: 0.9918 - val_loss: 0.6416 - val_wine_quality_loss: 0.5989 - val_wine_type_loss: 0.0427 - val_wine_quality_root_mean_squared_error: 0.7739 - val_wine_type_accuracy: 0.9924\n",
            "Epoch 23/180\n",
            "99/99 [==============================] - 0s 5ms/step - loss: 0.6589 - wine_quality_loss: 0.6162 - wine_type_loss: 0.0427 - wine_quality_root_mean_squared_error: 0.7850 - wine_type_accuracy: 0.9918 - val_loss: 0.6135 - val_wine_quality_loss: 0.5718 - val_wine_type_loss: 0.0417 - val_wine_quality_root_mean_squared_error: 0.7562 - val_wine_type_accuracy: 0.9924\n",
            "Epoch 24/180\n",
            "99/99 [==============================] - 0s 4ms/step - loss: 0.6259 - wine_quality_loss: 0.5843 - wine_type_loss: 0.0416 - wine_quality_root_mean_squared_error: 0.7644 - wine_type_accuracy: 0.9918 - val_loss: 0.5909 - val_wine_quality_loss: 0.5502 - val_wine_type_loss: 0.0407 - val_wine_quality_root_mean_squared_error: 0.7418 - val_wine_type_accuracy: 0.9937\n",
            "Epoch 25/180\n",
            "99/99 [==============================] - 1s 6ms/step - loss: 0.6018 - wine_quality_loss: 0.5614 - wine_type_loss: 0.0404 - wine_quality_root_mean_squared_error: 0.7493 - wine_type_accuracy: 0.9924 - val_loss: 0.5594 - val_wine_quality_loss: 0.5197 - val_wine_type_loss: 0.0397 - val_wine_quality_root_mean_squared_error: 0.7209 - val_wine_type_accuracy: 0.9937\n",
            "Epoch 26/180\n",
            "99/99 [==============================] - 1s 6ms/step - loss: 0.5774 - wine_quality_loss: 0.5378 - wine_type_loss: 0.0396 - wine_quality_root_mean_squared_error: 0.7334 - wine_type_accuracy: 0.9924 - val_loss: 0.5481 - val_wine_quality_loss: 0.5089 - val_wine_type_loss: 0.0392 - val_wine_quality_root_mean_squared_error: 0.7134 - val_wine_type_accuracy: 0.9937\n",
            "Epoch 27/180\n",
            "99/99 [==============================] - 0s 5ms/step - loss: 0.5550 - wine_quality_loss: 0.5162 - wine_type_loss: 0.0388 - wine_quality_root_mean_squared_error: 0.7185 - wine_type_accuracy: 0.9927 - val_loss: 0.5249 - val_wine_quality_loss: 0.4863 - val_wine_type_loss: 0.0386 - val_wine_quality_root_mean_squared_error: 0.6974 - val_wine_type_accuracy: 0.9937\n",
            "Epoch 28/180\n",
            "99/99 [==============================] - 0s 5ms/step - loss: 0.5351 - wine_quality_loss: 0.4972 - wine_type_loss: 0.0379 - wine_quality_root_mean_squared_error: 0.7051 - wine_type_accuracy: 0.9927 - val_loss: 0.5029 - val_wine_quality_loss: 0.4648 - val_wine_type_loss: 0.0381 - val_wine_quality_root_mean_squared_error: 0.6818 - val_wine_type_accuracy: 0.9937\n",
            "Epoch 29/180\n",
            "99/99 [==============================] - 0s 5ms/step - loss: 0.5146 - wine_quality_loss: 0.4773 - wine_type_loss: 0.0373 - wine_quality_root_mean_squared_error: 0.6909 - wine_type_accuracy: 0.9930 - val_loss: 0.4901 - val_wine_quality_loss: 0.4525 - val_wine_type_loss: 0.0376 - val_wine_quality_root_mean_squared_error: 0.6727 - val_wine_type_accuracy: 0.9937\n",
            "Epoch 30/180\n",
            "99/99 [==============================] - 0s 4ms/step - loss: 0.4989 - wine_quality_loss: 0.4623 - wine_type_loss: 0.0366 - wine_quality_root_mean_squared_error: 0.6799 - wine_type_accuracy: 0.9930 - val_loss: 0.4735 - val_wine_quality_loss: 0.4364 - val_wine_type_loss: 0.0372 - val_wine_quality_root_mean_squared_error: 0.6606 - val_wine_type_accuracy: 0.9937\n",
            "Epoch 31/180\n",
            "99/99 [==============================] - 0s 5ms/step - loss: 0.4832 - wine_quality_loss: 0.4472 - wine_type_loss: 0.0360 - wine_quality_root_mean_squared_error: 0.6687 - wine_type_accuracy: 0.9930 - val_loss: 0.4528 - val_wine_quality_loss: 0.4161 - val_wine_type_loss: 0.0367 - val_wine_quality_root_mean_squared_error: 0.6450 - val_wine_type_accuracy: 0.9937\n",
            "Epoch 32/180\n",
            "99/99 [==============================] - 0s 5ms/step - loss: 0.4678 - wine_quality_loss: 0.4323 - wine_type_loss: 0.0355 - wine_quality_root_mean_squared_error: 0.6575 - wine_type_accuracy: 0.9933 - val_loss: 0.4408 - val_wine_quality_loss: 0.4044 - val_wine_type_loss: 0.0363 - val_wine_quality_root_mean_squared_error: 0.6360 - val_wine_type_accuracy: 0.9937\n",
            "Epoch 33/180\n",
            "99/99 [==============================] - 0s 4ms/step - loss: 0.4571 - wine_quality_loss: 0.4221 - wine_type_loss: 0.0350 - wine_quality_root_mean_squared_error: 0.6497 - wine_type_accuracy: 0.9933 - val_loss: 0.4337 - val_wine_quality_loss: 0.3977 - val_wine_type_loss: 0.0359 - val_wine_quality_root_mean_squared_error: 0.6306 - val_wine_type_accuracy: 0.9937\n",
            "Epoch 34/180\n",
            "99/99 [==============================] - 1s 5ms/step - loss: 0.4447 - wine_quality_loss: 0.4102 - wine_type_loss: 0.0344 - wine_quality_root_mean_squared_error: 0.6405 - wine_type_accuracy: 0.9937 - val_loss: 0.4272 - val_wine_quality_loss: 0.3917 - val_wine_type_loss: 0.0355 - val_wine_quality_root_mean_squared_error: 0.6259 - val_wine_type_accuracy: 0.9937\n",
            "Epoch 35/180\n",
            "99/99 [==============================] - 1s 6ms/step - loss: 0.4336 - wine_quality_loss: 0.3996 - wine_type_loss: 0.0340 - wine_quality_root_mean_squared_error: 0.6321 - wine_type_accuracy: 0.9937 - val_loss: 0.4168 - val_wine_quality_loss: 0.3815 - val_wine_type_loss: 0.0352 - val_wine_quality_root_mean_squared_error: 0.6177 - val_wine_type_accuracy: 0.9937\n",
            "Epoch 36/180\n",
            "99/99 [==============================] - 1s 6ms/step - loss: 0.4243 - wine_quality_loss: 0.3908 - wine_type_loss: 0.0336 - wine_quality_root_mean_squared_error: 0.6251 - wine_type_accuracy: 0.9940 - val_loss: 0.4172 - val_wine_quality_loss: 0.3821 - val_wine_type_loss: 0.0351 - val_wine_quality_root_mean_squared_error: 0.6182 - val_wine_type_accuracy: 0.9937\n",
            "Epoch 37/180\n",
            "99/99 [==============================] - 0s 4ms/step - loss: 0.4174 - wine_quality_loss: 0.3843 - wine_type_loss: 0.0332 - wine_quality_root_mean_squared_error: 0.6199 - wine_type_accuracy: 0.9940 - val_loss: 0.4032 - val_wine_quality_loss: 0.3683 - val_wine_type_loss: 0.0349 - val_wine_quality_root_mean_squared_error: 0.6069 - val_wine_type_accuracy: 0.9937\n",
            "Epoch 38/180\n",
            "99/99 [==============================] - 1s 6ms/step - loss: 0.4097 - wine_quality_loss: 0.3768 - wine_type_loss: 0.0329 - wine_quality_root_mean_squared_error: 0.6138 - wine_type_accuracy: 0.9937 - val_loss: 0.4026 - val_wine_quality_loss: 0.3680 - val_wine_type_loss: 0.0346 - val_wine_quality_root_mean_squared_error: 0.6066 - val_wine_type_accuracy: 0.9937\n",
            "Epoch 39/180\n",
            "99/99 [==============================] - 1s 5ms/step - loss: 0.4032 - wine_quality_loss: 0.3706 - wine_type_loss: 0.0326 - wine_quality_root_mean_squared_error: 0.6088 - wine_type_accuracy: 0.9940 - val_loss: 0.3915 - val_wine_quality_loss: 0.3572 - val_wine_type_loss: 0.0343 - val_wine_quality_root_mean_squared_error: 0.5977 - val_wine_type_accuracy: 0.9937\n",
            "Epoch 40/180\n",
            "99/99 [==============================] - 1s 6ms/step - loss: 0.3960 - wine_quality_loss: 0.3639 - wine_type_loss: 0.0321 - wine_quality_root_mean_squared_error: 0.6032 - wine_type_accuracy: 0.9946 - val_loss: 0.3910 - val_wine_quality_loss: 0.3569 - val_wine_type_loss: 0.0341 - val_wine_quality_root_mean_squared_error: 0.5974 - val_wine_type_accuracy: 0.9937\n",
            "Epoch 41/180\n",
            "99/99 [==============================] - 1s 5ms/step - loss: 0.3902 - wine_quality_loss: 0.3582 - wine_type_loss: 0.0320 - wine_quality_root_mean_squared_error: 0.5985 - wine_type_accuracy: 0.9946 - val_loss: 0.3885 - val_wine_quality_loss: 0.3544 - val_wine_type_loss: 0.0341 - val_wine_quality_root_mean_squared_error: 0.5953 - val_wine_type_accuracy: 0.9937\n",
            "Epoch 42/180\n",
            "99/99 [==============================] - 1s 6ms/step - loss: 0.3866 - wine_quality_loss: 0.3551 - wine_type_loss: 0.0315 - wine_quality_root_mean_squared_error: 0.5959 - wine_type_accuracy: 0.9946 - val_loss: 0.3835 - val_wine_quality_loss: 0.3496 - val_wine_type_loss: 0.0339 - val_wine_quality_root_mean_squared_error: 0.5912 - val_wine_type_accuracy: 0.9949\n",
            "Epoch 43/180\n",
            "99/99 [==============================] - 1s 5ms/step - loss: 0.3815 - wine_quality_loss: 0.3501 - wine_type_loss: 0.0313 - wine_quality_root_mean_squared_error: 0.5917 - wine_type_accuracy: 0.9946 - val_loss: 0.3828 - val_wine_quality_loss: 0.3490 - val_wine_type_loss: 0.0337 - val_wine_quality_root_mean_squared_error: 0.5908 - val_wine_type_accuracy: 0.9949\n",
            "Epoch 44/180\n",
            "99/99 [==============================] - 0s 5ms/step - loss: 0.3773 - wine_quality_loss: 0.3463 - wine_type_loss: 0.0310 - wine_quality_root_mean_squared_error: 0.5885 - wine_type_accuracy: 0.9946 - val_loss: 0.3753 - val_wine_quality_loss: 0.3418 - val_wine_type_loss: 0.0335 - val_wine_quality_root_mean_squared_error: 0.5846 - val_wine_type_accuracy: 0.9949\n",
            "Epoch 45/180\n",
            "99/99 [==============================] - 0s 5ms/step - loss: 0.3736 - wine_quality_loss: 0.3428 - wine_type_loss: 0.0307 - wine_quality_root_mean_squared_error: 0.5855 - wine_type_accuracy: 0.9946 - val_loss: 0.3733 - val_wine_quality_loss: 0.3399 - val_wine_type_loss: 0.0334 - val_wine_quality_root_mean_squared_error: 0.5830 - val_wine_type_accuracy: 0.9949\n",
            "Epoch 46/180\n",
            "99/99 [==============================] - 0s 4ms/step - loss: 0.3703 - wine_quality_loss: 0.3399 - wine_type_loss: 0.0304 - wine_quality_root_mean_squared_error: 0.5830 - wine_type_accuracy: 0.9946 - val_loss: 0.3684 - val_wine_quality_loss: 0.3351 - val_wine_type_loss: 0.0333 - val_wine_quality_root_mean_squared_error: 0.5789 - val_wine_type_accuracy: 0.9937\n",
            "Epoch 47/180\n",
            "99/99 [==============================] - 0s 5ms/step - loss: 0.3661 - wine_quality_loss: 0.3359 - wine_type_loss: 0.0302 - wine_quality_root_mean_squared_error: 0.5796 - wine_type_accuracy: 0.9946 - val_loss: 0.3683 - val_wine_quality_loss: 0.3352 - val_wine_type_loss: 0.0331 - val_wine_quality_root_mean_squared_error: 0.5790 - val_wine_type_accuracy: 0.9949\n",
            "Epoch 48/180\n",
            "99/99 [==============================] - 1s 5ms/step - loss: 0.3635 - wine_quality_loss: 0.3336 - wine_type_loss: 0.0299 - wine_quality_root_mean_squared_error: 0.5776 - wine_type_accuracy: 0.9946 - val_loss: 0.3639 - val_wine_quality_loss: 0.3309 - val_wine_type_loss: 0.0330 - val_wine_quality_root_mean_squared_error: 0.5753 - val_wine_type_accuracy: 0.9949\n",
            "Epoch 49/180\n",
            "99/99 [==============================] - 1s 6ms/step - loss: 0.3613 - wine_quality_loss: 0.3317 - wine_type_loss: 0.0297 - wine_quality_root_mean_squared_error: 0.5759 - wine_type_accuracy: 0.9946 - val_loss: 0.3632 - val_wine_quality_loss: 0.3302 - val_wine_type_loss: 0.0331 - val_wine_quality_root_mean_squared_error: 0.5746 - val_wine_type_accuracy: 0.9937\n",
            "Epoch 50/180\n",
            "99/99 [==============================] - 0s 5ms/step - loss: 0.3575 - wine_quality_loss: 0.3281 - wine_type_loss: 0.0295 - wine_quality_root_mean_squared_error: 0.5728 - wine_type_accuracy: 0.9946 - val_loss: 0.3657 - val_wine_quality_loss: 0.3331 - val_wine_type_loss: 0.0326 - val_wine_quality_root_mean_squared_error: 0.5772 - val_wine_type_accuracy: 0.9949\n",
            "Epoch 51/180\n",
            "99/99 [==============================] - 0s 5ms/step - loss: 0.3562 - wine_quality_loss: 0.3270 - wine_type_loss: 0.0291 - wine_quality_root_mean_squared_error: 0.5719 - wine_type_accuracy: 0.9946 - val_loss: 0.3594 - val_wine_quality_loss: 0.3266 - val_wine_type_loss: 0.0328 - val_wine_quality_root_mean_squared_error: 0.5715 - val_wine_type_accuracy: 0.9937\n",
            "Epoch 52/180\n",
            "99/99 [==============================] - 1s 5ms/step - loss: 0.3525 - wine_quality_loss: 0.3235 - wine_type_loss: 0.0290 - wine_quality_root_mean_squared_error: 0.5688 - wine_type_accuracy: 0.9946 - val_loss: 0.3562 - val_wine_quality_loss: 0.3237 - val_wine_type_loss: 0.0325 - val_wine_quality_root_mean_squared_error: 0.5689 - val_wine_type_accuracy: 0.9937\n",
            "Epoch 53/180\n",
            "99/99 [==============================] - 1s 5ms/step - loss: 0.3515 - wine_quality_loss: 0.3228 - wine_type_loss: 0.0287 - wine_quality_root_mean_squared_error: 0.5681 - wine_type_accuracy: 0.9946 - val_loss: 0.3550 - val_wine_quality_loss: 0.3225 - val_wine_type_loss: 0.0324 - val_wine_quality_root_mean_squared_error: 0.5679 - val_wine_type_accuracy: 0.9937\n",
            "Epoch 54/180\n",
            "99/99 [==============================] - 0s 4ms/step - loss: 0.3493 - wine_quality_loss: 0.3208 - wine_type_loss: 0.0285 - wine_quality_root_mean_squared_error: 0.5664 - wine_type_accuracy: 0.9946 - val_loss: 0.3647 - val_wine_quality_loss: 0.3323 - val_wine_type_loss: 0.0324 - val_wine_quality_root_mean_squared_error: 0.5764 - val_wine_type_accuracy: 0.9937\n",
            "Epoch 55/180\n",
            "99/99 [==============================] - 1s 5ms/step - loss: 0.3477 - wine_quality_loss: 0.3194 - wine_type_loss: 0.0283 - wine_quality_root_mean_squared_error: 0.5652 - wine_type_accuracy: 0.9946 - val_loss: 0.3556 - val_wine_quality_loss: 0.3232 - val_wine_type_loss: 0.0323 - val_wine_quality_root_mean_squared_error: 0.5685 - val_wine_type_accuracy: 0.9937\n",
            "Epoch 56/180\n",
            "99/99 [==============================] - 0s 5ms/step - loss: 0.3452 - wine_quality_loss: 0.3171 - wine_type_loss: 0.0281 - wine_quality_root_mean_squared_error: 0.5631 - wine_type_accuracy: 0.9946 - val_loss: 0.3520 - val_wine_quality_loss: 0.3200 - val_wine_type_loss: 0.0320 - val_wine_quality_root_mean_squared_error: 0.5657 - val_wine_type_accuracy: 0.9937\n",
            "Epoch 57/180\n",
            "99/99 [==============================] - 0s 5ms/step - loss: 0.3436 - wine_quality_loss: 0.3158 - wine_type_loss: 0.0279 - wine_quality_root_mean_squared_error: 0.5619 - wine_type_accuracy: 0.9946 - val_loss: 0.3638 - val_wine_quality_loss: 0.3318 - val_wine_type_loss: 0.0320 - val_wine_quality_root_mean_squared_error: 0.5761 - val_wine_type_accuracy: 0.9937\n",
            "Epoch 58/180\n",
            "99/99 [==============================] - 0s 4ms/step - loss: 0.3422 - wine_quality_loss: 0.3145 - wine_type_loss: 0.0277 - wine_quality_root_mean_squared_error: 0.5608 - wine_type_accuracy: 0.9946 - val_loss: 0.3509 - val_wine_quality_loss: 0.3191 - val_wine_type_loss: 0.0318 - val_wine_quality_root_mean_squared_error: 0.5649 - val_wine_type_accuracy: 0.9937\n",
            "Epoch 59/180\n",
            "99/99 [==============================] - 0s 5ms/step - loss: 0.3406 - wine_quality_loss: 0.3131 - wine_type_loss: 0.0274 - wine_quality_root_mean_squared_error: 0.5596 - wine_type_accuracy: 0.9946 - val_loss: 0.3635 - val_wine_quality_loss: 0.3317 - val_wine_type_loss: 0.0318 - val_wine_quality_root_mean_squared_error: 0.5759 - val_wine_type_accuracy: 0.9937\n",
            "Epoch 60/180\n",
            "99/99 [==============================] - 1s 9ms/step - loss: 0.3384 - wine_quality_loss: 0.3111 - wine_type_loss: 0.0273 - wine_quality_root_mean_squared_error: 0.5578 - wine_type_accuracy: 0.9946 - val_loss: 0.3532 - val_wine_quality_loss: 0.3215 - val_wine_type_loss: 0.0317 - val_wine_quality_root_mean_squared_error: 0.5670 - val_wine_type_accuracy: 0.9937\n",
            "Epoch 61/180\n",
            "99/99 [==============================] - 1s 9ms/step - loss: 0.3386 - wine_quality_loss: 0.3114 - wine_type_loss: 0.0272 - wine_quality_root_mean_squared_error: 0.5580 - wine_type_accuracy: 0.9946 - val_loss: 0.3507 - val_wine_quality_loss: 0.3191 - val_wine_type_loss: 0.0316 - val_wine_quality_root_mean_squared_error: 0.5649 - val_wine_type_accuracy: 0.9937\n",
            "Epoch 62/180\n",
            "99/99 [==============================] - 1s 8ms/step - loss: 0.3351 - wine_quality_loss: 0.3082 - wine_type_loss: 0.0270 - wine_quality_root_mean_squared_error: 0.5551 - wine_type_accuracy: 0.9946 - val_loss: 0.3488 - val_wine_quality_loss: 0.3175 - val_wine_type_loss: 0.0314 - val_wine_quality_root_mean_squared_error: 0.5634 - val_wine_type_accuracy: 0.9937\n",
            "Epoch 63/180\n",
            "99/99 [==============================] - 1s 9ms/step - loss: 0.3336 - wine_quality_loss: 0.3068 - wine_type_loss: 0.0268 - wine_quality_root_mean_squared_error: 0.5539 - wine_type_accuracy: 0.9946 - val_loss: 0.3755 - val_wine_quality_loss: 0.3441 - val_wine_type_loss: 0.0314 - val_wine_quality_root_mean_squared_error: 0.5866 - val_wine_type_accuracy: 0.9937\n",
            "Epoch 64/180\n",
            "99/99 [==============================] - 1s 6ms/step - loss: 0.3338 - wine_quality_loss: 0.3072 - wine_type_loss: 0.0266 - wine_quality_root_mean_squared_error: 0.5543 - wine_type_accuracy: 0.9946 - val_loss: 0.3530 - val_wine_quality_loss: 0.3217 - val_wine_type_loss: 0.0313 - val_wine_quality_root_mean_squared_error: 0.5672 - val_wine_type_accuracy: 0.9937\n",
            "Epoch 65/180\n",
            "99/99 [==============================] - 1s 5ms/step - loss: 0.3321 - wine_quality_loss: 0.3057 - wine_type_loss: 0.0264 - wine_quality_root_mean_squared_error: 0.5529 - wine_type_accuracy: 0.9946 - val_loss: 0.3521 - val_wine_quality_loss: 0.3208 - val_wine_type_loss: 0.0313 - val_wine_quality_root_mean_squared_error: 0.5664 - val_wine_type_accuracy: 0.9937\n",
            "Epoch 66/180\n",
            "99/99 [==============================] - 0s 5ms/step - loss: 0.3311 - wine_quality_loss: 0.3049 - wine_type_loss: 0.0262 - wine_quality_root_mean_squared_error: 0.5522 - wine_type_accuracy: 0.9946 - val_loss: 0.3486 - val_wine_quality_loss: 0.3178 - val_wine_type_loss: 0.0308 - val_wine_quality_root_mean_squared_error: 0.5637 - val_wine_type_accuracy: 0.9949\n",
            "Epoch 67/180\n",
            "99/99 [==============================] - 0s 5ms/step - loss: 0.3302 - wine_quality_loss: 0.3042 - wine_type_loss: 0.0260 - wine_quality_root_mean_squared_error: 0.5516 - wine_type_accuracy: 0.9949 - val_loss: 0.3506 - val_wine_quality_loss: 0.3198 - val_wine_type_loss: 0.0308 - val_wine_quality_root_mean_squared_error: 0.5655 - val_wine_type_accuracy: 0.9949\n",
            "Epoch 68/180\n",
            "99/99 [==============================] - 0s 5ms/step - loss: 0.3288 - wine_quality_loss: 0.3029 - wine_type_loss: 0.0259 - wine_quality_root_mean_squared_error: 0.5504 - wine_type_accuracy: 0.9949 - val_loss: 0.3463 - val_wine_quality_loss: 0.3156 - val_wine_type_loss: 0.0307 - val_wine_quality_root_mean_squared_error: 0.5618 - val_wine_type_accuracy: 0.9937\n",
            "Epoch 69/180\n",
            "99/99 [==============================] - 1s 5ms/step - loss: 0.3274 - wine_quality_loss: 0.3017 - wine_type_loss: 0.0257 - wine_quality_root_mean_squared_error: 0.5493 - wine_type_accuracy: 0.9949 - val_loss: 0.3454 - val_wine_quality_loss: 0.3148 - val_wine_type_loss: 0.0307 - val_wine_quality_root_mean_squared_error: 0.5610 - val_wine_type_accuracy: 0.9937\n",
            "Epoch 70/180\n",
            "99/99 [==============================] - 1s 7ms/step - loss: 0.3263 - wine_quality_loss: 0.3008 - wine_type_loss: 0.0255 - wine_quality_root_mean_squared_error: 0.5484 - wine_type_accuracy: 0.9949 - val_loss: 0.3508 - val_wine_quality_loss: 0.3203 - val_wine_type_loss: 0.0305 - val_wine_quality_root_mean_squared_error: 0.5659 - val_wine_type_accuracy: 0.9937\n",
            "Epoch 71/180\n",
            "99/99 [==============================] - 1s 6ms/step - loss: 0.3247 - wine_quality_loss: 0.2994 - wine_type_loss: 0.0253 - wine_quality_root_mean_squared_error: 0.5472 - wine_type_accuracy: 0.9949 - val_loss: 0.3525 - val_wine_quality_loss: 0.3221 - val_wine_type_loss: 0.0304 - val_wine_quality_root_mean_squared_error: 0.5675 - val_wine_type_accuracy: 0.9937\n",
            "Epoch 72/180\n",
            "99/99 [==============================] - 1s 5ms/step - loss: 0.3253 - wine_quality_loss: 0.3001 - wine_type_loss: 0.0252 - wine_quality_root_mean_squared_error: 0.5478 - wine_type_accuracy: 0.9949 - val_loss: 0.3469 - val_wine_quality_loss: 0.3167 - val_wine_type_loss: 0.0302 - val_wine_quality_root_mean_squared_error: 0.5628 - val_wine_type_accuracy: 0.9949\n",
            "Epoch 73/180\n",
            "99/99 [==============================] - 1s 5ms/step - loss: 0.3245 - wine_quality_loss: 0.2995 - wine_type_loss: 0.0250 - wine_quality_root_mean_squared_error: 0.5473 - wine_type_accuracy: 0.9952 - val_loss: 0.3437 - val_wine_quality_loss: 0.3136 - val_wine_type_loss: 0.0301 - val_wine_quality_root_mean_squared_error: 0.5600 - val_wine_type_accuracy: 0.9949\n",
            "Epoch 74/180\n",
            "99/99 [==============================] - 1s 5ms/step - loss: 0.3238 - wine_quality_loss: 0.2990 - wine_type_loss: 0.0248 - wine_quality_root_mean_squared_error: 0.5468 - wine_type_accuracy: 0.9952 - val_loss: 0.3432 - val_wine_quality_loss: 0.3132 - val_wine_type_loss: 0.0301 - val_wine_quality_root_mean_squared_error: 0.5596 - val_wine_type_accuracy: 0.9949\n",
            "Epoch 75/180\n",
            "99/99 [==============================] - 0s 5ms/step - loss: 0.3216 - wine_quality_loss: 0.2970 - wine_type_loss: 0.0246 - wine_quality_root_mean_squared_error: 0.5450 - wine_type_accuracy: 0.9952 - val_loss: 0.3450 - val_wine_quality_loss: 0.3150 - val_wine_type_loss: 0.0300 - val_wine_quality_root_mean_squared_error: 0.5612 - val_wine_type_accuracy: 0.9949\n",
            "Epoch 76/180\n",
            "99/99 [==============================] - 0s 5ms/step - loss: 0.3208 - wine_quality_loss: 0.2963 - wine_type_loss: 0.0245 - wine_quality_root_mean_squared_error: 0.5444 - wine_type_accuracy: 0.9952 - val_loss: 0.3552 - val_wine_quality_loss: 0.3253 - val_wine_type_loss: 0.0299 - val_wine_quality_root_mean_squared_error: 0.5703 - val_wine_type_accuracy: 0.9949\n",
            "Epoch 77/180\n",
            "99/99 [==============================] - 0s 5ms/step - loss: 0.3196 - wine_quality_loss: 0.2952 - wine_type_loss: 0.0244 - wine_quality_root_mean_squared_error: 0.5433 - wine_type_accuracy: 0.9952 - val_loss: 0.3432 - val_wine_quality_loss: 0.3135 - val_wine_type_loss: 0.0297 - val_wine_quality_root_mean_squared_error: 0.5599 - val_wine_type_accuracy: 0.9949\n",
            "Epoch 78/180\n",
            "99/99 [==============================] - 1s 5ms/step - loss: 0.3189 - wine_quality_loss: 0.2948 - wine_type_loss: 0.0241 - wine_quality_root_mean_squared_error: 0.5430 - wine_type_accuracy: 0.9952 - val_loss: 0.3487 - val_wine_quality_loss: 0.3189 - val_wine_type_loss: 0.0298 - val_wine_quality_root_mean_squared_error: 0.5647 - val_wine_type_accuracy: 0.9937\n",
            "Epoch 79/180\n",
            "99/99 [==============================] - 0s 4ms/step - loss: 0.3180 - wine_quality_loss: 0.2939 - wine_type_loss: 0.0240 - wine_quality_root_mean_squared_error: 0.5422 - wine_type_accuracy: 0.9952 - val_loss: 0.3601 - val_wine_quality_loss: 0.3305 - val_wine_type_loss: 0.0296 - val_wine_quality_root_mean_squared_error: 0.5749 - val_wine_type_accuracy: 0.9949\n",
            "Epoch 80/180\n",
            "99/99 [==============================] - 0s 4ms/step - loss: 0.3177 - wine_quality_loss: 0.2937 - wine_type_loss: 0.0239 - wine_quality_root_mean_squared_error: 0.5420 - wine_type_accuracy: 0.9952 - val_loss: 0.3418 - val_wine_quality_loss: 0.3122 - val_wine_type_loss: 0.0296 - val_wine_quality_root_mean_squared_error: 0.5588 - val_wine_type_accuracy: 0.9949\n",
            "Epoch 81/180\n",
            "99/99 [==============================] - 1s 6ms/step - loss: 0.3169 - wine_quality_loss: 0.2932 - wine_type_loss: 0.0238 - wine_quality_root_mean_squared_error: 0.5415 - wine_type_accuracy: 0.9952 - val_loss: 0.3591 - val_wine_quality_loss: 0.3297 - val_wine_type_loss: 0.0295 - val_wine_quality_root_mean_squared_error: 0.5742 - val_wine_type_accuracy: 0.9949\n",
            "Epoch 82/180\n",
            "99/99 [==============================] - 1s 7ms/step - loss: 0.3167 - wine_quality_loss: 0.2931 - wine_type_loss: 0.0236 - wine_quality_root_mean_squared_error: 0.5414 - wine_type_accuracy: 0.9952 - val_loss: 0.3456 - val_wine_quality_loss: 0.3163 - val_wine_type_loss: 0.0293 - val_wine_quality_root_mean_squared_error: 0.5624 - val_wine_type_accuracy: 0.9949\n",
            "Epoch 83/180\n",
            "99/99 [==============================] - 0s 5ms/step - loss: 0.3152 - wine_quality_loss: 0.2917 - wine_type_loss: 0.0235 - wine_quality_root_mean_squared_error: 0.5401 - wine_type_accuracy: 0.9952 - val_loss: 0.3460 - val_wine_quality_loss: 0.3168 - val_wine_type_loss: 0.0292 - val_wine_quality_root_mean_squared_error: 0.5628 - val_wine_type_accuracy: 0.9949\n",
            "Epoch 84/180\n",
            "99/99 [==============================] - 1s 5ms/step - loss: 0.3144 - wine_quality_loss: 0.2911 - wine_type_loss: 0.0233 - wine_quality_root_mean_squared_error: 0.5395 - wine_type_accuracy: 0.9952 - val_loss: 0.3447 - val_wine_quality_loss: 0.3155 - val_wine_type_loss: 0.0292 - val_wine_quality_root_mean_squared_error: 0.5617 - val_wine_type_accuracy: 0.9949\n",
            "Epoch 85/180\n",
            "99/99 [==============================] - 1s 6ms/step - loss: 0.3129 - wine_quality_loss: 0.2898 - wine_type_loss: 0.0232 - wine_quality_root_mean_squared_error: 0.5383 - wine_type_accuracy: 0.9952 - val_loss: 0.3466 - val_wine_quality_loss: 0.3176 - val_wine_type_loss: 0.0291 - val_wine_quality_root_mean_squared_error: 0.5635 - val_wine_type_accuracy: 0.9949\n",
            "Epoch 86/180\n",
            "99/99 [==============================] - 1s 5ms/step - loss: 0.3132 - wine_quality_loss: 0.2903 - wine_type_loss: 0.0230 - wine_quality_root_mean_squared_error: 0.5388 - wine_type_accuracy: 0.9952 - val_loss: 0.3420 - val_wine_quality_loss: 0.3130 - val_wine_type_loss: 0.0290 - val_wine_quality_root_mean_squared_error: 0.5595 - val_wine_type_accuracy: 0.9949\n",
            "Epoch 87/180\n",
            "99/99 [==============================] - 1s 6ms/step - loss: 0.3110 - wine_quality_loss: 0.2882 - wine_type_loss: 0.0228 - wine_quality_root_mean_squared_error: 0.5368 - wine_type_accuracy: 0.9952 - val_loss: 0.3418 - val_wine_quality_loss: 0.3129 - val_wine_type_loss: 0.0289 - val_wine_quality_root_mean_squared_error: 0.5594 - val_wine_type_accuracy: 0.9949\n",
            "Epoch 88/180\n",
            "99/99 [==============================] - 1s 5ms/step - loss: 0.3112 - wine_quality_loss: 0.2884 - wine_type_loss: 0.0227 - wine_quality_root_mean_squared_error: 0.5371 - wine_type_accuracy: 0.9952 - val_loss: 0.3471 - val_wine_quality_loss: 0.3182 - val_wine_type_loss: 0.0288 - val_wine_quality_root_mean_squared_error: 0.5641 - val_wine_type_accuracy: 0.9949\n",
            "Epoch 89/180\n",
            "99/99 [==============================] - 0s 5ms/step - loss: 0.3105 - wine_quality_loss: 0.2880 - wine_type_loss: 0.0225 - wine_quality_root_mean_squared_error: 0.5366 - wine_type_accuracy: 0.9952 - val_loss: 0.3527 - val_wine_quality_loss: 0.3239 - val_wine_type_loss: 0.0288 - val_wine_quality_root_mean_squared_error: 0.5691 - val_wine_type_accuracy: 0.9949\n",
            "Epoch 90/180\n",
            "99/99 [==============================] - 0s 5ms/step - loss: 0.3107 - wine_quality_loss: 0.2883 - wine_type_loss: 0.0225 - wine_quality_root_mean_squared_error: 0.5369 - wine_type_accuracy: 0.9952 - val_loss: 0.3412 - val_wine_quality_loss: 0.3124 - val_wine_type_loss: 0.0287 - val_wine_quality_root_mean_squared_error: 0.5590 - val_wine_type_accuracy: 0.9949\n",
            "Epoch 91/180\n",
            "99/99 [==============================] - 1s 5ms/step - loss: 0.3099 - wine_quality_loss: 0.2876 - wine_type_loss: 0.0223 - wine_quality_root_mean_squared_error: 0.5363 - wine_type_accuracy: 0.9952 - val_loss: 0.3419 - val_wine_quality_loss: 0.3132 - val_wine_type_loss: 0.0287 - val_wine_quality_root_mean_squared_error: 0.5597 - val_wine_type_accuracy: 0.9949\n",
            "Epoch 92/180\n",
            "99/99 [==============================] - 1s 11ms/step - loss: 0.3093 - wine_quality_loss: 0.2871 - wine_type_loss: 0.0221 - wine_quality_root_mean_squared_error: 0.5359 - wine_type_accuracy: 0.9952 - val_loss: 0.3410 - val_wine_quality_loss: 0.3123 - val_wine_type_loss: 0.0287 - val_wine_quality_root_mean_squared_error: 0.5588 - val_wine_type_accuracy: 0.9949\n",
            "Epoch 93/180\n",
            "99/99 [==============================] - 1s 14ms/step - loss: 0.3074 - wine_quality_loss: 0.2854 - wine_type_loss: 0.0221 - wine_quality_root_mean_squared_error: 0.5342 - wine_type_accuracy: 0.9952 - val_loss: 0.3410 - val_wine_quality_loss: 0.3124 - val_wine_type_loss: 0.0285 - val_wine_quality_root_mean_squared_error: 0.5590 - val_wine_type_accuracy: 0.9949\n",
            "Epoch 94/180\n",
            "99/99 [==============================] - 1s 5ms/step - loss: 0.3069 - wine_quality_loss: 0.2850 - wine_type_loss: 0.0219 - wine_quality_root_mean_squared_error: 0.5338 - wine_type_accuracy: 0.9952 - val_loss: 0.3418 - val_wine_quality_loss: 0.3134 - val_wine_type_loss: 0.0284 - val_wine_quality_root_mean_squared_error: 0.5598 - val_wine_type_accuracy: 0.9949\n",
            "Epoch 95/180\n",
            "99/99 [==============================] - 1s 5ms/step - loss: 0.3073 - wine_quality_loss: 0.2855 - wine_type_loss: 0.0218 - wine_quality_root_mean_squared_error: 0.5343 - wine_type_accuracy: 0.9952 - val_loss: 0.3379 - val_wine_quality_loss: 0.3095 - val_wine_type_loss: 0.0284 - val_wine_quality_root_mean_squared_error: 0.5563 - val_wine_type_accuracy: 0.9949\n",
            "Epoch 96/180\n",
            "99/99 [==============================] - 0s 5ms/step - loss: 0.3055 - wine_quality_loss: 0.2839 - wine_type_loss: 0.0216 - wine_quality_root_mean_squared_error: 0.5328 - wine_type_accuracy: 0.9956 - val_loss: 0.3427 - val_wine_quality_loss: 0.3144 - val_wine_type_loss: 0.0283 - val_wine_quality_root_mean_squared_error: 0.5607 - val_wine_type_accuracy: 0.9949\n",
            "Epoch 97/180\n",
            "99/99 [==============================] - 0s 4ms/step - loss: 0.3050 - wine_quality_loss: 0.2834 - wine_type_loss: 0.0216 - wine_quality_root_mean_squared_error: 0.5324 - wine_type_accuracy: 0.9952 - val_loss: 0.3411 - val_wine_quality_loss: 0.3128 - val_wine_type_loss: 0.0283 - val_wine_quality_root_mean_squared_error: 0.5593 - val_wine_type_accuracy: 0.9949\n",
            "Epoch 98/180\n",
            "99/99 [==============================] - 0s 5ms/step - loss: 0.3053 - wine_quality_loss: 0.2839 - wine_type_loss: 0.0214 - wine_quality_root_mean_squared_error: 0.5328 - wine_type_accuracy: 0.9952 - val_loss: 0.3502 - val_wine_quality_loss: 0.3221 - val_wine_type_loss: 0.0281 - val_wine_quality_root_mean_squared_error: 0.5675 - val_wine_type_accuracy: 0.9949\n",
            "Epoch 99/180\n",
            "99/99 [==============================] - 0s 4ms/step - loss: 0.3037 - wine_quality_loss: 0.2824 - wine_type_loss: 0.0213 - wine_quality_root_mean_squared_error: 0.5314 - wine_type_accuracy: 0.9956 - val_loss: 0.3405 - val_wine_quality_loss: 0.3126 - val_wine_type_loss: 0.0280 - val_wine_quality_root_mean_squared_error: 0.5591 - val_wine_type_accuracy: 0.9949\n",
            "Epoch 100/180\n",
            "99/99 [==============================] - 1s 5ms/step - loss: 0.3025 - wine_quality_loss: 0.2813 - wine_type_loss: 0.0211 - wine_quality_root_mean_squared_error: 0.5304 - wine_type_accuracy: 0.9956 - val_loss: 0.3473 - val_wine_quality_loss: 0.3194 - val_wine_type_loss: 0.0280 - val_wine_quality_root_mean_squared_error: 0.5651 - val_wine_type_accuracy: 0.9949\n",
            "Epoch 101/180\n",
            "99/99 [==============================] - 1s 6ms/step - loss: 0.3025 - wine_quality_loss: 0.2816 - wine_type_loss: 0.0209 - wine_quality_root_mean_squared_error: 0.5307 - wine_type_accuracy: 0.9959 - val_loss: 0.3411 - val_wine_quality_loss: 0.3130 - val_wine_type_loss: 0.0281 - val_wine_quality_root_mean_squared_error: 0.5594 - val_wine_type_accuracy: 0.9949\n",
            "Epoch 102/180\n",
            "99/99 [==============================] - 0s 5ms/step - loss: 0.3014 - wine_quality_loss: 0.2805 - wine_type_loss: 0.0210 - wine_quality_root_mean_squared_error: 0.5296 - wine_type_accuracy: 0.9959 - val_loss: 0.3395 - val_wine_quality_loss: 0.3115 - val_wine_type_loss: 0.0280 - val_wine_quality_root_mean_squared_error: 0.5582 - val_wine_type_accuracy: 0.9949\n",
            "Epoch 103/180\n",
            "99/99 [==============================] - 0s 5ms/step - loss: 0.3004 - wine_quality_loss: 0.2795 - wine_type_loss: 0.0208 - wine_quality_root_mean_squared_error: 0.5287 - wine_type_accuracy: 0.9956 - val_loss: 0.3416 - val_wine_quality_loss: 0.3137 - val_wine_type_loss: 0.0279 - val_wine_quality_root_mean_squared_error: 0.5601 - val_wine_type_accuracy: 0.9949\n",
            "Epoch 104/180\n",
            "99/99 [==============================] - 0s 5ms/step - loss: 0.2993 - wine_quality_loss: 0.2786 - wine_type_loss: 0.0207 - wine_quality_root_mean_squared_error: 0.5279 - wine_type_accuracy: 0.9956 - val_loss: 0.3411 - val_wine_quality_loss: 0.3133 - val_wine_type_loss: 0.0279 - val_wine_quality_root_mean_squared_error: 0.5597 - val_wine_type_accuracy: 0.9949\n",
            "Epoch 105/180\n",
            "99/99 [==============================] - 0s 5ms/step - loss: 0.3009 - wine_quality_loss: 0.2803 - wine_type_loss: 0.0206 - wine_quality_root_mean_squared_error: 0.5294 - wine_type_accuracy: 0.9956 - val_loss: 0.3396 - val_wine_quality_loss: 0.3118 - val_wine_type_loss: 0.0278 - val_wine_quality_root_mean_squared_error: 0.5584 - val_wine_type_accuracy: 0.9949\n",
            "Epoch 106/180\n",
            "99/99 [==============================] - 0s 5ms/step - loss: 0.2999 - wine_quality_loss: 0.2794 - wine_type_loss: 0.0205 - wine_quality_root_mean_squared_error: 0.5286 - wine_type_accuracy: 0.9962 - val_loss: 0.3399 - val_wine_quality_loss: 0.3121 - val_wine_type_loss: 0.0278 - val_wine_quality_root_mean_squared_error: 0.5586 - val_wine_type_accuracy: 0.9949\n",
            "Epoch 107/180\n",
            "99/99 [==============================] - 0s 5ms/step - loss: 0.2989 - wine_quality_loss: 0.2786 - wine_type_loss: 0.0204 - wine_quality_root_mean_squared_error: 0.5278 - wine_type_accuracy: 0.9959 - val_loss: 0.3421 - val_wine_quality_loss: 0.3143 - val_wine_type_loss: 0.0277 - val_wine_quality_root_mean_squared_error: 0.5606 - val_wine_type_accuracy: 0.9949\n",
            "Epoch 108/180\n",
            "99/99 [==============================] - 0s 5ms/step - loss: 0.2983 - wine_quality_loss: 0.2781 - wine_type_loss: 0.0202 - wine_quality_root_mean_squared_error: 0.5273 - wine_type_accuracy: 0.9959 - val_loss: 0.3428 - val_wine_quality_loss: 0.3150 - val_wine_type_loss: 0.0277 - val_wine_quality_root_mean_squared_error: 0.5613 - val_wine_type_accuracy: 0.9949\n",
            "Epoch 109/180\n",
            "99/99 [==============================] - 0s 4ms/step - loss: 0.2984 - wine_quality_loss: 0.2783 - wine_type_loss: 0.0201 - wine_quality_root_mean_squared_error: 0.5276 - wine_type_accuracy: 0.9959 - val_loss: 0.3452 - val_wine_quality_loss: 0.3175 - val_wine_type_loss: 0.0277 - val_wine_quality_root_mean_squared_error: 0.5634 - val_wine_type_accuracy: 0.9949\n",
            "Epoch 110/180\n",
            "99/99 [==============================] - 1s 5ms/step - loss: 0.2971 - wine_quality_loss: 0.2771 - wine_type_loss: 0.0200 - wine_quality_root_mean_squared_error: 0.5264 - wine_type_accuracy: 0.9959 - val_loss: 0.3512 - val_wine_quality_loss: 0.3235 - val_wine_type_loss: 0.0277 - val_wine_quality_root_mean_squared_error: 0.5688 - val_wine_type_accuracy: 0.9949\n",
            "Epoch 111/180\n",
            "99/99 [==============================] - 1s 5ms/step - loss: 0.2981 - wine_quality_loss: 0.2781 - wine_type_loss: 0.0199 - wine_quality_root_mean_squared_error: 0.5274 - wine_type_accuracy: 0.9959 - val_loss: 0.3399 - val_wine_quality_loss: 0.3124 - val_wine_type_loss: 0.0275 - val_wine_quality_root_mean_squared_error: 0.5589 - val_wine_type_accuracy: 0.9949\n",
            "Epoch 112/180\n",
            "99/99 [==============================] - 1s 6ms/step - loss: 0.2959 - wine_quality_loss: 0.2761 - wine_type_loss: 0.0198 - wine_quality_root_mean_squared_error: 0.5254 - wine_type_accuracy: 0.9959 - val_loss: 0.3425 - val_wine_quality_loss: 0.3151 - val_wine_type_loss: 0.0273 - val_wine_quality_root_mean_squared_error: 0.5614 - val_wine_type_accuracy: 0.9949\n",
            "Epoch 113/180\n",
            "99/99 [==============================] - 1s 6ms/step - loss: 0.2949 - wine_quality_loss: 0.2753 - wine_type_loss: 0.0196 - wine_quality_root_mean_squared_error: 0.5247 - wine_type_accuracy: 0.9962 - val_loss: 0.3401 - val_wine_quality_loss: 0.3127 - val_wine_type_loss: 0.0274 - val_wine_quality_root_mean_squared_error: 0.5592 - val_wine_type_accuracy: 0.9949\n",
            "Epoch 114/180\n",
            "99/99 [==============================] - 0s 5ms/step - loss: 0.2944 - wine_quality_loss: 0.2749 - wine_type_loss: 0.0195 - wine_quality_root_mean_squared_error: 0.5243 - wine_type_accuracy: 0.9962 - val_loss: 0.3442 - val_wine_quality_loss: 0.3168 - val_wine_type_loss: 0.0274 - val_wine_quality_root_mean_squared_error: 0.5629 - val_wine_type_accuracy: 0.9949\n",
            "Epoch 115/180\n",
            "99/99 [==============================] - 0s 5ms/step - loss: 0.2944 - wine_quality_loss: 0.2749 - wine_type_loss: 0.0195 - wine_quality_root_mean_squared_error: 0.5243 - wine_type_accuracy: 0.9962 - val_loss: 0.3398 - val_wine_quality_loss: 0.3124 - val_wine_type_loss: 0.0274 - val_wine_quality_root_mean_squared_error: 0.5590 - val_wine_type_accuracy: 0.9949\n",
            "Epoch 116/180\n",
            "99/99 [==============================] - 1s 6ms/step - loss: 0.2935 - wine_quality_loss: 0.2741 - wine_type_loss: 0.0194 - wine_quality_root_mean_squared_error: 0.5235 - wine_type_accuracy: 0.9962 - val_loss: 0.3394 - val_wine_quality_loss: 0.3122 - val_wine_type_loss: 0.0272 - val_wine_quality_root_mean_squared_error: 0.5587 - val_wine_type_accuracy: 0.9949\n",
            "Epoch 117/180\n",
            "99/99 [==============================] - 1s 6ms/step - loss: 0.2938 - wine_quality_loss: 0.2745 - wine_type_loss: 0.0193 - wine_quality_root_mean_squared_error: 0.5239 - wine_type_accuracy: 0.9962 - val_loss: 0.3426 - val_wine_quality_loss: 0.3155 - val_wine_type_loss: 0.0272 - val_wine_quality_root_mean_squared_error: 0.5617 - val_wine_type_accuracy: 0.9949\n",
            "Epoch 118/180\n",
            "99/99 [==============================] - 1s 5ms/step - loss: 0.2931 - wine_quality_loss: 0.2740 - wine_type_loss: 0.0191 - wine_quality_root_mean_squared_error: 0.5234 - wine_type_accuracy: 0.9962 - val_loss: 0.3410 - val_wine_quality_loss: 0.3138 - val_wine_type_loss: 0.0272 - val_wine_quality_root_mean_squared_error: 0.5602 - val_wine_type_accuracy: 0.9949\n",
            "Epoch 119/180\n",
            "99/99 [==============================] - 1s 5ms/step - loss: 0.2926 - wine_quality_loss: 0.2736 - wine_type_loss: 0.0191 - wine_quality_root_mean_squared_error: 0.5231 - wine_type_accuracy: 0.9965 - val_loss: 0.3412 - val_wine_quality_loss: 0.3140 - val_wine_type_loss: 0.0272 - val_wine_quality_root_mean_squared_error: 0.5604 - val_wine_type_accuracy: 0.9949\n",
            "Epoch 120/180\n",
            "99/99 [==============================] - 1s 5ms/step - loss: 0.2918 - wine_quality_loss: 0.2728 - wine_type_loss: 0.0190 - wine_quality_root_mean_squared_error: 0.5223 - wine_type_accuracy: 0.9962 - val_loss: 0.3372 - val_wine_quality_loss: 0.3100 - val_wine_type_loss: 0.0272 - val_wine_quality_root_mean_squared_error: 0.5568 - val_wine_type_accuracy: 0.9949\n",
            "Epoch 121/180\n",
            "99/99 [==============================] - 1s 5ms/step - loss: 0.2923 - wine_quality_loss: 0.2734 - wine_type_loss: 0.0189 - wine_quality_root_mean_squared_error: 0.5229 - wine_type_accuracy: 0.9965 - val_loss: 0.3379 - val_wine_quality_loss: 0.3109 - val_wine_type_loss: 0.0271 - val_wine_quality_root_mean_squared_error: 0.5575 - val_wine_type_accuracy: 0.9949\n",
            "Epoch 122/180\n",
            "99/99 [==============================] - 1s 5ms/step - loss: 0.2913 - wine_quality_loss: 0.2724 - wine_type_loss: 0.0188 - wine_quality_root_mean_squared_error: 0.5220 - wine_type_accuracy: 0.9965 - val_loss: 0.3425 - val_wine_quality_loss: 0.3154 - val_wine_type_loss: 0.0271 - val_wine_quality_root_mean_squared_error: 0.5616 - val_wine_type_accuracy: 0.9949\n",
            "Epoch 123/180\n",
            "99/99 [==============================] - 0s 5ms/step - loss: 0.2898 - wine_quality_loss: 0.2712 - wine_type_loss: 0.0187 - wine_quality_root_mean_squared_error: 0.5208 - wine_type_accuracy: 0.9968 - val_loss: 0.3391 - val_wine_quality_loss: 0.3122 - val_wine_type_loss: 0.0270 - val_wine_quality_root_mean_squared_error: 0.5587 - val_wine_type_accuracy: 0.9949\n",
            "Epoch 124/180\n",
            "99/99 [==============================] - 0s 5ms/step - loss: 0.2899 - wine_quality_loss: 0.2713 - wine_type_loss: 0.0186 - wine_quality_root_mean_squared_error: 0.5208 - wine_type_accuracy: 0.9968 - val_loss: 0.3416 - val_wine_quality_loss: 0.3146 - val_wine_type_loss: 0.0270 - val_wine_quality_root_mean_squared_error: 0.5609 - val_wine_type_accuracy: 0.9949\n",
            "Epoch 125/180\n",
            "99/99 [==============================] - 0s 5ms/step - loss: 0.2884 - wine_quality_loss: 0.2699 - wine_type_loss: 0.0185 - wine_quality_root_mean_squared_error: 0.5195 - wine_type_accuracy: 0.9965 - val_loss: 0.3427 - val_wine_quality_loss: 0.3158 - val_wine_type_loss: 0.0269 - val_wine_quality_root_mean_squared_error: 0.5620 - val_wine_type_accuracy: 0.9949\n",
            "Epoch 126/180\n",
            "99/99 [==============================] - 1s 6ms/step - loss: 0.2895 - wine_quality_loss: 0.2711 - wine_type_loss: 0.0184 - wine_quality_root_mean_squared_error: 0.5207 - wine_type_accuracy: 0.9965 - val_loss: 0.3418 - val_wine_quality_loss: 0.3149 - val_wine_type_loss: 0.0269 - val_wine_quality_root_mean_squared_error: 0.5611 - val_wine_type_accuracy: 0.9949\n",
            "Epoch 127/180\n",
            "99/99 [==============================] - 1s 5ms/step - loss: 0.2881 - wine_quality_loss: 0.2698 - wine_type_loss: 0.0183 - wine_quality_root_mean_squared_error: 0.5194 - wine_type_accuracy: 0.9965 - val_loss: 0.3382 - val_wine_quality_loss: 0.3112 - val_wine_type_loss: 0.0270 - val_wine_quality_root_mean_squared_error: 0.5578 - val_wine_type_accuracy: 0.9949\n",
            "Epoch 128/180\n",
            "99/99 [==============================] - 0s 4ms/step - loss: 0.2880 - wine_quality_loss: 0.2698 - wine_type_loss: 0.0182 - wine_quality_root_mean_squared_error: 0.5194 - wine_type_accuracy: 0.9968 - val_loss: 0.3388 - val_wine_quality_loss: 0.3119 - val_wine_type_loss: 0.0269 - val_wine_quality_root_mean_squared_error: 0.5585 - val_wine_type_accuracy: 0.9949\n",
            "Epoch 129/180\n",
            "99/99 [==============================] - 0s 5ms/step - loss: 0.2873 - wine_quality_loss: 0.2691 - wine_type_loss: 0.0182 - wine_quality_root_mean_squared_error: 0.5187 - wine_type_accuracy: 0.9965 - val_loss: 0.3430 - val_wine_quality_loss: 0.3162 - val_wine_type_loss: 0.0268 - val_wine_quality_root_mean_squared_error: 0.5623 - val_wine_type_accuracy: 0.9949\n",
            "Epoch 130/180\n",
            "99/99 [==============================] - 0s 5ms/step - loss: 0.2862 - wine_quality_loss: 0.2681 - wine_type_loss: 0.0180 - wine_quality_root_mean_squared_error: 0.5178 - wine_type_accuracy: 0.9965 - val_loss: 0.3508 - val_wine_quality_loss: 0.3240 - val_wine_type_loss: 0.0267 - val_wine_quality_root_mean_squared_error: 0.5692 - val_wine_type_accuracy: 0.9949\n",
            "Epoch 131/180\n",
            "99/99 [==============================] - 1s 6ms/step - loss: 0.2854 - wine_quality_loss: 0.2674 - wine_type_loss: 0.0180 - wine_quality_root_mean_squared_error: 0.5171 - wine_type_accuracy: 0.9965 - val_loss: 0.3437 - val_wine_quality_loss: 0.3170 - val_wine_type_loss: 0.0267 - val_wine_quality_root_mean_squared_error: 0.5630 - val_wine_type_accuracy: 0.9949\n",
            "Epoch 132/180\n",
            "99/99 [==============================] - 1s 6ms/step - loss: 0.2861 - wine_quality_loss: 0.2683 - wine_type_loss: 0.0178 - wine_quality_root_mean_squared_error: 0.5180 - wine_type_accuracy: 0.9968 - val_loss: 0.3406 - val_wine_quality_loss: 0.3138 - val_wine_type_loss: 0.0268 - val_wine_quality_root_mean_squared_error: 0.5602 - val_wine_type_accuracy: 0.9949\n",
            "Epoch 133/180\n",
            "99/99 [==============================] - 1s 7ms/step - loss: 0.2854 - wine_quality_loss: 0.2676 - wine_type_loss: 0.0178 - wine_quality_root_mean_squared_error: 0.5173 - wine_type_accuracy: 0.9965 - val_loss: 0.3393 - val_wine_quality_loss: 0.3127 - val_wine_type_loss: 0.0266 - val_wine_quality_root_mean_squared_error: 0.5592 - val_wine_type_accuracy: 0.9949\n",
            "Epoch 134/180\n",
            "99/99 [==============================] - 1s 6ms/step - loss: 0.2855 - wine_quality_loss: 0.2679 - wine_type_loss: 0.0177 - wine_quality_root_mean_squared_error: 0.5175 - wine_type_accuracy: 0.9968 - val_loss: 0.3413 - val_wine_quality_loss: 0.3146 - val_wine_type_loss: 0.0267 - val_wine_quality_root_mean_squared_error: 0.5609 - val_wine_type_accuracy: 0.9949\n",
            "Epoch 135/180\n",
            "99/99 [==============================] - 0s 5ms/step - loss: 0.2852 - wine_quality_loss: 0.2675 - wine_type_loss: 0.0177 - wine_quality_root_mean_squared_error: 0.5172 - wine_type_accuracy: 0.9965 - val_loss: 0.3407 - val_wine_quality_loss: 0.3141 - val_wine_type_loss: 0.0266 - val_wine_quality_root_mean_squared_error: 0.5604 - val_wine_type_accuracy: 0.9949\n",
            "Epoch 136/180\n",
            "99/99 [==============================] - 1s 6ms/step - loss: 0.2845 - wine_quality_loss: 0.2671 - wine_type_loss: 0.0175 - wine_quality_root_mean_squared_error: 0.5168 - wine_type_accuracy: 0.9968 - val_loss: 0.3461 - val_wine_quality_loss: 0.3195 - val_wine_type_loss: 0.0266 - val_wine_quality_root_mean_squared_error: 0.5653 - val_wine_type_accuracy: 0.9949\n",
            "Epoch 137/180\n",
            "99/99 [==============================] - 1s 5ms/step - loss: 0.2838 - wine_quality_loss: 0.2664 - wine_type_loss: 0.0174 - wine_quality_root_mean_squared_error: 0.5161 - wine_type_accuracy: 0.9968 - val_loss: 0.3393 - val_wine_quality_loss: 0.3128 - val_wine_type_loss: 0.0264 - val_wine_quality_root_mean_squared_error: 0.5593 - val_wine_type_accuracy: 0.9949\n",
            "Epoch 138/180\n",
            "99/99 [==============================] - 0s 5ms/step - loss: 0.2835 - wine_quality_loss: 0.2662 - wine_type_loss: 0.0173 - wine_quality_root_mean_squared_error: 0.5159 - wine_type_accuracy: 0.9968 - val_loss: 0.3407 - val_wine_quality_loss: 0.3142 - val_wine_type_loss: 0.0264 - val_wine_quality_root_mean_squared_error: 0.5606 - val_wine_type_accuracy: 0.9949\n",
            "Epoch 139/180\n",
            "99/99 [==============================] - 0s 5ms/step - loss: 0.2831 - wine_quality_loss: 0.2658 - wine_type_loss: 0.0172 - wine_quality_root_mean_squared_error: 0.5156 - wine_type_accuracy: 0.9968 - val_loss: 0.3362 - val_wine_quality_loss: 0.3099 - val_wine_type_loss: 0.0263 - val_wine_quality_root_mean_squared_error: 0.5567 - val_wine_type_accuracy: 0.9949\n",
            "Epoch 140/180\n",
            "99/99 [==============================] - 0s 5ms/step - loss: 0.2822 - wine_quality_loss: 0.2650 - wine_type_loss: 0.0172 - wine_quality_root_mean_squared_error: 0.5148 - wine_type_accuracy: 0.9968 - val_loss: 0.3412 - val_wine_quality_loss: 0.3148 - val_wine_type_loss: 0.0264 - val_wine_quality_root_mean_squared_error: 0.5611 - val_wine_type_accuracy: 0.9949\n",
            "Epoch 141/180\n",
            "99/99 [==============================] - 0s 5ms/step - loss: 0.2817 - wine_quality_loss: 0.2646 - wine_type_loss: 0.0171 - wine_quality_root_mean_squared_error: 0.5144 - wine_type_accuracy: 0.9965 - val_loss: 0.3413 - val_wine_quality_loss: 0.3149 - val_wine_type_loss: 0.0264 - val_wine_quality_root_mean_squared_error: 0.5611 - val_wine_type_accuracy: 0.9949\n",
            "Epoch 142/180\n",
            "99/99 [==============================] - 0s 5ms/step - loss: 0.2813 - wine_quality_loss: 0.2643 - wine_type_loss: 0.0170 - wine_quality_root_mean_squared_error: 0.5141 - wine_type_accuracy: 0.9968 - val_loss: 0.3398 - val_wine_quality_loss: 0.3134 - val_wine_type_loss: 0.0264 - val_wine_quality_root_mean_squared_error: 0.5598 - val_wine_type_accuracy: 0.9949\n",
            "Epoch 143/180\n",
            "99/99 [==============================] - 1s 5ms/step - loss: 0.2806 - wine_quality_loss: 0.2637 - wine_type_loss: 0.0169 - wine_quality_root_mean_squared_error: 0.5136 - wine_type_accuracy: 0.9968 - val_loss: 0.3432 - val_wine_quality_loss: 0.3168 - val_wine_type_loss: 0.0265 - val_wine_quality_root_mean_squared_error: 0.5628 - val_wine_type_accuracy: 0.9949\n",
            "Epoch 144/180\n",
            "99/99 [==============================] - 0s 5ms/step - loss: 0.2800 - wine_quality_loss: 0.2631 - wine_type_loss: 0.0169 - wine_quality_root_mean_squared_error: 0.5130 - wine_type_accuracy: 0.9965 - val_loss: 0.3386 - val_wine_quality_loss: 0.3121 - val_wine_type_loss: 0.0265 - val_wine_quality_root_mean_squared_error: 0.5587 - val_wine_type_accuracy: 0.9949\n",
            "Epoch 145/180\n",
            "99/99 [==============================] - 0s 5ms/step - loss: 0.2799 - wine_quality_loss: 0.2631 - wine_type_loss: 0.0168 - wine_quality_root_mean_squared_error: 0.5130 - wine_type_accuracy: 0.9965 - val_loss: 0.3445 - val_wine_quality_loss: 0.3181 - val_wine_type_loss: 0.0264 - val_wine_quality_root_mean_squared_error: 0.5640 - val_wine_type_accuracy: 0.9949\n",
            "Epoch 146/180\n",
            "99/99 [==============================] - 0s 5ms/step - loss: 0.2789 - wine_quality_loss: 0.2622 - wine_type_loss: 0.0168 - wine_quality_root_mean_squared_error: 0.5120 - wine_type_accuracy: 0.9965 - val_loss: 0.3389 - val_wine_quality_loss: 0.3125 - val_wine_type_loss: 0.0264 - val_wine_quality_root_mean_squared_error: 0.5590 - val_wine_type_accuracy: 0.9949\n",
            "Epoch 147/180\n",
            "99/99 [==============================] - 0s 5ms/step - loss: 0.2793 - wine_quality_loss: 0.2627 - wine_type_loss: 0.0166 - wine_quality_root_mean_squared_error: 0.5126 - wine_type_accuracy: 0.9968 - val_loss: 0.3443 - val_wine_quality_loss: 0.3180 - val_wine_type_loss: 0.0264 - val_wine_quality_root_mean_squared_error: 0.5639 - val_wine_type_accuracy: 0.9949\n",
            "Epoch 148/180\n",
            "99/99 [==============================] - 0s 4ms/step - loss: 0.2793 - wine_quality_loss: 0.2627 - wine_type_loss: 0.0166 - wine_quality_root_mean_squared_error: 0.5125 - wine_type_accuracy: 0.9968 - val_loss: 0.3419 - val_wine_quality_loss: 0.3156 - val_wine_type_loss: 0.0263 - val_wine_quality_root_mean_squared_error: 0.5618 - val_wine_type_accuracy: 0.9949\n",
            "Epoch 149/180\n",
            "99/99 [==============================] - 0s 4ms/step - loss: 0.2779 - wine_quality_loss: 0.2615 - wine_type_loss: 0.0164 - wine_quality_root_mean_squared_error: 0.5114 - wine_type_accuracy: 0.9968 - val_loss: 0.3400 - val_wine_quality_loss: 0.3136 - val_wine_type_loss: 0.0264 - val_wine_quality_root_mean_squared_error: 0.5600 - val_wine_type_accuracy: 0.9949\n",
            "Epoch 150/180\n",
            "99/99 [==============================] - 1s 6ms/step - loss: 0.2771 - wine_quality_loss: 0.2606 - wine_type_loss: 0.0164 - wine_quality_root_mean_squared_error: 0.5105 - wine_type_accuracy: 0.9968 - val_loss: 0.3469 - val_wine_quality_loss: 0.3205 - val_wine_type_loss: 0.0265 - val_wine_quality_root_mean_squared_error: 0.5661 - val_wine_type_accuracy: 0.9949\n",
            "Epoch 151/180\n",
            "99/99 [==============================] - 1s 7ms/step - loss: 0.2768 - wine_quality_loss: 0.2605 - wine_type_loss: 0.0163 - wine_quality_root_mean_squared_error: 0.5104 - wine_type_accuracy: 0.9965 - val_loss: 0.3471 - val_wine_quality_loss: 0.3208 - val_wine_type_loss: 0.0263 - val_wine_quality_root_mean_squared_error: 0.5664 - val_wine_type_accuracy: 0.9949\n",
            "Epoch 152/180\n",
            "99/99 [==============================] - 1s 6ms/step - loss: 0.2772 - wine_quality_loss: 0.2609 - wine_type_loss: 0.0163 - wine_quality_root_mean_squared_error: 0.5108 - wine_type_accuracy: 0.9968 - val_loss: 0.3403 - val_wine_quality_loss: 0.3140 - val_wine_type_loss: 0.0263 - val_wine_quality_root_mean_squared_error: 0.5603 - val_wine_type_accuracy: 0.9949\n",
            "Epoch 153/180\n",
            "99/99 [==============================] - 1s 5ms/step - loss: 0.2764 - wine_quality_loss: 0.2603 - wine_type_loss: 0.0162 - wine_quality_root_mean_squared_error: 0.5102 - wine_type_accuracy: 0.9968 - val_loss: 0.3400 - val_wine_quality_loss: 0.3136 - val_wine_type_loss: 0.0264 - val_wine_quality_root_mean_squared_error: 0.5600 - val_wine_type_accuracy: 0.9949\n",
            "Epoch 154/180\n",
            "99/99 [==============================] - 0s 5ms/step - loss: 0.2756 - wine_quality_loss: 0.2594 - wine_type_loss: 0.0162 - wine_quality_root_mean_squared_error: 0.5093 - wine_type_accuracy: 0.9968 - val_loss: 0.3425 - val_wine_quality_loss: 0.3160 - val_wine_type_loss: 0.0265 - val_wine_quality_root_mean_squared_error: 0.5621 - val_wine_type_accuracy: 0.9949\n",
            "Epoch 155/180\n",
            "99/99 [==============================] - 0s 5ms/step - loss: 0.2760 - wine_quality_loss: 0.2599 - wine_type_loss: 0.0161 - wine_quality_root_mean_squared_error: 0.5098 - wine_type_accuracy: 0.9965 - val_loss: 0.3408 - val_wine_quality_loss: 0.3144 - val_wine_type_loss: 0.0263 - val_wine_quality_root_mean_squared_error: 0.5608 - val_wine_type_accuracy: 0.9949\n",
            "Epoch 156/180\n",
            "99/99 [==============================] - 0s 5ms/step - loss: 0.2742 - wine_quality_loss: 0.2582 - wine_type_loss: 0.0160 - wine_quality_root_mean_squared_error: 0.5081 - wine_type_accuracy: 0.9965 - val_loss: 0.3382 - val_wine_quality_loss: 0.3121 - val_wine_type_loss: 0.0262 - val_wine_quality_root_mean_squared_error: 0.5586 - val_wine_type_accuracy: 0.9949\n",
            "Epoch 157/180\n",
            "99/99 [==============================] - 1s 6ms/step - loss: 0.2749 - wine_quality_loss: 0.2590 - wine_type_loss: 0.0159 - wine_quality_root_mean_squared_error: 0.5089 - wine_type_accuracy: 0.9965 - val_loss: 0.3446 - val_wine_quality_loss: 0.3184 - val_wine_type_loss: 0.0262 - val_wine_quality_root_mean_squared_error: 0.5642 - val_wine_type_accuracy: 0.9949\n",
            "Epoch 158/180\n",
            "99/99 [==============================] - 1s 5ms/step - loss: 0.2740 - wine_quality_loss: 0.2581 - wine_type_loss: 0.0158 - wine_quality_root_mean_squared_error: 0.5081 - wine_type_accuracy: 0.9968 - val_loss: 0.3359 - val_wine_quality_loss: 0.3096 - val_wine_type_loss: 0.0262 - val_wine_quality_root_mean_squared_error: 0.5565 - val_wine_type_accuracy: 0.9949\n",
            "Epoch 159/180\n",
            "99/99 [==============================] - 0s 5ms/step - loss: 0.2733 - wine_quality_loss: 0.2575 - wine_type_loss: 0.0158 - wine_quality_root_mean_squared_error: 0.5074 - wine_type_accuracy: 0.9965 - val_loss: 0.3362 - val_wine_quality_loss: 0.3099 - val_wine_type_loss: 0.0263 - val_wine_quality_root_mean_squared_error: 0.5567 - val_wine_type_accuracy: 0.9949\n",
            "Epoch 160/180\n",
            "99/99 [==============================] - 0s 5ms/step - loss: 0.2739 - wine_quality_loss: 0.2581 - wine_type_loss: 0.0158 - wine_quality_root_mean_squared_error: 0.5081 - wine_type_accuracy: 0.9968 - val_loss: 0.3418 - val_wine_quality_loss: 0.3156 - val_wine_type_loss: 0.0262 - val_wine_quality_root_mean_squared_error: 0.5618 - val_wine_type_accuracy: 0.9949\n",
            "Epoch 161/180\n",
            "99/99 [==============================] - 1s 6ms/step - loss: 0.2725 - wine_quality_loss: 0.2568 - wine_type_loss: 0.0157 - wine_quality_root_mean_squared_error: 0.5068 - wine_type_accuracy: 0.9968 - val_loss: 0.3429 - val_wine_quality_loss: 0.3168 - val_wine_type_loss: 0.0261 - val_wine_quality_root_mean_squared_error: 0.5629 - val_wine_type_accuracy: 0.9949\n",
            "Epoch 162/180\n",
            "99/99 [==============================] - 1s 6ms/step - loss: 0.2724 - wine_quality_loss: 0.2568 - wine_type_loss: 0.0156 - wine_quality_root_mean_squared_error: 0.5068 - wine_type_accuracy: 0.9968 - val_loss: 0.3399 - val_wine_quality_loss: 0.3139 - val_wine_type_loss: 0.0260 - val_wine_quality_root_mean_squared_error: 0.5603 - val_wine_type_accuracy: 0.9949\n",
            "Epoch 163/180\n",
            "99/99 [==============================] - 1s 6ms/step - loss: 0.2724 - wine_quality_loss: 0.2569 - wine_type_loss: 0.0155 - wine_quality_root_mean_squared_error: 0.5069 - wine_type_accuracy: 0.9968 - val_loss: 0.3363 - val_wine_quality_loss: 0.3104 - val_wine_type_loss: 0.0259 - val_wine_quality_root_mean_squared_error: 0.5572 - val_wine_type_accuracy: 0.9949\n",
            "Epoch 164/180\n",
            "99/99 [==============================] - 1s 6ms/step - loss: 0.2713 - wine_quality_loss: 0.2557 - wine_type_loss: 0.0155 - wine_quality_root_mean_squared_error: 0.5057 - wine_type_accuracy: 0.9968 - val_loss: 0.3410 - val_wine_quality_loss: 0.3149 - val_wine_type_loss: 0.0261 - val_wine_quality_root_mean_squared_error: 0.5612 - val_wine_type_accuracy: 0.9949\n",
            "Epoch 165/180\n",
            "99/99 [==============================] - 1s 5ms/step - loss: 0.2710 - wine_quality_loss: 0.2556 - wine_type_loss: 0.0154 - wine_quality_root_mean_squared_error: 0.5056 - wine_type_accuracy: 0.9968 - val_loss: 0.3421 - val_wine_quality_loss: 0.3161 - val_wine_type_loss: 0.0260 - val_wine_quality_root_mean_squared_error: 0.5623 - val_wine_type_accuracy: 0.9949\n",
            "Epoch 166/180\n",
            "99/99 [==============================] - 1s 6ms/step - loss: 0.2711 - wine_quality_loss: 0.2557 - wine_type_loss: 0.0154 - wine_quality_root_mean_squared_error: 0.5056 - wine_type_accuracy: 0.9968 - val_loss: 0.3461 - val_wine_quality_loss: 0.3201 - val_wine_type_loss: 0.0260 - val_wine_quality_root_mean_squared_error: 0.5658 - val_wine_type_accuracy: 0.9949\n",
            "Epoch 167/180\n",
            "99/99 [==============================] - 1s 7ms/step - loss: 0.2719 - wine_quality_loss: 0.2567 - wine_type_loss: 0.0153 - wine_quality_root_mean_squared_error: 0.5066 - wine_type_accuracy: 0.9968 - val_loss: 0.3414 - val_wine_quality_loss: 0.3155 - val_wine_type_loss: 0.0260 - val_wine_quality_root_mean_squared_error: 0.5617 - val_wine_type_accuracy: 0.9949\n",
            "Epoch 168/180\n",
            "99/99 [==============================] - 1s 7ms/step - loss: 0.2703 - wine_quality_loss: 0.2552 - wine_type_loss: 0.0151 - wine_quality_root_mean_squared_error: 0.5052 - wine_type_accuracy: 0.9968 - val_loss: 0.3431 - val_wine_quality_loss: 0.3169 - val_wine_type_loss: 0.0262 - val_wine_quality_root_mean_squared_error: 0.5630 - val_wine_type_accuracy: 0.9949\n",
            "Epoch 169/180\n",
            "99/99 [==============================] - 1s 8ms/step - loss: 0.2698 - wine_quality_loss: 0.2546 - wine_type_loss: 0.0152 - wine_quality_root_mean_squared_error: 0.5046 - wine_type_accuracy: 0.9968 - val_loss: 0.3396 - val_wine_quality_loss: 0.3136 - val_wine_type_loss: 0.0260 - val_wine_quality_root_mean_squared_error: 0.5600 - val_wine_type_accuracy: 0.9949\n",
            "Epoch 170/180\n",
            "99/99 [==============================] - 1s 6ms/step - loss: 0.2702 - wine_quality_loss: 0.2551 - wine_type_loss: 0.0151 - wine_quality_root_mean_squared_error: 0.5051 - wine_type_accuracy: 0.9968 - val_loss: 0.3395 - val_wine_quality_loss: 0.3136 - val_wine_type_loss: 0.0259 - val_wine_quality_root_mean_squared_error: 0.5600 - val_wine_type_accuracy: 0.9949\n",
            "Epoch 171/180\n",
            "99/99 [==============================] - 1s 8ms/step - loss: 0.2693 - wine_quality_loss: 0.2543 - wine_type_loss: 0.0149 - wine_quality_root_mean_squared_error: 0.5043 - wine_type_accuracy: 0.9968 - val_loss: 0.3458 - val_wine_quality_loss: 0.3197 - val_wine_type_loss: 0.0261 - val_wine_quality_root_mean_squared_error: 0.5654 - val_wine_type_accuracy: 0.9949\n",
            "Epoch 172/180\n",
            "99/99 [==============================] - 1s 7ms/step - loss: 0.2694 - wine_quality_loss: 0.2544 - wine_type_loss: 0.0150 - wine_quality_root_mean_squared_error: 0.5044 - wine_type_accuracy: 0.9968 - val_loss: 0.3389 - val_wine_quality_loss: 0.3128 - val_wine_type_loss: 0.0261 - val_wine_quality_root_mean_squared_error: 0.5593 - val_wine_type_accuracy: 0.9949\n",
            "Epoch 173/180\n",
            "99/99 [==============================] - 1s 6ms/step - loss: 0.2686 - wine_quality_loss: 0.2537 - wine_type_loss: 0.0149 - wine_quality_root_mean_squared_error: 0.5037 - wine_type_accuracy: 0.9968 - val_loss: 0.3393 - val_wine_quality_loss: 0.3133 - val_wine_type_loss: 0.0261 - val_wine_quality_root_mean_squared_error: 0.5597 - val_wine_type_accuracy: 0.9949\n",
            "Epoch 174/180\n",
            "99/99 [==============================] - 1s 6ms/step - loss: 0.2682 - wine_quality_loss: 0.2533 - wine_type_loss: 0.0149 - wine_quality_root_mean_squared_error: 0.5033 - wine_type_accuracy: 0.9965 - val_loss: 0.3435 - val_wine_quality_loss: 0.3175 - val_wine_type_loss: 0.0261 - val_wine_quality_root_mean_squared_error: 0.5635 - val_wine_type_accuracy: 0.9949\n",
            "Epoch 175/180\n",
            "99/99 [==============================] - 0s 5ms/step - loss: 0.2677 - wine_quality_loss: 0.2528 - wine_type_loss: 0.0148 - wine_quality_root_mean_squared_error: 0.5028 - wine_type_accuracy: 0.9968 - val_loss: 0.3463 - val_wine_quality_loss: 0.3202 - val_wine_type_loss: 0.0260 - val_wine_quality_root_mean_squared_error: 0.5659 - val_wine_type_accuracy: 0.9949\n",
            "Epoch 176/180\n",
            "99/99 [==============================] - 1s 5ms/step - loss: 0.2676 - wine_quality_loss: 0.2528 - wine_type_loss: 0.0147 - wine_quality_root_mean_squared_error: 0.5028 - wine_type_accuracy: 0.9968 - val_loss: 0.3472 - val_wine_quality_loss: 0.3212 - val_wine_type_loss: 0.0260 - val_wine_quality_root_mean_squared_error: 0.5668 - val_wine_type_accuracy: 0.9949\n",
            "Epoch 177/180\n",
            "99/99 [==============================] - 0s 5ms/step - loss: 0.2667 - wine_quality_loss: 0.2520 - wine_type_loss: 0.0147 - wine_quality_root_mean_squared_error: 0.5020 - wine_type_accuracy: 0.9968 - val_loss: 0.3472 - val_wine_quality_loss: 0.3212 - val_wine_type_loss: 0.0260 - val_wine_quality_root_mean_squared_error: 0.5667 - val_wine_type_accuracy: 0.9949\n",
            "Epoch 178/180\n",
            "99/99 [==============================] - 1s 5ms/step - loss: 0.2661 - wine_quality_loss: 0.2515 - wine_type_loss: 0.0146 - wine_quality_root_mean_squared_error: 0.5015 - wine_type_accuracy: 0.9968 - val_loss: 0.3486 - val_wine_quality_loss: 0.3225 - val_wine_type_loss: 0.0261 - val_wine_quality_root_mean_squared_error: 0.5679 - val_wine_type_accuracy: 0.9949\n",
            "Epoch 179/180\n",
            "99/99 [==============================] - 0s 4ms/step - loss: 0.2667 - wine_quality_loss: 0.2520 - wine_type_loss: 0.0146 - wine_quality_root_mean_squared_error: 0.5020 - wine_type_accuracy: 0.9968 - val_loss: 0.3397 - val_wine_quality_loss: 0.3138 - val_wine_type_loss: 0.0260 - val_wine_quality_root_mean_squared_error: 0.5601 - val_wine_type_accuracy: 0.9949\n",
            "Epoch 180/180\n",
            "99/99 [==============================] - 1s 7ms/step - loss: 0.2655 - wine_quality_loss: 0.2510 - wine_type_loss: 0.0145 - wine_quality_root_mean_squared_error: 0.5010 - wine_type_accuracy: 0.9968 - val_loss: 0.3394 - val_wine_quality_loss: 0.3135 - val_wine_type_loss: 0.0259 - val_wine_quality_root_mean_squared_error: 0.5599 - val_wine_type_accuracy: 0.9949\n"
          ]
        }
      ],
      "source": [
        "# Please uncomment all lines in this cell and replace those marked with `# YOUR CODE HERE`.\n",
        "# You can select all lines in this code cell with Ctrl+A (Windows/Linux) or Cmd+A (Mac), then press Ctrl+/ (Windows/Linux) or Cmd+/ (Mac) to uncomment.\n",
        "\n",
        "\n",
        "\n",
        "history = model.fit(norm_train_X, train_Y,\n",
        "                    epochs = 180, validation_data=(norm_val_X, val_Y))"
      ]
    },
    {
      "cell_type": "code",
      "execution_count": 134,
      "metadata": {
        "deletable": false,
        "editable": false,
        "nbgrader": {
          "cell_type": "code",
          "checksum": "fadad8896eda9c8c2115970724b15508",
          "grade": true,
          "grade_id": "cell-eb4d5b41bef8f0ab",
          "locked": true,
          "points": 1,
          "schema_version": 3,
          "solution": false,
          "task": false
        },
        "id": "OwC_selg6sO4",
        "outputId": "f91b5e07-6431-4247-a0d8-7db03f93097f",
        "colab": {
          "base_uri": "https://localhost:8080/",
          "height": 286
        }
      },
      "outputs": [
        {
          "output_type": "error",
          "ename": "KeyError",
          "evalue": "ignored",
          "traceback": [
            "\u001b[0;31m---------------------------------------------------------------------------\u001b[0m",
            "\u001b[0;31mKeyError\u001b[0m                                  Traceback (most recent call last)",
            "\u001b[0;32m<ipython-input-134-bb2fa200c0ad>\u001b[0m in \u001b[0;36m<module>\u001b[0;34m()\u001b[0m\n\u001b[0;32m----> 1\u001b[0;31m \u001b[0mutils\u001b[0m\u001b[0;34m.\u001b[0m\u001b[0mtest_history\u001b[0m\u001b[0;34m(\u001b[0m\u001b[0mhistory\u001b[0m\u001b[0;34m)\u001b[0m\u001b[0;34m\u001b[0m\u001b[0;34m\u001b[0m\u001b[0m\n\u001b[0m",
            "\u001b[0;32m/content/utils.py\u001b[0m in \u001b[0;36mtest_history\u001b[0;34m(history)\u001b[0m\n\u001b[1;32m    332\u001b[0m         {\n\u001b[1;32m    333\u001b[0m             \u001b[0;34m\"name\"\u001b[0m\u001b[0;34m:\u001b[0m \u001b[0;34m\"params_samples_check\"\u001b[0m\u001b[0;34m,\u001b[0m\u001b[0;34m\u001b[0m\u001b[0;34m\u001b[0m\u001b[0m\n\u001b[0;32m--> 334\u001b[0;31m             \u001b[0;34m\"result\"\u001b[0m\u001b[0;34m:\u001b[0m \u001b[0mvars_history\u001b[0m\u001b[0;34m[\u001b[0m\u001b[0;34m'params'\u001b[0m\u001b[0;34m]\u001b[0m\u001b[0;34m[\u001b[0m\u001b[0;34m'samples'\u001b[0m\u001b[0;34m]\u001b[0m\u001b[0;34m,\u001b[0m\u001b[0;34m\u001b[0m\u001b[0;34m\u001b[0m\u001b[0m\n\u001b[0m\u001b[1;32m    335\u001b[0m             \u001b[0;34m\"expected\"\u001b[0m\u001b[0;34m:\u001b[0m \u001b[0;36m3155\u001b[0m\u001b[0;34m,\u001b[0m\u001b[0;34m\u001b[0m\u001b[0;34m\u001b[0m\u001b[0m\n\u001b[1;32m    336\u001b[0m             \u001b[0;34m\"error_message\"\u001b[0m\u001b[0;34m:\u001b[0m \u001b[0;34m'Training samples is incorrect. Please check arguments to model.fit().'\u001b[0m\u001b[0;34m\u001b[0m\u001b[0;34m\u001b[0m\u001b[0m\n",
            "\u001b[0;31mKeyError\u001b[0m: 'samples'"
          ]
        }
      ],
      "source": [
        "utils.test_history(history)"
      ]
    },
    {
      "cell_type": "code",
      "execution_count": 135,
      "metadata": {
        "id": "CubF2J2gSf6q",
        "outputId": "8f9759bb-528f-49a8-e0c8-760523e457c1",
        "colab": {
          "base_uri": "https://localhost:8080/"
        }
      },
      "outputs": [
        {
          "output_type": "stream",
          "name": "stdout",
          "text": [
            "25/25 [==============================] - 0s 6ms/step - loss: 0.3394 - wine_quality_loss: 0.3135 - wine_type_loss: 0.0259 - wine_quality_root_mean_squared_error: 0.5599 - wine_type_accuracy: 0.9949\n",
            "\n",
            "loss: 0.33941221237182617\n",
            "wine_quality_loss: 0.31352633237838745\n",
            "wine_type_loss: 0.025885960087180138\n",
            "wine_quality_rmse: 0.5599341988563538\n",
            "wine_type_accuracy: 0.9949302673339844\n"
          ]
        }
      ],
      "source": [
        "# Gather the training metrics\n",
        "loss, wine_quality_loss, wine_type_loss, wine_quality_rmse, wine_type_accuracy = model.evaluate(x=norm_val_X, y=val_Y)\n",
        "\n",
        "print()\n",
        "print(f'loss: {loss}')\n",
        "print(f'wine_quality_loss: {wine_quality_loss}')\n",
        "print(f'wine_type_loss: {wine_type_loss}')\n",
        "print(f'wine_quality_rmse: {wine_quality_rmse}')\n",
        "print(f'wine_type_accuracy: {wine_type_accuracy}')\n",
        "\n",
        "# EXPECTED VALUES\n",
        "# ~ 0.30 - 0.38\n",
        "# ~ 0.30 - 0.38\n",
        "# ~ 0.018 - 0.030\n",
        "# ~ 0.50 - 0.62\n",
        "# ~ 0.97 - 1.0\n",
        "\n",
        "# Example:\n",
        "#0.3657050132751465\n",
        "#0.3463745415210724\n",
        "#0.019330406561493874\n",
        "#0.5885359048843384\n",
        "#0.9974651336669922"
      ]
    },
    {
      "cell_type": "markdown",
      "metadata": {
        "id": "gPtTGAP4usnm"
      },
      "source": [
        "## Analyze the Model Performance\n",
        "\n",
        "Note that the model has two outputs. The output at index 0 is quality and index 1 is wine type\n",
        "\n",
        "So, round the quality predictions to the nearest integer."
      ]
    },
    {
      "cell_type": "code",
      "execution_count": null,
      "metadata": {
        "id": "tBq9PEeAaW-Y"
      },
      "outputs": [],
      "source": [
        "predictions = model.predict(norm_test_X)\n",
        "quality_pred = predictions[0]\n",
        "type_pred = predictions[1]"
      ]
    },
    {
      "cell_type": "code",
      "execution_count": null,
      "metadata": {
        "id": "YLhgTR4xTIxj"
      },
      "outputs": [],
      "source": [
        "print(quality_pred[0])\n",
        "\n",
        "# EXPECTED OUTPUT\n",
        "# 5.6 - 6.0"
      ]
    },
    {
      "cell_type": "code",
      "execution_count": null,
      "metadata": {
        "id": "MPi-eYfGTUXi"
      },
      "outputs": [],
      "source": [
        "print(type_pred[0])\n",
        "print(type_pred[944])\n",
        "\n",
        "# EXPECTED OUTPUT\n",
        "# A number close to zero\n",
        "# A number close to or equal to 1"
      ]
    },
    {
      "cell_type": "markdown",
      "metadata": {
        "id": "Kohk-9C6vt_s"
      },
      "source": [
        "### Plot Utilities\n",
        "\n",
        "We define a few utilities to visualize the model performance."
      ]
    },
    {
      "cell_type": "code",
      "execution_count": null,
      "metadata": {
        "id": "62gEOFUhn6aQ"
      },
      "outputs": [],
      "source": [
        "def plot_metrics(metric_name, title, ylim=5):\n",
        "    plt.title(title)\n",
        "    plt.ylim(0,ylim)\n",
        "    plt.plot(history.history[metric_name],color='blue',label=metric_name)\n",
        "    plt.plot(history.history['val_' + metric_name],color='green',label='val_' + metric_name)\n"
      ]
    },
    {
      "cell_type": "code",
      "execution_count": null,
      "metadata": {
        "id": "6rfgSx7uz5dj"
      },
      "outputs": [],
      "source": [
        "def plot_confusion_matrix(y_true, y_pred, title='', labels=[0,1]):\n",
        "    cm = confusion_matrix(y_true, y_pred)\n",
        "    fig = plt.figure()\n",
        "    ax = fig.add_subplot(111)\n",
        "    cax = ax.matshow(cm)\n",
        "    plt.title('Confusion matrix of the classifier')\n",
        "    fig.colorbar(cax)\n",
        "    ax.set_xticklabels([''] + labels)\n",
        "    ax.set_yticklabels([''] + labels)\n",
        "    plt.xlabel('Predicted')\n",
        "    plt.ylabel('True')\n",
        "    fmt = 'd'\n",
        "    thresh = cm.max() / 2.\n",
        "    for i, j in itertools.product(range(cm.shape[0]), range(cm.shape[1])):\n",
        "          plt.text(j, i, format(cm[i, j], fmt),\n",
        "                  horizontalalignment=\"center\",\n",
        "                  color=\"black\" if cm[i, j] > thresh else \"white\")\n",
        "    plt.show()"
      ]
    },
    {
      "cell_type": "code",
      "execution_count": null,
      "metadata": {
        "id": "dfVLIqi017Vf"
      },
      "outputs": [],
      "source": [
        "def plot_diff(y_true, y_pred, title = '' ):\n",
        "    plt.scatter(y_true, y_pred)\n",
        "    plt.title(title)\n",
        "    plt.xlabel('True Values')\n",
        "    plt.ylabel('Predictions')\n",
        "    plt.axis('equal')\n",
        "    plt.axis('square')\n",
        "    plt.plot([-100, 100], [-100, 100])\n",
        "    return plt"
      ]
    },
    {
      "cell_type": "markdown",
      "metadata": {
        "id": "8sd1jdFbwE0I"
      },
      "source": [
        "### Plots for Metrics"
      ]
    },
    {
      "cell_type": "code",
      "execution_count": null,
      "metadata": {
        "id": "f3MwZ5J1pOfj"
      },
      "outputs": [],
      "source": [
        "plot_metrics('wine_quality_root_mean_squared_error', 'RMSE', ylim=2)"
      ]
    },
    {
      "cell_type": "code",
      "execution_count": null,
      "metadata": {
        "id": "QIAxEezCppnd"
      },
      "outputs": [],
      "source": [
        "plot_metrics('wine_type_loss', 'Wine Type Loss', ylim=0.2)"
      ]
    },
    {
      "cell_type": "markdown",
      "metadata": {
        "id": "uYV9AOAMwI9p"
      },
      "source": [
        "### Plots for Confusion Matrix\n",
        "\n",
        "Plot the confusion matrices for wine type. You can see that the model performs well for prediction of wine type from the confusion matrix and the loss metrics."
      ]
    },
    {
      "cell_type": "code",
      "execution_count": null,
      "metadata": {
        "id": "C3hvTYxIaf3n"
      },
      "outputs": [],
      "source": [
        "plot_confusion_matrix(test_Y[1], np.round(type_pred), title='Wine Type', labels = [0, 1])"
      ]
    },
    {
      "cell_type": "code",
      "execution_count": null,
      "metadata": {
        "id": "GW91ym8P2I5y"
      },
      "outputs": [],
      "source": [
        "scatter_plot = plot_diff(test_Y[0], quality_pred, title='Type')"
      ]
    }
  ],
  "metadata": {
    "colab": {
      "name": "exercise-answer.ipynb",
      "provenance": []
    },
    "kernelspec": {
      "display_name": "Python 3",
      "language": "python",
      "name": "python3"
    },
    "language_info": {
      "codemirror_mode": {
        "name": "ipython",
        "version": 3
      },
      "file_extension": ".py",
      "mimetype": "text/x-python",
      "name": "python",
      "nbconvert_exporter": "python",
      "pygments_lexer": "ipython3",
      "version": "3.7.6"
    }
  },
  "nbformat": 4,
  "nbformat_minor": 0
}