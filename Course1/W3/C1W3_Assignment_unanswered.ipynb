{
  "cells": [
    {
      "cell_type": "markdown",
      "metadata": {
        "id": "opSB8TmdS6I6"
      },
      "source": [
        "# Week 3 Assignment: Implement a Quadratic Layer"
      ]
    },
    {
      "cell_type": "markdown",
      "metadata": {
        "id": "OwJgXJfoS6I9"
      },
      "source": [
        "In this week's programming exercise, you will build a custom quadratic layer which computes $y = ax^2 + bx + c$. Similar to the ungraded lab, this layer will be plugged into a model that will be trained on the MNIST dataset. Let's get started!"
      ]
    },
    {
      "cell_type": "markdown",
      "metadata": {
        "id": "K6EUWBFoS6I-"
      },
      "source": [
        "### Imports"
      ]
    },
    {
      "cell_type": "code",
      "execution_count": null,
      "metadata": {
        "id": "2yNVL7RPS6I-"
      },
      "outputs": [],
      "source": [
        "import tensorflow as tf\n",
        "from tensorflow.keras.layers import Layer\n",
        "\n",
        "import utils"
      ]
    },
    {
      "cell_type": "markdown",
      "metadata": {
        "id": "Ie8PnMvWS6I_"
      },
      "source": [
        "### Define the quadratic layer (TODO)\n",
        "Implement a simple quadratic layer. It has 3 state variables: $a$, $b$ and $c$. The computation returned is $ax^2 + bx + c$. Make sure it can also accept an activation function.\n",
        "\n",
        "#### `__init__`\n",
        "- call `super(my_fun, self)` to access the base class of `my_fun`, and call the `__init__()` function to initialize that base class.  In this case, `my_fun` is `SimpleQuadratic` and its base class is `Layer`.\n",
        "- self.units: set this using one of the function parameters.\n",
        "- self.activation: The function parameter `activation` will be passed in as a string.  To get the tensorflow object associated with the string, please use `tf.keras.activations.get()` \n",
        "\n",
        "\n",
        "#### `build`\n",
        "The following are suggested steps for writing your code.  If you prefer to use fewer lines to implement it, feel free to do so.  Either way, you'll want to set `self.a`, `self.b` and `self.c`.\n",
        "\n",
        "- a_init: set this to tensorflow's `random_normal_initializer()`\n",
        "- a_init_val: Use the `random_normal_initializer()` that you just created and invoke it, setting the `shape` and `dtype`.\n",
        "    - The `shape` of `a` should have its row dimension equal to the last dimension of `input_shape`, and its column dimension equal to the number of units in the layer.  \n",
        "    - This is because you'll be matrix multiplying x^2 * a, so the dimensions should be compatible.\n",
        "    - set the dtype to 'float32'\n",
        "- self.a: create a tensor using tf.Variable, setting the initial_value and set trainable to True.\n",
        "\n",
        "- b_init, b_init_val, and self.b: these will be set in the same way that you implemented a_init, a_init_val and self.a\n",
        "- c_init: set this to `tf.zeros_initializer`.\n",
        "- c_init_val: Set this by calling the tf.zeros_initializer that you just instantiated, and set the `shape` and `dtype`\n",
        "  - shape: This will be a vector equal to the number of units.  This expects a tuple, and remember that a tuple `(9,)` includes a comma.\n",
        "  - dtype: set to 'float32'.\n",
        "- self.c: create a tensor using tf.Variable, and set the parameters `initial_value` and `trainable`.\n",
        "\n",
        "#### `call`\n",
        "The following section performs the multiplication x^2*a + x*b + c.  The steps are broken down for clarity, but you can also perform this calculation in fewer lines if you prefer.\n",
        "- x_squared: use tf.math.square()\n",
        "- x_squared_times_a: use tf.matmul().  \n",
        "  - If you see an error saying `InvalidArgumentError: Matrix size-incompatible`, please check the order of the matrix multiplication to make sure that the matrix dimensions line up.\n",
        "- x_times_b: use tf.matmul().\n",
        "- x2a_plus_xb_plus_c: add the three terms together.\n",
        "- activated_x2a_plus_xb_plus_c: apply the class's `activation` to the sum of the three terms.\n"
      ]
    },
    {
      "cell_type": "code",
      "execution_count": null,
      "metadata": {
        "deletable": false,
        "id": "Ga20PttZFXm4",
        "nbgrader": {
          "cell_type": "code",
          "checksum": "0df055c519bde80c488c22be89fdb8ef",
          "grade": false,
          "grade_id": "cell-c302ddc177c098f8",
          "locked": false,
          "schema_version": 3,
          "solution": true,
          "task": false
        }
      },
      "outputs": [],
      "source": [
        "# Please uncomment all lines in this cell and replace those marked with `# YOUR CODE HERE`.\n",
        "# You can select all lines in this code cell with Ctrl+A (Windows/Linux) or Cmd+A (Mac), then press Ctrl+/ (Windows/Linux) or Cmd+/ (Mac) to uncomment.\n",
        "\n",
        "\n",
        "\n",
        "class SimpleQuadratic(Layer):\n",
        "\n",
        "    def __init__(self, units=32, activation=None):\n",
        "        '''Initializes the class and sets up the internal variables'''\n",
        "        # YOUR CODE HERE\n",
        "\n",
        "    \n",
        "    def build(self, input_shape):\n",
        "        '''Create the state of the layer (weights)'''\n",
        "        # a and b should be initialized with random normal, c (or the bias) with zeros.\n",
        "        # remember to set these as trainable.\n",
        "        # YOUR CODE HERE\n",
        "\n",
        "        \n",
        "    def call(self, inputs):\n",
        "        '''Defines the computation from inputs to outputs'''\n",
        "        # YOUR CODE HERE\n",
        "\n",
        "        return activated_x2a_plus_xb_plus_c"
      ]
    },
    {
      "cell_type": "markdown",
      "metadata": {
        "id": "jxlC3a3gS6JB"
      },
      "source": [
        "Test your implementation"
      ]
    },
    {
      "cell_type": "code",
      "execution_count": null,
      "metadata": {
        "deletable": false,
        "editable": false,
        "nbgrader": {
          "cell_type": "code",
          "checksum": "0965bec4878a263cf06b286cd0fe3b2a",
          "grade": true,
          "grade_id": "cell-c3ebc4cccbb7f454",
          "locked": true,
          "points": 1,
          "schema_version": 3,
          "solution": false,
          "task": false
        },
        "id": "QYZNZwxLS6JC",
        "outputId": "3e628d39-d977-4bb4-d451-ee1fb9d0dd6d"
      },
      "outputs": [
        {
          "name": "stdout",
          "output_type": "stream",
          "text": [
            "\u001b[92m All public tests passed\n"
          ]
        }
      ],
      "source": [
        "utils.test_simple_quadratic(SimpleQuadratic)\n"
      ]
    },
    {
      "cell_type": "markdown",
      "metadata": {
        "id": "DgSa99OaS6JC"
      },
      "source": [
        "Train your model with the `SimpleQuadratic` layer that you just implemented."
      ]
    },
    {
      "cell_type": "code",
      "execution_count": null,
      "metadata": {
        "id": "14tl1CluExjJ",
        "outputId": "e72459ef-81ec-4eb0-8e1a-ba56ca3ba6a7"
      },
      "outputs": [
        {
          "name": "stdout",
          "output_type": "stream",
          "text": [
            "Downloading data from https://storage.googleapis.com/tensorflow/tf-keras-datasets/mnist.npz\n",
            "11493376/11490434 [==============================] - 0s 0us/step\n",
            "Train on 60000 samples\n",
            "Epoch 1/5\n",
            "60000/60000 [==============================] - 13s 219us/sample - loss: 0.2663 - accuracy: 0.9211\n",
            "Epoch 2/5\n",
            "60000/60000 [==============================] - 13s 212us/sample - loss: 0.1288 - accuracy: 0.9606\n",
            "Epoch 3/5\n",
            "60000/60000 [==============================] - 13s 212us/sample - loss: 0.0971 - accuracy: 0.9700\n",
            "Epoch 4/5\n",
            "60000/60000 [==============================] - 13s 212us/sample - loss: 0.0827 - accuracy: 0.9734\n",
            "Epoch 5/5\n",
            "60000/60000 [==============================] - 13s 210us/sample - loss: 0.0703 - accuracy: 0.9778\n",
            "10000/10000 [==============================] - 1s 88us/sample - loss: 0.0803 - accuracy: 0.9749\n"
          ]
        },
        {
          "data": {
            "text/plain": [
              "[0.08031947269128868, 0.9749]"
            ]
          },
          "execution_count": 5,
          "metadata": {},
          "output_type": "execute_result"
        }
      ],
      "source": [
        "# THIS CODE SHOULD RUN WITHOUT MODIFICATION\n",
        "# AND SHOULD RETURN TRAINING/TESTING ACCURACY at 97%+\n",
        "\n",
        "mnist = tf.keras.datasets.mnist\n",
        "\n",
        "(x_train, y_train),(x_test, y_test) = mnist.load_data()\n",
        "x_train, x_test = x_train / 255.0, x_test / 255.0\n",
        "\n",
        "model = tf.keras.models.Sequential([\n",
        "  tf.keras.layers.Flatten(input_shape=(28, 28)),\n",
        "  SimpleQuadratic(128, activation='relu'),\n",
        "  tf.keras.layers.Dropout(0.2),\n",
        "  tf.keras.layers.Dense(10, activation='softmax')\n",
        "])\n",
        "\n",
        "model.compile(optimizer='adam',\n",
        "              loss='sparse_categorical_crossentropy',\n",
        "              metrics=['accuracy'])\n",
        "\n",
        "model.fit(x_train, y_train, epochs=5)\n",
        "model.evaluate(x_test, y_test)"
      ]
    }
  ],
  "metadata": {
    "colab": {
      "collapsed_sections": [],
      "name": "QuadraticLayer_Answer.ipynb",
      "provenance": []
    },
    "kernelspec": {
      "display_name": "Python 3",
      "language": "python",
      "name": "python3"
    },
    "language_info": {
      "codemirror_mode": {
        "name": "ipython",
        "version": 3
      },
      "file_extension": ".py",
      "mimetype": "text/x-python",
      "name": "python",
      "nbconvert_exporter": "python",
      "pygments_lexer": "ipython3",
      "version": "3.7.6"
    }
  },
  "nbformat": 4,
  "nbformat_minor": 0
}