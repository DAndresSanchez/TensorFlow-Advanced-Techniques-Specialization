{
  "cells": [
    {
      "cell_type": "markdown",
      "metadata": {
        "id": "2lpcMEL3PQ7r"
      },
      "source": [
        "# Ungraded Lab: Coding a Wide and Deep Model\n",
        "\n",
        "In this lab, we'll show how you can implement a wide and deep model. We'll first look at how to build it with the Functional API then show how to encapsulate this into a class. Let's get started!"
      ]
    },
    {
      "cell_type": "markdown",
      "metadata": {
        "id": "yi109Jj2PQ7v"
      },
      "source": [
        "## Imports"
      ]
    },
    {
      "cell_type": "code",
      "execution_count": 1,
      "metadata": {
        "id": "CmI9MQA6Z72_"
      },
      "outputs": [],
      "source": [
        "try:\n",
        "    # %tensorflow_version only exists in Colab.\n",
        "    %tensorflow_version 2.x\n",
        "except Exception:\n",
        "    pass\n",
        "\n",
        "import tensorflow as tf\n",
        "from tensorflow.keras.layers import Dense\n",
        "from tensorflow.keras import Model\n",
        "from tensorflow.keras.layers import concatenate\n",
        "from tensorflow.keras.layers import Input\n",
        "from tensorflow.keras.utils import plot_model"
      ]
    },
    {
      "cell_type": "markdown",
      "source": [
        "## Build the Model\n",
        "\n",
        "Let's implement the wide and deep model as shown in class. As shown below, the Functional API is very flexible in implementing complex models. \n",
        "- You will specify the previous layer when you define a new layer. \n",
        "- When you define the `Model`, you will specify the inputs and output."
      ],
      "metadata": {
        "id": "I_UGpGX_Phmf"
      }
    },
    {
      "cell_type": "markdown",
      "source": [
        ""
      ],
      "metadata": {
        "id": "671VhJADPcjL"
      }
    },
    {
      "cell_type": "code",
      "execution_count": 6,
      "metadata": {
        "colab": {
          "base_uri": "https://localhost:8080/",
          "height": 466
        },
        "id": "Uz4pA6uEucZ8",
        "outputId": "a67869f9-4cb9-43df-e7c4-8c9e0848ab7d"
      },
      "outputs": [
        {
          "output_type": "execute_result",
          "data": {
            "image/png": "[encoded data removed]",
            "text/plain": [
              "<IPython.core.display.Image object>"
            ]
          },
          "metadata": {},
          "execution_count": 6
        }
      ],
      "source": [
        "# define inputs\n",
        "input_a = Input(shape=[1], name=\"Wide_Input\")\n",
        "input_b = Input(shape=[1], name=\"Deep_Input\")\n",
        "\n",
        "# define deep path\n",
        "hidden_1 = Dense(30, activation=\"relu\", name='hidden_1')(input_b)\n",
        "hidden_2 = Dense(30, activation=\"relu\", name='hidden_2')(hidden_1)\n",
        "\n",
        "# define merged path\n",
        "concat = concatenate([input_a, hidden_2])\n",
        "output = Dense(1, name=\"Output\")(concat)\n",
        "\n",
        "# define another output for the deep path\n",
        "aux_output = Dense(1,name=\"aux_Output\")(hidden_2)\n",
        "\n",
        "# build the model\n",
        "model = Model(inputs=[input_a, input_b], outputs=[output, aux_output])\n",
        "\n",
        "# visualize the architecture\n",
        "plot_model(model)"
      ]
    },
    {
      "cell_type": "markdown",
      "metadata": {
        "id": "Gi-qwr21PQ7y"
      },
      "source": [
        "## Implement as a Class\n",
        "\n",
        "Alternatively, you can also implement this same model as a class. \n",
        "- For that, you define a class that inherits from the [Model](https://keras.io/api/models/model/) class.\n",
        "- Inheriting from the existing `Model` class lets you use the Model methods such as `compile()`, `fit()`, `evaluate()`. \n",
        "\n",
        "When inheriting from `Model`, you will want to define at least two functions:\n",
        "- `__init__()`: you will initialize the instance attributes.\n",
        "- `call()`: you will build the network and return the output layers.\n",
        "\n",
        "If you compare the two methods, the structure is very similar, except when using the class, you'll define all the layers in one function, `init`, and connect the layers together in another function, `call`."
      ]
    },
    {
      "cell_type": "code",
      "execution_count": 7,
      "metadata": {
        "id": "NwyCp57qqdXS"
      },
      "outputs": [],
      "source": [
        "# inherit from the Model base class\n",
        "class WideAndDeepModel(Model):\n",
        "    def __init__(self, units=30, activation='relu', **kwargs):\n",
        "        '''initializes the instance attributes'''\n",
        "        super().__init__(**kwargs)\n",
        "        self.hidden1 = Dense(units, activation=activation)\n",
        "        self.hidden2 = Dense(units, activation=activation)\n",
        "        self.main_output = Dense(1)\n",
        "        self.aux_output = Dense(1)\n",
        "\n",
        "    def call(self, inputs):\n",
        "        '''defines the network architecture'''\n",
        "        input_A, input_B = inputs\n",
        "        hidden1 = self.hidden1(input_B)\n",
        "        hidden2 = self.hidden2(hidden1)\n",
        "        concat = concatenate([input_A, hidden2])\n",
        "        main_output = self.main_output(concat)\n",
        "        aux_output = self.aux_output(hidden2)\n",
        "        \n",
        "        return main_output, aux_output\n"
      ]
    },
    {
      "cell_type": "code",
      "execution_count": 8,
      "metadata": {
        "id": "KVOkjlgwuD_9"
      },
      "outputs": [],
      "source": [
        "# create an instance of the model\n",
        "model = WideAndDeepModel()"
      ]
    }
  ],
  "metadata": {
    "colab": {
      "collapsed_sections": [],
      "name": "BasicModel.ipynb",
      "provenance": []
    },
    "kernelspec": {
      "display_name": "Python 3",
      "language": "python",
      "name": "python3"
    },
    "language_info": {
      "codemirror_mode": {
        "name": "ipython",
        "version": 3
      },
      "file_extension": ".py",
      "mimetype": "text/x-python",
      "name": "python",
      "nbconvert_exporter": "python",
      "pygments_lexer": "ipython3",
      "version": "3.7.4"
    }
  },
  "nbformat": 4,
  "nbformat_minor": 0
}