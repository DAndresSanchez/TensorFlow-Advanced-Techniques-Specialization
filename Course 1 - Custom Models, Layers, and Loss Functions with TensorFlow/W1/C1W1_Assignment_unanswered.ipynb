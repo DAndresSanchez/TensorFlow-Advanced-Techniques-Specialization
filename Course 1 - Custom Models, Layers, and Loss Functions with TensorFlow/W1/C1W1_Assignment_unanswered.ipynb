{
  "cells": [
    {
      "cell_type": "markdown",
      "metadata": {
        "id": "ZL_6GK8qX35J"
      },
      "source": [
        "\n",
        "\n",
        "# Week 1: Multiple Output Models using the Keras Functional API\n",
        "\n",
        "Welcome to the first programming assignment of the course! Your task will be to use the Keras functional API to train a model to predict two outputs. For this lab, you will use the **[Wine Quality Dataset](https://archive.ics.uci.edu/ml/datasets/Wine+Quality)** from the **UCI machine learning repository**. It has separate datasets for red wine and white wine.\n",
        "\n",
        "Normally, the wines are classified into one of the quality ratings specified in the attributes. In this exercise, you will combine the two datasets to predict the wine quality and whether the wine is red or white solely from the attributes. \n",
        "\n",
        "You will model wine quality estimations as a regression problem and wine type detection as a binary classification problem.\n",
        "\n",
        "#### Please complete sections that are marked **(TODO)**"
      ]
    },
    {
      "cell_type": "markdown",
      "metadata": {
        "id": "obdcD6urYBY9"
      },
      "source": [
        "## Imports"
      ]
    },
    {
      "cell_type": "code",
      "execution_count": null,
      "metadata": {
        "id": "t8N3pcTQ5oQI"
      },
      "outputs": [],
      "source": [
        "import tensorflow as tf\n",
        "from tensorflow.keras.models import Model\n",
        "from tensorflow.keras.layers import Dense, Input\n",
        "\n",
        "import numpy as np\n",
        "import matplotlib.pyplot as plt\n",
        "import pandas as pd\n",
        "from sklearn.model_selection import train_test_split\n",
        "from sklearn.metrics import confusion_matrix\n",
        "import itertools\n",
        "\n",
        "import utils"
      ]
    },
    {
      "cell_type": "markdown",
      "metadata": {
        "id": "gQMERzWQYpgm"
      },
      "source": [
        "## Load Dataset\n",
        "\n",
        "\n",
        "You will now download the dataset from the [UCI Machine Learning Repository](https://archive.ics.uci.edu/ml/index.php). \n",
        "\n",
        "### Pre-process the white wine dataset (TODO)\n",
        "You will add a new column named `is_red` in your dataframe to indicate if the wine is white or red. \n",
        "- In the white wine dataset, you will fill the column `is_red` with  zeros (0)."
      ]
    },
    {
      "cell_type": "code",
      "execution_count": null,
      "metadata": {
        "deletable": false,
        "id": "2qYAjKXCd4RH",
        "nbgrader": {
          "cell_type": "code",
          "checksum": "cb9f284ba6255170fe04a309a407d72d",
          "grade": false,
          "grade_id": "cell-e5bfa0f152d9a21f",
          "locked": false,
          "schema_version": 3,
          "solution": true,
          "task": false
        }
      },
      "outputs": [],
      "source": [
        "# Please uncomment all lines in this cell and replace those marked with `# YOUR CODE HERE`.\n",
        "# You can select all lines in this code cell with Ctrl+A (Windows/Linux) or Cmd+A (Mac), then press Ctrl+/ (Windows/Linux) or Cmd+/ (Mac) to uncomment.\n",
        "\n",
        "\n",
        "\n",
        "# URL of the white wine dataset\n",
        "URL = 'http://archive.ics.uci.edu/ml/machine-learning-databases/wine-quality/winequality-white.csv'\n",
        "\n",
        "# load the dataset from the URL\n",
        "white_df = pd.read_csv(URL, sep=\";\")\n",
        "\n",
        "# fill the `is_red` column with zeros.\n",
        "# YOUR CODE HERE\n",
        "\n",
        "# keep only the first of duplicate items\n",
        "# YOUR CODE HERE\n"
      ]
    },
    {
      "cell_type": "code",
      "execution_count": null,
      "metadata": {
        "deletable": false,
        "editable": false,
        "nbgrader": {
          "cell_type": "code",
          "checksum": "defe38d6ec58fd31cd67b89e46c4373f",
          "grade": true,
          "grade_id": "cell-30575e713b55fc51",
          "locked": true,
          "points": 1,
          "schema_version": 3,
          "solution": false,
          "task": false
        },
        "id": "rl-VRDbI6sOs",
        "outputId": "d9b849e6-b59e-401c-9d87-fdbd3ff507f0"
      },
      "outputs": [
        {
          "name": "stdout",
          "output_type": "stream",
          "text": [
            "\u001b[92m All public tests passed\n"
          ]
        }
      ],
      "source": [
        "# You can click `File -> Open` in the menu above and open the `utils.py` file \n",
        "# in case you want to inspect the unit tests being used for each graded function.\n",
        "\n",
        "utils.test_white_df(white_df)\n"
      ]
    },
    {
      "cell_type": "code",
      "execution_count": null,
      "metadata": {
        "id": "OQHK0ohBQRCk",
        "outputId": "802190a9-9dd9-4bec-a30a-6d0bc70a9549"
      },
      "outputs": [
        {
          "name": "stdout",
          "output_type": "stream",
          "text": [
            "8.8\n",
            "9.1\n"
          ]
        }
      ],
      "source": [
        "print(white_df.alcohol[0])\n",
        "print(white_df.alcohol[100])\n",
        "\n",
        "# EXPECTED OUTPUT\n",
        "# 8.8\n",
        "# 9.1"
      ]
    },
    {
      "cell_type": "markdown",
      "metadata": {
        "id": "cdqVDLAh6sOw"
      },
      "source": [
        "### Pre-process the red wine dataset (TODO)\n",
        "- In the red wine dataset, you will fill in the column `is_red` with ones (1)."
      ]
    },
    {
      "cell_type": "code",
      "execution_count": null,
      "metadata": {
        "deletable": false,
        "id": "8y3QxKwBed8v",
        "nbgrader": {
          "cell_type": "code",
          "checksum": "be72275f78e2c2d0038dde9aa63f8d4f",
          "grade": false,
          "grade_id": "cell-e47a40f306593274",
          "locked": false,
          "schema_version": 3,
          "solution": true,
          "task": false
        }
      },
      "outputs": [],
      "source": [
        "# Please uncomment all lines in this cell and replace those marked with `# YOUR CODE HERE`.\n",
        "# You can select all lines in this code cell with Ctrl+A (Windows/Linux) or Cmd+A (Mac), then press Ctrl+/ (Windows/Linux) or Cmd+/ (Mac) to uncomment.\n",
        "\n",
        "\n",
        "\n",
        "# URL of the red wine dataset\n",
        "URL = 'http://archive.ics.uci.edu/ml/machine-learning-databases/wine-quality/winequality-red.csv'\n",
        "\n",
        "# load the dataset from the URL\n",
        "red_df = pd.read_csv(URL, sep=\";\")\n",
        "\n",
        "# fill the `is_red` column with ones.\n",
        "# YOUR CODE HERE\n",
        "\n",
        "# keep only the first of duplicate items\n",
        "# YOUR CODE HERE\n"
      ]
    },
    {
      "cell_type": "code",
      "execution_count": null,
      "metadata": {
        "deletable": false,
        "editable": false,
        "nbgrader": {
          "cell_type": "code",
          "checksum": "d8e0c91b0fd668b63ba74a8f2f958b59",
          "grade": true,
          "grade_id": "cell-2a75937adcc0c25b",
          "locked": true,
          "points": 1,
          "schema_version": 3,
          "solution": false,
          "task": false
        },
        "id": "Jdm3Z52z6sOx",
        "outputId": "e219510e-31ad-47e0-b65b-bc1ab8b04505"
      },
      "outputs": [
        {
          "name": "stdout",
          "output_type": "stream",
          "text": [
            "\u001b[92m All public tests passed\n"
          ]
        }
      ],
      "source": [
        "utils.test_red_df(red_df)\n"
      ]
    },
    {
      "cell_type": "code",
      "execution_count": null,
      "metadata": {
        "id": "zsB3LUzNQpo_",
        "outputId": "8d84db64-7111-4831-94b6-b6a1e16e1abd"
      },
      "outputs": [
        {
          "name": "stdout",
          "output_type": "stream",
          "text": [
            "9.4\n",
            "10.2\n"
          ]
        }
      ],
      "source": [
        "print(red_df.alcohol[0])\n",
        "print(red_df.alcohol[100])\n",
        "\n",
        "# EXPECTED OUTPUT\n",
        "# 9.4\n",
        "# 10.2"
      ]
    },
    {
      "cell_type": "markdown",
      "metadata": {
        "id": "2G8B-NYuM6-f"
      },
      "source": [
        "### Concatenate the datasets\n",
        "\n",
        "Next, concatenate the red and white wine dataframes."
      ]
    },
    {
      "cell_type": "code",
      "execution_count": null,
      "metadata": {
        "id": "YpQrOjJbfN3m"
      },
      "outputs": [],
      "source": [
        "df = pd.concat([red_df, white_df], ignore_index=True)"
      ]
    },
    {
      "cell_type": "code",
      "execution_count": null,
      "metadata": {
        "id": "Se2dTmThQyjb",
        "outputId": "8974500a-b8e5-458a-d9ab-125ec8aa256f"
      },
      "outputs": [
        {
          "name": "stdout",
          "output_type": "stream",
          "text": [
            "9.4\n",
            "9.5\n"
          ]
        }
      ],
      "source": [
        "print(df.alcohol[0])\n",
        "print(df.alcohol[100])\n",
        "\n",
        "# EXPECTED OUTPUT\n",
        "# 9.4\n",
        "# 9.5"
      ]
    },
    {
      "cell_type": "code",
      "execution_count": null,
      "metadata": {
        "id": "wx6y3rPpQv4k"
      },
      "outputs": [],
      "source": [
        "# NOTE: In a real-world scenario, you should shuffle the data.\n",
        "# YOU ARE NOT going to do that here because we want to test\n",
        "# with deterministic data. But if you want the code to do it,\n",
        "# it's in the commented line below:\n",
        "\n",
        "#df = df.iloc[np.random.permutation(len(df))]"
      ]
    },
    {
      "cell_type": "markdown",
      "metadata": {
        "id": "-EqIcbg5M_n1"
      },
      "source": [
        "This will chart the quality of the wines."
      ]
    },
    {
      "cell_type": "code",
      "execution_count": null,
      "metadata": {
        "id": "IsvK0-Sgy17C",
        "outputId": "04adf515-0868-48f6-c509-7a4392db605e"
      },
      "outputs": [
        {
          "data": {
            "image/png": "[encoded data removed]",
            "text/plain": [
              "<Figure size 432x288 with 1 Axes>"
            ]
          },
          "metadata": {
            "needs_background": "light"
          },
          "output_type": "display_data"
        }
      ],
      "source": [
        "df['quality'].hist(bins=20);"
      ]
    },
    {
      "cell_type": "markdown",
      "metadata": {
        "id": "Nut1rmYLzf-p"
      },
      "source": [
        "### Imbalanced data (TODO)\n",
        "You can see from the plot above that the wine quality dataset is imbalanced. \n",
        "- Since there are very few observations with quality equal to 3, 4, 8 and 9, you can drop these observations from your dataset. \n",
        "- You can do this by removing data belonging to all classes except those > 4 and < 8."
      ]
    },
    {
      "cell_type": "code",
      "execution_count": null,
      "metadata": {
        "deletable": false,
        "id": "doH9_-gnf3sz",
        "nbgrader": {
          "cell_type": "code",
          "checksum": "d9ba9fc3a3ca02ccc567be33652b80fe",
          "grade": false,
          "grade_id": "cell-6a3e9db696f6827b",
          "locked": false,
          "schema_version": 3,
          "solution": true,
          "task": false
        }
      },
      "outputs": [],
      "source": [
        "# Please uncomment all lines in this cell and replace those marked with `# YOUR CODE HERE`.\n",
        "# You can select all lines in this code cell with Ctrl+A (Windows/Linux) or Cmd+A (Mac), then press Ctrl+/ (Windows/Linux) or Cmd+/ (Mac) to uncomment.\n",
        "\n",
        "\n",
        "\n",
        "# get data with wine quality greater than 4 and less than 8\n",
        "# YOUR CODE HERE\n",
        "\n",
        "# reset index and drop the old one\n",
        "# YOUR CODE HERE"
      ]
    },
    {
      "cell_type": "code",
      "execution_count": null,
      "metadata": {
        "deletable": false,
        "editable": false,
        "nbgrader": {
          "cell_type": "code",
          "checksum": "281e1d86a4803560ed5892cd7eda4c01",
          "grade": true,
          "grade_id": "cell-aed3da719d4682c7",
          "locked": true,
          "points": 1,
          "schema_version": 3,
          "solution": false,
          "task": false
        },
        "id": "wyf1Dr0f6sO0",
        "outputId": "1caf13c1-8ce5-47c9-bc29-269c573cdb0f"
      },
      "outputs": [
        {
          "name": "stdout",
          "output_type": "stream",
          "text": [
            "\u001b[92m All public tests passed\n"
          ]
        }
      ],
      "source": [
        "utils.test_df_drop(df)\n",
        "\n"
      ]
    },
    {
      "cell_type": "code",
      "execution_count": null,
      "metadata": {
        "id": "xNR1iAlMRPXO",
        "outputId": "b346f427-c5d4-4fce-fd5d-eae2aaadc66b"
      },
      "outputs": [
        {
          "name": "stdout",
          "output_type": "stream",
          "text": [
            "9.4\n",
            "10.9\n"
          ]
        }
      ],
      "source": [
        "print(df.alcohol[0])\n",
        "print(df.alcohol[100])\n",
        "\n",
        "# EXPECTED OUTPUT\n",
        "# 9.4\n",
        "# 10.9"
      ]
    },
    {
      "cell_type": "markdown",
      "metadata": {
        "id": "cwhuRpnVRTzG"
      },
      "source": [
        "You can plot again to see the new range of data and quality"
      ]
    },
    {
      "cell_type": "code",
      "execution_count": null,
      "metadata": {
        "id": "857ygzZiLgGg",
        "outputId": "11622d3f-b293-4fca-9e74-856b893ca6fe"
      },
      "outputs": [
        {
          "data": {
            "image/png": "[encoded data removed]",
            "text/plain": [
              "<Figure size 432x288 with 1 Axes>"
            ]
          },
          "metadata": {
            "needs_background": "light"
          },
          "output_type": "display_data"
        }
      ],
      "source": [
        "df['quality'].hist(bins=20);"
      ]
    },
    {
      "cell_type": "markdown",
      "metadata": {
        "id": "n3k0vqSsp84t"
      },
      "source": [
        "### Train Test Split (TODO)\n",
        "\n",
        "Next, you can split the datasets into training, test and validation datasets.\n",
        "- The data frame should be split 80:20 into `train` and `test` sets.\n",
        "- The resulting `train` should then be split 80:20 into `train` and `val` sets.\n",
        "- The `train_test_split` parameter `test_size` takes a float value that ranges between 0. and 1, and represents the proportion of the dataset that is allocated to the test set.  The rest of the data is allocated to the training set."
      ]
    },
    {
      "cell_type": "code",
      "execution_count": null,
      "metadata": {
        "deletable": false,
        "id": "PAVIf2-fgRVY",
        "nbgrader": {
          "cell_type": "code",
          "checksum": "7f5738f4fb51d65adc9a8acbdf2b9970",
          "grade": false,
          "grade_id": "cell-91946cadf745206b",
          "locked": false,
          "schema_version": 3,
          "solution": true,
          "task": false
        }
      },
      "outputs": [],
      "source": [
        "# Please uncomment all lines in this cell and replace those marked with `# YOUR CODE HERE`.\n",
        "# You can select all lines in this code cell with Ctrl+A (Windows/Linux) or Cmd+A (Mac), then press Ctrl+/ (Windows/Linux) or Cmd+/ (Mac) to uncomment.\n",
        "\n",
        "\n",
        "\n",
        "# Please do not change the random_state parameter. This is needed for grading.\n",
        "\n",
        "# split df into 80:20 train and test sets\n",
        "# YOUR CODE HERE\n",
        "                               \n",
        "# split train into 80:20 train and val sets\n",
        "# YOUR CODE HERE"
      ]
    },
    {
      "cell_type": "code",
      "execution_count": null,
      "metadata": {
        "deletable": false,
        "editable": false,
        "id": "57h9LcEzRWpk",
        "nbgrader": {
          "cell_type": "code",
          "checksum": "42adbe9e66efac7c7a5f8cd73ac92f22",
          "grade": true,
          "grade_id": "cell-64b8b38cd0b965f6",
          "locked": true,
          "points": 1,
          "schema_version": 3,
          "solution": false,
          "task": false
        },
        "outputId": "b289f13a-3835-4045-cac7-40635d35f274"
      },
      "outputs": [
        {
          "name": "stdout",
          "output_type": "stream",
          "text": [
            "\u001b[92m All public tests passed\n"
          ]
        }
      ],
      "source": [
        "utils.test_data_sizes(train.size, test.size, val.size)\n",
        "\n"
      ]
    },
    {
      "cell_type": "markdown",
      "metadata": {
        "id": "RwTNu4KFqG-K"
      },
      "source": [
        "Here's where you can explore the training stats. You can pop the labels 'is_red' and 'quality' from the data as these will be used as the labels\n"
      ]
    },
    {
      "cell_type": "code",
      "execution_count": null,
      "metadata": {
        "id": "Y_afyhhHM6WQ"
      },
      "outputs": [],
      "source": [
        "train_stats = train.describe()\n",
        "train_stats.pop('is_red')\n",
        "train_stats.pop('quality')\n",
        "train_stats = train_stats.transpose()"
      ]
    },
    {
      "cell_type": "markdown",
      "metadata": {
        "id": "ahvbYm4fNqSt"
      },
      "source": [
        "Explore the training stats!"
      ]
    },
    {
      "cell_type": "code",
      "execution_count": null,
      "metadata": {
        "id": "n_gAtPjZ0otF",
        "outputId": "4a314e64-d1f3-4e98-dc44-2e677abd06be"
      },
      "outputs": [
        {
          "data": {
            "text/html": [
              "<div>\n",
              "<style scoped>\n",
              "    .dataframe tbody tr th:only-of-type {\n",
              "        vertical-align: middle;\n",
              "    }\n",
              "\n",
              "    .dataframe tbody tr th {\n",
              "        vertical-align: top;\n",
              "    }\n",
              "\n",
              "    .dataframe thead th {\n",
              "        text-align: right;\n",
              "    }\n",
              "</style>\n",
              "<table border=\"1\" class=\"dataframe\">\n",
              "  <thead>\n",
              "    <tr style=\"text-align: right;\">\n",
              "      <th></th>\n",
              "      <th>count</th>\n",
              "      <th>mean</th>\n",
              "      <th>std</th>\n",
              "      <th>min</th>\n",
              "      <th>25%</th>\n",
              "      <th>50%</th>\n",
              "      <th>75%</th>\n",
              "      <th>max</th>\n",
              "    </tr>\n",
              "  </thead>\n",
              "  <tbody>\n",
              "    <tr>\n",
              "      <th>fixed acidity</th>\n",
              "      <td>3155.0</td>\n",
              "      <td>7.221616</td>\n",
              "      <td>1.325297</td>\n",
              "      <td>3.80000</td>\n",
              "      <td>6.40000</td>\n",
              "      <td>7.00000</td>\n",
              "      <td>7.7000</td>\n",
              "      <td>15.60000</td>\n",
              "    </tr>\n",
              "    <tr>\n",
              "      <th>volatile acidity</th>\n",
              "      <td>3155.0</td>\n",
              "      <td>0.338929</td>\n",
              "      <td>0.162476</td>\n",
              "      <td>0.08000</td>\n",
              "      <td>0.23000</td>\n",
              "      <td>0.29000</td>\n",
              "      <td>0.4000</td>\n",
              "      <td>1.24000</td>\n",
              "    </tr>\n",
              "    <tr>\n",
              "      <th>citric acid</th>\n",
              "      <td>3155.0</td>\n",
              "      <td>0.321569</td>\n",
              "      <td>0.147970</td>\n",
              "      <td>0.00000</td>\n",
              "      <td>0.25000</td>\n",
              "      <td>0.31000</td>\n",
              "      <td>0.4000</td>\n",
              "      <td>1.66000</td>\n",
              "    </tr>\n",
              "    <tr>\n",
              "      <th>residual sugar</th>\n",
              "      <td>3155.0</td>\n",
              "      <td>5.155911</td>\n",
              "      <td>4.639632</td>\n",
              "      <td>0.60000</td>\n",
              "      <td>1.80000</td>\n",
              "      <td>2.80000</td>\n",
              "      <td>7.6500</td>\n",
              "      <td>65.80000</td>\n",
              "    </tr>\n",
              "    <tr>\n",
              "      <th>chlorides</th>\n",
              "      <td>3155.0</td>\n",
              "      <td>0.056976</td>\n",
              "      <td>0.036802</td>\n",
              "      <td>0.01200</td>\n",
              "      <td>0.03800</td>\n",
              "      <td>0.04700</td>\n",
              "      <td>0.0660</td>\n",
              "      <td>0.61100</td>\n",
              "    </tr>\n",
              "    <tr>\n",
              "      <th>free sulfur dioxide</th>\n",
              "      <td>3155.0</td>\n",
              "      <td>30.388590</td>\n",
              "      <td>17.236784</td>\n",
              "      <td>1.00000</td>\n",
              "      <td>17.00000</td>\n",
              "      <td>28.00000</td>\n",
              "      <td>41.0000</td>\n",
              "      <td>131.00000</td>\n",
              "    </tr>\n",
              "    <tr>\n",
              "      <th>total sulfur dioxide</th>\n",
              "      <td>3155.0</td>\n",
              "      <td>115.062282</td>\n",
              "      <td>56.706617</td>\n",
              "      <td>6.00000</td>\n",
              "      <td>75.00000</td>\n",
              "      <td>117.00000</td>\n",
              "      <td>156.0000</td>\n",
              "      <td>344.00000</td>\n",
              "    </tr>\n",
              "    <tr>\n",
              "      <th>density</th>\n",
              "      <td>3155.0</td>\n",
              "      <td>0.994633</td>\n",
              "      <td>0.003005</td>\n",
              "      <td>0.98711</td>\n",
              "      <td>0.99232</td>\n",
              "      <td>0.99481</td>\n",
              "      <td>0.9968</td>\n",
              "      <td>1.03898</td>\n",
              "    </tr>\n",
              "    <tr>\n",
              "      <th>pH</th>\n",
              "      <td>3155.0</td>\n",
              "      <td>3.223201</td>\n",
              "      <td>0.161272</td>\n",
              "      <td>2.72000</td>\n",
              "      <td>3.11000</td>\n",
              "      <td>3.21000</td>\n",
              "      <td>3.3300</td>\n",
              "      <td>4.01000</td>\n",
              "    </tr>\n",
              "    <tr>\n",
              "      <th>sulphates</th>\n",
              "      <td>3155.0</td>\n",
              "      <td>0.534051</td>\n",
              "      <td>0.149149</td>\n",
              "      <td>0.22000</td>\n",
              "      <td>0.43000</td>\n",
              "      <td>0.51000</td>\n",
              "      <td>0.6000</td>\n",
              "      <td>1.95000</td>\n",
              "    </tr>\n",
              "    <tr>\n",
              "      <th>alcohol</th>\n",
              "      <td>3155.0</td>\n",
              "      <td>10.504466</td>\n",
              "      <td>1.154654</td>\n",
              "      <td>8.50000</td>\n",
              "      <td>9.50000</td>\n",
              "      <td>10.30000</td>\n",
              "      <td>11.3000</td>\n",
              "      <td>14.00000</td>\n",
              "    </tr>\n",
              "  </tbody>\n",
              "</table>\n",
              "</div>"
            ],
            "text/plain": [
              "                       count        mean        std      min       25%  \\\n",
              "fixed acidity         3155.0    7.221616   1.325297  3.80000   6.40000   \n",
              "volatile acidity      3155.0    0.338929   0.162476  0.08000   0.23000   \n",
              "citric acid           3155.0    0.321569   0.147970  0.00000   0.25000   \n",
              "residual sugar        3155.0    5.155911   4.639632  0.60000   1.80000   \n",
              "chlorides             3155.0    0.056976   0.036802  0.01200   0.03800   \n",
              "free sulfur dioxide   3155.0   30.388590  17.236784  1.00000  17.00000   \n",
              "total sulfur dioxide  3155.0  115.062282  56.706617  6.00000  75.00000   \n",
              "density               3155.0    0.994633   0.003005  0.98711   0.99232   \n",
              "pH                    3155.0    3.223201   0.161272  2.72000   3.11000   \n",
              "sulphates             3155.0    0.534051   0.149149  0.22000   0.43000   \n",
              "alcohol               3155.0   10.504466   1.154654  8.50000   9.50000   \n",
              "\n",
              "                            50%       75%        max  \n",
              "fixed acidity           7.00000    7.7000   15.60000  \n",
              "volatile acidity        0.29000    0.4000    1.24000  \n",
              "citric acid             0.31000    0.4000    1.66000  \n",
              "residual sugar          2.80000    7.6500   65.80000  \n",
              "chlorides               0.04700    0.0660    0.61100  \n",
              "free sulfur dioxide    28.00000   41.0000  131.00000  \n",
              "total sulfur dioxide  117.00000  156.0000  344.00000  \n",
              "density                 0.99481    0.9968    1.03898  \n",
              "pH                      3.21000    3.3300    4.01000  \n",
              "sulphates               0.51000    0.6000    1.95000  \n",
              "alcohol                10.30000   11.3000   14.00000  "
            ]
          },
          "execution_count": 18,
          "metadata": {},
          "output_type": "execute_result"
        }
      ],
      "source": [
        "train_stats"
      ]
    },
    {
      "cell_type": "markdown",
      "metadata": {
        "id": "bGPvt9jir_HC"
      },
      "source": [
        "### Get the labels (TODO)\n",
        "\n",
        "The features and labels are currently in the same dataframe.\n",
        "- You will want to store the label columns `is_red` and `quality` separately from the feature columns.  \n",
        "- The following function, `format_output`, gets these two columns from the dataframe (it's given to you).\n",
        "- `format_output` also formats the data into numpy arrays. \n",
        "- Please use the `format_output` and apply it to the `train`, `val` and `test` sets to get dataframes for the labels."
      ]
    },
    {
      "cell_type": "code",
      "execution_count": null,
      "metadata": {
        "id": "Z_fs14XQqZVP"
      },
      "outputs": [],
      "source": [
        "def format_output(data):\n",
        "    is_red = data.pop('is_red')\n",
        "    is_red = np.array(is_red)\n",
        "    quality = data.pop('quality')\n",
        "    quality = np.array(quality)\n",
        "    return (quality, is_red)"
      ]
    },
    {
      "cell_type": "code",
      "execution_count": null,
      "metadata": {
        "deletable": false,
        "id": "8L3ZZe1fQicm",
        "nbgrader": {
          "cell_type": "code",
          "checksum": "7a86809e54895a816434c48dc903f55d",
          "grade": false,
          "grade_id": "cell-5c30fa2c2a354b0f",
          "locked": false,
          "schema_version": 3,
          "solution": true,
          "task": false
        }
      },
      "outputs": [],
      "source": [
        "# Please uncomment all lines in this cell and replace those marked with `# YOUR CODE HERE`.\n",
        "# You can select all lines in this code cell with Ctrl+A (Windows/Linux) or Cmd+A (Mac), then press Ctrl+/ (Windows/Linux) or Cmd+/ (Mac) to uncomment.\n",
        "\n",
        "\n",
        "\n",
        "# format the output of the train set\n",
        "# YOUR CODE HERE\n",
        "\n",
        "# format the output of the val set\n",
        "# YOUR CODE HERE\n",
        "    \n",
        "# format the output of the test set\n",
        "# YOUR CODE HERE"
      ]
    },
    {
      "cell_type": "code",
      "execution_count": null,
      "metadata": {
        "deletable": false,
        "editable": false,
        "nbgrader": {
          "cell_type": "code",
          "checksum": "359cabbafaed14ec9bbc1e57a7b6f32c",
          "grade": true,
          "grade_id": "cell-4977d8befb80f56b",
          "locked": true,
          "points": 1,
          "schema_version": 3,
          "solution": false,
          "task": false
        },
        "id": "_f71WhsE6sO2",
        "outputId": "84f8a528-fee7-43f1-d03f-095bf05aa37d"
      },
      "outputs": [
        {
          "name": "stdout",
          "output_type": "stream",
          "text": [
            "\u001b[92m All public tests passed\n"
          ]
        }
      ],
      "source": [
        "utils.test_format_output(df, train_Y, val_Y, test_Y)"
      ]
    },
    {
      "cell_type": "markdown",
      "metadata": {
        "id": "LFS008qQ6sO2"
      },
      "source": [
        "Notice that after you get the labels, the `train`, `val` and `test` dataframes no longer contain the label columns, and contain just the feature columns.\n",
        "- This is because you used `.pop` in the `format_output` function."
      ]
    },
    {
      "cell_type": "code",
      "execution_count": null,
      "metadata": {
        "id": "fkJBHNEU6sO2",
        "outputId": "caf78e1d-e47d-414a-c8b1-6ee348869c99"
      },
      "outputs": [
        {
          "data": {
            "text/html": [
              "<div>\n",
              "<style scoped>\n",
              "    .dataframe tbody tr th:only-of-type {\n",
              "        vertical-align: middle;\n",
              "    }\n",
              "\n",
              "    .dataframe tbody tr th {\n",
              "        vertical-align: top;\n",
              "    }\n",
              "\n",
              "    .dataframe thead th {\n",
              "        text-align: right;\n",
              "    }\n",
              "</style>\n",
              "<table border=\"1\" class=\"dataframe\">\n",
              "  <thead>\n",
              "    <tr style=\"text-align: right;\">\n",
              "      <th></th>\n",
              "      <th>fixed acidity</th>\n",
              "      <th>volatile acidity</th>\n",
              "      <th>citric acid</th>\n",
              "      <th>residual sugar</th>\n",
              "      <th>chlorides</th>\n",
              "      <th>free sulfur dioxide</th>\n",
              "      <th>total sulfur dioxide</th>\n",
              "      <th>density</th>\n",
              "      <th>pH</th>\n",
              "      <th>sulphates</th>\n",
              "      <th>alcohol</th>\n",
              "    </tr>\n",
              "  </thead>\n",
              "  <tbody>\n",
              "    <tr>\n",
              "      <th>225</th>\n",
              "      <td>7.5</td>\n",
              "      <td>0.65</td>\n",
              "      <td>0.18</td>\n",
              "      <td>7.0</td>\n",
              "      <td>0.088</td>\n",
              "      <td>27.0</td>\n",
              "      <td>94.0</td>\n",
              "      <td>0.99915</td>\n",
              "      <td>3.38</td>\n",
              "      <td>0.77</td>\n",
              "      <td>9.4</td>\n",
              "    </tr>\n",
              "    <tr>\n",
              "      <th>3557</th>\n",
              "      <td>6.3</td>\n",
              "      <td>0.27</td>\n",
              "      <td>0.29</td>\n",
              "      <td>12.2</td>\n",
              "      <td>0.044</td>\n",
              "      <td>59.0</td>\n",
              "      <td>196.0</td>\n",
              "      <td>0.99782</td>\n",
              "      <td>3.14</td>\n",
              "      <td>0.40</td>\n",
              "      <td>8.8</td>\n",
              "    </tr>\n",
              "    <tr>\n",
              "      <th>3825</th>\n",
              "      <td>8.8</td>\n",
              "      <td>0.27</td>\n",
              "      <td>0.25</td>\n",
              "      <td>5.0</td>\n",
              "      <td>0.024</td>\n",
              "      <td>52.0</td>\n",
              "      <td>99.0</td>\n",
              "      <td>0.99250</td>\n",
              "      <td>2.87</td>\n",
              "      <td>0.49</td>\n",
              "      <td>11.4</td>\n",
              "    </tr>\n",
              "    <tr>\n",
              "      <th>1740</th>\n",
              "      <td>6.4</td>\n",
              "      <td>0.45</td>\n",
              "      <td>0.07</td>\n",
              "      <td>1.1</td>\n",
              "      <td>0.030</td>\n",
              "      <td>10.0</td>\n",
              "      <td>131.0</td>\n",
              "      <td>0.99050</td>\n",
              "      <td>2.97</td>\n",
              "      <td>0.28</td>\n",
              "      <td>10.8</td>\n",
              "    </tr>\n",
              "    <tr>\n",
              "      <th>1221</th>\n",
              "      <td>7.2</td>\n",
              "      <td>0.53</td>\n",
              "      <td>0.13</td>\n",
              "      <td>2.0</td>\n",
              "      <td>0.058</td>\n",
              "      <td>18.0</td>\n",
              "      <td>22.0</td>\n",
              "      <td>0.99573</td>\n",
              "      <td>3.21</td>\n",
              "      <td>0.68</td>\n",
              "      <td>9.9</td>\n",
              "    </tr>\n",
              "  </tbody>\n",
              "</table>\n",
              "</div>"
            ],
            "text/plain": [
              "      fixed acidity  volatile acidity  citric acid  residual sugar  chlorides  \\\n",
              "225             7.5              0.65         0.18             7.0      0.088   \n",
              "3557            6.3              0.27         0.29            12.2      0.044   \n",
              "3825            8.8              0.27         0.25             5.0      0.024   \n",
              "1740            6.4              0.45         0.07             1.1      0.030   \n",
              "1221            7.2              0.53         0.13             2.0      0.058   \n",
              "\n",
              "      free sulfur dioxide  total sulfur dioxide  density    pH  sulphates  \\\n",
              "225                  27.0                  94.0  0.99915  3.38       0.77   \n",
              "3557                 59.0                 196.0  0.99782  3.14       0.40   \n",
              "3825                 52.0                  99.0  0.99250  2.87       0.49   \n",
              "1740                 10.0                 131.0  0.99050  2.97       0.28   \n",
              "1221                 18.0                  22.0  0.99573  3.21       0.68   \n",
              "\n",
              "      alcohol  \n",
              "225       9.4  \n",
              "3557      8.8  \n",
              "3825     11.4  \n",
              "1740     10.8  \n",
              "1221      9.9  "
            ]
          },
          "execution_count": 22,
          "metadata": {},
          "output_type": "execute_result"
        }
      ],
      "source": [
        "train.head()"
      ]
    },
    {
      "cell_type": "markdown",
      "metadata": {
        "id": "hEdbrruAsN1D"
      },
      "source": [
        "### Normalize the data (TODO)\n",
        "\n",
        "Next, you can normalize the data, x, using the formula:\n",
        "$$x_{norm} = \\frac{x - \\mu}{\\sigma}$$\n",
        "- The `norm` function is defined for you.\n",
        "- Please apply the `norm` function to normalize the dataframes that contains the feature columns of `train`, `val` and `test` sets."
      ]
    },
    {
      "cell_type": "code",
      "execution_count": null,
      "metadata": {
        "id": "WWiZPAHCLjUs"
      },
      "outputs": [],
      "source": [
        "def norm(x):\n",
        "    return (x - train_stats['mean']) / train_stats['std']"
      ]
    },
    {
      "cell_type": "code",
      "execution_count": null,
      "metadata": {
        "deletable": false,
        "id": "JEaOi2I2Lk69",
        "nbgrader": {
          "cell_type": "code",
          "checksum": "6bc0cdcb563d192f271067aa3373ff32",
          "grade": false,
          "grade_id": "cell-d8416d975c371095",
          "locked": false,
          "schema_version": 3,
          "solution": true,
          "task": false
        }
      },
      "outputs": [],
      "source": [
        "# Please uncomment all lines in this cell and replace those marked with `# YOUR CODE HERE`.\n",
        "# You can select all lines in this code cell with Ctrl+A (Windows/Linux) or Cmd+A (Mac), then press Ctrl+/ (Windows/Linux) or Cmd+/ (Mac) to uncomment.\n",
        "\n",
        "\n",
        "\n",
        "# normalize the train set\n",
        "# YOUR CODE HERE\n",
        "    \n",
        "# normalize the val set\n",
        "# YOUR CODE HERE\n",
        "    \n",
        "# normalize the test set\n",
        "# YOUR CODE HERE"
      ]
    },
    {
      "cell_type": "code",
      "execution_count": null,
      "metadata": {
        "deletable": false,
        "editable": false,
        "nbgrader": {
          "cell_type": "code",
          "checksum": "4f567db45bf40191601780379cc100b8",
          "grade": true,
          "grade_id": "cell-97fad979d157529b",
          "locked": true,
          "points": 1,
          "schema_version": 3,
          "solution": false,
          "task": false
        },
        "id": "G1zv81c06sO3",
        "outputId": "651cce80-1c78-4a4d-9eec-6a46d3fde84e"
      },
      "outputs": [
        {
          "name": "stdout",
          "output_type": "stream",
          "text": [
            "\u001b[92m All public tests passed\n"
          ]
        }
      ],
      "source": [
        "utils.test_norm(norm_train_X, norm_val_X, norm_test_X, train, val, test)\n"
      ]
    },
    {
      "cell_type": "markdown",
      "metadata": {
        "id": "hzykDwQhsaPO"
      },
      "source": [
        "## Define the Model (TODO)\n",
        "\n",
        "Define the model using the functional API. The base model will be 2 `Dense` layers of 128 neurons each, and have the `'relu'` activation.\n",
        "- Check out the documentation for [tf.keras.layers.Dense](https://www.tensorflow.org/api_docs/python/tf/keras/layers/Dense)"
      ]
    },
    {
      "cell_type": "code",
      "execution_count": null,
      "metadata": {
        "deletable": false,
        "id": "Rhcns3oTFkM6",
        "nbgrader": {
          "cell_type": "code",
          "checksum": "74b031247e569526552bf13a034a1c07",
          "grade": false,
          "grade_id": "cell-73fceedad1fe351c",
          "locked": false,
          "schema_version": 3,
          "solution": true,
          "task": false
        }
      },
      "outputs": [],
      "source": [
        "# Please uncomment all lines in this cell and replace those marked with `# YOUR CODE HERE`.\n",
        "# You can select all lines in this code cell with Ctrl+A (Windows/Linux) or Cmd+A (Mac), then press Ctrl+/ (Windows/Linux) or Cmd+/ (Mac) to uncomment.\n",
        "\n",
        "\n",
        "\n",
        "def base_model(inputs):\n",
        "    \n",
        "    # connect a Dense layer with 128 neurons and a relu activation\n",
        "    # YOUR CODE HERE\n",
        "    \n",
        "    # connect another Dense layer with 128 neurons and a relu activation\n",
        "    # YOUR CODE HERE\n",
        "    return x\n",
        "  "
      ]
    },
    {
      "cell_type": "code",
      "execution_count": null,
      "metadata": {
        "deletable": false,
        "editable": false,
        "nbgrader": {
          "cell_type": "code",
          "checksum": "9255924b3def80f679616e4c851a43e1",
          "grade": true,
          "grade_id": "cell-54f742a133353d75",
          "locked": true,
          "points": 1,
          "schema_version": 3,
          "solution": false,
          "task": false
        },
        "id": "KS7-dzrA6sO3",
        "outputId": "f83556f2-3196-43c8-a0d3-1a309036f547"
      },
      "outputs": [
        {
          "name": "stdout",
          "output_type": "stream",
          "text": [
            "\u001b[92m All public tests passed\n"
          ]
        }
      ],
      "source": [
        "utils.test_base_model(base_model)"
      ]
    },
    {
      "cell_type": "markdown",
      "metadata": {
        "id": "xem_fcVws6Kz"
      },
      "source": [
        "# Define output layers of the model (TODO)\n",
        "\n",
        "You will add output layers to the base model. \n",
        "- The model will need two outputs.\n",
        "\n",
        "One output layer will predict wine quality, which is a numeric value.\n",
        "- Define a `Dense` layer with 1 neuron.\n",
        "- Since this is a regression output, the activation can be left as its default value `None`.\n",
        "\n",
        "The other output layer will predict the wine type, which is either red `1` or not red `0` (white).\n",
        "- Define a `Dense` layer with 1 neuron.\n",
        "- Since there are two possible categories, you can use a sigmoid activation for binary classification.\n",
        "\n",
        "Define the `Model`\n",
        "- Define the `Model` object, and set the following parameters:\n",
        "  - `inputs`: pass in the inputs to the model as a list.\n",
        "  - `outputs`: pass in a list of the outputs that you just defined: wine quality, then wine type.\n",
        "  - **Note**: please list the wine quality before wine type in the outputs, as this will affect the calculated loss if you choose the other order."
      ]
    },
    {
      "cell_type": "code",
      "execution_count": null,
      "metadata": {
        "deletable": false,
        "id": "n5UGF8PMVLPt",
        "nbgrader": {
          "cell_type": "code",
          "checksum": "76d35b90d20cdcbb22986cd8211057de",
          "grade": false,
          "grade_id": "cell-19e285f482f021fb",
          "locked": false,
          "schema_version": 3,
          "solution": true,
          "task": false
        }
      },
      "outputs": [],
      "source": [
        "# Please uncomment all lines in this cell and replace those marked with `# YOUR CODE HERE`.\n",
        "# You can select all lines in this code cell with Ctrl+A (Windows/Linux) or Cmd+A (Mac), then press Ctrl+/ (Windows/Linux) or Cmd+/ (Mac) to uncomment.\n",
        "\n",
        "\n",
        "\n",
        "def final_model(inputs):\n",
        "    \n",
        "    # get the base model\n",
        "    # YOUR CODE HERE\n",
        "\n",
        "    # connect the output Dense layer for regression\n",
        "    # YOUR CODE HERE\n",
        "\n",
        "    # connect the output Dense layer for classification. this will use a sigmoid activation.\n",
        "    # YOUR CODE HERE\n",
        "\n",
        "    # define the model using the input and output layers\n",
        "    # YOUR CODE HERE\n",
        "\n",
        "    return model"
      ]
    },
    {
      "cell_type": "code",
      "execution_count": null,
      "metadata": {
        "deletable": false,
        "editable": false,
        "nbgrader": {
          "cell_type": "code",
          "checksum": "89cbf89d8ab5e2e59ecf7f63f517520a",
          "grade": true,
          "grade_id": "cell-40d050f855c817d1",
          "locked": true,
          "points": 1,
          "schema_version": 3,
          "solution": false,
          "task": false
        },
        "id": "upr_tAg_6sO4",
        "outputId": "65e377e3-bb3c-4a57-e7d2-4cdf3b1fda84"
      },
      "outputs": [
        {
          "name": "stdout",
          "output_type": "stream",
          "text": [
            "\u001b[92m All public tests passed\n"
          ]
        }
      ],
      "source": [
        "utils.test_final_model(final_model)"
      ]
    },
    {
      "cell_type": "markdown",
      "metadata": {
        "id": "5R0BMTsltZyu"
      },
      "source": [
        "## Compiling the Model\n",
        "\n",
        "Next, compile the model. When setting the loss parameter of `model.compile`, you're setting the loss for each of the two outputs (wine quality and wine type).\n",
        "\n",
        "To set more than one loss, use a dictionary of key-value pairs.\n",
        "- You can look at the docs for the losses [here](https://www.tensorflow.org/api_docs/python/tf/keras/losses#functions).\n",
        "    - **Note**: For the desired spelling, please look at the \"Functions\" section of the documentation and not the \"classes\" section on that same page.\n",
        "- wine_type: Since you will be performing binary classification on wine type, you should use the binary crossentropy loss function for it.  Please pass this in as a string.  \n",
        "  - **Hint**, this should be all lowercase.  In the documentation, you'll see this under the \"Functions\" section, not the \"Classes\" section.\n",
        "- wine_quality: since this is a regression output, use the mean squared error.  Please pass it in as a string, all lowercase.\n",
        "  - **Hint**: You may notice that there are two aliases for mean squared error.  Please use the shorter name.\n",
        "\n",
        "\n",
        "You will also set the metric for each of the two outputs.  Again, to set metrics for two or more outputs, use a dictionary with key value pairs.\n",
        "- The metrics documentation is linked [here](https://www.tensorflow.org/api_docs/python/tf/keras/metrics).\n",
        "- For the wine type, please set it to accuracy as a string, all lowercase.\n",
        "- For wine quality, please use the root mean squared error.  Instead of a string, you'll set it to an instance of the class [RootMeanSquaredError](https://www.tensorflow.org/api_docs/python/tf/keras/metrics/RootMeanSquaredError), which belongs to the tf.keras.metrics module.\n",
        "\n",
        "**Note**: If you see the error message \n",
        ">Exception: wine quality loss function is incorrect.\n",
        "\n",
        "- Please also check your other losses and metrics, as the error may be caused by the other three key-value pairs and not the wine quality loss."
      ]
    },
    {
      "cell_type": "code",
      "execution_count": null,
      "metadata": {
        "deletable": false,
        "id": "LK11duUbUjmh",
        "nbgrader": {
          "cell_type": "code",
          "checksum": "22f45067ca69eb2ccadb43874dbcc27b",
          "grade": false,
          "grade_id": "cell-81afdc4dcca51d5e",
          "locked": false,
          "schema_version": 3,
          "solution": true,
          "task": false
        }
      },
      "outputs": [],
      "source": [
        "# Please uncomment all lines in this cell and replace those marked with `# YOUR CODE HERE`.\n",
        "# You can select all lines in this code cell with Ctrl+A (Windows/Linux) or Cmd+A (Mac), then press Ctrl+/ (Windows/Linux) or Cmd+/ (Mac) to uncomment.\n",
        "\n",
        "\n",
        "\n",
        "inputs = tf.keras.layers.Input(shape=(11,))\n",
        "rms = tf.keras.optimizers.RMSprop(lr=0.0001)\n",
        "model = final_model(inputs)\n",
        "\n",
        "model.compile(optimizer=rms, \n",
        "              loss = # YOUR CODE HERE,\n",
        "              metrics = # YOUR CODE HERE\n",
        "             )\n"
      ]
    },
    {
      "cell_type": "code",
      "execution_count": null,
      "metadata": {
        "deletable": false,
        "editable": false,
        "nbgrader": {
          "cell_type": "code",
          "checksum": "88e02238ea5e456ff65e835cc8158054",
          "grade": true,
          "grade_id": "cell-2eeeba02391c4632",
          "locked": true,
          "points": 1,
          "schema_version": 3,
          "solution": false,
          "task": false
        },
        "id": "csnOXvfW6sO4",
        "outputId": "da9c33d6-c036-46ab-f946-f53cccca2ee6"
      },
      "outputs": [
        {
          "name": "stdout",
          "output_type": "stream",
          "text": [
            "\u001b[92m All public tests passed\n"
          ]
        }
      ],
      "source": [
        "utils.test_model_compile(model)"
      ]
    },
    {
      "cell_type": "markdown",
      "metadata": {
        "id": "90MpAMpWuKm-"
      },
      "source": [
        "## Training the Model\n",
        "\n",
        "Fit the model to the training inputs and outputs. \n",
        "- Check the documentation for [model.fit](https://www.tensorflow.org/api_docs/python/tf/keras/Model#fit).\n",
        "- Remember to use the normalized training set as inputs. \n",
        "- For the validation data, please use the normalized validation set."
      ]
    },
    {
      "cell_type": "code",
      "execution_count": null,
      "metadata": {
        "deletable": false,
        "id": "_eiZkle4XwiY",
        "nbgrader": {
          "cell_type": "code",
          "checksum": "2ca7664be03bfd6fd3651ae44d17b793",
          "grade": false,
          "grade_id": "cell-0bb56262896f6680",
          "locked": false,
          "schema_version": 3,
          "solution": true,
          "task": false
        },
        "outputId": "3c6dcf3f-bae1-4cdf-f913-ad9c007281ba"
      },
      "outputs": [
        {
          "name": "stdout",
          "output_type": "stream",
          "text": [
            "Train on 3155 samples, validate on 789 samples\n",
            "Epoch 1/180\n",
            "3155/3155 [==============================] - 1s 353us/sample - loss: 24.0099 - wine_quality_loss: 23.2688 - wine_type_loss: 0.7131 - wine_quality_root_mean_squared_error: 4.8267 - wine_type_accuracy: 0.3990 - val_loss: 16.4031 - val_wine_quality_loss: 15.7164 - val_wine_type_loss: 0.7000 - val_wine_quality_root_mean_squared_error: 3.9627 - val_wine_type_accuracy: 0.4689\n",
            "Epoch 2/180\n",
            "3155/3155 [==============================] - 0s 98us/sample - loss: 10.8336 - wine_quality_loss: 10.1343 - wine_type_loss: 0.6700 - wine_quality_root_mean_squared_error: 3.1880 - wine_type_accuracy: 0.6019 - val_loss: 6.1004 - val_wine_quality_loss: 5.5118 - val_wine_type_loss: 0.6320 - val_wine_quality_root_mean_squared_error: 2.3384 - val_wine_type_accuracy: 0.7529\n",
            "Epoch 3/180\n",
            "3155/3155 [==============================] - 0s 96us/sample - loss: 4.3055 - wine_quality_loss: 3.7292 - wine_type_loss: 0.5713 - wine_quality_root_mean_squared_error: 1.9324 - wine_type_accuracy: 0.8143 - val_loss: 3.0938 - val_wine_quality_loss: 2.6303 - val_wine_type_loss: 0.5081 - val_wine_quality_root_mean_squared_error: 1.6079 - val_wine_type_accuracy: 0.8150\n",
            "Epoch 4/180\n",
            "3155/3155 [==============================] - 0s 93us/sample - loss: 2.8798 - wine_quality_loss: 2.4352 - wine_type_loss: 0.4460 - wine_quality_root_mean_squared_error: 1.5600 - wine_type_accuracy: 0.8311 - val_loss: 2.5117 - val_wine_quality_loss: 2.1437 - val_wine_type_loss: 0.3955 - val_wine_quality_root_mean_squared_error: 1.4546 - val_wine_type_accuracy: 0.8631\n",
            "Epoch 5/180\n",
            "3155/3155 [==============================] - 0s 97us/sample - loss: 2.3432 - wine_quality_loss: 1.9945 - wine_type_loss: 0.3457 - wine_quality_root_mean_squared_error: 1.4133 - wine_type_accuracy: 0.9151 - val_loss: 2.1235 - val_wine_quality_loss: 1.8323 - val_wine_type_loss: 0.3075 - val_wine_quality_root_mean_squared_error: 1.3475 - val_wine_type_accuracy: 0.9404\n",
            "Epoch 6/180\n",
            "3155/3155 [==============================] - 0s 93us/sample - loss: 1.9935 - wine_quality_loss: 1.7233 - wine_type_loss: 0.2675 - wine_quality_root_mean_squared_error: 1.3137 - wine_type_accuracy: 0.9616 - val_loss: 1.8395 - val_wine_quality_loss: 1.6095 - val_wine_type_loss: 0.2402 - val_wine_quality_root_mean_squared_error: 1.2645 - val_wine_type_accuracy: 0.9734\n",
            "Epoch 7/180\n",
            "3155/3155 [==============================] - 0s 93us/sample - loss: 1.7458 - wine_quality_loss: 1.5422 - wine_type_loss: 0.2067 - wine_quality_root_mean_squared_error: 1.2406 - wine_type_accuracy: 0.9797 - val_loss: 1.6398 - val_wine_quality_loss: 1.4604 - val_wine_type_loss: 0.1853 - val_wine_quality_root_mean_squared_error: 1.2059 - val_wine_type_accuracy: 0.9848\n",
            "Epoch 8/180\n",
            "3155/3155 [==============================] - 0s 94us/sample - loss: 1.5689 - wine_quality_loss: 1.4056 - wine_type_loss: 0.1621 - wine_quality_root_mean_squared_error: 1.1861 - wine_type_accuracy: 0.9835 - val_loss: 1.4759 - val_wine_quality_loss: 1.3336 - val_wine_type_loss: 0.1466 - val_wine_quality_root_mean_squared_error: 1.1528 - val_wine_type_accuracy: 0.9873\n",
            "Epoch 9/180\n",
            "3155/3155 [==============================] - 0s 77us/sample - loss: 1.4300 - wine_quality_loss: 1.3006 - wine_type_loss: 0.1289 - wine_quality_root_mean_squared_error: 1.1406 - wine_type_accuracy: 0.9870 - val_loss: 1.3546 - val_wine_quality_loss: 1.2397 - val_wine_type_loss: 0.1180 - val_wine_quality_root_mean_squared_error: 1.1119 - val_wine_type_accuracy: 0.9873\n",
            "Epoch 10/180\n",
            "3155/3155 [==============================] - 0s 93us/sample - loss: 1.3216 - wine_quality_loss: 1.2137 - wine_type_loss: 0.1058 - wine_quality_root_mean_squared_error: 1.1026 - wine_type_accuracy: 0.9883 - val_loss: 1.2548 - val_wine_quality_loss: 1.1582 - val_wine_type_loss: 0.0978 - val_wine_quality_root_mean_squared_error: 1.0755 - val_wine_type_accuracy: 0.9886\n",
            "Epoch 11/180\n",
            "3155/3155 [==============================] - 0s 92us/sample - loss: 1.2194 - wine_quality_loss: 1.1292 - wine_type_loss: 0.0891 - wine_quality_root_mean_squared_error: 1.0631 - wine_type_accuracy: 0.9899 - val_loss: 1.1561 - val_wine_quality_loss: 1.0733 - val_wine_type_loss: 0.0830 - val_wine_quality_root_mean_squared_error: 1.0358 - val_wine_type_accuracy: 0.9886\n",
            "Epoch 12/180\n",
            "3155/3155 [==============================] - 0s 96us/sample - loss: 1.1359 - wine_quality_loss: 1.0579 - wine_type_loss: 0.0771 - wine_quality_root_mean_squared_error: 1.0290 - wine_type_accuracy: 0.9914 - val_loss: 1.0943 - val_wine_quality_loss: 1.0209 - val_wine_type_loss: 0.0725 - val_wine_quality_root_mean_squared_error: 1.0107 - val_wine_type_accuracy: 0.9911\n",
            "Epoch 13/180\n",
            "3155/3155 [==============================] - 0s 93us/sample - loss: 1.0660 - wine_quality_loss: 1.0003 - wine_type_loss: 0.0682 - wine_quality_root_mean_squared_error: 0.9989 - wine_type_accuracy: 0.9911 - val_loss: 1.0093 - val_wine_quality_loss: 0.9440 - val_wine_type_loss: 0.0647 - val_wine_quality_root_mean_squared_error: 0.9717 - val_wine_type_accuracy: 0.9911\n",
            "Epoch 14/180\n",
            "3155/3155 [==============================] - 0s 94us/sample - loss: 1.0044 - wine_quality_loss: 0.9424 - wine_type_loss: 0.0614 - wine_quality_root_mean_squared_error: 0.9710 - wine_type_accuracy: 0.9911 - val_loss: 0.9457 - val_wine_quality_loss: 0.8860 - val_wine_type_loss: 0.0586 - val_wine_quality_root_mean_squared_error: 0.9417 - val_wine_type_accuracy: 0.9937\n",
            "Epoch 15/180\n",
            "3155/3155 [==============================] - 0s 94us/sample - loss: 0.9440 - wine_quality_loss: 0.8866 - wine_type_loss: 0.0566 - wine_quality_root_mean_squared_error: 0.9420 - wine_type_accuracy: 0.9914 - val_loss: 0.8911 - val_wine_quality_loss: 0.8356 - val_wine_type_loss: 0.0541 - val_wine_quality_root_mean_squared_error: 0.9147 - val_wine_type_accuracy: 0.9949\n",
            "Epoch 16/180\n",
            "3155/3155 [==============================] - 0s 96us/sample - loss: 0.8883 - wine_quality_loss: 0.8365 - wine_type_loss: 0.0524 - wine_quality_root_mean_squared_error: 0.9142 - wine_type_accuracy: 0.9911 - val_loss: 0.8364 - val_wine_quality_loss: 0.7845 - val_wine_type_loss: 0.0506 - val_wine_quality_root_mean_squared_error: 0.8863 - val_wine_type_accuracy: 0.9949\n",
            "Epoch 17/180\n",
            "3155/3155 [==============================] - 0s 92us/sample - loss: 0.8409 - wine_quality_loss: 0.7902 - wine_type_loss: 0.0493 - wine_quality_root_mean_squared_error: 0.8897 - wine_type_accuracy: 0.9914 - val_loss: 0.7950 - val_wine_quality_loss: 0.7458 - val_wine_type_loss: 0.0476 - val_wine_quality_root_mean_squared_error: 0.8643 - val_wine_type_accuracy: 0.9949\n",
            "Epoch 18/180\n",
            "3155/3155 [==============================] - 0s 94us/sample - loss: 0.7989 - wine_quality_loss: 0.7514 - wine_type_loss: 0.0469 - wine_quality_root_mean_squared_error: 0.8672 - wine_type_accuracy: 0.9918 - val_loss: 0.7571 - val_wine_quality_loss: 0.7100 - val_wine_type_loss: 0.0454 - val_wine_quality_root_mean_squared_error: 0.8434 - val_wine_type_accuracy: 0.9949\n",
            "Epoch 19/180\n",
            "3155/3155 [==============================] - 0s 91us/sample - loss: 0.7593 - wine_quality_loss: 0.7149 - wine_type_loss: 0.0449 - wine_quality_root_mean_squared_error: 0.8453 - wine_type_accuracy: 0.9914 - val_loss: 0.7193 - val_wine_quality_loss: 0.6738 - val_wine_type_loss: 0.0436 - val_wine_quality_root_mean_squared_error: 0.8218 - val_wine_type_accuracy: 0.9949\n",
            "Epoch 20/180\n",
            "3155/3155 [==============================] - 0s 92us/sample - loss: 0.7224 - wine_quality_loss: 0.6898 - wine_type_loss: 0.0429 - wine_quality_root_mean_squared_error: 0.8242 - wine_type_accuracy: 0.9921 - val_loss: 0.6992 - val_wine_quality_loss: 0.6555 - val_wine_type_loss: 0.0421 - val_wine_quality_root_mean_squared_error: 0.8104 - val_wine_type_accuracy: 0.9949\n",
            "Epoch 21/180\n",
            "3155/3155 [==============================] - 0s 79us/sample - loss: 0.6869 - wine_quality_loss: 0.6471 - wine_type_loss: 0.0414 - wine_quality_root_mean_squared_error: 0.8033 - wine_type_accuracy: 0.9921 - val_loss: 0.6590 - val_wine_quality_loss: 0.6164 - val_wine_type_loss: 0.0405 - val_wine_quality_root_mean_squared_error: 0.7862 - val_wine_type_accuracy: 0.9949\n",
            "Epoch 22/180\n"
          ]
        },
        {
          "name": "stdout",
          "output_type": "stream",
          "text": [
            "3155/3155 [==============================] - 0s 92us/sample - loss: 0.6564 - wine_quality_loss: 0.6247 - wine_type_loss: 0.0403 - wine_quality_root_mean_squared_error: 0.7849 - wine_type_accuracy: 0.9924 - val_loss: 0.6279 - val_wine_quality_loss: 0.5866 - val_wine_type_loss: 0.0395 - val_wine_quality_root_mean_squared_error: 0.7668 - val_wine_type_accuracy: 0.9949\n",
            "Epoch 23/180\n",
            "3155/3155 [==============================] - 0s 93us/sample - loss: 0.6262 - wine_quality_loss: 0.5867 - wine_type_loss: 0.0390 - wine_quality_root_mean_squared_error: 0.7662 - wine_type_accuracy: 0.9924 - val_loss: 0.5931 - val_wine_quality_loss: 0.5526 - val_wine_type_loss: 0.0386 - val_wine_quality_root_mean_squared_error: 0.7444 - val_wine_type_accuracy: 0.9949\n",
            "Epoch 24/180\n",
            "3155/3155 [==============================] - 0s 93us/sample - loss: 0.5992 - wine_quality_loss: 0.5619 - wine_type_loss: 0.0381 - wine_quality_root_mean_squared_error: 0.7490 - wine_type_accuracy: 0.9927 - val_loss: 0.5629 - val_wine_quality_loss: 0.5235 - val_wine_type_loss: 0.0377 - val_wine_quality_root_mean_squared_error: 0.7244 - val_wine_type_accuracy: 0.9949\n",
            "Epoch 25/180\n",
            "3155/3155 [==============================] - 0s 93us/sample - loss: 0.5751 - wine_quality_loss: 0.5371 - wine_type_loss: 0.0373 - wine_quality_root_mean_squared_error: 0.7333 - wine_type_accuracy: 0.9927 - val_loss: 0.5487 - val_wine_quality_loss: 0.5098 - val_wine_type_loss: 0.0370 - val_wine_quality_root_mean_squared_error: 0.7150 - val_wine_type_accuracy: 0.9949\n",
            "Epoch 26/180\n",
            "3155/3155 [==============================] - 0s 92us/sample - loss: 0.5537 - wine_quality_loss: 0.5161 - wine_type_loss: 0.0364 - wine_quality_root_mean_squared_error: 0.7191 - wine_type_accuracy: 0.9933 - val_loss: 0.5341 - val_wine_quality_loss: 0.4957 - val_wine_type_loss: 0.0364 - val_wine_quality_root_mean_squared_error: 0.7052 - val_wine_type_accuracy: 0.9949\n",
            "Epoch 27/180\n",
            "3155/3155 [==============================] - 0s 91us/sample - loss: 0.5327 - wine_quality_loss: 0.4961 - wine_type_loss: 0.0358 - wine_quality_root_mean_squared_error: 0.7049 - wine_type_accuracy: 0.9930 - val_loss: 0.5119 - val_wine_quality_loss: 0.4746 - val_wine_type_loss: 0.0358 - val_wine_quality_root_mean_squared_error: 0.6898 - val_wine_type_accuracy: 0.9949\n",
            "Epoch 28/180\n",
            "3155/3155 [==============================] - 0s 95us/sample - loss: 0.5144 - wine_quality_loss: 0.4794 - wine_type_loss: 0.0351 - wine_quality_root_mean_squared_error: 0.6922 - wine_type_accuracy: 0.9933 - val_loss: 0.4936 - val_wine_quality_loss: 0.4566 - val_wine_type_loss: 0.0353 - val_wine_quality_root_mean_squared_error: 0.6767 - val_wine_type_accuracy: 0.9949\n",
            "Epoch 29/180\n",
            "3155/3155 [==============================] - 0s 93us/sample - loss: 0.4954 - wine_quality_loss: 0.4611 - wine_type_loss: 0.0346 - wine_quality_root_mean_squared_error: 0.6788 - wine_type_accuracy: 0.9933 - val_loss: 0.4811 - val_wine_quality_loss: 0.4444 - val_wine_type_loss: 0.0349 - val_wine_quality_root_mean_squared_error: 0.6677 - val_wine_type_accuracy: 0.9949\n",
            "Epoch 30/180\n",
            "3155/3155 [==============================] - 0s 79us/sample - loss: 0.4812 - wine_quality_loss: 0.4468 - wine_type_loss: 0.0344 - wine_quality_root_mean_squared_error: 0.6687 - wine_type_accuracy: 0.9937 - val_loss: 0.4752 - val_wine_quality_loss: 0.4389 - val_wine_type_loss: 0.0346 - val_wine_quality_root_mean_squared_error: 0.6635 - val_wine_type_accuracy: 0.9949\n",
            "Epoch 31/180\n",
            "3155/3155 [==============================] - 0s 94us/sample - loss: 0.4667 - wine_quality_loss: 0.4323 - wine_type_loss: 0.0336 - wine_quality_root_mean_squared_error: 0.6580 - wine_type_accuracy: 0.9933 - val_loss: 0.4541 - val_wine_quality_loss: 0.4181 - val_wine_type_loss: 0.0340 - val_wine_quality_root_mean_squared_error: 0.6478 - val_wine_type_accuracy: 0.9949\n",
            "Epoch 32/180\n",
            "3155/3155 [==============================] - 0s 94us/sample - loss: 0.4535 - wine_quality_loss: 0.4203 - wine_type_loss: 0.0330 - wine_quality_root_mean_squared_error: 0.6484 - wine_type_accuracy: 0.9933 - val_loss: 0.4365 - val_wine_quality_loss: 0.4013 - val_wine_type_loss: 0.0337 - val_wine_quality_root_mean_squared_error: 0.6343 - val_wine_type_accuracy: 0.9949\n",
            "Epoch 33/180\n",
            "3155/3155 [==============================] - 0s 94us/sample - loss: 0.4412 - wine_quality_loss: 0.4077 - wine_type_loss: 0.0327 - wine_quality_root_mean_squared_error: 0.6390 - wine_type_accuracy: 0.9940 - val_loss: 0.4272 - val_wine_quality_loss: 0.3922 - val_wine_type_loss: 0.0333 - val_wine_quality_root_mean_squared_error: 0.6273 - val_wine_type_accuracy: 0.9949\n",
            "Epoch 34/180\n",
            "3155/3155 [==============================] - 0s 94us/sample - loss: 0.4312 - wine_quality_loss: 0.3990 - wine_type_loss: 0.0322 - wine_quality_root_mean_squared_error: 0.6315 - wine_type_accuracy: 0.9940 - val_loss: 0.4206 - val_wine_quality_loss: 0.3864 - val_wine_type_loss: 0.0329 - val_wine_quality_root_mean_squared_error: 0.6224 - val_wine_type_accuracy: 0.9949\n",
            "Epoch 35/180\n",
            "3155/3155 [==============================] - 0s 93us/sample - loss: 0.4222 - wine_quality_loss: 0.3900 - wine_type_loss: 0.0318 - wine_quality_root_mean_squared_error: 0.6247 - wine_type_accuracy: 0.9940 - val_loss: 0.4074 - val_wine_quality_loss: 0.3730 - val_wine_type_loss: 0.0327 - val_wine_quality_root_mean_squared_error: 0.6118 - val_wine_type_accuracy: 0.9949\n",
            "Epoch 36/180\n",
            "3155/3155 [==============================] - 0s 94us/sample - loss: 0.4141 - wine_quality_loss: 0.3825 - wine_type_loss: 0.0316 - wine_quality_root_mean_squared_error: 0.6184 - wine_type_accuracy: 0.9943 - val_loss: 0.4127 - val_wine_quality_loss: 0.3786 - val_wine_type_loss: 0.0324 - val_wine_quality_root_mean_squared_error: 0.6164 - val_wine_type_accuracy: 0.9949\n",
            "Epoch 37/180\n",
            "3155/3155 [==============================] - 0s 93us/sample - loss: 0.4070 - wine_quality_loss: 0.3760 - wine_type_loss: 0.0312 - wine_quality_root_mean_squared_error: 0.6129 - wine_type_accuracy: 0.9946 - val_loss: 0.3944 - val_wine_quality_loss: 0.3606 - val_wine_type_loss: 0.0321 - val_wine_quality_root_mean_squared_error: 0.6016 - val_wine_type_accuracy: 0.9949\n",
            "Epoch 38/180\n",
            "3155/3155 [==============================] - 0s 94us/sample - loss: 0.4008 - wine_quality_loss: 0.3695 - wine_type_loss: 0.0309 - wine_quality_root_mean_squared_error: 0.6081 - wine_type_accuracy: 0.9943 - val_loss: 0.3914 - val_wine_quality_loss: 0.3579 - val_wine_type_loss: 0.0319 - val_wine_quality_root_mean_squared_error: 0.5993 - val_wine_type_accuracy: 0.9949\n",
            "Epoch 39/180\n",
            "3155/3155 [==============================] - 0s 92us/sample - loss: 0.3938 - wine_quality_loss: 0.3628 - wine_type_loss: 0.0306 - wine_quality_root_mean_squared_error: 0.6026 - wine_type_accuracy: 0.9949 - val_loss: 0.3890 - val_wine_quality_loss: 0.3555 - val_wine_type_loss: 0.0318 - val_wine_quality_root_mean_squared_error: 0.5973 - val_wine_type_accuracy: 0.9949\n",
            "Epoch 40/180\n",
            "3155/3155 [==============================] - 0s 91us/sample - loss: 0.3883 - wine_quality_loss: 0.3579 - wine_type_loss: 0.0303 - wine_quality_root_mean_squared_error: 0.5982 - wine_type_accuracy: 0.9949 - val_loss: 0.3804 - val_wine_quality_loss: 0.3471 - val_wine_type_loss: 0.0317 - val_wine_quality_root_mean_squared_error: 0.5902 - val_wine_type_accuracy: 0.9949\n",
            "Epoch 41/180\n",
            "3155/3155 [==============================] - 0s 78us/sample - loss: 0.3829 - wine_quality_loss: 0.3529 - wine_type_loss: 0.0317 - wine_quality_root_mean_squared_error: 0.5939 - wine_type_accuracy: 0.9949 - val_loss: 0.3813 - val_wine_quality_loss: 0.3481 - val_wine_type_loss: 0.0315 - val_wine_quality_root_mean_squared_error: 0.5911 - val_wine_type_accuracy: 0.9949\n",
            "Epoch 42/180\n",
            "3155/3155 [==============================] - 0s 93us/sample - loss: 0.3784 - wine_quality_loss: 0.3481 - wine_type_loss: 0.0297 - wine_quality_root_mean_squared_error: 0.5904 - wine_type_accuracy: 0.9949 - val_loss: 0.3792 - val_wine_quality_loss: 0.3466 - val_wine_type_loss: 0.0312 - val_wine_quality_root_mean_squared_error: 0.5896 - val_wine_type_accuracy: 0.9949\n",
            "Epoch 43/180\n"
          ]
        },
        {
          "name": "stdout",
          "output_type": "stream",
          "text": [
            "3155/3155 [==============================] - 0s 93us/sample - loss: 0.3751 - wine_quality_loss: 0.3449 - wine_type_loss: 0.0295 - wine_quality_root_mean_squared_error: 0.5877 - wine_type_accuracy: 0.9949 - val_loss: 0.3731 - val_wine_quality_loss: 0.3407 - val_wine_type_loss: 0.0311 - val_wine_quality_root_mean_squared_error: 0.5845 - val_wine_type_accuracy: 0.9949\n",
            "Epoch 44/180\n",
            "3155/3155 [==============================] - 0s 93us/sample - loss: 0.3720 - wine_quality_loss: 0.3423 - wine_type_loss: 0.0293 - wine_quality_root_mean_squared_error: 0.5853 - wine_type_accuracy: 0.9949 - val_loss: 0.3719 - val_wine_quality_loss: 0.3396 - val_wine_type_loss: 0.0310 - val_wine_quality_root_mean_squared_error: 0.5836 - val_wine_type_accuracy: 0.9949\n",
            "Epoch 45/180\n",
            "3155/3155 [==============================] - 0s 96us/sample - loss: 0.3666 - wine_quality_loss: 0.3371 - wine_type_loss: 0.0291 - wine_quality_root_mean_squared_error: 0.5809 - wine_type_accuracy: 0.9949 - val_loss: 0.3686 - val_wine_quality_loss: 0.3364 - val_wine_type_loss: 0.0307 - val_wine_quality_root_mean_squared_error: 0.5809 - val_wine_type_accuracy: 0.9949\n",
            "Epoch 46/180\n",
            "3155/3155 [==============================] - 0s 92us/sample - loss: 0.3643 - wine_quality_loss: 0.3349 - wine_type_loss: 0.0288 - wine_quality_root_mean_squared_error: 0.5791 - wine_type_accuracy: 0.9952 - val_loss: 0.3642 - val_wine_quality_loss: 0.3321 - val_wine_type_loss: 0.0306 - val_wine_quality_root_mean_squared_error: 0.5773 - val_wine_type_accuracy: 0.9949\n",
            "Epoch 47/180\n",
            "3155/3155 [==============================] - 0s 93us/sample - loss: 0.3616 - wine_quality_loss: 0.3325 - wine_type_loss: 0.0287 - wine_quality_root_mean_squared_error: 0.5769 - wine_type_accuracy: 0.9952 - val_loss: 0.3637 - val_wine_quality_loss: 0.3319 - val_wine_type_loss: 0.0304 - val_wine_quality_root_mean_squared_error: 0.5770 - val_wine_type_accuracy: 0.9949\n",
            "Epoch 48/180\n",
            "3155/3155 [==============================] - 0s 92us/sample - loss: 0.3592 - wine_quality_loss: 0.3301 - wine_type_loss: 0.0284 - wine_quality_root_mean_squared_error: 0.5751 - wine_type_accuracy: 0.9952 - val_loss: 0.3635 - val_wine_quality_loss: 0.3319 - val_wine_type_loss: 0.0303 - val_wine_quality_root_mean_squared_error: 0.5770 - val_wine_type_accuracy: 0.9949\n",
            "Epoch 49/180\n",
            "3155/3155 [==============================] - 0s 93us/sample - loss: 0.3563 - wine_quality_loss: 0.3282 - wine_type_loss: 0.0286 - wine_quality_root_mean_squared_error: 0.5728 - wine_type_accuracy: 0.9952 - val_loss: 0.3654 - val_wine_quality_loss: 0.3335 - val_wine_type_loss: 0.0304 - val_wine_quality_root_mean_squared_error: 0.5784 - val_wine_type_accuracy: 0.9949\n",
            "Epoch 50/180\n",
            "3155/3155 [==============================] - 0s 77us/sample - loss: 0.3542 - wine_quality_loss: 0.3264 - wine_type_loss: 0.0280 - wine_quality_root_mean_squared_error: 0.5711 - wine_type_accuracy: 0.9952 - val_loss: 0.3627 - val_wine_quality_loss: 0.3309 - val_wine_type_loss: 0.0301 - val_wine_quality_root_mean_squared_error: 0.5763 - val_wine_type_accuracy: 0.9949\n",
            "Epoch 51/180\n",
            "3155/3155 [==============================] - 0s 95us/sample - loss: 0.3514 - wine_quality_loss: 0.3236 - wine_type_loss: 0.0278 - wine_quality_root_mean_squared_error: 0.5688 - wine_type_accuracy: 0.9952 - val_loss: 0.3766 - val_wine_quality_loss: 0.3447 - val_wine_type_loss: 0.0300 - val_wine_quality_root_mean_squared_error: 0.5884 - val_wine_type_accuracy: 0.9949\n",
            "Epoch 52/180\n",
            "3155/3155 [==============================] - 0s 93us/sample - loss: 0.3505 - wine_quality_loss: 0.3223 - wine_type_loss: 0.0276 - wine_quality_root_mean_squared_error: 0.5682 - wine_type_accuracy: 0.9952 - val_loss: 0.3587 - val_wine_quality_loss: 0.3275 - val_wine_type_loss: 0.0299 - val_wine_quality_root_mean_squared_error: 0.5731 - val_wine_type_accuracy: 0.9949\n",
            "Epoch 53/180\n",
            "3155/3155 [==============================] - 0s 96us/sample - loss: 0.3488 - wine_quality_loss: 0.3211 - wine_type_loss: 0.0274 - wine_quality_root_mean_squared_error: 0.5669 - wine_type_accuracy: 0.9952 - val_loss: 0.3563 - val_wine_quality_loss: 0.3251 - val_wine_type_loss: 0.0298 - val_wine_quality_root_mean_squared_error: 0.5711 - val_wine_type_accuracy: 0.9949\n",
            "Epoch 54/180\n",
            "3155/3155 [==============================] - 0s 94us/sample - loss: 0.3459 - wine_quality_loss: 0.3190 - wine_type_loss: 0.0272 - wine_quality_root_mean_squared_error: 0.5645 - wine_type_accuracy: 0.9952 - val_loss: 0.3526 - val_wine_quality_loss: 0.3215 - val_wine_type_loss: 0.0296 - val_wine_quality_root_mean_squared_error: 0.5680 - val_wine_type_accuracy: 0.9949\n",
            "Epoch 55/180\n",
            "3155/3155 [==============================] - 0s 96us/sample - loss: 0.3445 - wine_quality_loss: 0.3182 - wine_type_loss: 0.0271 - wine_quality_root_mean_squared_error: 0.5634 - wine_type_accuracy: 0.9952 - val_loss: 0.3565 - val_wine_quality_loss: 0.3258 - val_wine_type_loss: 0.0295 - val_wine_quality_root_mean_squared_error: 0.5715 - val_wine_type_accuracy: 0.9949\n",
            "Epoch 56/180\n",
            "3155/3155 [==============================] - 0s 92us/sample - loss: 0.3419 - wine_quality_loss: 0.3162 - wine_type_loss: 0.0268 - wine_quality_root_mean_squared_error: 0.5613 - wine_type_accuracy: 0.9952 - val_loss: 0.3525 - val_wine_quality_loss: 0.3219 - val_wine_type_loss: 0.0295 - val_wine_quality_root_mean_squared_error: 0.5681 - val_wine_type_accuracy: 0.9949\n",
            "Epoch 57/180\n",
            "3155/3155 [==============================] - 0s 93us/sample - loss: 0.3415 - wine_quality_loss: 0.3150 - wine_type_loss: 0.0266 - wine_quality_root_mean_squared_error: 0.5610 - wine_type_accuracy: 0.9952 - val_loss: 0.3548 - val_wine_quality_loss: 0.3243 - val_wine_type_loss: 0.0294 - val_wine_quality_root_mean_squared_error: 0.5702 - val_wine_type_accuracy: 0.9949\n",
            "Epoch 58/180\n",
            "3155/3155 [==============================] - 0s 95us/sample - loss: 0.3405 - wine_quality_loss: 0.3137 - wine_type_loss: 0.0264 - wine_quality_root_mean_squared_error: 0.5603 - wine_type_accuracy: 0.9952 - val_loss: 0.3523 - val_wine_quality_loss: 0.3216 - val_wine_type_loss: 0.0292 - val_wine_quality_root_mean_squared_error: 0.5681 - val_wine_type_accuracy: 0.9949\n",
            "Epoch 59/180\n",
            "3155/3155 [==============================] - 0s 95us/sample - loss: 0.3388 - wine_quality_loss: 0.3119 - wine_type_loss: 0.0263 - wine_quality_root_mean_squared_error: 0.5589 - wine_type_accuracy: 0.9952 - val_loss: 0.3490 - val_wine_quality_loss: 0.3185 - val_wine_type_loss: 0.0292 - val_wine_quality_root_mean_squared_error: 0.5652 - val_wine_type_accuracy: 0.9949\n",
            "Epoch 60/180\n",
            "3155/3155 [==============================] - 0s 93us/sample - loss: 0.3364 - wine_quality_loss: 0.3104 - wine_type_loss: 0.0261 - wine_quality_root_mean_squared_error: 0.5570 - wine_type_accuracy: 0.9952 - val_loss: 0.3477 - val_wine_quality_loss: 0.3173 - val_wine_type_loss: 0.0292 - val_wine_quality_root_mean_squared_error: 0.5640 - val_wine_type_accuracy: 0.9949\n",
            "Epoch 61/180\n",
            "3155/3155 [==============================] - 0s 91us/sample - loss: 0.3349 - wine_quality_loss: 0.3093 - wine_type_loss: 0.0260 - wine_quality_root_mean_squared_error: 0.5558 - wine_type_accuracy: 0.9952 - val_loss: 0.3507 - val_wine_quality_loss: 0.3203 - val_wine_type_loss: 0.0291 - val_wine_quality_root_mean_squared_error: 0.5668 - val_wine_type_accuracy: 0.9949\n",
            "Epoch 62/180\n",
            "3155/3155 [==============================] - 0s 92us/sample - loss: 0.3340 - wine_quality_loss: 0.3090 - wine_type_loss: 0.0258 - wine_quality_root_mean_squared_error: 0.5551 - wine_type_accuracy: 0.9956 - val_loss: 0.3475 - val_wine_quality_loss: 0.3172 - val_wine_type_loss: 0.0290 - val_wine_quality_root_mean_squared_error: 0.5640 - val_wine_type_accuracy: 0.9949\n",
            "Epoch 63/180\n",
            "3155/3155 [==============================] - 0s 76us/sample - loss: 0.3321 - wine_quality_loss: 0.3065 - wine_type_loss: 0.0256 - wine_quality_root_mean_squared_error: 0.5535 - wine_type_accuracy: 0.9952 - val_loss: 0.3448 - val_wine_quality_loss: 0.3148 - val_wine_type_loss: 0.0287 - val_wine_quality_root_mean_squared_error: 0.5619 - val_wine_type_accuracy: 0.9949\n",
            "Epoch 64/180\n"
          ]
        },
        {
          "name": "stdout",
          "output_type": "stream",
          "text": [
            "3155/3155 [==============================] - 0s 94us/sample - loss: 0.3316 - wine_quality_loss: 0.3058 - wine_type_loss: 0.0255 - wine_quality_root_mean_squared_error: 0.5532 - wine_type_accuracy: 0.9952 - val_loss: 0.3474 - val_wine_quality_loss: 0.3175 - val_wine_type_loss: 0.0288 - val_wine_quality_root_mean_squared_error: 0.5642 - val_wine_type_accuracy: 0.9949\n",
            "Epoch 65/180\n",
            "3155/3155 [==============================] - 0s 94us/sample - loss: 0.3298 - wine_quality_loss: 0.3050 - wine_type_loss: 0.0252 - wine_quality_root_mean_squared_error: 0.5518 - wine_type_accuracy: 0.9952 - val_loss: 0.3536 - val_wine_quality_loss: 0.3239 - val_wine_type_loss: 0.0286 - val_wine_quality_root_mean_squared_error: 0.5697 - val_wine_type_accuracy: 0.9949\n",
            "Epoch 66/180\n",
            "3155/3155 [==============================] - 0s 94us/sample - loss: 0.3303 - wine_quality_loss: 0.3052 - wine_type_loss: 0.0251 - wine_quality_root_mean_squared_error: 0.5524 - wine_type_accuracy: 0.9952 - val_loss: 0.3500 - val_wine_quality_loss: 0.3200 - val_wine_type_loss: 0.0286 - val_wine_quality_root_mean_squared_error: 0.5666 - val_wine_type_accuracy: 0.9949\n",
            "Epoch 67/180\n",
            "3155/3155 [==============================] - 0s 96us/sample - loss: 0.3289 - wine_quality_loss: 0.3036 - wine_type_loss: 0.0249 - wine_quality_root_mean_squared_error: 0.5513 - wine_type_accuracy: 0.9956 - val_loss: 0.3501 - val_wine_quality_loss: 0.3202 - val_wine_type_loss: 0.0285 - val_wine_quality_root_mean_squared_error: 0.5668 - val_wine_type_accuracy: 0.9949\n",
            "Epoch 68/180\n",
            "3155/3155 [==============================] - 0s 93us/sample - loss: 0.3266 - wine_quality_loss: 0.3019 - wine_type_loss: 0.0248 - wine_quality_root_mean_squared_error: 0.5492 - wine_type_accuracy: 0.9956 - val_loss: 0.3477 - val_wine_quality_loss: 0.3180 - val_wine_type_loss: 0.0286 - val_wine_quality_root_mean_squared_error: 0.5646 - val_wine_type_accuracy: 0.9949\n",
            "Epoch 69/180\n",
            "3155/3155 [==============================] - 0s 94us/sample - loss: 0.3264 - wine_quality_loss: 0.3017 - wine_type_loss: 0.0248 - wine_quality_root_mean_squared_error: 0.5492 - wine_type_accuracy: 0.9952 - val_loss: 0.3436 - val_wine_quality_loss: 0.3140 - val_wine_type_loss: 0.0284 - val_wine_quality_root_mean_squared_error: 0.5611 - val_wine_type_accuracy: 0.9949\n",
            "Epoch 70/180\n",
            "3155/3155 [==============================] - 0s 94us/sample - loss: 0.3262 - wine_quality_loss: 0.3012 - wine_type_loss: 0.0259 - wine_quality_root_mean_squared_error: 0.5492 - wine_type_accuracy: 0.9956 - val_loss: 0.3459 - val_wine_quality_loss: 0.3164 - val_wine_type_loss: 0.0282 - val_wine_quality_root_mean_squared_error: 0.5633 - val_wine_type_accuracy: 0.9949\n",
            "Epoch 71/180\n",
            "3155/3155 [==============================] - 0s 93us/sample - loss: 0.3241 - wine_quality_loss: 0.2993 - wine_type_loss: 0.0244 - wine_quality_root_mean_squared_error: 0.5474 - wine_type_accuracy: 0.9956 - val_loss: 0.3501 - val_wine_quality_loss: 0.3209 - val_wine_type_loss: 0.0282 - val_wine_quality_root_mean_squared_error: 0.5671 - val_wine_type_accuracy: 0.9949\n",
            "Epoch 72/180\n",
            "3155/3155 [==============================] - 0s 92us/sample - loss: 0.3244 - wine_quality_loss: 0.3006 - wine_type_loss: 0.0243 - wine_quality_root_mean_squared_error: 0.5478 - wine_type_accuracy: 0.9956 - val_loss: 0.3423 - val_wine_quality_loss: 0.3129 - val_wine_type_loss: 0.0282 - val_wine_quality_root_mean_squared_error: 0.5601 - val_wine_type_accuracy: 0.9949\n",
            "Epoch 73/180\n",
            "3155/3155 [==============================] - 0s 89us/sample - loss: 0.3227 - wine_quality_loss: 0.2993 - wine_type_loss: 0.0241 - wine_quality_root_mean_squared_error: 0.5464 - wine_type_accuracy: 0.9956 - val_loss: 0.3477 - val_wine_quality_loss: 0.3187 - val_wine_type_loss: 0.0281 - val_wine_quality_root_mean_squared_error: 0.5650 - val_wine_type_accuracy: 0.9949\n",
            "Epoch 74/180\n",
            "3155/3155 [==============================] - 0s 78us/sample - loss: 0.3225 - wine_quality_loss: 0.2981 - wine_type_loss: 0.0240 - wine_quality_root_mean_squared_error: 0.5462 - wine_type_accuracy: 0.9956 - val_loss: 0.3414 - val_wine_quality_loss: 0.3122 - val_wine_type_loss: 0.0280 - val_wine_quality_root_mean_squared_error: 0.5595 - val_wine_type_accuracy: 0.9949\n",
            "Epoch 75/180\n",
            "3155/3155 [==============================] - 0s 92us/sample - loss: 0.3209 - wine_quality_loss: 0.2970 - wine_type_loss: 0.0253 - wine_quality_root_mean_squared_error: 0.5449 - wine_type_accuracy: 0.9956 - val_loss: 0.3441 - val_wine_quality_loss: 0.3152 - val_wine_type_loss: 0.0278 - val_wine_quality_root_mean_squared_error: 0.5620 - val_wine_type_accuracy: 0.9949\n",
            "Epoch 76/180\n",
            "3155/3155 [==============================] - 0s 92us/sample - loss: 0.3206 - wine_quality_loss: 0.2966 - wine_type_loss: 0.0236 - wine_quality_root_mean_squared_error: 0.5448 - wine_type_accuracy: 0.9956 - val_loss: 0.3445 - val_wine_quality_loss: 0.3153 - val_wine_type_loss: 0.0278 - val_wine_quality_root_mean_squared_error: 0.5624 - val_wine_type_accuracy: 0.9949\n",
            "Epoch 77/180\n",
            "3155/3155 [==============================] - 0s 93us/sample - loss: 0.3191 - wine_quality_loss: 0.2949 - wine_type_loss: 0.0236 - wine_quality_root_mean_squared_error: 0.5436 - wine_type_accuracy: 0.9956 - val_loss: 0.3500 - val_wine_quality_loss: 0.3210 - val_wine_type_loss: 0.0278 - val_wine_quality_root_mean_squared_error: 0.5672 - val_wine_type_accuracy: 0.9949\n",
            "Epoch 78/180\n",
            "3155/3155 [==============================] - 0s 89us/sample - loss: 0.3191 - wine_quality_loss: 0.2959 - wine_type_loss: 0.0234 - wine_quality_root_mean_squared_error: 0.5437 - wine_type_accuracy: 0.9956 - val_loss: 0.3411 - val_wine_quality_loss: 0.3121 - val_wine_type_loss: 0.0278 - val_wine_quality_root_mean_squared_error: 0.5595 - val_wine_type_accuracy: 0.9949\n",
            "Epoch 79/180\n",
            "3155/3155 [==============================] - 0s 79us/sample - loss: 0.3180 - wine_quality_loss: 0.2948 - wine_type_loss: 0.0233 - wine_quality_root_mean_squared_error: 0.5428 - wine_type_accuracy: 0.9956 - val_loss: 0.3436 - val_wine_quality_loss: 0.3147 - val_wine_type_loss: 0.0277 - val_wine_quality_root_mean_squared_error: 0.5618 - val_wine_type_accuracy: 0.9949\n",
            "Epoch 80/180\n",
            "3155/3155 [==============================] - 0s 92us/sample - loss: 0.3166 - wine_quality_loss: 0.2931 - wine_type_loss: 0.0231 - wine_quality_root_mean_squared_error: 0.5416 - wine_type_accuracy: 0.9956 - val_loss: 0.3437 - val_wine_quality_loss: 0.3147 - val_wine_type_loss: 0.0277 - val_wine_quality_root_mean_squared_error: 0.5618 - val_wine_type_accuracy: 0.9949\n",
            "Epoch 81/180\n",
            "3155/3155 [==============================] - 0s 94us/sample - loss: 0.3175 - wine_quality_loss: 0.2947 - wine_type_loss: 0.0230 - wine_quality_root_mean_squared_error: 0.5426 - wine_type_accuracy: 0.9956 - val_loss: 0.3442 - val_wine_quality_loss: 0.3152 - val_wine_type_loss: 0.0276 - val_wine_quality_root_mean_squared_error: 0.5623 - val_wine_type_accuracy: 0.9949\n",
            "Epoch 82/180\n",
            "3155/3155 [==============================] - 0s 93us/sample - loss: 0.3146 - wine_quality_loss: 0.2919 - wine_type_loss: 0.0230 - wine_quality_root_mean_squared_error: 0.5400 - wine_type_accuracy: 0.9956 - val_loss: 0.3453 - val_wine_quality_loss: 0.3171 - val_wine_type_loss: 0.0275 - val_wine_quality_root_mean_squared_error: 0.5634 - val_wine_type_accuracy: 0.9949\n",
            "Epoch 83/180\n",
            "3155/3155 [==============================] - 0s 92us/sample - loss: 0.3147 - wine_quality_loss: 0.2916 - wine_type_loss: 0.0227 - wine_quality_root_mean_squared_error: 0.5402 - wine_type_accuracy: 0.9956 - val_loss: 0.3416 - val_wine_quality_loss: 0.3129 - val_wine_type_loss: 0.0274 - val_wine_quality_root_mean_squared_error: 0.5602 - val_wine_type_accuracy: 0.9949\n",
            "Epoch 84/180\n",
            "3155/3155 [==============================] - 0s 93us/sample - loss: 0.3139 - wine_quality_loss: 0.2912 - wine_type_loss: 0.0228 - wine_quality_root_mean_squared_error: 0.5396 - wine_type_accuracy: 0.9956 - val_loss: 0.3417 - val_wine_quality_loss: 0.3131 - val_wine_type_loss: 0.0274 - val_wine_quality_root_mean_squared_error: 0.5603 - val_wine_type_accuracy: 0.9949\n",
            "Epoch 85/180\n"
          ]
        },
        {
          "name": "stdout",
          "output_type": "stream",
          "text": [
            "3155/3155 [==============================] - 0s 91us/sample - loss: 0.3133 - wine_quality_loss: 0.2913 - wine_type_loss: 0.0225 - wine_quality_root_mean_squared_error: 0.5392 - wine_type_accuracy: 0.9956 - val_loss: 0.3428 - val_wine_quality_loss: 0.3143 - val_wine_type_loss: 0.0273 - val_wine_quality_root_mean_squared_error: 0.5613 - val_wine_type_accuracy: 0.9949\n",
            "Epoch 86/180\n",
            "3155/3155 [==============================] - 0s 78us/sample - loss: 0.3124 - wine_quality_loss: 0.2899 - wine_type_loss: 0.0224 - wine_quality_root_mean_squared_error: 0.5385 - wine_type_accuracy: 0.9956 - val_loss: 0.3369 - val_wine_quality_loss: 0.3086 - val_wine_type_loss: 0.0274 - val_wine_quality_root_mean_squared_error: 0.5561 - val_wine_type_accuracy: 0.9949\n",
            "Epoch 87/180\n",
            "3155/3155 [==============================] - 0s 92us/sample - loss: 0.3123 - wine_quality_loss: 0.2900 - wine_type_loss: 0.0222 - wine_quality_root_mean_squared_error: 0.5385 - wine_type_accuracy: 0.9959 - val_loss: 0.3393 - val_wine_quality_loss: 0.3109 - val_wine_type_loss: 0.0272 - val_wine_quality_root_mean_squared_error: 0.5583 - val_wine_type_accuracy: 0.9949\n",
            "Epoch 88/180\n",
            "3155/3155 [==============================] - 0s 94us/sample - loss: 0.3107 - wine_quality_loss: 0.2884 - wine_type_loss: 0.0222 - wine_quality_root_mean_squared_error: 0.5371 - wine_type_accuracy: 0.9956 - val_loss: 0.3380 - val_wine_quality_loss: 0.3096 - val_wine_type_loss: 0.0272 - val_wine_quality_root_mean_squared_error: 0.5572 - val_wine_type_accuracy: 0.9949\n",
            "Epoch 89/180\n",
            "3155/3155 [==============================] - 0s 94us/sample - loss: 0.3096 - wine_quality_loss: 0.2880 - wine_type_loss: 0.0220 - wine_quality_root_mean_squared_error: 0.5362 - wine_type_accuracy: 0.9959 - val_loss: 0.3421 - val_wine_quality_loss: 0.3140 - val_wine_type_loss: 0.0271 - val_wine_quality_root_mean_squared_error: 0.5609 - val_wine_type_accuracy: 0.9949\n",
            "Epoch 90/180\n",
            "3155/3155 [==============================] - 0s 91us/sample - loss: 0.3098 - wine_quality_loss: 0.2874 - wine_type_loss: 0.0219 - wine_quality_root_mean_squared_error: 0.5366 - wine_type_accuracy: 0.9956 - val_loss: 0.3362 - val_wine_quality_loss: 0.3080 - val_wine_type_loss: 0.0270 - val_wine_quality_root_mean_squared_error: 0.5558 - val_wine_type_accuracy: 0.9949\n",
            "Epoch 91/180\n",
            "3155/3155 [==============================] - 0s 92us/sample - loss: 0.3093 - wine_quality_loss: 0.2875 - wine_type_loss: 0.0217 - wine_quality_root_mean_squared_error: 0.5362 - wine_type_accuracy: 0.9956 - val_loss: 0.3444 - val_wine_quality_loss: 0.3161 - val_wine_type_loss: 0.0271 - val_wine_quality_root_mean_squared_error: 0.5630 - val_wine_type_accuracy: 0.9949\n",
            "Epoch 92/180\n",
            "3155/3155 [==============================] - 0s 93us/sample - loss: 0.3086 - wine_quality_loss: 0.2864 - wine_type_loss: 0.0217 - wine_quality_root_mean_squared_error: 0.5356 - wine_type_accuracy: 0.9956 - val_loss: 0.3396 - val_wine_quality_loss: 0.3116 - val_wine_type_loss: 0.0271 - val_wine_quality_root_mean_squared_error: 0.5587 - val_wine_type_accuracy: 0.9949\n",
            "Epoch 93/180\n",
            "3155/3155 [==============================] - 0s 75us/sample - loss: 0.3075 - wine_quality_loss: 0.2859 - wine_type_loss: 0.0215 - wine_quality_root_mean_squared_error: 0.5348 - wine_type_accuracy: 0.9959 - val_loss: 0.3405 - val_wine_quality_loss: 0.3127 - val_wine_type_loss: 0.0270 - val_wine_quality_root_mean_squared_error: 0.5597 - val_wine_type_accuracy: 0.9949\n",
            "Epoch 94/180\n",
            "3155/3155 [==============================] - 0s 93us/sample - loss: 0.3069 - wine_quality_loss: 0.2851 - wine_type_loss: 0.0214 - wine_quality_root_mean_squared_error: 0.5342 - wine_type_accuracy: 0.9959 - val_loss: 0.3513 - val_wine_quality_loss: 0.3233 - val_wine_type_loss: 0.0270 - val_wine_quality_root_mean_squared_error: 0.5692 - val_wine_type_accuracy: 0.9949\n",
            "Epoch 95/180\n",
            "3155/3155 [==============================] - 0s 94us/sample - loss: 0.3067 - wine_quality_loss: 0.2855 - wine_type_loss: 0.0213 - wine_quality_root_mean_squared_error: 0.5342 - wine_type_accuracy: 0.9959 - val_loss: 0.3439 - val_wine_quality_loss: 0.3160 - val_wine_type_loss: 0.0268 - val_wine_quality_root_mean_squared_error: 0.5629 - val_wine_type_accuracy: 0.9949\n",
            "Epoch 96/180\n",
            "3155/3155 [==============================] - 0s 93us/sample - loss: 0.3062 - wine_quality_loss: 0.2852 - wine_type_loss: 0.0212 - wine_quality_root_mean_squared_error: 0.5338 - wine_type_accuracy: 0.9959 - val_loss: 0.3411 - val_wine_quality_loss: 0.3132 - val_wine_type_loss: 0.0267 - val_wine_quality_root_mean_squared_error: 0.5604 - val_wine_type_accuracy: 0.9949\n",
            "Epoch 97/180\n",
            "3155/3155 [==============================] - 0s 89us/sample - loss: 0.3061 - wine_quality_loss: 0.2845 - wine_type_loss: 0.0213 - wine_quality_root_mean_squared_error: 0.5339 - wine_type_accuracy: 0.9959 - val_loss: 0.3432 - val_wine_quality_loss: 0.3156 - val_wine_type_loss: 0.0266 - val_wine_quality_root_mean_squared_error: 0.5623 - val_wine_type_accuracy: 0.9949\n",
            "Epoch 98/180\n",
            "3155/3155 [==============================] - 0s 92us/sample - loss: 0.3049 - wine_quality_loss: 0.2838 - wine_type_loss: 0.0209 - wine_quality_root_mean_squared_error: 0.5328 - wine_type_accuracy: 0.9959 - val_loss: 0.3373 - val_wine_quality_loss: 0.3098 - val_wine_type_loss: 0.0266 - val_wine_quality_root_mean_squared_error: 0.5571 - val_wine_type_accuracy: 0.9949\n",
            "Epoch 99/180\n",
            "3155/3155 [==============================] - 0s 76us/sample - loss: 0.3041 - wine_quality_loss: 0.2835 - wine_type_loss: 0.0208 - wine_quality_root_mean_squared_error: 0.5321 - wine_type_accuracy: 0.9959 - val_loss: 0.3433 - val_wine_quality_loss: 0.3159 - val_wine_type_loss: 0.0266 - val_wine_quality_root_mean_squared_error: 0.5624 - val_wine_type_accuracy: 0.9949\n",
            "Epoch 100/180\n",
            "3155/3155 [==============================] - 0s 93us/sample - loss: 0.3046 - wine_quality_loss: 0.2835 - wine_type_loss: 0.0207 - wine_quality_root_mean_squared_error: 0.5327 - wine_type_accuracy: 0.9959 - val_loss: 0.3391 - val_wine_quality_loss: 0.3113 - val_wine_type_loss: 0.0267 - val_wine_quality_root_mean_squared_error: 0.5586 - val_wine_type_accuracy: 0.9949\n",
            "Epoch 101/180\n",
            "3155/3155 [==============================] - 0s 95us/sample - loss: 0.3024 - wine_quality_loss: 0.2817 - wine_type_loss: 0.0207 - wine_quality_root_mean_squared_error: 0.5307 - wine_type_accuracy: 0.9959 - val_loss: 0.3378 - val_wine_quality_loss: 0.3104 - val_wine_type_loss: 0.0265 - val_wine_quality_root_mean_squared_error: 0.5577 - val_wine_type_accuracy: 0.9949\n",
            "Epoch 102/180\n",
            "3155/3155 [==============================] - 0s 92us/sample - loss: 0.3019 - wine_quality_loss: 0.2817 - wine_type_loss: 0.0205 - wine_quality_root_mean_squared_error: 0.5304 - wine_type_accuracy: 0.9959 - val_loss: 0.3385 - val_wine_quality_loss: 0.3114 - val_wine_type_loss: 0.0263 - val_wine_quality_root_mean_squared_error: 0.5585 - val_wine_type_accuracy: 0.9949\n",
            "Epoch 103/180\n",
            "3155/3155 [==============================] - 0s 93us/sample - loss: 0.3012 - wine_quality_loss: 0.2810 - wine_type_loss: 0.0204 - wine_quality_root_mean_squared_error: 0.5299 - wine_type_accuracy: 0.9959 - val_loss: 0.3378 - val_wine_quality_loss: 0.3106 - val_wine_type_loss: 0.0264 - val_wine_quality_root_mean_squared_error: 0.5578 - val_wine_type_accuracy: 0.9949\n",
            "Epoch 104/180\n",
            "3155/3155 [==============================] - 0s 92us/sample - loss: 0.3015 - wine_quality_loss: 0.2811 - wine_type_loss: 0.0203 - wine_quality_root_mean_squared_error: 0.5302 - wine_type_accuracy: 0.9959 - val_loss: 0.3384 - val_wine_quality_loss: 0.3109 - val_wine_type_loss: 0.0263 - val_wine_quality_root_mean_squared_error: 0.5584 - val_wine_type_accuracy: 0.9949\n",
            "Epoch 105/180\n",
            "3155/3155 [==============================] - 0s 95us/sample - loss: 0.3011 - wine_quality_loss: 0.2813 - wine_type_loss: 0.0202 - wine_quality_root_mean_squared_error: 0.5299 - wine_type_accuracy: 0.9962 - val_loss: 0.3366 - val_wine_quality_loss: 0.3092 - val_wine_type_loss: 0.0262 - val_wine_quality_root_mean_squared_error: 0.5568 - val_wine_type_accuracy: 0.9949\n",
            "Epoch 106/180\n"
          ]
        },
        {
          "name": "stdout",
          "output_type": "stream",
          "text": [
            "3155/3155 [==============================] - 0s 92us/sample - loss: 0.3000 - wine_quality_loss: 0.2797 - wine_type_loss: 0.0202 - wine_quality_root_mean_squared_error: 0.5290 - wine_type_accuracy: 0.9959 - val_loss: 0.3385 - val_wine_quality_loss: 0.3113 - val_wine_type_loss: 0.0262 - val_wine_quality_root_mean_squared_error: 0.5585 - val_wine_type_accuracy: 0.9949\n",
            "Epoch 107/180\n",
            "3155/3155 [==============================] - 0s 76us/sample - loss: 0.2991 - wine_quality_loss: 0.2791 - wine_type_loss: 0.0200 - wine_quality_root_mean_squared_error: 0.5282 - wine_type_accuracy: 0.9962 - val_loss: 0.3423 - val_wine_quality_loss: 0.3148 - val_wine_type_loss: 0.0261 - val_wine_quality_root_mean_squared_error: 0.5620 - val_wine_type_accuracy: 0.9949\n",
            "Epoch 108/180\n",
            "3155/3155 [==============================] - 0s 94us/sample - loss: 0.2984 - wine_quality_loss: 0.2778 - wine_type_loss: 0.0199 - wine_quality_root_mean_squared_error: 0.5277 - wine_type_accuracy: 0.9962 - val_loss: 0.3393 - val_wine_quality_loss: 0.3121 - val_wine_type_loss: 0.0260 - val_wine_quality_root_mean_squared_error: 0.5594 - val_wine_type_accuracy: 0.9949\n",
            "Epoch 109/180\n",
            "3155/3155 [==============================] - 0s 91us/sample - loss: 0.2977 - wine_quality_loss: 0.2791 - wine_type_loss: 0.0198 - wine_quality_root_mean_squared_error: 0.5271 - wine_type_accuracy: 0.9962 - val_loss: 0.3445 - val_wine_quality_loss: 0.3174 - val_wine_type_loss: 0.0261 - val_wine_quality_root_mean_squared_error: 0.5640 - val_wine_type_accuracy: 0.9949\n",
            "Epoch 110/180\n",
            "3155/3155 [==============================] - 0s 92us/sample - loss: 0.2976 - wine_quality_loss: 0.2777 - wine_type_loss: 0.0197 - wine_quality_root_mean_squared_error: 0.5270 - wine_type_accuracy: 0.9962 - val_loss: 0.3406 - val_wine_quality_loss: 0.3136 - val_wine_type_loss: 0.0260 - val_wine_quality_root_mean_squared_error: 0.5606 - val_wine_type_accuracy: 0.9949\n",
            "Epoch 111/180\n",
            "3155/3155 [==============================] - 0s 94us/sample - loss: 0.2975 - wine_quality_loss: 0.2778 - wine_type_loss: 0.0196 - wine_quality_root_mean_squared_error: 0.5271 - wine_type_accuracy: 0.9962 - val_loss: 0.3335 - val_wine_quality_loss: 0.3064 - val_wine_type_loss: 0.0261 - val_wine_quality_root_mean_squared_error: 0.5542 - val_wine_type_accuracy: 0.9949\n",
            "Epoch 112/180\n",
            "3155/3155 [==============================] - 0s 92us/sample - loss: 0.2969 - wine_quality_loss: 0.2773 - wine_type_loss: 0.0196 - wine_quality_root_mean_squared_error: 0.5266 - wine_type_accuracy: 0.9962 - val_loss: 0.3366 - val_wine_quality_loss: 0.3098 - val_wine_type_loss: 0.0260 - val_wine_quality_root_mean_squared_error: 0.5570 - val_wine_type_accuracy: 0.9949\n",
            "Epoch 113/180\n",
            "3155/3155 [==============================] - 0s 92us/sample - loss: 0.2966 - wine_quality_loss: 0.2768 - wine_type_loss: 0.0194 - wine_quality_root_mean_squared_error: 0.5264 - wine_type_accuracy: 0.9962 - val_loss: 0.3341 - val_wine_quality_loss: 0.3071 - val_wine_type_loss: 0.0259 - val_wine_quality_root_mean_squared_error: 0.5548 - val_wine_type_accuracy: 0.9949\n",
            "Epoch 114/180\n",
            "3155/3155 [==============================] - 0s 78us/sample - loss: 0.2964 - wine_quality_loss: 0.2770 - wine_type_loss: 0.0193 - wine_quality_root_mean_squared_error: 0.5264 - wine_type_accuracy: 0.9962 - val_loss: 0.3370 - val_wine_quality_loss: 0.3103 - val_wine_type_loss: 0.0258 - val_wine_quality_root_mean_squared_error: 0.5576 - val_wine_type_accuracy: 0.9949\n",
            "Epoch 115/180\n",
            "3155/3155 [==============================] - 0s 92us/sample - loss: 0.2966 - wine_quality_loss: 0.2774 - wine_type_loss: 0.0192 - wine_quality_root_mean_squared_error: 0.5266 - wine_type_accuracy: 0.9962 - val_loss: 0.3343 - val_wine_quality_loss: 0.3077 - val_wine_type_loss: 0.0258 - val_wine_quality_root_mean_squared_error: 0.5551 - val_wine_type_accuracy: 0.9949\n",
            "Epoch 116/180\n",
            "3155/3155 [==============================] - 0s 93us/sample - loss: 0.2950 - wine_quality_loss: 0.2763 - wine_type_loss: 0.0191 - wine_quality_root_mean_squared_error: 0.5251 - wine_type_accuracy: 0.9962 - val_loss: 0.3540 - val_wine_quality_loss: 0.3275 - val_wine_type_loss: 0.0259 - val_wine_quality_root_mean_squared_error: 0.5725 - val_wine_type_accuracy: 0.9949\n",
            "Epoch 117/180\n",
            "3155/3155 [==============================] - 0s 93us/sample - loss: 0.2950 - wine_quality_loss: 0.2756 - wine_type_loss: 0.0190 - wine_quality_root_mean_squared_error: 0.5252 - wine_type_accuracy: 0.9962 - val_loss: 0.3353 - val_wine_quality_loss: 0.3086 - val_wine_type_loss: 0.0258 - val_wine_quality_root_mean_squared_error: 0.5560 - val_wine_type_accuracy: 0.9949\n",
            "Epoch 118/180\n",
            "3155/3155 [==============================] - 0s 93us/sample - loss: 0.2946 - wine_quality_loss: 0.2755 - wine_type_loss: 0.0191 - wine_quality_root_mean_squared_error: 0.5250 - wine_type_accuracy: 0.9962 - val_loss: 0.3381 - val_wine_quality_loss: 0.3113 - val_wine_type_loss: 0.0258 - val_wine_quality_root_mean_squared_error: 0.5585 - val_wine_type_accuracy: 0.9949\n",
            "Epoch 119/180\n",
            "3155/3155 [==============================] - 0s 92us/sample - loss: 0.2936 - wine_quality_loss: 0.2747 - wine_type_loss: 0.0188 - wine_quality_root_mean_squared_error: 0.5241 - wine_type_accuracy: 0.9962 - val_loss: 0.3347 - val_wine_quality_loss: 0.3079 - val_wine_type_loss: 0.0258 - val_wine_quality_root_mean_squared_error: 0.5555 - val_wine_type_accuracy: 0.9949\n",
            "Epoch 120/180\n",
            "3155/3155 [==============================] - 0s 90us/sample - loss: 0.2921 - wine_quality_loss: 0.2733 - wine_type_loss: 0.0188 - wine_quality_root_mean_squared_error: 0.5227 - wine_type_accuracy: 0.9962 - val_loss: 0.3357 - val_wine_quality_loss: 0.3091 - val_wine_type_loss: 0.0257 - val_wine_quality_root_mean_squared_error: 0.5565 - val_wine_type_accuracy: 0.9949\n",
            "Epoch 121/180\n",
            "3155/3155 [==============================] - 0s 79us/sample - loss: 0.2926 - wine_quality_loss: 0.2735 - wine_type_loss: 0.0187 - wine_quality_root_mean_squared_error: 0.5233 - wine_type_accuracy: 0.9962 - val_loss: 0.3392 - val_wine_quality_loss: 0.3126 - val_wine_type_loss: 0.0256 - val_wine_quality_root_mean_squared_error: 0.5597 - val_wine_type_accuracy: 0.9949\n",
            "Epoch 122/180\n",
            "3155/3155 [==============================] - 0s 93us/sample - loss: 0.2916 - wine_quality_loss: 0.2731 - wine_type_loss: 0.0186 - wine_quality_root_mean_squared_error: 0.5223 - wine_type_accuracy: 0.9962 - val_loss: 0.3331 - val_wine_quality_loss: 0.3063 - val_wine_type_loss: 0.0258 - val_wine_quality_root_mean_squared_error: 0.5540 - val_wine_type_accuracy: 0.9949\n",
            "Epoch 123/180\n",
            "3155/3155 [==============================] - 0s 93us/sample - loss: 0.2919 - wine_quality_loss: 0.2729 - wine_type_loss: 0.0186 - wine_quality_root_mean_squared_error: 0.5227 - wine_type_accuracy: 0.9962 - val_loss: 0.3409 - val_wine_quality_loss: 0.3144 - val_wine_type_loss: 0.0258 - val_wine_quality_root_mean_squared_error: 0.5610 - val_wine_type_accuracy: 0.9949\n",
            "Epoch 124/180\n",
            "3155/3155 [==============================] - 0s 92us/sample - loss: 0.2907 - wine_quality_loss: 0.2722 - wine_type_loss: 0.0188 - wine_quality_root_mean_squared_error: 0.5217 - wine_type_accuracy: 0.9962 - val_loss: 0.3433 - val_wine_quality_loss: 0.3161 - val_wine_type_loss: 0.0258 - val_wine_quality_root_mean_squared_error: 0.5632 - val_wine_type_accuracy: 0.9949\n",
            "Epoch 125/180\n",
            "3155/3155 [==============================] - 0s 91us/sample - loss: 0.2901 - wine_quality_loss: 0.2721 - wine_type_loss: 0.0184 - wine_quality_root_mean_squared_error: 0.5212 - wine_type_accuracy: 0.9962 - val_loss: 0.3375 - val_wine_quality_loss: 0.3108 - val_wine_type_loss: 0.0258 - val_wine_quality_root_mean_squared_error: 0.5579 - val_wine_type_accuracy: 0.9949\n",
            "Epoch 126/180\n",
            "3155/3155 [==============================] - 0s 91us/sample - loss: 0.2884 - wine_quality_loss: 0.2699 - wine_type_loss: 0.0183 - wine_quality_root_mean_squared_error: 0.5196 - wine_type_accuracy: 0.9962 - val_loss: 0.3481 - val_wine_quality_loss: 0.3213 - val_wine_type_loss: 0.0257 - val_wine_quality_root_mean_squared_error: 0.5676 - val_wine_type_accuracy: 0.9949\n",
            "Epoch 127/180\n"
          ]
        },
        {
          "name": "stdout",
          "output_type": "stream",
          "text": [
            "3155/3155 [==============================] - 0s 77us/sample - loss: 0.2878 - wine_quality_loss: 0.2693 - wine_type_loss: 0.0184 - wine_quality_root_mean_squared_error: 0.5191 - wine_type_accuracy: 0.9962 - val_loss: 0.3344 - val_wine_quality_loss: 0.3082 - val_wine_type_loss: 0.0257 - val_wine_quality_root_mean_squared_error: 0.5553 - val_wine_type_accuracy: 0.9949\n",
            "Epoch 128/180\n",
            "3155/3155 [==============================] - 0s 92us/sample - loss: 0.2903 - wine_quality_loss: 0.2721 - wine_type_loss: 0.0181 - wine_quality_root_mean_squared_error: 0.5217 - wine_type_accuracy: 0.9962 - val_loss: 0.3386 - val_wine_quality_loss: 0.3119 - val_wine_type_loss: 0.0257 - val_wine_quality_root_mean_squared_error: 0.5590 - val_wine_type_accuracy: 0.9949\n",
            "Epoch 129/180\n",
            "3155/3155 [==============================] - 0s 93us/sample - loss: 0.2877 - wine_quality_loss: 0.2693 - wine_type_loss: 0.0181 - wine_quality_root_mean_squared_error: 0.5192 - wine_type_accuracy: 0.9962 - val_loss: 0.3418 - val_wine_quality_loss: 0.3151 - val_wine_type_loss: 0.0258 - val_wine_quality_root_mean_squared_error: 0.5619 - val_wine_type_accuracy: 0.9949\n",
            "Epoch 130/180\n",
            "3155/3155 [==============================] - 0s 92us/sample - loss: 0.2885 - wine_quality_loss: 0.2703 - wine_type_loss: 0.0180 - wine_quality_root_mean_squared_error: 0.5200 - wine_type_accuracy: 0.9962 - val_loss: 0.3391 - val_wine_quality_loss: 0.3124 - val_wine_type_loss: 0.0258 - val_wine_quality_root_mean_squared_error: 0.5594 - val_wine_type_accuracy: 0.9949\n",
            "Epoch 131/180\n",
            "3155/3155 [==============================] - 0s 89us/sample - loss: 0.2877 - wine_quality_loss: 0.2698 - wine_type_loss: 0.0180 - wine_quality_root_mean_squared_error: 0.5193 - wine_type_accuracy: 0.9962 - val_loss: 0.3378 - val_wine_quality_loss: 0.3113 - val_wine_type_loss: 0.0257 - val_wine_quality_root_mean_squared_error: 0.5584 - val_wine_type_accuracy: 0.9949\n",
            "Epoch 132/180\n",
            "3155/3155 [==============================] - 0s 92us/sample - loss: 0.2880 - wine_quality_loss: 0.2703 - wine_type_loss: 0.0178 - wine_quality_root_mean_squared_error: 0.5198 - wine_type_accuracy: 0.9962 - val_loss: 0.3438 - val_wine_quality_loss: 0.3168 - val_wine_type_loss: 0.0256 - val_wine_quality_root_mean_squared_error: 0.5637 - val_wine_type_accuracy: 0.9949\n",
            "Epoch 133/180\n",
            "3155/3155 [==============================] - 0s 79us/sample - loss: 0.2876 - wine_quality_loss: 0.2694 - wine_type_loss: 0.0177 - wine_quality_root_mean_squared_error: 0.5194 - wine_type_accuracy: 0.9962 - val_loss: 0.3339 - val_wine_quality_loss: 0.3075 - val_wine_type_loss: 0.0256 - val_wine_quality_root_mean_squared_error: 0.5550 - val_wine_type_accuracy: 0.9949\n",
            "Epoch 134/180\n",
            "3155/3155 [==============================] - 0s 93us/sample - loss: 0.2861 - wine_quality_loss: 0.2693 - wine_type_loss: 0.0176 - wine_quality_root_mean_squared_error: 0.5181 - wine_type_accuracy: 0.9962 - val_loss: 0.3407 - val_wine_quality_loss: 0.3140 - val_wine_type_loss: 0.0257 - val_wine_quality_root_mean_squared_error: 0.5610 - val_wine_type_accuracy: 0.9949\n",
            "Epoch 135/180\n",
            "3155/3155 [==============================] - 0s 93us/sample - loss: 0.2876 - wine_quality_loss: 0.2704 - wine_type_loss: 0.0177 - wine_quality_root_mean_squared_error: 0.5195 - wine_type_accuracy: 0.9962 - val_loss: 0.3354 - val_wine_quality_loss: 0.3090 - val_wine_type_loss: 0.0256 - val_wine_quality_root_mean_squared_error: 0.5563 - val_wine_type_accuracy: 0.9949\n",
            "Epoch 136/180\n",
            "3155/3155 [==============================] - 0s 94us/sample - loss: 0.2852 - wine_quality_loss: 0.2681 - wine_type_loss: 0.0178 - wine_quality_root_mean_squared_error: 0.5173 - wine_type_accuracy: 0.9962 - val_loss: 0.3345 - val_wine_quality_loss: 0.3079 - val_wine_type_loss: 0.0254 - val_wine_quality_root_mean_squared_error: 0.5556 - val_wine_type_accuracy: 0.9949\n",
            "Epoch 137/180\n",
            "3155/3155 [==============================] - 0s 91us/sample - loss: 0.2848 - wine_quality_loss: 0.2676 - wine_type_loss: 0.0174 - wine_quality_root_mean_squared_error: 0.5171 - wine_type_accuracy: 0.9962 - val_loss: 0.3361 - val_wine_quality_loss: 0.3096 - val_wine_type_loss: 0.0254 - val_wine_quality_root_mean_squared_error: 0.5571 - val_wine_type_accuracy: 0.9949\n",
            "Epoch 138/180\n",
            "3155/3155 [==============================] - 0s 95us/sample - loss: 0.2854 - wine_quality_loss: 0.2678 - wine_type_loss: 0.0173 - wine_quality_root_mean_squared_error: 0.5177 - wine_type_accuracy: 0.9962 - val_loss: 0.3351 - val_wine_quality_loss: 0.3089 - val_wine_type_loss: 0.0254 - val_wine_quality_root_mean_squared_error: 0.5562 - val_wine_type_accuracy: 0.9949\n",
            "Epoch 139/180\n",
            "3155/3155 [==============================] - 0s 93us/sample - loss: 0.2843 - wine_quality_loss: 0.2678 - wine_type_loss: 0.0172 - wine_quality_root_mean_squared_error: 0.5167 - wine_type_accuracy: 0.9965 - val_loss: 0.3400 - val_wine_quality_loss: 0.3140 - val_wine_type_loss: 0.0254 - val_wine_quality_root_mean_squared_error: 0.5606 - val_wine_type_accuracy: 0.9949\n",
            "Epoch 140/180\n",
            "3155/3155 [==============================] - 0s 75us/sample - loss: 0.2835 - wine_quality_loss: 0.2657 - wine_type_loss: 0.0172 - wine_quality_root_mean_squared_error: 0.5160 - wine_type_accuracy: 0.9965 - val_loss: 0.3362 - val_wine_quality_loss: 0.3100 - val_wine_type_loss: 0.0255 - val_wine_quality_root_mean_squared_error: 0.5572 - val_wine_type_accuracy: 0.9949\n",
            "Epoch 141/180\n",
            "3155/3155 [==============================] - 0s 91us/sample - loss: 0.2837 - wine_quality_loss: 0.2661 - wine_type_loss: 0.0172 - wine_quality_root_mean_squared_error: 0.5162 - wine_type_accuracy: 0.9962 - val_loss: 0.3355 - val_wine_quality_loss: 0.3095 - val_wine_type_loss: 0.0254 - val_wine_quality_root_mean_squared_error: 0.5566 - val_wine_type_accuracy: 0.9949\n",
            "Epoch 142/180\n",
            "3155/3155 [==============================] - 0s 93us/sample - loss: 0.2821 - wine_quality_loss: 0.2651 - wine_type_loss: 0.0171 - wine_quality_root_mean_squared_error: 0.5148 - wine_type_accuracy: 0.9965 - val_loss: 0.3465 - val_wine_quality_loss: 0.3201 - val_wine_type_loss: 0.0253 - val_wine_quality_root_mean_squared_error: 0.5664 - val_wine_type_accuracy: 0.9949\n",
            "Epoch 143/180\n",
            "3155/3155 [==============================] - 0s 93us/sample - loss: 0.2812 - wine_quality_loss: 0.2645 - wine_type_loss: 0.0170 - wine_quality_root_mean_squared_error: 0.5140 - wine_type_accuracy: 0.9962 - val_loss: 0.3361 - val_wine_quality_loss: 0.3100 - val_wine_type_loss: 0.0252 - val_wine_quality_root_mean_squared_error: 0.5573 - val_wine_type_accuracy: 0.9937\n",
            "Epoch 144/180\n",
            "3155/3155 [==============================] - 0s 94us/sample - loss: 0.2831 - wine_quality_loss: 0.2663 - wine_type_loss: 0.0169 - wine_quality_root_mean_squared_error: 0.5158 - wine_type_accuracy: 0.9965 - val_loss: 0.3379 - val_wine_quality_loss: 0.3118 - val_wine_type_loss: 0.0252 - val_wine_quality_root_mean_squared_error: 0.5588 - val_wine_type_accuracy: 0.9937\n",
            "Epoch 145/180\n",
            "3155/3155 [==============================] - 0s 93us/sample - loss: 0.2808 - wine_quality_loss: 0.2644 - wine_type_loss: 0.0168 - wine_quality_root_mean_squared_error: 0.5138 - wine_type_accuracy: 0.9965 - val_loss: 0.3418 - val_wine_quality_loss: 0.3157 - val_wine_type_loss: 0.0251 - val_wine_quality_root_mean_squared_error: 0.5624 - val_wine_type_accuracy: 0.9949\n",
            "Epoch 146/180\n",
            "3155/3155 [==============================] - 0s 92us/sample - loss: 0.2812 - wine_quality_loss: 0.2640 - wine_type_loss: 0.0167 - wine_quality_root_mean_squared_error: 0.5142 - wine_type_accuracy: 0.9965 - val_loss: 0.3384 - val_wine_quality_loss: 0.3125 - val_wine_type_loss: 0.0252 - val_wine_quality_root_mean_squared_error: 0.5594 - val_wine_type_accuracy: 0.9937\n",
            "Epoch 147/180\n",
            "3155/3155 [==============================] - 0s 93us/sample - loss: 0.2803 - wine_quality_loss: 0.2637 - wine_type_loss: 0.0167 - wine_quality_root_mean_squared_error: 0.5133 - wine_type_accuracy: 0.9965 - val_loss: 0.3318 - val_wine_quality_loss: 0.3059 - val_wine_type_loss: 0.0252 - val_wine_quality_root_mean_squared_error: 0.5534 - val_wine_type_accuracy: 0.9937\n",
            "Epoch 148/180\n"
          ]
        },
        {
          "name": "stdout",
          "output_type": "stream",
          "text": [
            "3155/3155 [==============================] - 0s 77us/sample - loss: 0.2801 - wine_quality_loss: 0.2638 - wine_type_loss: 0.0166 - wine_quality_root_mean_squared_error: 0.5133 - wine_type_accuracy: 0.9965 - val_loss: 0.3448 - val_wine_quality_loss: 0.3192 - val_wine_type_loss: 0.0252 - val_wine_quality_root_mean_squared_error: 0.5650 - val_wine_type_accuracy: 0.9937\n",
            "Epoch 149/180\n",
            "3155/3155 [==============================] - 0s 93us/sample - loss: 0.2794 - wine_quality_loss: 0.2622 - wine_type_loss: 0.0166 - wine_quality_root_mean_squared_error: 0.5126 - wine_type_accuracy: 0.9965 - val_loss: 0.3391 - val_wine_quality_loss: 0.3128 - val_wine_type_loss: 0.0252 - val_wine_quality_root_mean_squared_error: 0.5600 - val_wine_type_accuracy: 0.9937\n",
            "Epoch 150/180\n",
            "3155/3155 [==============================] - 0s 91us/sample - loss: 0.2790 - wine_quality_loss: 0.2622 - wine_type_loss: 0.0164 - wine_quality_root_mean_squared_error: 0.5123 - wine_type_accuracy: 0.9965 - val_loss: 0.3379 - val_wine_quality_loss: 0.3118 - val_wine_type_loss: 0.0252 - val_wine_quality_root_mean_squared_error: 0.5588 - val_wine_type_accuracy: 0.9937\n",
            "Epoch 151/180\n",
            "3155/3155 [==============================] - 0s 94us/sample - loss: 0.2784 - wine_quality_loss: 0.2624 - wine_type_loss: 0.0164 - wine_quality_root_mean_squared_error: 0.5118 - wine_type_accuracy: 0.9965 - val_loss: 0.3402 - val_wine_quality_loss: 0.3142 - val_wine_type_loss: 0.0253 - val_wine_quality_root_mean_squared_error: 0.5608 - val_wine_type_accuracy: 0.9949\n",
            "Epoch 152/180\n",
            "3155/3155 [==============================] - 0s 95us/sample - loss: 0.2790 - wine_quality_loss: 0.2620 - wine_type_loss: 0.0163 - wine_quality_root_mean_squared_error: 0.5124 - wine_type_accuracy: 0.9965 - val_loss: 0.3429 - val_wine_quality_loss: 0.3167 - val_wine_type_loss: 0.0252 - val_wine_quality_root_mean_squared_error: 0.5634 - val_wine_type_accuracy: 0.9937\n",
            "Epoch 153/180\n",
            "3155/3155 [==============================] - 0s 92us/sample - loss: 0.2783 - wine_quality_loss: 0.2619 - wine_type_loss: 0.0162 - wine_quality_root_mean_squared_error: 0.5119 - wine_type_accuracy: 0.9965 - val_loss: 0.3511 - val_wine_quality_loss: 0.3250 - val_wine_type_loss: 0.0252 - val_wine_quality_root_mean_squared_error: 0.5706 - val_wine_type_accuracy: 0.9949\n",
            "Epoch 154/180\n",
            "3155/3155 [==============================] - 0s 93us/sample - loss: 0.2790 - wine_quality_loss: 0.2631 - wine_type_loss: 0.0162 - wine_quality_root_mean_squared_error: 0.5126 - wine_type_accuracy: 0.9965 - val_loss: 0.3408 - val_wine_quality_loss: 0.3145 - val_wine_type_loss: 0.0253 - val_wine_quality_root_mean_squared_error: 0.5615 - val_wine_type_accuracy: 0.9949\n",
            "Epoch 155/180\n",
            "3155/3155 [==============================] - 0s 89us/sample - loss: 0.2774 - wine_quality_loss: 0.2618 - wine_type_loss: 0.0162 - wine_quality_root_mean_squared_error: 0.5110 - wine_type_accuracy: 0.9965 - val_loss: 0.3368 - val_wine_quality_loss: 0.3108 - val_wine_type_loss: 0.0252 - val_wine_quality_root_mean_squared_error: 0.5579 - val_wine_type_accuracy: 0.9949\n",
            "Epoch 156/180\n",
            "3155/3155 [==============================] - 0s 78us/sample - loss: 0.2769 - wine_quality_loss: 0.2603 - wine_type_loss: 0.0161 - wine_quality_root_mean_squared_error: 0.5106 - wine_type_accuracy: 0.9965 - val_loss: 0.3394 - val_wine_quality_loss: 0.3138 - val_wine_type_loss: 0.0251 - val_wine_quality_root_mean_squared_error: 0.5603 - val_wine_type_accuracy: 0.9949\n",
            "Epoch 157/180\n",
            "3155/3155 [==============================] - 0s 95us/sample - loss: 0.2778 - wine_quality_loss: 0.2616 - wine_type_loss: 0.0160 - wine_quality_root_mean_squared_error: 0.5116 - wine_type_accuracy: 0.9965 - val_loss: 0.3418 - val_wine_quality_loss: 0.3158 - val_wine_type_loss: 0.0251 - val_wine_quality_root_mean_squared_error: 0.5625 - val_wine_type_accuracy: 0.9949\n",
            "Epoch 158/180\n",
            "3155/3155 [==============================] - 0s 93us/sample - loss: 0.2767 - wine_quality_loss: 0.2607 - wine_type_loss: 0.0159 - wine_quality_root_mean_squared_error: 0.5106 - wine_type_accuracy: 0.9965 - val_loss: 0.3365 - val_wine_quality_loss: 0.3105 - val_wine_type_loss: 0.0250 - val_wine_quality_root_mean_squared_error: 0.5578 - val_wine_type_accuracy: 0.9949\n",
            "Epoch 159/180\n",
            "3155/3155 [==============================] - 0s 94us/sample - loss: 0.2766 - wine_quality_loss: 0.2605 - wine_type_loss: 0.0159 - wine_quality_root_mean_squared_error: 0.5105 - wine_type_accuracy: 0.9965 - val_loss: 0.3362 - val_wine_quality_loss: 0.3104 - val_wine_type_loss: 0.0251 - val_wine_quality_root_mean_squared_error: 0.5575 - val_wine_type_accuracy: 0.9949\n",
            "Epoch 160/180\n",
            "3155/3155 [==============================] - 0s 92us/sample - loss: 0.2770 - wine_quality_loss: 0.2612 - wine_type_loss: 0.0158 - wine_quality_root_mean_squared_error: 0.5110 - wine_type_accuracy: 0.9965 - val_loss: 0.3345 - val_wine_quality_loss: 0.3085 - val_wine_type_loss: 0.0251 - val_wine_quality_root_mean_squared_error: 0.5559 - val_wine_type_accuracy: 0.9949\n",
            "Epoch 161/180\n",
            "3155/3155 [==============================] - 0s 93us/sample - loss: 0.2750 - wine_quality_loss: 0.2590 - wine_type_loss: 0.0171 - wine_quality_root_mean_squared_error: 0.5090 - wine_type_accuracy: 0.9965 - val_loss: 0.3367 - val_wine_quality_loss: 0.3110 - val_wine_type_loss: 0.0251 - val_wine_quality_root_mean_squared_error: 0.5580 - val_wine_type_accuracy: 0.9949\n",
            "Epoch 162/180\n",
            "3155/3155 [==============================] - 0s 94us/sample - loss: 0.2751 - wine_quality_loss: 0.2594 - wine_type_loss: 0.0157 - wine_quality_root_mean_squared_error: 0.5092 - wine_type_accuracy: 0.9965 - val_loss: 0.3444 - val_wine_quality_loss: 0.3186 - val_wine_type_loss: 0.0251 - val_wine_quality_root_mean_squared_error: 0.5648 - val_wine_type_accuracy: 0.9949\n",
            "Epoch 163/180\n",
            "3155/3155 [==============================] - 0s 92us/sample - loss: 0.2742 - wine_quality_loss: 0.2582 - wine_type_loss: 0.0173 - wine_quality_root_mean_squared_error: 0.5083 - wine_type_accuracy: 0.9965 - val_loss: 0.3495 - val_wine_quality_loss: 0.3234 - val_wine_type_loss: 0.0251 - val_wine_quality_root_mean_squared_error: 0.5692 - val_wine_type_accuracy: 0.9949\n",
            "Epoch 164/180\n",
            "3155/3155 [==============================] - 0s 74us/sample - loss: 0.2734 - wine_quality_loss: 0.2577 - wine_type_loss: 0.0156 - wine_quality_root_mean_squared_error: 0.5077 - wine_type_accuracy: 0.9965 - val_loss: 0.3437 - val_wine_quality_loss: 0.3175 - val_wine_type_loss: 0.0249 - val_wine_quality_root_mean_squared_error: 0.5643 - val_wine_type_accuracy: 0.9949\n",
            "Epoch 165/180\n",
            "3155/3155 [==============================] - 0s 93us/sample - loss: 0.2736 - wine_quality_loss: 0.2582 - wine_type_loss: 0.0155 - wine_quality_root_mean_squared_error: 0.5079 - wine_type_accuracy: 0.9965 - val_loss: 0.3373 - val_wine_quality_loss: 0.3117 - val_wine_type_loss: 0.0250 - val_wine_quality_root_mean_squared_error: 0.5586 - val_wine_type_accuracy: 0.9949\n",
            "Epoch 166/180\n",
            "3155/3155 [==============================] - 0s 93us/sample - loss: 0.2727 - wine_quality_loss: 0.2568 - wine_type_loss: 0.0155 - wine_quality_root_mean_squared_error: 0.5071 - wine_type_accuracy: 0.9965 - val_loss: 0.3342 - val_wine_quality_loss: 0.3084 - val_wine_type_loss: 0.0251 - val_wine_quality_root_mean_squared_error: 0.5557 - val_wine_type_accuracy: 0.9949\n",
            "Epoch 167/180\n",
            "3155/3155 [==============================] - 0s 94us/sample - loss: 0.2732 - wine_quality_loss: 0.2582 - wine_type_loss: 0.0154 - wine_quality_root_mean_squared_error: 0.5076 - wine_type_accuracy: 0.9968 - val_loss: 0.3340 - val_wine_quality_loss: 0.3081 - val_wine_type_loss: 0.0250 - val_wine_quality_root_mean_squared_error: 0.5556 - val_wine_type_accuracy: 0.9949\n",
            "Epoch 168/180\n",
            "3155/3155 [==============================] - 0s 94us/sample - loss: 0.2707 - wine_quality_loss: 0.2552 - wine_type_loss: 0.0154 - wine_quality_root_mean_squared_error: 0.5053 - wine_type_accuracy: 0.9965 - val_loss: 0.3386 - val_wine_quality_loss: 0.3128 - val_wine_type_loss: 0.0250 - val_wine_quality_root_mean_squared_error: 0.5597 - val_wine_type_accuracy: 0.9949\n",
            "Epoch 169/180\n"
          ]
        },
        {
          "name": "stdout",
          "output_type": "stream",
          "text": [
            "3155/3155 [==============================] - 0s 92us/sample - loss: 0.2720 - wine_quality_loss: 0.2567 - wine_type_loss: 0.0153 - wine_quality_root_mean_squared_error: 0.5066 - wine_type_accuracy: 0.9965 - val_loss: 0.3344 - val_wine_quality_loss: 0.3086 - val_wine_type_loss: 0.0250 - val_wine_quality_root_mean_squared_error: 0.5559 - val_wine_type_accuracy: 0.9949\n",
            "Epoch 170/180\n",
            "3155/3155 [==============================] - 0s 94us/sample - loss: 0.2713 - wine_quality_loss: 0.2562 - wine_type_loss: 0.0153 - wine_quality_root_mean_squared_error: 0.5060 - wine_type_accuracy: 0.9968 - val_loss: 0.3458 - val_wine_quality_loss: 0.3201 - val_wine_type_loss: 0.0251 - val_wine_quality_root_mean_squared_error: 0.5661 - val_wine_type_accuracy: 0.9949\n",
            "Epoch 171/180\n",
            "3155/3155 [==============================] - 0s 90us/sample - loss: 0.2713 - wine_quality_loss: 0.2561 - wine_type_loss: 0.0152 - wine_quality_root_mean_squared_error: 0.5061 - wine_type_accuracy: 0.9965 - val_loss: 0.3423 - val_wine_quality_loss: 0.3162 - val_wine_type_loss: 0.0251 - val_wine_quality_root_mean_squared_error: 0.5629 - val_wine_type_accuracy: 0.9949\n",
            "Epoch 172/180\n",
            "3155/3155 [==============================] - 0s 77us/sample - loss: 0.2709 - wine_quality_loss: 0.2559 - wine_type_loss: 0.0151 - wine_quality_root_mean_squared_error: 0.5057 - wine_type_accuracy: 0.9965 - val_loss: 0.3377 - val_wine_quality_loss: 0.3116 - val_wine_type_loss: 0.0251 - val_wine_quality_root_mean_squared_error: 0.5588 - val_wine_type_accuracy: 0.9949\n",
            "Epoch 173/180\n",
            "3155/3155 [==============================] - 0s 91us/sample - loss: 0.2709 - wine_quality_loss: 0.2565 - wine_type_loss: 0.0150 - wine_quality_root_mean_squared_error: 0.5057 - wine_type_accuracy: 0.9968 - val_loss: 0.3388 - val_wine_quality_loss: 0.3127 - val_wine_type_loss: 0.0251 - val_wine_quality_root_mean_squared_error: 0.5598 - val_wine_type_accuracy: 0.9949\n",
            "Epoch 174/180\n",
            "3155/3155 [==============================] - 0s 92us/sample - loss: 0.2704 - wine_quality_loss: 0.2555 - wine_type_loss: 0.0150 - wine_quality_root_mean_squared_error: 0.5053 - wine_type_accuracy: 0.9965 - val_loss: 0.3423 - val_wine_quality_loss: 0.3165 - val_wine_type_loss: 0.0252 - val_wine_quality_root_mean_squared_error: 0.5628 - val_wine_type_accuracy: 0.9949\n",
            "Epoch 175/180\n",
            "3155/3155 [==============================] - 0s 93us/sample - loss: 0.2695 - wine_quality_loss: 0.2545 - wine_type_loss: 0.0150 - wine_quality_root_mean_squared_error: 0.5044 - wine_type_accuracy: 0.9965 - val_loss: 0.3349 - val_wine_quality_loss: 0.3089 - val_wine_type_loss: 0.0252 - val_wine_quality_root_mean_squared_error: 0.5562 - val_wine_type_accuracy: 0.9949\n",
            "Epoch 176/180\n",
            "3155/3155 [==============================] - 0s 93us/sample - loss: 0.2692 - wine_quality_loss: 0.2541 - wine_type_loss: 0.0149 - wine_quality_root_mean_squared_error: 0.5042 - wine_type_accuracy: 0.9968 - val_loss: 0.3365 - val_wine_quality_loss: 0.3105 - val_wine_type_loss: 0.0251 - val_wine_quality_root_mean_squared_error: 0.5577 - val_wine_type_accuracy: 0.9949\n",
            "Epoch 177/180\n",
            "3155/3155 [==============================] - 0s 91us/sample - loss: 0.2693 - wine_quality_loss: 0.2540 - wine_type_loss: 0.0148 - wine_quality_root_mean_squared_error: 0.5044 - wine_type_accuracy: 0.9965 - val_loss: 0.3345 - val_wine_quality_loss: 0.3088 - val_wine_type_loss: 0.0252 - val_wine_quality_root_mean_squared_error: 0.5558 - val_wine_type_accuracy: 0.9949\n",
            "Epoch 178/180\n",
            "3155/3155 [==============================] - 0s 92us/sample - loss: 0.2687 - wine_quality_loss: 0.2540 - wine_type_loss: 0.0148 - wine_quality_root_mean_squared_error: 0.5038 - wine_type_accuracy: 0.9968 - val_loss: 0.3417 - val_wine_quality_loss: 0.3159 - val_wine_type_loss: 0.0251 - val_wine_quality_root_mean_squared_error: 0.5624 - val_wine_type_accuracy: 0.9949\n",
            "Epoch 179/180\n",
            "3155/3155 [==============================] - 0s 79us/sample - loss: 0.2682 - wine_quality_loss: 0.2533 - wine_type_loss: 0.0147 - wine_quality_root_mean_squared_error: 0.5035 - wine_type_accuracy: 0.9965 - val_loss: 0.3339 - val_wine_quality_loss: 0.3080 - val_wine_type_loss: 0.0252 - val_wine_quality_root_mean_squared_error: 0.5553 - val_wine_type_accuracy: 0.9949\n",
            "Epoch 180/180\n",
            "3155/3155 [==============================] - 0s 91us/sample - loss: 0.2687 - wine_quality_loss: 0.2542 - wine_type_loss: 0.0147 - wine_quality_root_mean_squared_error: 0.5039 - wine_type_accuracy: 0.9965 - val_loss: 0.3354 - val_wine_quality_loss: 0.3095 - val_wine_type_loss: 0.0252 - val_wine_quality_root_mean_squared_error: 0.5567 - val_wine_type_accuracy: 0.9949\n"
          ]
        }
      ],
      "source": [
        "# Please uncomment all lines in this cell and replace those marked with `# YOUR CODE HERE`.\n",
        "# You can select all lines in this code cell with Ctrl+A (Windows/Linux) or Cmd+A (Mac), then press Ctrl+/ (Windows/Linux) or Cmd+/ (Mac) to uncomment.\n",
        "\n",
        "\n",
        "\n",
        "history = model.fit(# YOUR CODE HERE,\n",
        "                    epochs = 180, # YOUR CODE HERE)"
      ]
    },
    {
      "cell_type": "code",
      "execution_count": null,
      "metadata": {
        "deletable": false,
        "editable": false,
        "nbgrader": {
          "cell_type": "code",
          "checksum": "fadad8896eda9c8c2115970724b15508",
          "grade": true,
          "grade_id": "cell-eb4d5b41bef8f0ab",
          "locked": true,
          "points": 1,
          "schema_version": 3,
          "solution": false,
          "task": false
        },
        "id": "OwC_selg6sO4",
        "outputId": "6f957961-e714-4df8-8a41-0fbdde468e1d"
      },
      "outputs": [
        {
          "name": "stdout",
          "output_type": "stream",
          "text": [
            "\u001b[92m All public tests passed\n"
          ]
        }
      ],
      "source": [
        "utils.test_history(history)"
      ]
    },
    {
      "cell_type": "code",
      "execution_count": null,
      "metadata": {
        "id": "CubF2J2gSf6q",
        "outputId": "c55bbdfc-da60-4b93-ef0a-cebc3716ed65"
      },
      "outputs": [
        {
          "name": "stdout",
          "output_type": "stream",
          "text": [
            "789/789 [==============================] - 0s 61us/sample - loss: 0.3354 - wine_quality_loss: 0.3095 - wine_type_loss: 0.0252 - wine_quality_root_mean_squared_error: 0.5567 - wine_type_accuracy: 0.9949\n",
            "\n",
            "loss: 0.335441492922859\n",
            "wine_quality_loss: 0.3094671964645386\n",
            "wine_type_loss: 0.02524704672396183\n",
            "wine_quality_rmse: 0.5566568374633789\n",
            "wine_type_accuracy: 0.9949302673339844\n"
          ]
        }
      ],
      "source": [
        "# Gather the training metrics\n",
        "loss, wine_quality_loss, wine_type_loss, wine_quality_rmse, wine_type_accuracy = model.evaluate(x=norm_val_X, y=val_Y)\n",
        "\n",
        "print()\n",
        "print(f'loss: {loss}')\n",
        "print(f'wine_quality_loss: {wine_quality_loss}')\n",
        "print(f'wine_type_loss: {wine_type_loss}')\n",
        "print(f'wine_quality_rmse: {wine_quality_rmse}')\n",
        "print(f'wine_type_accuracy: {wine_type_accuracy}')\n",
        "\n",
        "# EXPECTED VALUES\n",
        "# ~ 0.30 - 0.38\n",
        "# ~ 0.30 - 0.38\n",
        "# ~ 0.018 - 0.030\n",
        "# ~ 0.50 - 0.62\n",
        "# ~ 0.97 - 1.0\n",
        "\n",
        "# Example:\n",
        "#0.3657050132751465\n",
        "#0.3463745415210724\n",
        "#0.019330406561493874\n",
        "#0.5885359048843384\n",
        "#0.9974651336669922"
      ]
    },
    {
      "cell_type": "markdown",
      "metadata": {
        "id": "gPtTGAP4usnm"
      },
      "source": [
        "## Analyze the Model Performance\n",
        "\n",
        "Note that the model has two outputs. The output at index 0 is quality and index 1 is wine type\n",
        "\n",
        "So, round the quality predictions to the nearest integer."
      ]
    },
    {
      "cell_type": "code",
      "execution_count": null,
      "metadata": {
        "id": "tBq9PEeAaW-Y"
      },
      "outputs": [],
      "source": [
        "predictions = model.predict(norm_test_X)\n",
        "quality_pred = predictions[0]\n",
        "type_pred = predictions[1]"
      ]
    },
    {
      "cell_type": "code",
      "execution_count": null,
      "metadata": {
        "id": "YLhgTR4xTIxj",
        "outputId": "3b4adf10-ba6f-48b6-86c1-d66fa2798332"
      },
      "outputs": [
        {
          "name": "stdout",
          "output_type": "stream",
          "text": [
            "[5.587502]\n"
          ]
        }
      ],
      "source": [
        "print(quality_pred[0])\n",
        "\n",
        "# EXPECTED OUTPUT\n",
        "# 5.6 - 6.0"
      ]
    },
    {
      "cell_type": "code",
      "execution_count": null,
      "metadata": {
        "id": "MPi-eYfGTUXi",
        "outputId": "4c3cb71a-986b-4540-dd1c-badd550df299"
      },
      "outputs": [
        {
          "name": "stdout",
          "output_type": "stream",
          "text": [
            "[0.00022221]\n",
            "[0.9999976]\n"
          ]
        }
      ],
      "source": [
        "print(type_pred[0])\n",
        "print(type_pred[944])\n",
        "\n",
        "# EXPECTED OUTPUT\n",
        "# A number close to zero\n",
        "# A number close to or equal to 1"
      ]
    },
    {
      "cell_type": "markdown",
      "metadata": {
        "id": "Kohk-9C6vt_s"
      },
      "source": [
        "### Plot Utilities\n",
        "\n",
        "We define a few utilities to visualize the model performance."
      ]
    },
    {
      "cell_type": "code",
      "execution_count": null,
      "metadata": {
        "id": "62gEOFUhn6aQ"
      },
      "outputs": [],
      "source": [
        "def plot_metrics(metric_name, title, ylim=5):\n",
        "    plt.title(title)\n",
        "    plt.ylim(0,ylim)\n",
        "    plt.plot(history.history[metric_name],color='blue',label=metric_name)\n",
        "    plt.plot(history.history['val_' + metric_name],color='green',label='val_' + metric_name)\n"
      ]
    },
    {
      "cell_type": "code",
      "execution_count": null,
      "metadata": {
        "id": "6rfgSx7uz5dj"
      },
      "outputs": [],
      "source": [
        "def plot_confusion_matrix(y_true, y_pred, title='', labels=[0,1]):\n",
        "    cm = confusion_matrix(y_true, y_pred)\n",
        "    fig = plt.figure()\n",
        "    ax = fig.add_subplot(111)\n",
        "    cax = ax.matshow(cm)\n",
        "    plt.title('Confusion matrix of the classifier')\n",
        "    fig.colorbar(cax)\n",
        "    ax.set_xticklabels([''] + labels)\n",
        "    ax.set_yticklabels([''] + labels)\n",
        "    plt.xlabel('Predicted')\n",
        "    plt.ylabel('True')\n",
        "    fmt = 'd'\n",
        "    thresh = cm.max() / 2.\n",
        "    for i, j in itertools.product(range(cm.shape[0]), range(cm.shape[1])):\n",
        "          plt.text(j, i, format(cm[i, j], fmt),\n",
        "                  horizontalalignment=\"center\",\n",
        "                  color=\"black\" if cm[i, j] > thresh else \"white\")\n",
        "    plt.show()"
      ]
    },
    {
      "cell_type": "code",
      "execution_count": null,
      "metadata": {
        "id": "dfVLIqi017Vf"
      },
      "outputs": [],
      "source": [
        "def plot_diff(y_true, y_pred, title = '' ):\n",
        "    plt.scatter(y_true, y_pred)\n",
        "    plt.title(title)\n",
        "    plt.xlabel('True Values')\n",
        "    plt.ylabel('Predictions')\n",
        "    plt.axis('equal')\n",
        "    plt.axis('square')\n",
        "    plt.plot([-100, 100], [-100, 100])\n",
        "    return plt"
      ]
    },
    {
      "cell_type": "markdown",
      "metadata": {
        "id": "8sd1jdFbwE0I"
      },
      "source": [
        "### Plots for Metrics"
      ]
    },
    {
      "cell_type": "code",
      "execution_count": null,
      "metadata": {
        "id": "f3MwZ5J1pOfj",
        "outputId": "b34a30ea-e966-44b4-b767-766f426e8bc3"
      },
      "outputs": [
        {
          "data": {
            "image/png": "[encoded data removed]",
            "text/plain": [
              "<Figure size 432x288 with 1 Axes>"
            ]
          },
          "metadata": {
            "needs_background": "light"
          },
          "output_type": "display_data"
        }
      ],
      "source": [
        "plot_metrics('wine_quality_root_mean_squared_error', 'RMSE', ylim=2)"
      ]
    },
    {
      "cell_type": "code",
      "execution_count": null,
      "metadata": {
        "id": "QIAxEezCppnd",
        "outputId": "446b27d2-76e4-48f3-e1d6-5c8dd4ba6ad3"
      },
      "outputs": [
        {
          "data": {
            "image/png": "[encoded data removed]",
            "text/plain": [
              "<Figure size 432x288 with 1 Axes>"
            ]
          },
          "metadata": {
            "needs_background": "light"
          },
          "output_type": "display_data"
        }
      ],
      "source": [
        "plot_metrics('wine_type_loss', 'Wine Type Loss', ylim=0.2)"
      ]
    },
    {
      "cell_type": "markdown",
      "metadata": {
        "id": "uYV9AOAMwI9p"
      },
      "source": [
        "### Plots for Confusion Matrix\n",
        "\n",
        "Plot the confusion matrices for wine type. You can see that the model performs well for prediction of wine type from the confusion matrix and the loss metrics."
      ]
    },
    {
      "cell_type": "code",
      "execution_count": null,
      "metadata": {
        "id": "C3hvTYxIaf3n",
        "outputId": "74e16c6d-9bb7-4688-e5c5-c1940770cee5"
      },
      "outputs": [
        {
          "data": {
            "image/png": "[encoded data removed]",
            "text/plain": [
              "<Figure size 432x288 with 2 Axes>"
            ]
          },
          "metadata": {
            "needs_background": "light"
          },
          "output_type": "display_data"
        }
      ],
      "source": [
        "plot_confusion_matrix(test_Y[1], np.round(type_pred), title='Wine Type', labels = [0, 1])"
      ]
    },
    {
      "cell_type": "code",
      "execution_count": null,
      "metadata": {
        "id": "GW91ym8P2I5y",
        "outputId": "28361dd7-bf3c-45ba-8274-b002b5da462c"
      },
      "outputs": [
        {
          "data": {
            "image/png": "[encoded data removed]",
            "text/plain": [
              "<Figure size 432x288 with 1 Axes>"
            ]
          },
          "metadata": {
            "needs_background": "light"
          },
          "output_type": "display_data"
        }
      ],
      "source": [
        "scatter_plot = plot_diff(test_Y[0], quality_pred, title='Type')"
      ]
    }
  ],
  "metadata": {
    "colab": {
      "name": "exercise-answer.ipynb",
      "provenance": []
    },
    "kernelspec": {
      "display_name": "Python 3",
      "language": "python",
      "name": "python3"
    },
    "language_info": {
      "codemirror_mode": {
        "name": "ipython",
        "version": 3
      },
      "file_extension": ".py",
      "mimetype": "text/x-python",
      "name": "python",
      "nbconvert_exporter": "python",
      "pygments_lexer": "ipython3",
      "version": "3.7.6"
    }
  },
  "nbformat": 4,
  "nbformat_minor": 0
}