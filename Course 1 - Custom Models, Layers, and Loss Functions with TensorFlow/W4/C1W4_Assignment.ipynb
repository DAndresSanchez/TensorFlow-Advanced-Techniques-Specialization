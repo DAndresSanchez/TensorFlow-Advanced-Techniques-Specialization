{
  "cells": [
    {
      "cell_type": "markdown",
      "metadata": {
        "id": "GC7zSrbOWiz0"
      },
      "source": [
        "# Week 4 Assignment: Create a VGG network"
      ]
    },
    {
      "cell_type": "markdown",
      "metadata": {
        "id": "aYr0CvZmPY3L"
      },
      "source": [
        "In this exercise, you will build a class that implements a [VGG network](https://towardsdatascience.com/vgg-neural-networks-the-next-step-after-alexnet-3f91fa9ffe2c) and then train it to classify images of cats and dogs. The model will look something like this:\n",
        "\n",
        "<img src='https://github.com/y33-j3T/Coursera-Deep-Learning/blob/master/Custom%20Models%2C%20Layers%2C%20and%20Loss%20Functions%20with%20TensorFlow/Week%204%20-%20Custom%20Models/VGG.png?raw=1'>\n",
        "\n",
        "It is primarily made up of a series of Conv2D layers followed by a softmax activated layers to classify the image. As you can see, this will be a handful and the code will look huge if you specify each layer individually. As shown in the lectures, you can instead use model subclassing to build complex architectures. You can encapsulate repeating parts of a network then reuse that code when building the final model. You will get to practice that in this exercise. Let's get started!"
      ]
    },
    {
      "cell_type": "code",
      "execution_count": 2,
      "metadata": {
        "id": "Z01I5nj0NAOu"
      },
      "outputs": [],
      "source": [
        "import tensorflow as tf\n",
        "import tensorflow_datasets as tfds\n",
        "import utils"
      ]
    },
    {
      "cell_type": "markdown",
      "metadata": {
        "id": "E7iOW0-4PY3N"
      },
      "source": [
        "## Create named-variables dynamically\n",
        "\n",
        "In this assignment, you will see the use of the Python function `vars()`.  This will allow you to use a for loop to define and set multiple variables with a similar name, such as var1, var2, var3.  \n",
        "\n",
        "Please go through the following examples to get familiar with `vars()`, as you will use it when building the VGG model.\n",
        "- You'll start by defining a class `MyClass`\n",
        "- It contains one variable `var1`.  \n",
        "- Create an object of type `MyClass`."
      ]
    },
    {
      "cell_type": "code",
      "execution_count": 3,
      "metadata": {
        "id": "1iFvU1RwPY3N"
      },
      "outputs": [],
      "source": [
        "# Define a small class MyClass\n",
        "class MyClass:\n",
        "    def __init__(self):\n",
        "        # One class variable 'a' is set to 1\n",
        "        self.var1 = 1\n",
        "\n",
        "# Create an object of type MyClass()\n",
        "my_obj = MyClass()"
      ]
    },
    {
      "cell_type": "markdown",
      "metadata": {
        "id": "NyIoHdnfPY3O"
      },
      "source": [
        "Python classes have an attribute called `__dict__`.\n",
        "- `__dict__` is a Python dictionary that contains the object's instance variables and values as key value pairs."
      ]
    },
    {
      "cell_type": "code",
      "execution_count": null,
      "metadata": {
        "id": "Gm3X82qVPY3O"
      },
      "outputs": [],
      "source": [
        "my_obj.__dict__"
      ]
    },
    {
      "cell_type": "markdown",
      "metadata": {
        "id": "ed9d6UxUPY3P"
      },
      "source": [
        "If you call `vars()` and pass in an object, it will call the object's `__dict__` attribute, which is a Python dictionary containing the object's instance variables and their values as ke"
      ]
    },
    {
      "cell_type": "code",
      "execution_count": 5,
      "metadata": {
        "colab": {
          "base_uri": "https://localhost:8080/"
        },
        "id": "_t5wtb1CPY3Q",
        "outputId": "db6bf68f-b3d6-435e-d7c5-4f01fe1053fd"
      },
      "outputs": [
        {
          "output_type": "execute_result",
          "data": {
            "text/plain": [
              "{'var1': 1}"
            ]
          },
          "metadata": {},
          "execution_count": 5
        }
      ],
      "source": [
        "vars(my_obj)"
      ]
    },
    {
      "cell_type": "markdown",
      "metadata": {
        "id": "m2M5ACZhPY3Q"
      },
      "source": [
        "You may be familiar with adding new variable like this:"
      ]
    },
    {
      "cell_type": "code",
      "execution_count": 6,
      "metadata": {
        "colab": {
          "base_uri": "https://localhost:8080/"
        },
        "id": "CnyztphGPY3R",
        "outputId": "0ab267d7-e61d-4022-ad34-033eb9162d7e"
      },
      "outputs": [
        {
          "output_type": "execute_result",
          "data": {
            "text/plain": [
              "{'var1': 1, 'var2': 2}"
            ]
          },
          "metadata": {},
          "execution_count": 6
        }
      ],
      "source": [
        "# Add a new instance variable and give it a value\n",
        "my_obj.var2 = 2\n",
        "\n",
        "# Calls vars() again to see the object's instance variables\n",
        "vars(my_obj)"
      ]
    },
    {
      "cell_type": "markdown",
      "metadata": {
        "id": "WOs2ESkOPY3R"
      },
      "source": [
        "Here is another way that you can add an instance variable to an object, using `vars()`.\n",
        "- Retrieve the Python dictionary `__dict__` of the object using vars(my_obj).\n",
        "- Modify this `__dict__` dictionary using square bracket notation and passing in the variable's name as a string: `['var3'] = 3`"
      ]
    },
    {
      "cell_type": "code",
      "execution_count": 7,
      "metadata": {
        "colab": {
          "base_uri": "https://localhost:8080/"
        },
        "id": "EEHMOeyCPY3R",
        "outputId": "abcae5a7-a542-484c-b35d-7875fab1001c"
      },
      "outputs": [
        {
          "output_type": "execute_result",
          "data": {
            "text/plain": [
              "{'var1': 1, 'var2': 2, 'var3': 3}"
            ]
          },
          "metadata": {},
          "execution_count": 7
        }
      ],
      "source": [
        "# Call vars, passing in the object.  Then access the __dict__ dictionary using square brackets\n",
        "vars(my_obj)['var3'] = 3\n",
        "\n",
        "# Call vars() to see the object's instance variables\n",
        "vars(my_obj)"
      ]
    },
    {
      "cell_type": "markdown",
      "metadata": {
        "id": "A5YPIk3jPY3S"
      },
      "source": [
        "#### Why this is helpful!\n",
        "You may be wondering why you would need another way to access an object's instance variables.  \n",
        "- Notice that when using `vars()`, you can now pass in the name of the variable `var3` as a string.\n",
        "- What if you plan to use several variables that are similarly named (`var4`, `var5` ... `var9`) and wanted a convenient way to access them by incrementing a number?\n",
        "\n",
        "Try this!"
      ]
    },
    {
      "cell_type": "code",
      "execution_count": 8,
      "metadata": {
        "colab": {
          "base_uri": "https://localhost:8080/"
        },
        "id": "ESrExtM8PY3S",
        "outputId": "58664976-879c-42f9-e368-74ee4782057b"
      },
      "outputs": [
        {
          "output_type": "execute_result",
          "data": {
            "text/plain": [
              "{'var1': 1,\n",
              " 'var2': 2,\n",
              " 'var3': 3,\n",
              " 'var4': 0,\n",
              " 'var5': 0,\n",
              " 'var6': 0,\n",
              " 'var7': 0,\n",
              " 'var8': 0,\n",
              " 'var9': 0}"
            ]
          },
          "metadata": {},
          "execution_count": 8
        }
      ],
      "source": [
        "# Use a for loop to increment the index 'i'\n",
        "for i in range(4,10):\n",
        "    # Format a string that is var\n",
        "    vars(my_obj)[f'var{i}'] = 0\n",
        "    \n",
        "# View the object's instance variables!\n",
        "vars(my_obj)"
      ]
    },
    {
      "cell_type": "markdown",
      "metadata": {
        "id": "rmonfGMUPY3S"
      },
      "source": [
        "There are couple equivalent ways in Python to format a string.  Here are two of those ways:\n",
        "- f-string: f\"var{i}\"\n",
        "- .format: \"var{}\".format(i)"
      ]
    },
    {
      "cell_type": "code",
      "execution_count": 9,
      "metadata": {
        "colab": {
          "base_uri": "https://localhost:8080/"
        },
        "id": "ab_3Vak-PY3S",
        "outputId": "b90901e6-fe50-46c8-932c-13eb9e447180"
      },
      "outputs": [
        {
          "output_type": "stream",
          "name": "stdout",
          "text": [
            "var1\n",
            "var2\n"
          ]
        }
      ],
      "source": [
        "# Format a string using f-string notation\n",
        "i=1\n",
        "print(f\"var{i}\")\n",
        "\n",
        "# Format a string using .format notation\n",
        "i=2\n",
        "print(\"var{}\".format(i))"
      ]
    },
    {
      "cell_type": "markdown",
      "metadata": {
        "id": "9-qbnGQ3PY3T"
      },
      "source": [
        "You can access the variables of a class inside the class definition using `vars(self)`"
      ]
    },
    {
      "cell_type": "code",
      "execution_count": 10,
      "metadata": {
        "colab": {
          "base_uri": "https://localhost:8080/"
        },
        "id": "DXbFrJzTPY3T",
        "outputId": "4ff06584-aeba-45d9-db1b-71287ba6d879"
      },
      "outputs": [
        {
          "output_type": "execute_result",
          "data": {
            "text/plain": [
              "{'var1': 1}"
            ]
          },
          "metadata": {},
          "execution_count": 10
        }
      ],
      "source": [
        "# Define a small class MyClass\n",
        "class MyClass:\n",
        "    def __init__(self):\n",
        "        # Use vars(self) to access the class's dictionary of variables\n",
        "        vars(self)['var1'] = 1\n",
        "\n",
        "# Create an object of type MyClass()\n",
        "my_obj = MyClass()\n",
        "vars(my_obj)"
      ]
    },
    {
      "cell_type": "markdown",
      "metadata": {
        "id": "nxjztJStPY3T"
      },
      "source": [
        "You'll see this in the upcoming code.  Now you'll start building the VGG network!"
      ]
    },
    {
      "cell_type": "markdown",
      "metadata": {
        "id": "k1T1UMw5YAkp"
      },
      "source": [
        "## Create a generic VGG block (TODO)\n",
        "\n",
        "The VGG Network has blocks of layers, where each block has a varied number of layers.\n",
        "- In order to create blocks of layers that have a customizable number of conv2D layers, you'll define a class `Block`, which can generate a customizable block of layers \n",
        "\n",
        "\n",
        "### `__init__`\n",
        "In the constructor `__init__`, store the conv2D parameters and also define the number of conv2D layers using the parameters passed into `__init__`.\n",
        "- Store the filters, kernel_size, and repetitions as class variables so that they can be used later in the `call` function.\n",
        "- Using a for loop, define a number of Conv2D [Conv2D](https://keras.io/api/layers/convolution_layers/convolution2d/) layers, based on the number of `repetitions` desired for this block.\n",
        "    - You can define each conv2D layer using `vars` and string formatting to create conv2D_0, conv2D_1, conv2D_3 etc.\n",
        "    - Set these four parameters of Conv2D:\n",
        "        - filters\n",
        "        - kernel_size\n",
        "        - activation: set this to 'relu'\n",
        "        - padding: set this to 'same' (default pading is 'valid').\n",
        "        \n",
        "- Define the [MaxPool2D](https://keras.io/api/layers/pooling_layers/max_pooling2d/) layer that follows these Conv2D layers. \n",
        "    - Set the following parameters for MaxPool2D:\n",
        "        - pool_size: this will be a tuple with two values.\n",
        "        - strides: this will also be a tuple with two values.\n",
        "\n",
        "### `call`\n",
        "In `call`, you will connect the layers together.\n",
        "- The 0-th conv2D layer, `conv2D_0`, immediately follows the `inputs`.\n",
        "- For conv2D layers 1,2 and onward, you can use a for loop to connect conv2D_1 to conv2D_0, and connect conv2D_2 to conv2D_1, and so on.\n",
        "- After connecting all of the conv2D_i layers, add connect the max_pool layer and return the max_pool layer."
      ]
    },
    {
      "cell_type": "code",
      "execution_count": 13,
      "metadata": {
        "deletable": false,
        "id": "WGJGaxVjM00W",
        "nbgrader": {
          "cell_type": "code",
          "checksum": "7f19295d8925e1d2e60eefd42a6b4dd8",
          "grade": false,
          "grade_id": "cell-1449db9892707876",
          "locked": false,
          "schema_version": 3,
          "solution": true,
          "task": false
        }
      },
      "outputs": [],
      "source": [
        "# Please uncomment all lines in this cell and replace those marked with `# YOUR CODE HERE`.\n",
        "# You can select all lines in this code cell with Ctrl+A (Windows/Linux) or Cmd+A (Mac), then press Ctrl+/ (Windows/Linux) or Cmd+/ (Mac) to uncomment.\n",
        "\n",
        "\n",
        "\n",
        "class Block(tf.keras.Model):\n",
        "    def __init__(self, filters, kernel_size, repetitions, pool_size=2, strides=2):\n",
        "        super(Block, self).__init__()\n",
        "        self.filters = filters\n",
        "        self.kernel_size = kernel_size\n",
        "        self.repetitions = repetitions\n",
        "        \n",
        "        # Define a conv2D_0, conv2D_1, etc based on the number of repetitions\n",
        "        for i in range(repetitions):\n",
        "            \n",
        "            # Define a Conv2D layer, specifying filters, kernel_size, activation and padding.\n",
        "            vars(self)[f'conv2D_{i}'] = tf.keras.layers.Conv2D(filters=self.filters, \n",
        "                                                               kernel_size=self.kernel_size, \n",
        "                                                               activation='relu', \n",
        "                                                               padding='same')\n",
        "        \n",
        "        # Define the max pool layer that will be added after the Conv2D blocks\n",
        "        self.max_pool = tf.keras.layers.MaxPool2D(pool_size=pool_size, strides=strides)\n",
        "  \n",
        "    def call(self, inputs):\n",
        "        # access the class's conv2D_0 layer\n",
        "        conv2D_0 = vars(self)['conv2D_0']\n",
        "        \n",
        "        # Connect the conv2D_0 layer to inputs\n",
        "        x = conv2D_0(inputs)\n",
        "\n",
        "        # for the remaining conv2D_i layers from 1 to `repetitions` they will be connected to the previous layer\n",
        "        for i in range(1, self.repetitions):\n",
        "            # access conv2D_i by formatting the integer `i`. (hint: check how these were saved using `vars()` earlier)\n",
        "            conv2D_i = vars(self)[f'conv2D_{i}']\n",
        "            \n",
        "            # Use the conv2D_i and connect it to the previous layer\n",
        "            x = conv2D_i(x)\n",
        "\n",
        "        # Finally, add the max_pool layer\n",
        "        max_pool = self.max_pool(x)\n",
        "        \n",
        "        return max_pool"
      ]
    },
    {
      "cell_type": "code",
      "execution_count": 14,
      "metadata": {
        "deletable": false,
        "editable": false,
        "nbgrader": {
          "cell_type": "code",
          "checksum": "4027611c9615b1f518a95d76a81bc8d1",
          "grade": true,
          "grade_id": "cell-2911e521bce8793b",
          "locked": true,
          "points": 1,
          "schema_version": 3,
          "solution": false,
          "task": false
        },
        "colab": {
          "base_uri": "https://localhost:8080/"
        },
        "id": "xokMgbaSPY3U",
        "outputId": "60c078bd-b4b5-4df6-9418-a07690bfdeab"
      },
      "outputs": [
        {
          "output_type": "stream",
          "name": "stdout",
          "text": [
            "\u001b[92m All public tests passed\n"
          ]
        }
      ],
      "source": [
        "utils.test_block_class(Block)"
      ]
    },
    {
      "cell_type": "markdown",
      "metadata": {
        "id": "peM2GP6uYT0U"
      },
      "source": [
        "## Create the Custom VGG network (TODO)\n",
        "This model stack has a series of VGG blocks, which can be created using the `Block` class that you defined earlier.\n",
        "\n",
        "### `__init__`\n",
        "- Recall that the `__init__` constructor of `Block` takes several function parameters, \n",
        "    - filters, kernel_size, repetitions: you'll set these.\n",
        "    - kernel_size and strides: you can use the default values.\n",
        "- For blocks a through e, build the blocks according to the following specifications:\n",
        "- block_a: 64  filters, kernel_size 3, repetitions 2\n",
        "- block_b: 128 filters, kernel_size 3, repetitions 2\n",
        "- block_c: 256 filters, kernel_size 3, repetitions 3\n",
        "- block_d: 512 filters, kernel_size 3, repetitions 3\n",
        "- block_e: 512 filters, kernel_size 3, repetitions 3\n",
        "\n",
        "After block 'e', add the following layers:\n",
        "- flatten: use [Flatten](https://keras.io/api/layers/reshaping_layers/flatten/).\n",
        "- fc: create a fully connected layer using [Dense](https://keras.io/api/layers/core_layers/dense/).  Give this 256 units, and a `'relu'` activation.\n",
        "- classifier: create the classifier using a Dense layer.  The number of units equals the number of classes.  For multi-class classification, use a `'softmax'` activation.\n",
        "\n",
        "### `call`\n",
        "Connect these layers together using the functional API syntax:\n",
        "- inputs\n",
        "- block_a\n",
        "- block_b\n",
        "- block_c\n",
        "- block_d\n",
        "- block_e\n",
        "- flatten\n",
        "- fc\n",
        "- classifier\n",
        "\n",
        "Return the classifier layer."
      ]
    },
    {
      "cell_type": "code",
      "execution_count": 19,
      "metadata": {
        "deletable": false,
        "id": "yD-paeGiNGvz",
        "nbgrader": {
          "cell_type": "code",
          "checksum": "523346a38f53bc31e080114e98e8eca6",
          "grade": false,
          "grade_id": "cell-d9e90af0898eb47f",
          "locked": false,
          "schema_version": 3,
          "solution": true,
          "task": false
        }
      },
      "outputs": [],
      "source": [
        "# Please uncomment all lines in this cell and replace those marked with `# YOUR CODE HERE`.\n",
        "# You can select all lines in this code cell with Ctrl+A (Windows/Linux) or Cmd+A (Mac), then press Ctrl+/ (Windows/Linux) or Cmd+/ (Mac) to uncomment.\n",
        "\n",
        "\n",
        "\n",
        "class MyVGG(tf.keras.Model):\n",
        "\n",
        "    def __init__(self, num_classes):\n",
        "        super(MyVGG, self).__init__()\n",
        "\n",
        "        # Creating blocks of VGG with the following \n",
        "        # (filters, kernel_size, repetitions) configurations\n",
        "        self.block_a = Block(filters=64, kernel_size=3, repetitions=2)\n",
        "        self.block_b = Block(filters=128, kernel_size=3, repetitions=2)\n",
        "        self.block_c = Block(filters=256, kernel_size=3, repetitions=3)\n",
        "        self.block_d = Block(filters=512, kernel_size=3, repetitions=3)\n",
        "        self.block_e = Block(filters=512, kernel_size=3, repetitions=3)\n",
        "\n",
        "        # Classification head\n",
        "        # Define a Flatten layer\n",
        "        self.flatten = tf.keras.layers.Flatten()\n",
        "        # Create a Dense layer with 256 units and ReLU as the activation function\n",
        "        self.fc = tf.keras.layers.Dense(units=256, activation='relu')\n",
        "        # Finally add the softmax classifier using a Dense layer\n",
        "        self.classifier = tf.keras.layers.Dense(units=num_classes, activation='softmax')\n",
        "\n",
        "    def call(self, inputs):\n",
        "        # Chain all the layers one after the other\n",
        "        x = self.block_a(inputs)\n",
        "        x = self.block_b(x)\n",
        "        x = self.block_c(x)\n",
        "        x = self.block_d(x)\n",
        "        x = self.block_e(x)\n",
        "        x = self.flatten(x)\n",
        "        x = self.fc(x)\n",
        "        x = self.classifier(x)\n",
        "        return x"
      ]
    },
    {
      "cell_type": "code",
      "execution_count": 20,
      "metadata": {
        "deletable": false,
        "editable": false,
        "nbgrader": {
          "cell_type": "code",
          "checksum": "79d77a2aa7ee7f82d707558cf5206868",
          "grade": true,
          "grade_id": "cell-559ac19437f4f2b2",
          "locked": true,
          "points": 1,
          "schema_version": 3,
          "solution": false,
          "task": false
        },
        "colab": {
          "base_uri": "https://localhost:8080/"
        },
        "id": "zORv4xq4PY3V",
        "outputId": "ddfb27ac-f64a-4ec3-8e9e-38fbfe9c3c16"
      },
      "outputs": [
        {
          "output_type": "stream",
          "name": "stdout",
          "text": [
            "\u001b[92m All public tests passed\n"
          ]
        }
      ],
      "source": [
        "utils.test_myvgg_class(MyVGG, Block)"
      ]
    },
    {
      "cell_type": "markdown",
      "metadata": {
        "id": "9RLR_PJ9PY3V"
      },
      "source": [
        "### Load data and train the VGG network (Optional)\n",
        "You can now load the dataset and proceed to train your VGG network. \n",
        "- This will take a few minutes to complete and is **not required to complete the assignment**.\n",
        "- You can submit your work before starting the training."
      ]
    },
    {
      "cell_type": "code",
      "execution_count": null,
      "metadata": {
        "colab": {
          "base_uri": "https://localhost:8080/",
          "height": 272,
          "referenced_widgets": [
            "1f55225126434c55b5ec881ddef77ecb",
            "5b1fd89bd82e4519b3070905269bb1c3",
            "9235bf47f0c14a3fabd3f105a92a6e55",
            "a0279cd8738547c6abb512ce7986c3fe",
            "7a9e4e3b9e084d51922fb6a78cade217",
            "14b02b4dae3f4d14b40bd0389de99125",
            "9147b40598434a1fa496e69d0990965b",
            "5f22f7676a614c7eb5bdc5704b72c676",
            "d3d54c3e83f54224b7f9845bb9222fc2",
            "613e1faecad943bd970df7d3551ce955",
            "ce85d75915db4e908253a010dd763819",
            "358b396ffa704b5aad55f3774409e2f6",
            "f4167ce6f3b44f2595d43b31c82f2d3e",
            "3980424c375a4346a399c2e3091bd17e",
            "89c4f864777d4386b0b19f1a6193f39b",
            "be421fb4f325440a9da5de98797fa1cb",
            "d65e73ca255c4791906ebc04ff2a3f3b",
            "05c955137b1d4ea3842007a24fdd4650",
            "704c7ac24e2f4d1c812fc5981bfd81d8",
            "02ab2fd5e9b34954ae72f6f7c89d6b00",
            "f8df8d03557440fabea762157ea2086f",
            "48c2f824c80244908075296bd29baa14",
            "e6d03a14fa2d436ea2a3d062e79909ac",
            "653c273ad4804d9bbb476adcd8e89a7f",
            "f9456cbd37a44483a5c1932d9081b94c",
            "9e39f9043a9644bd8c8085d5e4352a3b",
            "80f314a2865a4cad99e8bcc8f5a8a7c7",
            "3186123e9c3f462c986ffab892e3bc61",
            "7529150c0c3042aea55888df4c56cd1d",
            "d390e5ca2e794bc6bcd62602db22b8fe",
            "2479e8cba94f4df7be285e65e8cfbf61",
            "324a3f1e66fe417da2b22d46055672f3",
            "41454c607f50466baae02c87e9b701d0",
            "fea86883b3f1446384bb9d439ec11c6e",
            "3780b204c2e7406b8a6f6ecaba1e7bbc",
            "b4c76fe2cfc84084a1407cd74576eb16",
            "164c1d03d16c4893bfb409e897162d9f",
            "b450e70f92d540d29a8f0c6adb9bef0f",
            "bc2162a8d4394222a81992ef38e6a48f",
            "9334f621607c4eedb9d0c8c9bf1c434b",
            "712e54d8d1a142e3a5bce06a20bc67cd",
            "1ce8e36aff4e47f8b51004914f97c445",
            "f06bec99c7ed4895acf9c2672b606b3e",
            "221f9483191a4c47a1d0225630c18465"
          ]
        },
        "id": "MaF763OKNJxU",
        "outputId": "030071b9-72ce-4352-9674-2572ce5fc68a"
      },
      "outputs": [
        {
          "output_type": "stream",
          "name": "stdout",
          "text": [
            "\u001b[1mDownloading and preparing dataset cats_vs_dogs/4.0.0 (download: 786.68 MiB, generated: Unknown size, total: 786.68 MiB) to data/cats_vs_dogs/4.0.0...\u001b[0m\n"
          ]
        },
        {
          "output_type": "display_data",
          "data": {
            "application/vnd.jupyter.widget-view+json": {
              "model_id": "1f55225126434c55b5ec881ddef77ecb",
              "version_minor": 0,
              "version_major": 2
            },
            "text/plain": [
              "Dl Completed...: 0 url [00:00, ? url/s]"
            ]
          },
          "metadata": {}
        },
        {
          "output_type": "display_data",
          "data": {
            "application/vnd.jupyter.widget-view+json": {
              "model_id": "358b396ffa704b5aad55f3774409e2f6",
              "version_minor": 0,
              "version_major": 2
            },
            "text/plain": [
              "Dl Size...: 0 MiB [00:00, ? MiB/s]"
            ]
          },
          "metadata": {}
        },
        {
          "output_type": "stream",
          "name": "stdout",
          "text": [
            "\n",
            "\n"
          ]
        },
        {
          "output_type": "display_data",
          "data": {
            "application/vnd.jupyter.widget-view+json": {
              "model_id": "e6d03a14fa2d436ea2a3d062e79909ac",
              "version_minor": 0,
              "version_major": 2
            },
            "text/plain": [
              "0 examples [00:00, ? examples/s]"
            ]
          },
          "metadata": {}
        },
        {
          "output_type": "stream",
          "name": "stderr",
          "text": [
            "WARNING:absl:1738 images were corrupted and were skipped\n"
          ]
        },
        {
          "output_type": "stream",
          "name": "stdout",
          "text": [
            "Shuffling and writing examples to data/cats_vs_dogs/4.0.0.incompleteTV2MAF/cats_vs_dogs-train.tfrecord\n"
          ]
        },
        {
          "output_type": "display_data",
          "data": {
            "application/vnd.jupyter.widget-view+json": {
              "model_id": "fea86883b3f1446384bb9d439ec11c6e",
              "version_minor": 0,
              "version_major": 2
            },
            "text/plain": [
              "  0%|          | 0/23262 [00:00<?, ? examples/s]"
            ]
          },
          "metadata": {}
        },
        {
          "output_type": "stream",
          "name": "stdout",
          "text": [
            "\u001b[1mDataset cats_vs_dogs downloaded and prepared to data/cats_vs_dogs/4.0.0. Subsequent calls will reuse this data.\u001b[0m\n",
            "Epoch 1/10\n",
            " 77/727 [==>...........................] - ETA: 2:48:37 - loss: 0.6952 - accuracy: 0.5073"
          ]
        }
      ],
      "source": [
        "dataset = tfds.load('cats_vs_dogs', split=tfds.Split.TRAIN, data_dir='data/')\n",
        "\n",
        "# Initialize VGG with the number of classes \n",
        "vgg = MyVGG(num_classes=2)\n",
        "\n",
        "# Compile with losses and metrics\n",
        "vgg.compile(optimizer='adam', loss='sparse_categorical_crossentropy', metrics=['accuracy'])\n",
        "\n",
        "# Define preprocessing function\n",
        "def preprocess(features):\n",
        "    # Resize and normalize\n",
        "    image = tf.image.resize(features['image'], (224, 224))\n",
        "    return tf.cast(image, tf.float32) / 255., features['label']\n",
        "\n",
        "# Apply transformations to dataset\n",
        "dataset = dataset.map(preprocess).batch(32)\n",
        "\n",
        "# Train the custom VGG model\n",
        "vgg.fit(dataset, epochs=10)"
      ]
    }
  ],
  "metadata": {
    "colab": {
      "collapsed_sections": [],
      "name": "ExerciseAnswer.ipynb",
      "provenance": []
    },
    "kernelspec": {
      "display_name": "Python 3",
      "language": "python",
      "name": "python3"
    },
    "language_info": {
      "codemirror_mode": {
        "name": "ipython",
        "version": 3
      },
      "file_extension": ".py",
      "mimetype": "text/x-python",
      "name": "python",
      "nbconvert_exporter": "python",
      "pygments_lexer": "ipython3",
      "version": "3.7.6"
    },
    "widgets": {
      "application/vnd.jupyter.widget-state+json": {
        "1f55225126434c55b5ec881ddef77ecb": {
          "model_module": "@jupyter-widgets/controls",
          "model_name": "HBoxModel",
          "model_module_version": "1.5.0",
          "state": {
            "_view_name": "HBoxView",
            "_dom_classes": [],
            "_model_name": "HBoxModel",
            "_view_module": "@jupyter-widgets/controls",
            "_model_module_version": "1.5.0",
            "_view_count": null,
            "_view_module_version": "1.5.0",
            "box_style": "",
            "layout": "IPY_MODEL_5b1fd89bd82e4519b3070905269bb1c3",
            "_model_module": "@jupyter-widgets/controls",
            "children": [
              "IPY_MODEL_9235bf47f0c14a3fabd3f105a92a6e55",
              "IPY_MODEL_a0279cd8738547c6abb512ce7986c3fe",
              "IPY_MODEL_7a9e4e3b9e084d51922fb6a78cade217"
            ]
          }
        },
        "5b1fd89bd82e4519b3070905269bb1c3": {
          "model_module": "@jupyter-widgets/base",
          "model_name": "LayoutModel",
          "model_module_version": "1.2.0",
          "state": {
            "_view_name": "LayoutView",
            "grid_template_rows": null,
            "right": null,
            "justify_content": null,
            "_view_module": "@jupyter-widgets/base",
            "overflow": null,
            "_model_module_version": "1.2.0",
            "_view_count": null,
            "flex_flow": null,
            "width": null,
            "min_width": null,
            "border": null,
            "align_items": null,
            "bottom": null,
            "_model_module": "@jupyter-widgets/base",
            "top": null,
            "grid_column": null,
            "overflow_y": null,
            "overflow_x": null,
            "grid_auto_flow": null,
            "grid_area": null,
            "grid_template_columns": null,
            "flex": null,
            "_model_name": "LayoutModel",
            "justify_items": null,
            "grid_row": null,
            "max_height": null,
            "align_content": null,
            "visibility": null,
            "align_self": null,
            "height": null,
            "min_height": null,
            "padding": null,
            "grid_auto_rows": null,
            "grid_gap": null,
            "max_width": null,
            "order": null,
            "_view_module_version": "1.2.0",
            "grid_template_areas": null,
            "object_position": null,
            "object_fit": null,
            "grid_auto_columns": null,
            "margin": null,
            "display": null,
            "left": null
          }
        },
        "9235bf47f0c14a3fabd3f105a92a6e55": {
          "model_module": "@jupyter-widgets/controls",
          "model_name": "HTMLModel",
          "model_module_version": "1.5.0",
          "state": {
            "_view_name": "HTMLView",
            "style": "IPY_MODEL_14b02b4dae3f4d14b40bd0389de99125",
            "_dom_classes": [],
            "description": "",
            "_model_name": "HTMLModel",
            "placeholder": "​",
            "_view_module": "@jupyter-widgets/controls",
            "_model_module_version": "1.5.0",
            "value": "Dl Completed...: 100%",
            "_view_count": null,
            "_view_module_version": "1.5.0",
            "description_tooltip": null,
            "_model_module": "@jupyter-widgets/controls",
            "layout": "IPY_MODEL_9147b40598434a1fa496e69d0990965b"
          }
        },
        "a0279cd8738547c6abb512ce7986c3fe": {
          "model_module": "@jupyter-widgets/controls",
          "model_name": "FloatProgressModel",
          "model_module_version": "1.5.0",
          "state": {
            "_view_name": "ProgressView",
            "style": "IPY_MODEL_5f22f7676a614c7eb5bdc5704b72c676",
            "_dom_classes": [],
            "description": "",
            "_model_name": "FloatProgressModel",
            "bar_style": "success",
            "max": 1,
            "_view_module": "@jupyter-widgets/controls",
            "_model_module_version": "1.5.0",
            "value": 1,
            "_view_count": null,
            "_view_module_version": "1.5.0",
            "orientation": "horizontal",
            "min": 0,
            "description_tooltip": null,
            "_model_module": "@jupyter-widgets/controls",
            "layout": "IPY_MODEL_d3d54c3e83f54224b7f9845bb9222fc2"
          }
        },
        "7a9e4e3b9e084d51922fb6a78cade217": {
          "model_module": "@jupyter-widgets/controls",
          "model_name": "HTMLModel",
          "model_module_version": "1.5.0",
          "state": {
            "_view_name": "HTMLView",
            "style": "IPY_MODEL_613e1faecad943bd970df7d3551ce955",
            "_dom_classes": [],
            "description": "",
            "_model_name": "HTMLModel",
            "placeholder": "​",
            "_view_module": "@jupyter-widgets/controls",
            "_model_module_version": "1.5.0",
            "value": " 1/1 [00:12&lt;00:00, 12.77s/ url]",
            "_view_count": null,
            "_view_module_version": "1.5.0",
            "description_tooltip": null,
            "_model_module": "@jupyter-widgets/controls",
            "layout": "IPY_MODEL_ce85d75915db4e908253a010dd763819"
          }
        },
        "14b02b4dae3f4d14b40bd0389de99125": {
          "model_module": "@jupyter-widgets/controls",
          "model_name": "DescriptionStyleModel",
          "model_module_version": "1.5.0",
          "state": {
            "_view_name": "StyleView",
            "_model_name": "DescriptionStyleModel",
            "description_width": "",
            "_view_module": "@jupyter-widgets/base",
            "_model_module_version": "1.5.0",
            "_view_count": null,
            "_view_module_version": "1.2.0",
            "_model_module": "@jupyter-widgets/controls"
          }
        },
        "9147b40598434a1fa496e69d0990965b": {
          "model_module": "@jupyter-widgets/base",
          "model_name": "LayoutModel",
          "model_module_version": "1.2.0",
          "state": {
            "_view_name": "LayoutView",
            "grid_template_rows": null,
            "right": null,
            "justify_content": null,
            "_view_module": "@jupyter-widgets/base",
            "overflow": null,
            "_model_module_version": "1.2.0",
            "_view_count": null,
            "flex_flow": null,
            "width": null,
            "min_width": null,
            "border": null,
            "align_items": null,
            "bottom": null,
            "_model_module": "@jupyter-widgets/base",
            "top": null,
            "grid_column": null,
            "overflow_y": null,
            "overflow_x": null,
            "grid_auto_flow": null,
            "grid_area": null,
            "grid_template_columns": null,
            "flex": null,
            "_model_name": "LayoutModel",
            "justify_items": null,
            "grid_row": null,
            "max_height": null,
            "align_content": null,
            "visibility": null,
            "align_self": null,
            "height": null,
            "min_height": null,
            "padding": null,
            "grid_auto_rows": null,
            "grid_gap": null,
            "max_width": null,
            "order": null,
            "_view_module_version": "1.2.0",
            "grid_template_areas": null,
            "object_position": null,
            "object_fit": null,
            "grid_auto_columns": null,
            "margin": null,
            "display": null,
            "left": null
          }
        },
        "5f22f7676a614c7eb5bdc5704b72c676": {
          "model_module": "@jupyter-widgets/controls",
          "model_name": "ProgressStyleModel",
          "model_module_version": "1.5.0",
          "state": {
            "_view_name": "StyleView",
            "_model_name": "ProgressStyleModel",
            "description_width": "",
            "_view_module": "@jupyter-widgets/base",
            "_model_module_version": "1.5.0",
            "_view_count": null,
            "_view_module_version": "1.2.0",
            "bar_color": null,
            "_model_module": "@jupyter-widgets/controls"
          }
        },
        "d3d54c3e83f54224b7f9845bb9222fc2": {
          "model_module": "@jupyter-widgets/base",
          "model_name": "LayoutModel",
          "model_module_version": "1.2.0",
          "state": {
            "_view_name": "LayoutView",
            "grid_template_rows": null,
            "right": null,
            "justify_content": null,
            "_view_module": "@jupyter-widgets/base",
            "overflow": null,
            "_model_module_version": "1.2.0",
            "_view_count": null,
            "flex_flow": null,
            "width": "20px",
            "min_width": null,
            "border": null,
            "align_items": null,
            "bottom": null,
            "_model_module": "@jupyter-widgets/base",
            "top": null,
            "grid_column": null,
            "overflow_y": null,
            "overflow_x": null,
            "grid_auto_flow": null,
            "grid_area": null,
            "grid_template_columns": null,
            "flex": null,
            "_model_name": "LayoutModel",
            "justify_items": null,
            "grid_row": null,
            "max_height": null,
            "align_content": null,
            "visibility": null,
            "align_self": null,
            "height": null,
            "min_height": null,
            "padding": null,
            "grid_auto_rows": null,
            "grid_gap": null,
            "max_width": null,
            "order": null,
            "_view_module_version": "1.2.0",
            "grid_template_areas": null,
            "object_position": null,
            "object_fit": null,
            "grid_auto_columns": null,
            "margin": null,
            "display": null,
            "left": null
          }
        },
        "613e1faecad943bd970df7d3551ce955": {
          "model_module": "@jupyter-widgets/controls",
          "model_name": "DescriptionStyleModel",
          "model_module_version": "1.5.0",
          "state": {
            "_view_name": "StyleView",
            "_model_name": "DescriptionStyleModel",
            "description_width": "",
            "_view_module": "@jupyter-widgets/base",
            "_model_module_version": "1.5.0",
            "_view_count": null,
            "_view_module_version": "1.2.0",
            "_model_module": "@jupyter-widgets/controls"
          }
        },
        "ce85d75915db4e908253a010dd763819": {
          "model_module": "@jupyter-widgets/base",
          "model_name": "LayoutModel",
          "model_module_version": "1.2.0",
          "state": {
            "_view_name": "LayoutView",
            "grid_template_rows": null,
            "right": null,
            "justify_content": null,
            "_view_module": "@jupyter-widgets/base",
            "overflow": null,
            "_model_module_version": "1.2.0",
            "_view_count": null,
            "flex_flow": null,
            "width": null,
            "min_width": null,
            "border": null,
            "align_items": null,
            "bottom": null,
            "_model_module": "@jupyter-widgets/base",
            "top": null,
            "grid_column": null,
            "overflow_y": null,
            "overflow_x": null,
            "grid_auto_flow": null,
            "grid_area": null,
            "grid_template_columns": null,
            "flex": null,
            "_model_name": "LayoutModel",
            "justify_items": null,
            "grid_row": null,
            "max_height": null,
            "align_content": null,
            "visibility": null,
            "align_self": null,
            "height": null,
            "min_height": null,
            "padding": null,
            "grid_auto_rows": null,
            "grid_gap": null,
            "max_width": null,
            "order": null,
            "_view_module_version": "1.2.0",
            "grid_template_areas": null,
            "object_position": null,
            "object_fit": null,
            "grid_auto_columns": null,
            "margin": null,
            "display": null,
            "left": null
          }
        },
        "358b396ffa704b5aad55f3774409e2f6": {
          "model_module": "@jupyter-widgets/controls",
          "model_name": "HBoxModel",
          "model_module_version": "1.5.0",
          "state": {
            "_view_name": "HBoxView",
            "_dom_classes": [],
            "_model_name": "HBoxModel",
            "_view_module": "@jupyter-widgets/controls",
            "_model_module_version": "1.5.0",
            "_view_count": null,
            "_view_module_version": "1.5.0",
            "box_style": "",
            "layout": "IPY_MODEL_f4167ce6f3b44f2595d43b31c82f2d3e",
            "_model_module": "@jupyter-widgets/controls",
            "children": [
              "IPY_MODEL_3980424c375a4346a399c2e3091bd17e",
              "IPY_MODEL_89c4f864777d4386b0b19f1a6193f39b",
              "IPY_MODEL_be421fb4f325440a9da5de98797fa1cb"
            ]
          }
        },
        "f4167ce6f3b44f2595d43b31c82f2d3e": {
          "model_module": "@jupyter-widgets/base",
          "model_name": "LayoutModel",
          "model_module_version": "1.2.0",
          "state": {
            "_view_name": "LayoutView",
            "grid_template_rows": null,
            "right": null,
            "justify_content": null,
            "_view_module": "@jupyter-widgets/base",
            "overflow": null,
            "_model_module_version": "1.2.0",
            "_view_count": null,
            "flex_flow": null,
            "width": null,
            "min_width": null,
            "border": null,
            "align_items": null,
            "bottom": null,
            "_model_module": "@jupyter-widgets/base",
            "top": null,
            "grid_column": null,
            "overflow_y": null,
            "overflow_x": null,
            "grid_auto_flow": null,
            "grid_area": null,
            "grid_template_columns": null,
            "flex": null,
            "_model_name": "LayoutModel",
            "justify_items": null,
            "grid_row": null,
            "max_height": null,
            "align_content": null,
            "visibility": null,
            "align_self": null,
            "height": null,
            "min_height": null,
            "padding": null,
            "grid_auto_rows": null,
            "grid_gap": null,
            "max_width": null,
            "order": null,
            "_view_module_version": "1.2.0",
            "grid_template_areas": null,
            "object_position": null,
            "object_fit": null,
            "grid_auto_columns": null,
            "margin": null,
            "display": null,
            "left": null
          }
        },
        "3980424c375a4346a399c2e3091bd17e": {
          "model_module": "@jupyter-widgets/controls",
          "model_name": "HTMLModel",
          "model_module_version": "1.5.0",
          "state": {
            "_view_name": "HTMLView",
            "style": "IPY_MODEL_d65e73ca255c4791906ebc04ff2a3f3b",
            "_dom_classes": [],
            "description": "",
            "_model_name": "HTMLModel",
            "placeholder": "​",
            "_view_module": "@jupyter-widgets/controls",
            "_model_module_version": "1.5.0",
            "value": "Dl Size...: 100%",
            "_view_count": null,
            "_view_module_version": "1.5.0",
            "description_tooltip": null,
            "_model_module": "@jupyter-widgets/controls",
            "layout": "IPY_MODEL_05c955137b1d4ea3842007a24fdd4650"
          }
        },
        "89c4f864777d4386b0b19f1a6193f39b": {
          "model_module": "@jupyter-widgets/controls",
          "model_name": "FloatProgressModel",
          "model_module_version": "1.5.0",
          "state": {
            "_view_name": "ProgressView",
            "style": "IPY_MODEL_704c7ac24e2f4d1c812fc5981bfd81d8",
            "_dom_classes": [],
            "description": "",
            "_model_name": "FloatProgressModel",
            "bar_style": "success",
            "max": 1,
            "_view_module": "@jupyter-widgets/controls",
            "_model_module_version": "1.5.0",
            "value": 1,
            "_view_count": null,
            "_view_module_version": "1.5.0",
            "orientation": "horizontal",
            "min": 0,
            "description_tooltip": null,
            "_model_module": "@jupyter-widgets/controls",
            "layout": "IPY_MODEL_02ab2fd5e9b34954ae72f6f7c89d6b00"
          }
        },
        "be421fb4f325440a9da5de98797fa1cb": {
          "model_module": "@jupyter-widgets/controls",
          "model_name": "HTMLModel",
          "model_module_version": "1.5.0",
          "state": {
            "_view_name": "HTMLView",
            "style": "IPY_MODEL_f8df8d03557440fabea762157ea2086f",
            "_dom_classes": [],
            "description": "",
            "_model_name": "HTMLModel",
            "placeholder": "​",
            "_view_module": "@jupyter-widgets/controls",
            "_model_module_version": "1.5.0",
            "value": " 786/786 [00:12&lt;00:00, 66.92 MiB/s]",
            "_view_count": null,
            "_view_module_version": "1.5.0",
            "description_tooltip": null,
            "_model_module": "@jupyter-widgets/controls",
            "layout": "IPY_MODEL_48c2f824c80244908075296bd29baa14"
          }
        },
        "d65e73ca255c4791906ebc04ff2a3f3b": {
          "model_module": "@jupyter-widgets/controls",
          "model_name": "DescriptionStyleModel",
          "model_module_version": "1.5.0",
          "state": {
            "_view_name": "StyleView",
            "_model_name": "DescriptionStyleModel",
            "description_width": "",
            "_view_module": "@jupyter-widgets/base",
            "_model_module_version": "1.5.0",
            "_view_count": null,
            "_view_module_version": "1.2.0",
            "_model_module": "@jupyter-widgets/controls"
          }
        },
        "05c955137b1d4ea3842007a24fdd4650": {
          "model_module": "@jupyter-widgets/base",
          "model_name": "LayoutModel",
          "model_module_version": "1.2.0",
          "state": {
            "_view_name": "LayoutView",
            "grid_template_rows": null,
            "right": null,
            "justify_content": null,
            "_view_module": "@jupyter-widgets/base",
            "overflow": null,
            "_model_module_version": "1.2.0",
            "_view_count": null,
            "flex_flow": null,
            "width": null,
            "min_width": null,
            "border": null,
            "align_items": null,
            "bottom": null,
            "_model_module": "@jupyter-widgets/base",
            "top": null,
            "grid_column": null,
            "overflow_y": null,
            "overflow_x": null,
            "grid_auto_flow": null,
            "grid_area": null,
            "grid_template_columns": null,
            "flex": null,
            "_model_name": "LayoutModel",
            "justify_items": null,
            "grid_row": null,
            "max_height": null,
            "align_content": null,
            "visibility": null,
            "align_self": null,
            "height": null,
            "min_height": null,
            "padding": null,
            "grid_auto_rows": null,
            "grid_gap": null,
            "max_width": null,
            "order": null,
            "_view_module_version": "1.2.0",
            "grid_template_areas": null,
            "object_position": null,
            "object_fit": null,
            "grid_auto_columns": null,
            "margin": null,
            "display": null,
            "left": null
          }
        },
        "704c7ac24e2f4d1c812fc5981bfd81d8": {
          "model_module": "@jupyter-widgets/controls",
          "model_name": "ProgressStyleModel",
          "model_module_version": "1.5.0",
          "state": {
            "_view_name": "StyleView",
            "_model_name": "ProgressStyleModel",
            "description_width": "",
            "_view_module": "@jupyter-widgets/base",
            "_model_module_version": "1.5.0",
            "_view_count": null,
            "_view_module_version": "1.2.0",
            "bar_color": null,
            "_model_module": "@jupyter-widgets/controls"
          }
        },
        "02ab2fd5e9b34954ae72f6f7c89d6b00": {
          "model_module": "@jupyter-widgets/base",
          "model_name": "LayoutModel",
          "model_module_version": "1.2.0",
          "state": {
            "_view_name": "LayoutView",
            "grid_template_rows": null,
            "right": null,
            "justify_content": null,
            "_view_module": "@jupyter-widgets/base",
            "overflow": null,
            "_model_module_version": "1.2.0",
            "_view_count": null,
            "flex_flow": null,
            "width": "20px",
            "min_width": null,
            "border": null,
            "align_items": null,
            "bottom": null,
            "_model_module": "@jupyter-widgets/base",
            "top": null,
            "grid_column": null,
            "overflow_y": null,
            "overflow_x": null,
            "grid_auto_flow": null,
            "grid_area": null,
            "grid_template_columns": null,
            "flex": null,
            "_model_name": "LayoutModel",
            "justify_items": null,
            "grid_row": null,
            "max_height": null,
            "align_content": null,
            "visibility": null,
            "align_self": null,
            "height": null,
            "min_height": null,
            "padding": null,
            "grid_auto_rows": null,
            "grid_gap": null,
            "max_width": null,
            "order": null,
            "_view_module_version": "1.2.0",
            "grid_template_areas": null,
            "object_position": null,
            "object_fit": null,
            "grid_auto_columns": null,
            "margin": null,
            "display": null,
            "left": null
          }
        },
        "f8df8d03557440fabea762157ea2086f": {
          "model_module": "@jupyter-widgets/controls",
          "model_name": "DescriptionStyleModel",
          "model_module_version": "1.5.0",
          "state": {
            "_view_name": "StyleView",
            "_model_name": "DescriptionStyleModel",
            "description_width": "",
            "_view_module": "@jupyter-widgets/base",
            "_model_module_version": "1.5.0",
            "_view_count": null,
            "_view_module_version": "1.2.0",
            "_model_module": "@jupyter-widgets/controls"
          }
        },
        "48c2f824c80244908075296bd29baa14": {
          "model_module": "@jupyter-widgets/base",
          "model_name": "LayoutModel",
          "model_module_version": "1.2.0",
          "state": {
            "_view_name": "LayoutView",
            "grid_template_rows": null,
            "right": null,
            "justify_content": null,
            "_view_module": "@jupyter-widgets/base",
            "overflow": null,
            "_model_module_version": "1.2.0",
            "_view_count": null,
            "flex_flow": null,
            "width": null,
            "min_width": null,
            "border": null,
            "align_items": null,
            "bottom": null,
            "_model_module": "@jupyter-widgets/base",
            "top": null,
            "grid_column": null,
            "overflow_y": null,
            "overflow_x": null,
            "grid_auto_flow": null,
            "grid_area": null,
            "grid_template_columns": null,
            "flex": null,
            "_model_name": "LayoutModel",
            "justify_items": null,
            "grid_row": null,
            "max_height": null,
            "align_content": null,
            "visibility": null,
            "align_self": null,
            "height": null,
            "min_height": null,
            "padding": null,
            "grid_auto_rows": null,
            "grid_gap": null,
            "max_width": null,
            "order": null,
            "_view_module_version": "1.2.0",
            "grid_template_areas": null,
            "object_position": null,
            "object_fit": null,
            "grid_auto_columns": null,
            "margin": null,
            "display": null,
            "left": null
          }
        },
        "e6d03a14fa2d436ea2a3d062e79909ac": {
          "model_module": "@jupyter-widgets/controls",
          "model_name": "HBoxModel",
          "model_module_version": "1.5.0",
          "state": {
            "_view_name": "HBoxView",
            "_dom_classes": [],
            "_model_name": "HBoxModel",
            "_view_module": "@jupyter-widgets/controls",
            "_model_module_version": "1.5.0",
            "_view_count": null,
            "_view_module_version": "1.5.0",
            "box_style": "",
            "layout": "IPY_MODEL_653c273ad4804d9bbb476adcd8e89a7f",
            "_model_module": "@jupyter-widgets/controls",
            "children": [
              "IPY_MODEL_f9456cbd37a44483a5c1932d9081b94c",
              "IPY_MODEL_9e39f9043a9644bd8c8085d5e4352a3b",
              "IPY_MODEL_80f314a2865a4cad99e8bcc8f5a8a7c7"
            ]
          }
        },
        "653c273ad4804d9bbb476adcd8e89a7f": {
          "model_module": "@jupyter-widgets/base",
          "model_name": "LayoutModel",
          "model_module_version": "1.2.0",
          "state": {
            "_view_name": "LayoutView",
            "grid_template_rows": null,
            "right": null,
            "justify_content": null,
            "_view_module": "@jupyter-widgets/base",
            "overflow": null,
            "_model_module_version": "1.2.0",
            "_view_count": null,
            "flex_flow": null,
            "width": null,
            "min_width": null,
            "border": null,
            "align_items": null,
            "bottom": null,
            "_model_module": "@jupyter-widgets/base",
            "top": null,
            "grid_column": null,
            "overflow_y": null,
            "overflow_x": null,
            "grid_auto_flow": null,
            "grid_area": null,
            "grid_template_columns": null,
            "flex": null,
            "_model_name": "LayoutModel",
            "justify_items": null,
            "grid_row": null,
            "max_height": null,
            "align_content": null,
            "visibility": null,
            "align_self": null,
            "height": null,
            "min_height": null,
            "padding": null,
            "grid_auto_rows": null,
            "grid_gap": null,
            "max_width": null,
            "order": null,
            "_view_module_version": "1.2.0",
            "grid_template_areas": null,
            "object_position": null,
            "object_fit": null,
            "grid_auto_columns": null,
            "margin": null,
            "display": null,
            "left": null
          }
        },
        "f9456cbd37a44483a5c1932d9081b94c": {
          "model_module": "@jupyter-widgets/controls",
          "model_name": "HTMLModel",
          "model_module_version": "1.5.0",
          "state": {
            "_view_name": "HTMLView",
            "style": "IPY_MODEL_3186123e9c3f462c986ffab892e3bc61",
            "_dom_classes": [],
            "description": "",
            "_model_name": "HTMLModel",
            "placeholder": "​",
            "_view_module": "@jupyter-widgets/controls",
            "_model_module_version": "1.5.0",
            "value": "",
            "_view_count": null,
            "_view_module_version": "1.5.0",
            "description_tooltip": null,
            "_model_module": "@jupyter-widgets/controls",
            "layout": "IPY_MODEL_7529150c0c3042aea55888df4c56cd1d"
          }
        },
        "9e39f9043a9644bd8c8085d5e4352a3b": {
          "model_module": "@jupyter-widgets/controls",
          "model_name": "FloatProgressModel",
          "model_module_version": "1.5.0",
          "state": {
            "_view_name": "ProgressView",
            "style": "IPY_MODEL_d390e5ca2e794bc6bcd62602db22b8fe",
            "_dom_classes": [],
            "description": "",
            "_model_name": "FloatProgressModel",
            "bar_style": "info",
            "max": 1,
            "_view_module": "@jupyter-widgets/controls",
            "_model_module_version": "1.5.0",
            "value": 1,
            "_view_count": null,
            "_view_module_version": "1.5.0",
            "orientation": "horizontal",
            "min": 0,
            "description_tooltip": null,
            "_model_module": "@jupyter-widgets/controls",
            "layout": "IPY_MODEL_2479e8cba94f4df7be285e65e8cfbf61"
          }
        },
        "80f314a2865a4cad99e8bcc8f5a8a7c7": {
          "model_module": "@jupyter-widgets/controls",
          "model_name": "HTMLModel",
          "model_module_version": "1.5.0",
          "state": {
            "_view_name": "HTMLView",
            "style": "IPY_MODEL_324a3f1e66fe417da2b22d46055672f3",
            "_dom_classes": [],
            "description": "",
            "_model_name": "HTMLModel",
            "placeholder": "​",
            "_view_module": "@jupyter-widgets/controls",
            "_model_module_version": "1.5.0",
            "value": " 23256/0 [00:22&lt;00:00, 1517.38 examples/s]",
            "_view_count": null,
            "_view_module_version": "1.5.0",
            "description_tooltip": null,
            "_model_module": "@jupyter-widgets/controls",
            "layout": "IPY_MODEL_41454c607f50466baae02c87e9b701d0"
          }
        },
        "3186123e9c3f462c986ffab892e3bc61": {
          "model_module": "@jupyter-widgets/controls",
          "model_name": "DescriptionStyleModel",
          "model_module_version": "1.5.0",
          "state": {
            "_view_name": "StyleView",
            "_model_name": "DescriptionStyleModel",
            "description_width": "",
            "_view_module": "@jupyter-widgets/base",
            "_model_module_version": "1.5.0",
            "_view_count": null,
            "_view_module_version": "1.2.0",
            "_model_module": "@jupyter-widgets/controls"
          }
        },
        "7529150c0c3042aea55888df4c56cd1d": {
          "model_module": "@jupyter-widgets/base",
          "model_name": "LayoutModel",
          "model_module_version": "1.2.0",
          "state": {
            "_view_name": "LayoutView",
            "grid_template_rows": null,
            "right": null,
            "justify_content": null,
            "_view_module": "@jupyter-widgets/base",
            "overflow": null,
            "_model_module_version": "1.2.0",
            "_view_count": null,
            "flex_flow": null,
            "width": null,
            "min_width": null,
            "border": null,
            "align_items": null,
            "bottom": null,
            "_model_module": "@jupyter-widgets/base",
            "top": null,
            "grid_column": null,
            "overflow_y": null,
            "overflow_x": null,
            "grid_auto_flow": null,
            "grid_area": null,
            "grid_template_columns": null,
            "flex": null,
            "_model_name": "LayoutModel",
            "justify_items": null,
            "grid_row": null,
            "max_height": null,
            "align_content": null,
            "visibility": null,
            "align_self": null,
            "height": null,
            "min_height": null,
            "padding": null,
            "grid_auto_rows": null,
            "grid_gap": null,
            "max_width": null,
            "order": null,
            "_view_module_version": "1.2.0",
            "grid_template_areas": null,
            "object_position": null,
            "object_fit": null,
            "grid_auto_columns": null,
            "margin": null,
            "display": null,
            "left": null
          }
        },
        "d390e5ca2e794bc6bcd62602db22b8fe": {
          "model_module": "@jupyter-widgets/controls",
          "model_name": "ProgressStyleModel",
          "model_module_version": "1.5.0",
          "state": {
            "_view_name": "StyleView",
            "_model_name": "ProgressStyleModel",
            "description_width": "",
            "_view_module": "@jupyter-widgets/base",
            "_model_module_version": "1.5.0",
            "_view_count": null,
            "_view_module_version": "1.2.0",
            "bar_color": null,
            "_model_module": "@jupyter-widgets/controls"
          }
        },
        "2479e8cba94f4df7be285e65e8cfbf61": {
          "model_module": "@jupyter-widgets/base",
          "model_name": "LayoutModel",
          "model_module_version": "1.2.0",
          "state": {
            "_view_name": "LayoutView",
            "grid_template_rows": null,
            "right": null,
            "justify_content": null,
            "_view_module": "@jupyter-widgets/base",
            "overflow": null,
            "_model_module_version": "1.2.0",
            "_view_count": null,
            "flex_flow": null,
            "width": "20px",
            "min_width": null,
            "border": null,
            "align_items": null,
            "bottom": null,
            "_model_module": "@jupyter-widgets/base",
            "top": null,
            "grid_column": null,
            "overflow_y": null,
            "overflow_x": null,
            "grid_auto_flow": null,
            "grid_area": null,
            "grid_template_columns": null,
            "flex": null,
            "_model_name": "LayoutModel",
            "justify_items": null,
            "grid_row": null,
            "max_height": null,
            "align_content": null,
            "visibility": null,
            "align_self": null,
            "height": null,
            "min_height": null,
            "padding": null,
            "grid_auto_rows": null,
            "grid_gap": null,
            "max_width": null,
            "order": null,
            "_view_module_version": "1.2.0",
            "grid_template_areas": null,
            "object_position": null,
            "object_fit": null,
            "grid_auto_columns": null,
            "margin": null,
            "display": null,
            "left": null
          }
        },
        "324a3f1e66fe417da2b22d46055672f3": {
          "model_module": "@jupyter-widgets/controls",
          "model_name": "DescriptionStyleModel",
          "model_module_version": "1.5.0",
          "state": {
            "_view_name": "StyleView",
            "_model_name": "DescriptionStyleModel",
            "description_width": "",
            "_view_module": "@jupyter-widgets/base",
            "_model_module_version": "1.5.0",
            "_view_count": null,
            "_view_module_version": "1.2.0",
            "_model_module": "@jupyter-widgets/controls"
          }
        },
        "41454c607f50466baae02c87e9b701d0": {
          "model_module": "@jupyter-widgets/base",
          "model_name": "LayoutModel",
          "model_module_version": "1.2.0",
          "state": {
            "_view_name": "LayoutView",
            "grid_template_rows": null,
            "right": null,
            "justify_content": null,
            "_view_module": "@jupyter-widgets/base",
            "overflow": null,
            "_model_module_version": "1.2.0",
            "_view_count": null,
            "flex_flow": null,
            "width": null,
            "min_width": null,
            "border": null,
            "align_items": null,
            "bottom": null,
            "_model_module": "@jupyter-widgets/base",
            "top": null,
            "grid_column": null,
            "overflow_y": null,
            "overflow_x": null,
            "grid_auto_flow": null,
            "grid_area": null,
            "grid_template_columns": null,
            "flex": null,
            "_model_name": "LayoutModel",
            "justify_items": null,
            "grid_row": null,
            "max_height": null,
            "align_content": null,
            "visibility": null,
            "align_self": null,
            "height": null,
            "min_height": null,
            "padding": null,
            "grid_auto_rows": null,
            "grid_gap": null,
            "max_width": null,
            "order": null,
            "_view_module_version": "1.2.0",
            "grid_template_areas": null,
            "object_position": null,
            "object_fit": null,
            "grid_auto_columns": null,
            "margin": null,
            "display": null,
            "left": null
          }
        },
        "fea86883b3f1446384bb9d439ec11c6e": {
          "model_module": "@jupyter-widgets/controls",
          "model_name": "HBoxModel",
          "model_module_version": "1.5.0",
          "state": {
            "_view_name": "HBoxView",
            "_dom_classes": [],
            "_model_name": "HBoxModel",
            "_view_module": "@jupyter-widgets/controls",
            "_model_module_version": "1.5.0",
            "_view_count": null,
            "_view_module_version": "1.5.0",
            "box_style": "",
            "layout": "IPY_MODEL_3780b204c2e7406b8a6f6ecaba1e7bbc",
            "_model_module": "@jupyter-widgets/controls",
            "children": [
              "IPY_MODEL_b4c76fe2cfc84084a1407cd74576eb16",
              "IPY_MODEL_164c1d03d16c4893bfb409e897162d9f",
              "IPY_MODEL_b450e70f92d540d29a8f0c6adb9bef0f"
            ]
          }
        },
        "3780b204c2e7406b8a6f6ecaba1e7bbc": {
          "model_module": "@jupyter-widgets/base",
          "model_name": "LayoutModel",
          "model_module_version": "1.2.0",
          "state": {
            "_view_name": "LayoutView",
            "grid_template_rows": null,
            "right": null,
            "justify_content": null,
            "_view_module": "@jupyter-widgets/base",
            "overflow": null,
            "_model_module_version": "1.2.0",
            "_view_count": null,
            "flex_flow": null,
            "width": null,
            "min_width": null,
            "border": null,
            "align_items": null,
            "bottom": null,
            "_model_module": "@jupyter-widgets/base",
            "top": null,
            "grid_column": null,
            "overflow_y": null,
            "overflow_x": null,
            "grid_auto_flow": null,
            "grid_area": null,
            "grid_template_columns": null,
            "flex": null,
            "_model_name": "LayoutModel",
            "justify_items": null,
            "grid_row": null,
            "max_height": null,
            "align_content": null,
            "visibility": null,
            "align_self": null,
            "height": null,
            "min_height": null,
            "padding": null,
            "grid_auto_rows": null,
            "grid_gap": null,
            "max_width": null,
            "order": null,
            "_view_module_version": "1.2.0",
            "grid_template_areas": null,
            "object_position": null,
            "object_fit": null,
            "grid_auto_columns": null,
            "margin": null,
            "display": null,
            "left": null
          }
        },
        "b4c76fe2cfc84084a1407cd74576eb16": {
          "model_module": "@jupyter-widgets/controls",
          "model_name": "HTMLModel",
          "model_module_version": "1.5.0",
          "state": {
            "_view_name": "HTMLView",
            "style": "IPY_MODEL_bc2162a8d4394222a81992ef38e6a48f",
            "_dom_classes": [],
            "description": "",
            "_model_name": "HTMLModel",
            "placeholder": "​",
            "_view_module": "@jupyter-widgets/controls",
            "_model_module_version": "1.5.0",
            "value": "100%",
            "_view_count": null,
            "_view_module_version": "1.5.0",
            "description_tooltip": null,
            "_model_module": "@jupyter-widgets/controls",
            "layout": "IPY_MODEL_9334f621607c4eedb9d0c8c9bf1c434b"
          }
        },
        "164c1d03d16c4893bfb409e897162d9f": {
          "model_module": "@jupyter-widgets/controls",
          "model_name": "FloatProgressModel",
          "model_module_version": "1.5.0",
          "state": {
            "_view_name": "ProgressView",
            "style": "IPY_MODEL_712e54d8d1a142e3a5bce06a20bc67cd",
            "_dom_classes": [],
            "description": "",
            "_model_name": "FloatProgressModel",
            "bar_style": "danger",
            "max": 23262,
            "_view_module": "@jupyter-widgets/controls",
            "_model_module_version": "1.5.0",
            "value": 23261,
            "_view_count": null,
            "_view_module_version": "1.5.0",
            "orientation": "horizontal",
            "min": 0,
            "description_tooltip": null,
            "_model_module": "@jupyter-widgets/controls",
            "layout": "IPY_MODEL_1ce8e36aff4e47f8b51004914f97c445"
          }
        },
        "b450e70f92d540d29a8f0c6adb9bef0f": {
          "model_module": "@jupyter-widgets/controls",
          "model_name": "HTMLModel",
          "model_module_version": "1.5.0",
          "state": {
            "_view_name": "HTMLView",
            "style": "IPY_MODEL_f06bec99c7ed4895acf9c2672b606b3e",
            "_dom_classes": [],
            "description": "",
            "_model_name": "HTMLModel",
            "placeholder": "​",
            "_view_module": "@jupyter-widgets/controls",
            "_model_module_version": "1.5.0",
            "value": " 23261/23262 [00:02&lt;00:00, 7781.94 examples/s]",
            "_view_count": null,
            "_view_module_version": "1.5.0",
            "description_tooltip": null,
            "_model_module": "@jupyter-widgets/controls",
            "layout": "IPY_MODEL_221f9483191a4c47a1d0225630c18465"
          }
        },
        "bc2162a8d4394222a81992ef38e6a48f": {
          "model_module": "@jupyter-widgets/controls",
          "model_name": "DescriptionStyleModel",
          "model_module_version": "1.5.0",
          "state": {
            "_view_name": "StyleView",
            "_model_name": "DescriptionStyleModel",
            "description_width": "",
            "_view_module": "@jupyter-widgets/base",
            "_model_module_version": "1.5.0",
            "_view_count": null,
            "_view_module_version": "1.2.0",
            "_model_module": "@jupyter-widgets/controls"
          }
        },
        "9334f621607c4eedb9d0c8c9bf1c434b": {
          "model_module": "@jupyter-widgets/base",
          "model_name": "LayoutModel",
          "model_module_version": "1.2.0",
          "state": {
            "_view_name": "LayoutView",
            "grid_template_rows": null,
            "right": null,
            "justify_content": null,
            "_view_module": "@jupyter-widgets/base",
            "overflow": null,
            "_model_module_version": "1.2.0",
            "_view_count": null,
            "flex_flow": null,
            "width": null,
            "min_width": null,
            "border": null,
            "align_items": null,
            "bottom": null,
            "_model_module": "@jupyter-widgets/base",
            "top": null,
            "grid_column": null,
            "overflow_y": null,
            "overflow_x": null,
            "grid_auto_flow": null,
            "grid_area": null,
            "grid_template_columns": null,
            "flex": null,
            "_model_name": "LayoutModel",
            "justify_items": null,
            "grid_row": null,
            "max_height": null,
            "align_content": null,
            "visibility": null,
            "align_self": null,
            "height": null,
            "min_height": null,
            "padding": null,
            "grid_auto_rows": null,
            "grid_gap": null,
            "max_width": null,
            "order": null,
            "_view_module_version": "1.2.0",
            "grid_template_areas": null,
            "object_position": null,
            "object_fit": null,
            "grid_auto_columns": null,
            "margin": null,
            "display": null,
            "left": null
          }
        },
        "712e54d8d1a142e3a5bce06a20bc67cd": {
          "model_module": "@jupyter-widgets/controls",
          "model_name": "ProgressStyleModel",
          "model_module_version": "1.5.0",
          "state": {
            "_view_name": "StyleView",
            "_model_name": "ProgressStyleModel",
            "description_width": "",
            "_view_module": "@jupyter-widgets/base",
            "_model_module_version": "1.5.0",
            "_view_count": null,
            "_view_module_version": "1.2.0",
            "bar_color": null,
            "_model_module": "@jupyter-widgets/controls"
          }
        },
        "1ce8e36aff4e47f8b51004914f97c445": {
          "model_module": "@jupyter-widgets/base",
          "model_name": "LayoutModel",
          "model_module_version": "1.2.0",
          "state": {
            "_view_name": "LayoutView",
            "grid_template_rows": null,
            "right": null,
            "justify_content": null,
            "_view_module": "@jupyter-widgets/base",
            "overflow": null,
            "_model_module_version": "1.2.0",
            "_view_count": null,
            "flex_flow": null,
            "width": null,
            "min_width": null,
            "border": null,
            "align_items": null,
            "bottom": null,
            "_model_module": "@jupyter-widgets/base",
            "top": null,
            "grid_column": null,
            "overflow_y": null,
            "overflow_x": null,
            "grid_auto_flow": null,
            "grid_area": null,
            "grid_template_columns": null,
            "flex": null,
            "_model_name": "LayoutModel",
            "justify_items": null,
            "grid_row": null,
            "max_height": null,
            "align_content": null,
            "visibility": null,
            "align_self": null,
            "height": null,
            "min_height": null,
            "padding": null,
            "grid_auto_rows": null,
            "grid_gap": null,
            "max_width": null,
            "order": null,
            "_view_module_version": "1.2.0",
            "grid_template_areas": null,
            "object_position": null,
            "object_fit": null,
            "grid_auto_columns": null,
            "margin": null,
            "display": null,
            "left": null
          }
        },
        "f06bec99c7ed4895acf9c2672b606b3e": {
          "model_module": "@jupyter-widgets/controls",
          "model_name": "DescriptionStyleModel",
          "model_module_version": "1.5.0",
          "state": {
            "_view_name": "StyleView",
            "_model_name": "DescriptionStyleModel",
            "description_width": "",
            "_view_module": "@jupyter-widgets/base",
            "_model_module_version": "1.5.0",
            "_view_count": null,
            "_view_module_version": "1.2.0",
            "_model_module": "@jupyter-widgets/controls"
          }
        },
        "221f9483191a4c47a1d0225630c18465": {
          "model_module": "@jupyter-widgets/base",
          "model_name": "LayoutModel",
          "model_module_version": "1.2.0",
          "state": {
            "_view_name": "LayoutView",
            "grid_template_rows": null,
            "right": null,
            "justify_content": null,
            "_view_module": "@jupyter-widgets/base",
            "overflow": null,
            "_model_module_version": "1.2.0",
            "_view_count": null,
            "flex_flow": null,
            "width": null,
            "min_width": null,
            "border": null,
            "align_items": null,
            "bottom": null,
            "_model_module": "@jupyter-widgets/base",
            "top": null,
            "grid_column": null,
            "overflow_y": null,
            "overflow_x": null,
            "grid_auto_flow": null,
            "grid_area": null,
            "grid_template_columns": null,
            "flex": null,
            "_model_name": "LayoutModel",
            "justify_items": null,
            "grid_row": null,
            "max_height": null,
            "align_content": null,
            "visibility": null,
            "align_self": null,
            "height": null,
            "min_height": null,
            "padding": null,
            "grid_auto_rows": null,
            "grid_gap": null,
            "max_width": null,
            "order": null,
            "_view_module_version": "1.2.0",
            "grid_template_areas": null,
            "object_position": null,
            "object_fit": null,
            "grid_auto_columns": null,
            "margin": null,
            "display": null,
            "left": null
          }
        }
      }
    }
  },
  "nbformat": 4,
  "nbformat_minor": 0
}