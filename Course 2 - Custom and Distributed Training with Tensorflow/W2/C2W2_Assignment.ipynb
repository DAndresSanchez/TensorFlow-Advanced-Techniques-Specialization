{
  "cells": [
    {
      "cell_type": "markdown",
      "metadata": {
        "id": "AWqcoPhU3RJN"
      },
      "source": [
        "# Breast Cancer Prediction\n",
        "\n",
        "In this exercise, you will train a neural network on the [Breast Cancer Dataset](https://archive.ics.uci.edu/ml/datasets/breast+cancer+wisconsin+(original)) to predict if the tumor is malignant or benign.\n",
        "\n",
        "If you get stuck, we recommend that you review the ungraded labs for this week."
      ]
    },
    {
      "cell_type": "markdown",
      "metadata": {
        "id": "st5AIBFZ5mEQ"
      },
      "source": [
        "## Imports"
      ]
    },
    {
      "cell_type": "code",
      "execution_count": 1,
      "metadata": {
        "id": "JkMXve8XuN5X"
      },
      "outputs": [],
      "source": [
        "import tensorflow as tf\n",
        "from tensorflow.keras.models import Model\n",
        "from tensorflow.keras.layers import Dense, Input\n",
        "\n",
        "import numpy as np\n",
        "import matplotlib.pyplot as plt\n",
        "import matplotlib.ticker as mticker\n",
        "import pandas as pd\n",
        "from sklearn.model_selection import train_test_split\n",
        "from sklearn.metrics import confusion_matrix\n",
        "import itertools\n",
        "from tqdm import tqdm\n",
        "import tensorflow_datasets as tfds\n",
        "\n",
        "tf.get_logger().setLevel('ERROR')"
      ]
    },
    {
      "cell_type": "markdown",
      "metadata": {
        "id": "yUc3HpEQ5s6U"
      },
      "source": [
        "## Load and Preprocess the Dataset"
      ]
    },
    {
      "cell_type": "markdown",
      "metadata": {
        "id": "7-TQFUXu5wS_"
      },
      "source": [
        "We first download the dataset and create a data frame using pandas. We explicitly specify the column names because the CSV file does not have column headers."
      ]
    },
    {
      "cell_type": "code",
      "execution_count": 2,
      "metadata": {
        "colab": {
          "base_uri": "https://localhost:8080/"
        },
        "id": "HVh-W73J5TjS",
        "outputId": "65eed00c-a521-41f4-e7ad-c0403a459603"
      },
      "outputs": [
        {
          "output_type": "stream",
          "name": "stdout",
          "text": [
            "Downloading data from https://archive.ics.uci.edu/ml/machine-learning-databases/breast-cancer-wisconsin/breast-cancer-wisconsin.data\n",
            "24576/19889 [=====================================] - 0s 0us/step\n",
            "32768/19889 [=================================================] - 0s 0us/step\n"
          ]
        }
      ],
      "source": [
        "DATASET_URL = \"https://archive.ics.uci.edu/ml/machine-learning-databases/breast-cancer-wisconsin/breast-cancer-wisconsin.data\"\n",
        "data_file = tf.keras.utils.get_file(\"breast_cancer.csv\", DATASET_URL)\n",
        "col_names = [\"id\", \"clump_thickness\", \"un_cell_size\", \"un_cell_shape\", \"marginal_adheshion\", \"single_eph_cell_size\", \"bare_nuclei\", \"bland_chromatin\", \"normal_nucleoli\", \"mitoses\", \"class\"]\n",
        "df = pd.read_csv(data_file, names=col_names, header=None)"
      ]
    },
    {
      "cell_type": "code",
      "execution_count": 3,
      "metadata": {
        "colab": {
          "base_uri": "https://localhost:8080/",
          "height": 270
        },
        "id": "XEv8vS_P6HaV",
        "outputId": "f7c48561-6ede-43b9-eb44-b609064807e5"
      },
      "outputs": [
        {
          "output_type": "execute_result",
          "data": {
            "text/html": [
              "\n",
              "  <div id=\"df-ff6ed891-a550-4fb6-91aa-f8711b83bd87\">\n",
              "    <div class=\"colab-df-container\">\n",
              "      <div>\n",
              "<style scoped>\n",
              "    .dataframe tbody tr th:only-of-type {\n",
              "        vertical-align: middle;\n",
              "    }\n",
              "\n",
              "    .dataframe tbody tr th {\n",
              "        vertical-align: top;\n",
              "    }\n",
              "\n",
              "    .dataframe thead th {\n",
              "        text-align: right;\n",
              "    }\n",
              "</style>\n",
              "<table border=\"1\" class=\"dataframe\">\n",
              "  <thead>\n",
              "    <tr style=\"text-align: right;\">\n",
              "      <th></th>\n",
              "      <th>id</th>\n",
              "      <th>clump_thickness</th>\n",
              "      <th>un_cell_size</th>\n",
              "      <th>un_cell_shape</th>\n",
              "      <th>marginal_adheshion</th>\n",
              "      <th>single_eph_cell_size</th>\n",
              "      <th>bare_nuclei</th>\n",
              "      <th>bland_chromatin</th>\n",
              "      <th>normal_nucleoli</th>\n",
              "      <th>mitoses</th>\n",
              "      <th>class</th>\n",
              "    </tr>\n",
              "  </thead>\n",
              "  <tbody>\n",
              "    <tr>\n",
              "      <th>0</th>\n",
              "      <td>1000025</td>\n",
              "      <td>5</td>\n",
              "      <td>1</td>\n",
              "      <td>1</td>\n",
              "      <td>1</td>\n",
              "      <td>2</td>\n",
              "      <td>1</td>\n",
              "      <td>3</td>\n",
              "      <td>1</td>\n",
              "      <td>1</td>\n",
              "      <td>2</td>\n",
              "    </tr>\n",
              "    <tr>\n",
              "      <th>1</th>\n",
              "      <td>1002945</td>\n",
              "      <td>5</td>\n",
              "      <td>4</td>\n",
              "      <td>4</td>\n",
              "      <td>5</td>\n",
              "      <td>7</td>\n",
              "      <td>10</td>\n",
              "      <td>3</td>\n",
              "      <td>2</td>\n",
              "      <td>1</td>\n",
              "      <td>2</td>\n",
              "    </tr>\n",
              "    <tr>\n",
              "      <th>2</th>\n",
              "      <td>1015425</td>\n",
              "      <td>3</td>\n",
              "      <td>1</td>\n",
              "      <td>1</td>\n",
              "      <td>1</td>\n",
              "      <td>2</td>\n",
              "      <td>2</td>\n",
              "      <td>3</td>\n",
              "      <td>1</td>\n",
              "      <td>1</td>\n",
              "      <td>2</td>\n",
              "    </tr>\n",
              "    <tr>\n",
              "      <th>3</th>\n",
              "      <td>1016277</td>\n",
              "      <td>6</td>\n",
              "      <td>8</td>\n",
              "      <td>8</td>\n",
              "      <td>1</td>\n",
              "      <td>3</td>\n",
              "      <td>4</td>\n",
              "      <td>3</td>\n",
              "      <td>7</td>\n",
              "      <td>1</td>\n",
              "      <td>2</td>\n",
              "    </tr>\n",
              "    <tr>\n",
              "      <th>4</th>\n",
              "      <td>1017023</td>\n",
              "      <td>4</td>\n",
              "      <td>1</td>\n",
              "      <td>1</td>\n",
              "      <td>3</td>\n",
              "      <td>2</td>\n",
              "      <td>1</td>\n",
              "      <td>3</td>\n",
              "      <td>1</td>\n",
              "      <td>1</td>\n",
              "      <td>2</td>\n",
              "    </tr>\n",
              "  </tbody>\n",
              "</table>\n",
              "</div>\n",
              "      <button class=\"colab-df-convert\" onclick=\"convertToInteractive('df-ff6ed891-a550-4fb6-91aa-f8711b83bd87')\"\n",
              "              title=\"Convert this dataframe to an interactive table.\"\n",
              "              style=\"display:none;\">\n",
              "        \n",
              "  <svg xmlns=\"http://www.w3.org/2000/svg\" height=\"24px\"viewBox=\"0 0 24 24\"\n",
              "       width=\"24px\">\n",
              "    <path d=\"M0 0h24v24H0V0z\" fill=\"none\"/>\n",
              "    <path d=\"M18.56 5.44l.94 2.06.94-2.06 2.06-.94-2.06-.94-.94-2.06-.94 2.06-2.06.94zm-11 1L8.5 8.5l.94-2.06 2.06-.94-2.06-.94L8.5 2.5l-.94 2.06-2.06.94zm10 10l.94 2.06.94-2.06 2.06-.94-2.06-.94-.94-2.06-.94 2.06-2.06.94z\"/><path d=\"M17.41 7.96l-1.37-1.37c-.4-.4-.92-.59-1.43-.59-.52 0-1.04.2-1.43.59L10.3 9.45l-7.72 7.72c-.78.78-.78 2.05 0 2.83L4 21.41c.39.39.9.59 1.41.59.51 0 1.02-.2 1.41-.59l7.78-7.78 2.81-2.81c.8-.78.8-2.07 0-2.86zM5.41 20L4 18.59l7.72-7.72 1.47 1.35L5.41 20z\"/>\n",
              "  </svg>\n",
              "      </button>\n",
              "      \n",
              "  <style>\n",
              "    .colab-df-container {\n",
              "      display:flex;\n",
              "      flex-wrap:wrap;\n",
              "      gap: 12px;\n",
              "    }\n",
              "\n",
              "    .colab-df-convert {\n",
              "      background-color: #E8F0FE;\n",
              "      border: none;\n",
              "      border-radius: 50%;\n",
              "      cursor: pointer;\n",
              "      display: none;\n",
              "      fill: #1967D2;\n",
              "      height: 32px;\n",
              "      padding: 0 0 0 0;\n",
              "      width: 32px;\n",
              "    }\n",
              "\n",
              "    .colab-df-convert:hover {\n",
              "      background-color: #E2EBFA;\n",
              "      box-shadow: 0px 1px 2px rgba(60, 64, 67, 0.3), 0px 1px 3px 1px rgba(60, 64, 67, 0.15);\n",
              "      fill: #174EA6;\n",
              "    }\n",
              "\n",
              "    [theme=dark] .colab-df-convert {\n",
              "      background-color: #3B4455;\n",
              "      fill: #D2E3FC;\n",
              "    }\n",
              "\n",
              "    [theme=dark] .colab-df-convert:hover {\n",
              "      background-color: #434B5C;\n",
              "      box-shadow: 0px 1px 3px 1px rgba(0, 0, 0, 0.15);\n",
              "      filter: drop-shadow(0px 1px 2px rgba(0, 0, 0, 0.3));\n",
              "      fill: #FFFFFF;\n",
              "    }\n",
              "  </style>\n",
              "\n",
              "      <script>\n",
              "        const buttonEl =\n",
              "          document.querySelector('#df-ff6ed891-a550-4fb6-91aa-f8711b83bd87 button.colab-df-convert');\n",
              "        buttonEl.style.display =\n",
              "          google.colab.kernel.accessAllowed ? 'block' : 'none';\n",
              "\n",
              "        async function convertToInteractive(key) {\n",
              "          const element = document.querySelector('#df-ff6ed891-a550-4fb6-91aa-f8711b83bd87');\n",
              "          const dataTable =\n",
              "            await google.colab.kernel.invokeFunction('convertToInteractive',\n",
              "                                                     [key], {});\n",
              "          if (!dataTable) return;\n",
              "\n",
              "          const docLinkHtml = 'Like what you see? Visit the ' +\n",
              "            '<a target=\"_blank\" href=https://colab.research.google.com/notebooks/data_table.ipynb>data table notebook</a>'\n",
              "            + ' to learn more about interactive tables.';\n",
              "          element.innerHTML = '';\n",
              "          dataTable['output_type'] = 'display_data';\n",
              "          await google.colab.output.renderOutput(dataTable, element);\n",
              "          const docLink = document.createElement('div');\n",
              "          docLink.innerHTML = docLinkHtml;\n",
              "          element.appendChild(docLink);\n",
              "        }\n",
              "      </script>\n",
              "    </div>\n",
              "  </div>\n",
              "  "
            ],
            "text/plain": [
              "        id  clump_thickness  un_cell_size  ...  normal_nucleoli  mitoses  class\n",
              "0  1000025                5             1  ...                1        1      2\n",
              "1  1002945                5             4  ...                2        1      2\n",
              "2  1015425                3             1  ...                1        1      2\n",
              "3  1016277                6             8  ...                7        1      2\n",
              "4  1017023                4             1  ...                1        1      2\n",
              "\n",
              "[5 rows x 11 columns]"
            ]
          },
          "metadata": {},
          "execution_count": 3
        }
      ],
      "source": [
        "df.head()"
      ]
    },
    {
      "cell_type": "markdown",
      "metadata": {
        "id": "NvvbnFL36L85"
      },
      "source": [
        "We have to do some preprocessing on the data. We first pop the id column since it is of no use for our problem at hand."
      ]
    },
    {
      "cell_type": "code",
      "execution_count": 4,
      "metadata": {
        "colab": {
          "base_uri": "https://localhost:8080/"
        },
        "id": "nDeXwHdA5uUN",
        "outputId": "a2b3dc56-4c68-4cfa-c5b5-605d2665db73"
      },
      "outputs": [
        {
          "output_type": "execute_result",
          "data": {
            "text/plain": [
              "0      1000025\n",
              "1      1002945\n",
              "2      1015425\n",
              "3      1016277\n",
              "4      1017023\n",
              "        ...   \n",
              "694     776715\n",
              "695     841769\n",
              "696     888820\n",
              "697     897471\n",
              "698     897471\n",
              "Name: id, Length: 699, dtype: int64"
            ]
          },
          "metadata": {},
          "execution_count": 4
        }
      ],
      "source": [
        "df.pop(\"id\")"
      ]
    },
    {
      "cell_type": "markdown",
      "metadata": {
        "id": "ubw5LueA6ZEY"
      },
      "source": [
        "Upon inspection of data, you can see that some values of the **bare_nuclei** column are unknown. We drop the rows with these unknown values. We also convert the **bare_nuclei** column to numeric. This is required for training the model."
      ]
    },
    {
      "cell_type": "code",
      "execution_count": 5,
      "metadata": {
        "colab": {
          "base_uri": "https://localhost:8080/"
        },
        "id": "MCcOrl1ITVhr",
        "outputId": "5c2b2967-a972-4d30-b021-ed78c5b6c51b"
      },
      "outputs": [
        {
          "output_type": "stream",
          "name": "stderr",
          "text": [
            "/usr/local/lib/python3.7/dist-packages/pandas/core/generic.py:5516: SettingWithCopyWarning: \n",
            "A value is trying to be set on a copy of a slice from a DataFrame.\n",
            "Try using .loc[row_indexer,col_indexer] = value instead\n",
            "\n",
            "See the caveats in the documentation: https://pandas.pydata.org/pandas-docs/stable/user_guide/indexing.html#returning-a-view-versus-a-copy\n",
            "  self[name] = value\n"
          ]
        }
      ],
      "source": [
        "df = df[df[\"bare_nuclei\"] != '?' ]\n",
        "df.bare_nuclei = pd.to_numeric(df.bare_nuclei)"
      ]
    },
    {
      "cell_type": "markdown",
      "metadata": {
        "id": "UQMhcTQG7LzY"
      },
      "source": [
        "We check the class distribution of the data. You can see that there are two classes, 2.0 and 4.0\n",
        "According to the dataset:\n",
        "* **2.0 = benign**\n",
        "* **4.0 = malignant**\n"
      ]
    },
    {
      "cell_type": "code",
      "execution_count": 6,
      "metadata": {
        "colab": {
          "base_uri": "https://localhost:8080/",
          "height": 282
        },
        "id": "SaAdQrBv8daS",
        "outputId": "a52b5210-6166-4fd9-d68a-5fcf455b8d09"
      },
      "outputs": [
        {
          "output_type": "execute_result",
          "data": {
            "text/plain": [
              "<matplotlib.axes._subplots.AxesSubplot at 0x7efd716e7cd0>"
            ]
          },
          "metadata": {},
          "execution_count": 6
        },
        {
          "output_type": "display_data",
          "data": {
            "image/png": "[encoded data removed]",
            "text/plain": [
              "<Figure size 432x288 with 1 Axes>"
            ]
          },
          "metadata": {
            "needs_background": "light"
          }
        }
      ],
      "source": [
        "df['class'].hist(bins=20) "
      ]
    },
    {
      "cell_type": "markdown",
      "metadata": {
        "id": "ENjMKvxQ6sWy"
      },
      "source": [
        "We are going to model this problem as a binary classification problem which detects whether the tumor is malignant or not. Hence, we change the dataset so that:\n",
        "* **benign(2.0) = 0**\n",
        "* **malignant(4.0) = 1**"
      ]
    },
    {
      "cell_type": "code",
      "execution_count": 7,
      "metadata": {
        "id": "1MVzeUwf_A3E",
        "lines_to_next_cell": 2
      },
      "outputs": [],
      "source": [
        "df['class'] = np.where(df['class'] == 2, 0, 1)"
      ]
    },
    {
      "cell_type": "markdown",
      "metadata": {
        "id": "EGbKO1bR8S9h"
      },
      "source": [
        "We then split the dataset into training and testing sets. Since the number of samples is small, we will perform validation on the test set."
      ]
    },
    {
      "cell_type": "code",
      "execution_count": 8,
      "metadata": {
        "id": "aNUy7JcuAXjC"
      },
      "outputs": [],
      "source": [
        "train, test = train_test_split(df, test_size = 0.2)"
      ]
    },
    {
      "cell_type": "markdown",
      "metadata": {
        "id": "H_ZKokUP8kP3"
      },
      "source": [
        "We get the statistics for training. We can look at statistics to get an idea about the distribution of plots. If you need more visualization, you can create additional data plots. We will also be using the mean and standard deviation from statistics for normalizing the data"
      ]
    },
    {
      "cell_type": "code",
      "execution_count": 9,
      "metadata": {
        "id": "k86tBT_QAm2P"
      },
      "outputs": [],
      "source": [
        "train_stats = train.describe()\n",
        "train_stats.pop('class')\n",
        "train_stats = train_stats.transpose()"
      ]
    },
    {
      "cell_type": "markdown",
      "metadata": {
        "id": "l8AJ0Crc8u9t"
      },
      "source": [
        "We pop the class column from the training and test sets to create train and test outputs."
      ]
    },
    {
      "cell_type": "code",
      "execution_count": 10,
      "metadata": {
        "id": "V7EGUV-tA5LZ"
      },
      "outputs": [],
      "source": [
        "train_Y = train.pop(\"class\")\n",
        "test_Y = test.pop(\"class\")"
      ]
    },
    {
      "cell_type": "markdown",
      "metadata": {
        "id": "N9wVRO5E9AgA"
      },
      "source": [
        "Here we normalize the data by using the formula: **X = (X - mean(X)) / StandardDeviation(X)**"
      ]
    },
    {
      "cell_type": "code",
      "execution_count": 11,
      "metadata": {
        "id": "NDo__q_AA3j0"
      },
      "outputs": [],
      "source": [
        "def norm(x):\n",
        "    return (x - train_stats['mean']) / train_stats['std']"
      ]
    },
    {
      "cell_type": "code",
      "execution_count": 12,
      "metadata": {
        "id": "pdARlWaDA_8G"
      },
      "outputs": [],
      "source": [
        "norm_train_X = norm(train)\n",
        "norm_test_X = norm(test)"
      ]
    },
    {
      "cell_type": "markdown",
      "metadata": {
        "id": "P6LIVZbj9Usv"
      },
      "source": [
        "We now create Tensorflow datasets for training and test sets to easily be able to build and manage an input pipeline for our model."
      ]
    },
    {
      "cell_type": "code",
      "execution_count": 13,
      "metadata": {
        "id": "1S0RtsP1Xsj8"
      },
      "outputs": [],
      "source": [
        "train_dataset = tf.data.Dataset.from_tensor_slices((norm_train_X.values, train_Y.values))\n",
        "test_dataset = tf.data.Dataset.from_tensor_slices((norm_test_X.values, test_Y.values))"
      ]
    },
    {
      "cell_type": "markdown",
      "metadata": {
        "id": "-Nb44PpV9hR4"
      },
      "source": [
        "We shuffle and prepare a batched dataset to be used for training in our custom training loop."
      ]
    },
    {
      "cell_type": "code",
      "execution_count": 14,
      "metadata": {
        "id": "h9qdsNPen5-F"
      },
      "outputs": [],
      "source": [
        "batch_size = 32\n",
        "train_dataset = train_dataset.shuffle(buffer_size=len(train)).batch(batch_size)\n",
        "\n",
        "test_dataset =  test_dataset.batch(batch_size=batch_size)"
      ]
    },
    {
      "cell_type": "code",
      "execution_count": 15,
      "metadata": {
        "colab": {
          "base_uri": "https://localhost:8080/"
        },
        "id": "ZM0TgIIFEW4o",
        "outputId": "76ab0762-22a5-4c89-f902-08ae14d42b3b"
      },
      "outputs": [
        {
          "output_type": "stream",
          "name": "stdout",
          "text": [
            "18\n"
          ]
        }
      ],
      "source": [
        "a = enumerate(train_dataset)\n",
        "\n",
        "print(len(list(a)))"
      ]
    },
    {
      "cell_type": "markdown",
      "metadata": {
        "id": "GcbOJ6C79qT5"
      },
      "source": [
        "## Define the Model\n",
        "\n",
        "Now we will define the model. Here, we use the Keras Functional API to create a simple network of two `Dense` layers. We have modelled the problem as a binary classification problem and hence we add a single layer with sigmoid activation as the final layer of the model."
      ]
    },
    {
      "cell_type": "code",
      "execution_count": 16,
      "metadata": {
        "id": "HU3qcM9WBcMh"
      },
      "outputs": [],
      "source": [
        "def base_model():\n",
        "    inputs = tf.keras.layers.Input(shape=(len(train.columns)))\n",
        "\n",
        "    x = tf.keras.layers.Dense(128, activation='relu')(inputs)\n",
        "    x = tf.keras.layers.Dense(64, activation='relu')(x)\n",
        "    outputs = tf.keras.layers.Dense(1, activation='sigmoid')(x)\n",
        "    model = tf.keras.Model(inputs=inputs, outputs=outputs)\n",
        "    return model\n",
        "\n",
        "model = base_model()"
      ]
    },
    {
      "cell_type": "markdown",
      "metadata": {
        "id": "NBhKIcKQ-Bwe"
      },
      "source": [
        "## Define Optimizer and Loss\n",
        "\n",
        "We use RMSprop optimizer and binary crossentropy as our loss function."
      ]
    },
    {
      "cell_type": "code",
      "execution_count": 17,
      "metadata": {
        "id": "v5B3vh6fs84i"
      },
      "outputs": [],
      "source": [
        "optimizer = tf.keras.optimizers.RMSprop(learning_rate=0.001)\n",
        "loss_object = tf.keras.losses.BinaryCrossentropy()"
      ]
    },
    {
      "cell_type": "markdown",
      "metadata": {
        "id": "YSNDewgovSZ8"
      },
      "source": [
        "## Evaluate Untrained Model\n",
        "We calculate the loss on the model before training begins."
      ]
    },
    {
      "cell_type": "code",
      "execution_count": 20,
      "metadata": {
        "colab": {
          "base_uri": "https://localhost:8080/"
        },
        "id": "TUScS3GbtPXt",
        "outputId": "bee0089a-e4fa-463e-b9d7-4ce4b3f25c04"
      },
      "outputs": [
        {
          "output_type": "stream",
          "name": "stdout",
          "text": [
            "Loss before training 0.7257\n"
          ]
        }
      ],
      "source": [
        "outputs = model(norm_test_X.values)\n",
        "loss_value = loss_object(y_true=test_Y.values, y_pred=np.expand_dims(outputs,1))\n",
        "print(\"Loss before training %.4f\" % loss_value.numpy())"
      ]
    },
    {
      "cell_type": "markdown",
      "metadata": {
        "id": "jPPb5ewkzMBY"
      },
      "source": [
        "We also plot the confusion matrix to visualize the true outputs against the outputs predicted by the model."
      ]
    },
    {
      "cell_type": "code",
      "execution_count": 21,
      "metadata": {
        "id": "ueenYwWZvQM_"
      },
      "outputs": [],
      "source": [
        "def plot_confusion_matrix(y_true, y_pred, title='', labels=[0,1]):\n",
        "    cm = confusion_matrix(y_true, y_pred)\n",
        "    fig = plt.figure()\n",
        "    ax = fig.add_subplot(111)\n",
        "    cax = ax.matshow(cm)\n",
        "    plt.title(title)\n",
        "    fig.colorbar(cax)\n",
        "    ax.set_xticklabels([''] + labels)\n",
        "    ax.set_yticklabels([''] + labels)\n",
        "    plt.xlabel('Predicted')\n",
        "    plt.ylabel('True')\n",
        "    fmt = 'd'\n",
        "    thresh = cm.max() / 2.\n",
        "    for i, j in itertools.product(range(cm.shape[0]), range(cm.shape[1])):\n",
        "          plt.text(j, i, format(cm[i, j], fmt),\n",
        "                  horizontalalignment=\"center\",\n",
        "                  color=\"black\" if cm[i, j] > thresh else \"white\")\n",
        "    plt.show()"
      ]
    },
    {
      "cell_type": "code",
      "execution_count": 22,
      "metadata": {
        "colab": {
          "base_uri": "https://localhost:8080/",
          "height": 289
        },
        "id": "FApnBUNWv-ZR",
        "outputId": "2535ed46-2e42-4942-fde3-4325495928ee"
      },
      "outputs": [
        {
          "output_type": "display_data",
          "data": {
            "image/png": "[encoded data removed]",
            "text/plain": [
              "<Figure size 432x288 with 2 Axes>"
            ]
          },
          "metadata": {
            "needs_background": "light"
          }
        }
      ],
      "source": [
        "plot_confusion_matrix(test_Y.values, tf.round(outputs), title='Confusion Matrix for Untrained Model')"
      ]
    },
    {
      "cell_type": "markdown",
      "metadata": {
        "id": "7-HTkbQb-gYp"
      },
      "source": [
        "## Define Metrics (Please complete this section)"
      ]
    },
    {
      "cell_type": "markdown",
      "metadata": {
        "id": "AYUyRka1-j87"
      },
      "source": [
        "### Define Custom F1Score Metric\n",
        "In this example, we will define a custom F1Score metric using the formula. \n",
        "\n",
        "**F1 Score = 2 * ((precision * recall) / (precision + recall))**\n",
        "\n",
        "**precision = true_positives / (true_positives + false_positives)**\n",
        "\n",
        "**recall = true_positives / (true_positives + false_negatives)**\n",
        "\n",
        "We use `confusion_matrix` defined in `tf.math` to calculate precision and recall.\n",
        "\n",
        "Here you can see that we have subclassed `tf.keras.Metric` and implemented the three required methods `update_state`, `result` and `reset_states`.\n",
        "\n",
        "### Please complete the result() method:"
      ]
    },
    {
      "cell_type": "code",
      "execution_count": 23,
      "metadata": {
        "id": "PdUe6cqvbzXy"
      },
      "outputs": [],
      "source": [
        "class F1Score(tf.keras.metrics.Metric):\n",
        "\n",
        "    def __init__(self, name='f1_score', **kwargs):\n",
        "        '''initializes attributes of the class'''\n",
        "        \n",
        "        # call the parent class init\n",
        "        super(F1Score, self).__init__(name=name, **kwargs)\n",
        "\n",
        "        # Initialize Required variables\n",
        "        # true positives\n",
        "        self.tp = tf.Variable(0, dtype = 'int32')\n",
        "        # false positives\n",
        "        self.fp = tf.Variable(0, dtype = 'int32')\n",
        "        # true negatives\n",
        "        self.tn = tf.Variable(0, dtype = 'int32')\n",
        "        # false negatives\n",
        "        self.fn = tf.Variable(0, dtype = 'int32')\n",
        "\n",
        "    def update_state(self, y_true, y_pred, sample_weight=None):\n",
        "        '''\n",
        "        Accumulates statistics for the metric\n",
        "        \n",
        "        Args:\n",
        "            y_true: target values from the test data\n",
        "            y_pred: predicted values by the model\n",
        "        '''\n",
        "\n",
        "        # Calulcate confusion matrix.\n",
        "        conf_matrix = tf.math.confusion_matrix(y_true, y_pred, num_classes=2)\n",
        "        \n",
        "        # Update values of true positives, true negatives, false positives and false negatives from confusion matrix.\n",
        "        self.tn.assign_add(conf_matrix[0][0])\n",
        "        self.tp.assign_add(conf_matrix[1][1])\n",
        "        self.fp.assign_add(conf_matrix[0][1])\n",
        "        self.fn.assign_add(conf_matrix[1][0])\n",
        "\n",
        "    def result(self):\n",
        "        '''Computes and returns the metric value tensor.'''\n",
        "\n",
        "        # Calculate precision\n",
        "        if (self.tp + self.fp == 0):\n",
        "            precision = 1.0\n",
        "        else:\n",
        "            precision = self.tp / (self.tp + self.fp)\n",
        "      \n",
        "        # Calculate recall\n",
        "        if (self.tp + self.fn == 0):\n",
        "            recall = 1.0\n",
        "        else:\n",
        "            recall = self.tp / (self.tp + self.fn)\n",
        "\n",
        "        # Return F1 Score\n",
        "        ### START CODE HERE ###\n",
        "        f1_score =  2 * (precision * recall) / (precision + recall)\n",
        "        ### END CODE HERE ### \n",
        "        \n",
        "        return f1_score\n",
        "\n",
        "    def reset_states(self):\n",
        "        '''Resets all of the metric state variables.'''\n",
        "        \n",
        "        # The state of the metric will be reset at the start of each epoch.\n",
        "        self.tp.assign(0)\n",
        "        self.tn.assign(0) \n",
        "        self.fp.assign(0)\n",
        "        self.fn.assign(0)\n"
      ]
    },
    {
      "cell_type": "code",
      "execution_count": 24,
      "metadata": {
        "colab": {
          "base_uri": "https://localhost:8080/"
        },
        "id": "EC36oxgjEW4r",
        "outputId": "4ea5cdc6-6956-418f-bb0f-6f72e39ff274"
      },
      "outputs": [
        {
          "output_type": "execute_result",
          "data": {
            "text/plain": [
              "<tf.Tensor: shape=(), dtype=float64, numpy=0.2222222222222222>"
            ]
          },
          "metadata": {},
          "execution_count": 24
        }
      ],
      "source": [
        "# Test Code:\n",
        "\n",
        "test_F1Score = F1Score()\n",
        "\n",
        "test_F1Score.tp = tf.Variable(2, dtype = 'int32')\n",
        "test_F1Score.fp = tf.Variable(5, dtype = 'int32')\n",
        "test_F1Score.tn = tf.Variable(7, dtype = 'int32')\n",
        "test_F1Score.fn = tf.Variable(9, dtype = 'int32')\n",
        "test_F1Score.result()\n"
      ]
    },
    {
      "cell_type": "markdown",
      "metadata": {
        "id": "GXBi0AtcEW4r"
      },
      "source": [
        "**Expected Output:**\n",
        "\n",
        "```txt\n",
        "<tf.Tensor: shape=(), dtype=float64, numpy=0.2222222222222222>\n",
        "```"
      ]
    },
    {
      "cell_type": "markdown",
      "metadata": {
        "id": "xiTa2CePAOTa"
      },
      "source": [
        "We initialize the seprate metrics required for training and validation. In addition to our custom F1Score metric, we are also using `BinaryAccuracy` defined in `tf.keras.metrics`"
      ]
    },
    {
      "cell_type": "code",
      "execution_count": 32,
      "metadata": {
        "id": "7Pa_x-5-CH_V"
      },
      "outputs": [],
      "source": [
        "train_f1score_metric = F1Score()\n",
        "val_f1score_metric = F1Score()\n",
        "\n",
        "train_acc_metric = tf.keras.metrics.BinaryAccuracy()\n",
        "val_acc_metric = tf.keras.metrics.BinaryAccuracy()"
      ]
    },
    {
      "cell_type": "markdown",
      "metadata": {
        "id": "1huOxRpEAxvf"
      },
      "source": [
        "## Apply Gradients (Please complete this section)\n",
        "\n",
        "The core of training is using the model to calculate the logits on specific set of inputs and compute the loss(in this case **binary crossentropy**) by comparing the predicted outputs to the true outputs. We then update the trainable weights using the optimizer algorithm chosen. The optimizer algorithm requires our computed loss and partial derivatives of loss with respect to each of the trainable weights to make updates to the same.\n",
        "\n",
        "We use gradient tape to calculate the gradients and then update the model trainable weights using the optimizer.\n",
        "\n",
        "### Please complete the following function:"
      ]
    },
    {
      "cell_type": "code",
      "execution_count": 40,
      "metadata": {
        "id": "MMPe25Dstn0v"
      },
      "outputs": [],
      "source": [
        "def apply_gradient(optimizer, loss_object, model, x, y):\n",
        "    '''\n",
        "    applies the gradients to the trainable model weights\n",
        "    \n",
        "    Args:\n",
        "        optimizer: optimizer to update model weights\n",
        "        loss_object: type of loss to measure during training\n",
        "        model: the model we are training\n",
        "        x: input data to the model\n",
        "        y: target values for each input\n",
        "    '''\n",
        "    \n",
        "    with tf.GradientTape() as tape:\n",
        "    ### START CODE HERE ###\n",
        "        logits = model(x)\n",
        "        logits = np.asarray(logits).astype('float32').reshape((-1,1))\n",
        "        loss_value = loss_object(y_true=y, y_pred=logits)\n",
        "  \n",
        "    gradients = tape.gradient(loss_value, model.trainable_weights)\n",
        "    optimizer.apply_gradients(zip(gradients, model.trainable_weights))\n",
        "    ### END CODE HERE ###\n",
        "  \n",
        "    return logits, loss_value"
      ]
    },
    {
      "cell_type": "code",
      "execution_count": 41,
      "metadata": {
        "colab": {
          "base_uri": "https://localhost:8080/",
          "height": 1000
        },
        "id": "N-_JbtgOEW4v",
        "outputId": "3ac2065b-aaea-4666-9503-8eacecd54892"
      },
      "outputs": [
        {
          "output_type": "error",
          "ename": "ValueError",
          "evalue": "ignored",
          "traceback": [
            "\u001b[0;31m---------------------------------------------------------------------------\u001b[0m",
            "\u001b[0;31mValueError\u001b[0m                                Traceback (most recent call last)",
            "\u001b[0;32m<ipython-input-41-50f39981b852>\u001b[0m in \u001b[0;36m<module>\u001b[0;34m()\u001b[0m\n\u001b[1;32m      2\u001b[0m \u001b[0;34m\u001b[0m\u001b[0m\n\u001b[1;32m      3\u001b[0m \u001b[0mtest_model\u001b[0m \u001b[0;34m=\u001b[0m \u001b[0mtf\u001b[0m\u001b[0;34m.\u001b[0m\u001b[0mkeras\u001b[0m\u001b[0;34m.\u001b[0m\u001b[0mmodels\u001b[0m\u001b[0;34m.\u001b[0m\u001b[0mload_model\u001b[0m\u001b[0;34m(\u001b[0m\u001b[0;34m'./test_model'\u001b[0m\u001b[0;34m)\u001b[0m\u001b[0;34m\u001b[0m\u001b[0;34m\u001b[0m\u001b[0m\n\u001b[0;32m----> 4\u001b[0;31m \u001b[0mtest_logits\u001b[0m\u001b[0;34m,\u001b[0m \u001b[0mtest_loss\u001b[0m \u001b[0;34m=\u001b[0m \u001b[0mapply_gradient\u001b[0m\u001b[0;34m(\u001b[0m\u001b[0moptimizer\u001b[0m\u001b[0;34m,\u001b[0m \u001b[0mloss_object\u001b[0m\u001b[0;34m,\u001b[0m \u001b[0mtest_model\u001b[0m\u001b[0;34m,\u001b[0m \u001b[0mnorm_test_X\u001b[0m\u001b[0;34m.\u001b[0m\u001b[0mvalues\u001b[0m\u001b[0;34m,\u001b[0m \u001b[0mtest_Y\u001b[0m\u001b[0;34m.\u001b[0m\u001b[0mvalues\u001b[0m\u001b[0;34m)\u001b[0m\u001b[0;34m\u001b[0m\u001b[0;34m\u001b[0m\u001b[0m\n\u001b[0m\u001b[1;32m      5\u001b[0m \u001b[0;34m\u001b[0m\u001b[0m\n\u001b[1;32m      6\u001b[0m \u001b[0mprint\u001b[0m\u001b[0;34m(\u001b[0m\u001b[0mtest_logits\u001b[0m\u001b[0;34m.\u001b[0m\u001b[0mnumpy\u001b[0m\u001b[0;34m(\u001b[0m\u001b[0;34m)\u001b[0m\u001b[0;34m[\u001b[0m\u001b[0;34m:\u001b[0m\u001b[0;36m8\u001b[0m\u001b[0;34m]\u001b[0m\u001b[0;34m)\u001b[0m\u001b[0;34m\u001b[0m\u001b[0;34m\u001b[0m\u001b[0m\n",
            "\u001b[0;32m<ipython-input-40-033ff9118a74>\u001b[0m in \u001b[0;36mapply_gradient\u001b[0;34m(optimizer, loss_object, model, x, y)\u001b[0m\n\u001b[1;32m     18\u001b[0m \u001b[0;34m\u001b[0m\u001b[0m\n\u001b[1;32m     19\u001b[0m     \u001b[0mgradients\u001b[0m \u001b[0;34m=\u001b[0m \u001b[0mtape\u001b[0m\u001b[0;34m.\u001b[0m\u001b[0mgradient\u001b[0m\u001b[0;34m(\u001b[0m\u001b[0mloss_value\u001b[0m\u001b[0;34m,\u001b[0m \u001b[0mmodel\u001b[0m\u001b[0;34m.\u001b[0m\u001b[0mtrainable_weights\u001b[0m\u001b[0;34m)\u001b[0m\u001b[0;34m\u001b[0m\u001b[0;34m\u001b[0m\u001b[0m\n\u001b[0;32m---> 20\u001b[0;31m     \u001b[0moptimizer\u001b[0m\u001b[0;34m.\u001b[0m\u001b[0mapply_gradients\u001b[0m\u001b[0;34m(\u001b[0m\u001b[0mzip\u001b[0m\u001b[0;34m(\u001b[0m\u001b[0mgradients\u001b[0m\u001b[0;34m,\u001b[0m \u001b[0mmodel\u001b[0m\u001b[0;34m.\u001b[0m\u001b[0mtrainable_weights\u001b[0m\u001b[0;34m)\u001b[0m\u001b[0;34m)\u001b[0m\u001b[0;34m\u001b[0m\u001b[0;34m\u001b[0m\u001b[0m\n\u001b[0m\u001b[1;32m     21\u001b[0m     \u001b[0;31m### END CODE HERE ###\u001b[0m\u001b[0;34m\u001b[0m\u001b[0;34m\u001b[0m\u001b[0;34m\u001b[0m\u001b[0m\n\u001b[1;32m     22\u001b[0m \u001b[0;34m\u001b[0m\u001b[0m\n",
            "\u001b[0;32m/usr/local/lib/python3.7/dist-packages/keras/optimizer_v2/optimizer_v2.py\u001b[0m in \u001b[0;36mapply_gradients\u001b[0;34m(self, grads_and_vars, name, experimental_aggregate_gradients)\u001b[0m\n\u001b[1;32m    631\u001b[0m       \u001b[0mRuntimeError\u001b[0m\u001b[0;34m:\u001b[0m \u001b[0mIf\u001b[0m \u001b[0mcalled\u001b[0m \u001b[0;32min\u001b[0m \u001b[0ma\u001b[0m \u001b[0mcross\u001b[0m\u001b[0;34m-\u001b[0m\u001b[0mreplica\u001b[0m \u001b[0mcontext\u001b[0m\u001b[0;34m.\u001b[0m\u001b[0;34m\u001b[0m\u001b[0;34m\u001b[0m\u001b[0m\n\u001b[1;32m    632\u001b[0m     \"\"\"\n\u001b[0;32m--> 633\u001b[0;31m     \u001b[0mgrads_and_vars\u001b[0m \u001b[0;34m=\u001b[0m \u001b[0moptimizer_utils\u001b[0m\u001b[0;34m.\u001b[0m\u001b[0mfilter_empty_gradients\u001b[0m\u001b[0;34m(\u001b[0m\u001b[0mgrads_and_vars\u001b[0m\u001b[0;34m)\u001b[0m\u001b[0;34m\u001b[0m\u001b[0;34m\u001b[0m\u001b[0m\n\u001b[0m\u001b[1;32m    634\u001b[0m     \u001b[0mvar_list\u001b[0m \u001b[0;34m=\u001b[0m \u001b[0;34m[\u001b[0m\u001b[0mv\u001b[0m \u001b[0;32mfor\u001b[0m \u001b[0;34m(\u001b[0m\u001b[0m_\u001b[0m\u001b[0;34m,\u001b[0m \u001b[0mv\u001b[0m\u001b[0;34m)\u001b[0m \u001b[0;32min\u001b[0m \u001b[0mgrads_and_vars\u001b[0m\u001b[0;34m]\u001b[0m\u001b[0;34m\u001b[0m\u001b[0;34m\u001b[0m\u001b[0m\n\u001b[1;32m    635\u001b[0m \u001b[0;34m\u001b[0m\u001b[0m\n",
            "\u001b[0;32m/usr/local/lib/python3.7/dist-packages/keras/optimizer_v2/utils.py\u001b[0m in \u001b[0;36mfilter_empty_gradients\u001b[0;34m(grads_and_vars)\u001b[0m\n\u001b[1;32m     71\u001b[0m   \u001b[0;32mif\u001b[0m \u001b[0;32mnot\u001b[0m \u001b[0mfiltered\u001b[0m\u001b[0;34m:\u001b[0m\u001b[0;34m\u001b[0m\u001b[0;34m\u001b[0m\u001b[0m\n\u001b[1;32m     72\u001b[0m     \u001b[0mvariable\u001b[0m \u001b[0;34m=\u001b[0m \u001b[0;34m(\u001b[0m\u001b[0;34m[\u001b[0m\u001b[0mv\u001b[0m\u001b[0;34m.\u001b[0m\u001b[0mname\u001b[0m \u001b[0;32mfor\u001b[0m \u001b[0m_\u001b[0m\u001b[0;34m,\u001b[0m \u001b[0mv\u001b[0m \u001b[0;32min\u001b[0m \u001b[0mgrads_and_vars\u001b[0m\u001b[0;34m]\u001b[0m\u001b[0;34m,\u001b[0m\u001b[0;34m)\u001b[0m\u001b[0;34m\u001b[0m\u001b[0;34m\u001b[0m\u001b[0m\n\u001b[0;32m---> 73\u001b[0;31m     raise ValueError(f\"No gradients provided for any variable: {variable}. \"\n\u001b[0m\u001b[1;32m     74\u001b[0m                      f\"Provided `grads_and_vars` is {grads_and_vars}.\")\n\u001b[1;32m     75\u001b[0m   \u001b[0;32mif\u001b[0m \u001b[0mvars_with_empty_grads\u001b[0m\u001b[0;34m:\u001b[0m\u001b[0;34m\u001b[0m\u001b[0;34m\u001b[0m\u001b[0m\n",
            "\u001b[0;31mValueError\u001b[0m: No gradients provided for any variable: (['dense_24/kernel:0', 'dense_24/bias:0', 'dense_25/kernel:0', 'dense_25/bias:0', 'dense_26/kernel:0', 'dense_26/bias:0'],). Provided `grads_and_vars` is ((None, <tf.Variable 'dense_24/kernel:0' shape=(9, 128) dtype=float32, numpy=\narray([[ 0.13755654, -0.10487851,  0.11320899, ...,  0.10674544,\n         0.0551021 , -0.07720634],\n       [-0.10526944,  0.18544538, -0.13544542, ..., -0.11742691,\n         0.16476552,  0.14791499],\n       [ 0.13539304, -0.00129975, -0.13119844, ...,  0.20392023,\n        -0.02359052, -0.17038697],\n       ...,\n       [-0.06590287,  0.10740338,  0.05995627, ..., -0.16363111,\n         0.05112846,  0.16904993],\n       [-0.1415501 , -0.03885564,  0.17053334, ..., -0.04159601,\n         0.05100243,  0.08285992],\n       [ 0.01516074, -0.00835484, -0.13360381, ...,  0.20048545,\n        -0.09838585, -0.05252422]], dtype=float32)>), (None, <tf.Variable 'dense_24/bias:0' shape=(128,) dtype=float32, numpy=\narray([0., 0., 0., 0., 0., 0., 0., 0., 0., 0., 0., 0., 0., 0., 0., 0., 0.,\n       0., 0., 0., 0., 0., 0., 0., 0., 0., 0., 0., 0., 0., 0., 0., 0., 0.,\n       0., 0., 0., 0., 0., 0., 0., 0., 0., 0., 0., 0., 0., 0., 0., 0., 0.,\n       0., 0., 0., 0., 0., 0., 0., 0., 0., 0., 0., 0., 0., 0., 0., 0., 0.,\n       0., 0., 0., 0., 0., 0., 0., 0., 0., 0., 0., 0., 0., 0., 0., 0., 0.,\n       0., 0., 0., 0., 0., 0., 0., 0., 0., 0., 0., 0., 0., 0., 0., 0., 0.,\n       0., 0., 0., 0., 0., 0., 0., 0., 0., 0., 0., 0., 0., 0., 0., 0., 0.,\n       0., 0., 0., 0., 0., 0., 0., 0., 0.], dtype=float32)>), (None, <tf.Variable 'dense_25/kernel:0' shape=(128, 64) dtype=float32, numpy=\narray([[ 0.1211528 , -0.09807112, -0.09546527, ..., -0.03905942,\n         0.09311445,  0.10157533],\n       [ 0.10147314,  0.08142893, -0.07211427, ...,  0.14759456,\n         0.10412671, -0.09407593],\n       [-0.14751531, -0.15590477,  0.04163653, ...,  0.08450668,\n        -0.14830971,  0.17599405],\n       ...,\n       [ 0.08948143,  0.08236797,  0.07654436, ...,  0.01610911,\n        -0.11900167, -0.03387165],\n       [-0.09120663, -0.0585912 ,  0.01050666, ...,  0.16254206,\n        -0.00427365, -0.01388288],\n       [-0.0462901 , -0.01968144, -0.1210535 , ...,  0.07749744,\n         0.07698379,  0.09172894]], dtype=float32)>), (None, <tf.Variable 'dense_25/bias:0' shape=(64,) dtype=float32, numpy=\narray([0., 0., 0., 0., 0., 0., 0., 0., 0., 0., 0., 0., 0., 0., 0., 0., 0.,\n       0., 0., 0., 0., 0., 0., 0., 0., 0., 0., 0., 0., 0., 0., 0., 0., 0.,\n       0., 0., 0., 0., 0., 0., 0., 0., 0., 0., 0., 0., 0., 0., 0., 0., 0.,\n       0., 0., 0., 0., 0., 0., 0., 0., 0., 0., 0., 0., 0.], dtype=float32)>), (None, <tf.Variable 'dense_26/kernel:0' shape=(64, 1) dtype=float32, numpy=\narray([[-0.06832482],\n       [-0.12553291],\n       [ 0.16270933],\n       [-0.22166952],\n       [ 0.01377159],\n       [ 0.22130305],\n       [-0.19193664],\n       [-0.10856946],\n       [ 0.0335049 ],\n       [-0.05059236],\n       [ 0.1525085 ],\n       [ 0.01186174],\n       [ 0.05778867],\n       [ 0.04098168],\n       [-0.23178613],\n       [ 0.26954097],\n       [-0.13214819],\n       [ 0.25155228],\n       [-0.20320323],\n       [ 0.05852479],\n       [ 0.2845245 ],\n       [ 0.10635418],\n       [-0.19337443],\n       [ 0.02901852],\n       [ 0.23112345],\n       [-0.20460466],\n       [ 0.05474421],\n       [ 0.1452305 ],\n       [-0.12810427],\n       [ 0.15138415],\n       [-0.09979874],\n       [ 0.13291198],\n       [ 0.06778806],\n       [-0.07375939],\n       [ 0.15852597],\n       [ 0.15800038],\n       [-0.14832398],\n       [ 0.28196937],\n       [-0.24139762],\n       [-0.2374267 ],\n       [-0.11828315],\n       [ 0.01057416],\n       [ 0.2168495 ],\n       [ 0.08723834],\n       [ 0.17856023],\n       [ 0.08524808],\n       [-0.1337345 ],\n       [-0.16379568],\n       [ 0.23298025],\n       [ 0.1352978 ],\n       [-0.00882989],\n       [ 0.18426797],\n       [-0.28344303],\n       [ 0.16272259],\n       [ 0.03807688],\n       [ 0.02006027],\n       [ 0.2643429 ],\n       [-0.25180098],\n       [ 0.08427837],\n       [ 0.2509395 ],\n       [ 0.2027092 ],\n       [-0.02479959],\n       [ 0.14511648],\n       [-0.0836491 ]], dtype=float32)>), (None, <tf.Variable 'dense_26/bias:0' shape=(1,) dtype=float32, numpy=array([0.], dtype=float32)>))."
          ]
        }
      ],
      "source": [
        "# Test Code:\n",
        "\n",
        "test_model = tf.keras.models.load_model('./test_model')\n",
        "test_logits, test_loss = apply_gradient(optimizer, loss_object, test_model, norm_test_X.values, test_Y.values)\n",
        "\n",
        "print(test_logits.numpy()[:8])\n",
        "print(test_loss.numpy())\n",
        "\n",
        "del test_model\n",
        "del test_logits\n",
        "del test_loss"
      ]
    },
    {
      "cell_type": "markdown",
      "metadata": {
        "id": "73H2PlS5EW4v"
      },
      "source": [
        "**Expected Output:**\n",
        "\n",
        "The output will be close to these values:\n",
        "```txt\n",
        "[[0.5516499 ]\n",
        " [0.52124363]\n",
        " [0.5412698 ]\n",
        " [0.54203206]\n",
        " [0.50022954]\n",
        " [0.5459626 ]\n",
        " [0.47841492]\n",
        " [0.54381996]]\n",
        "0.7030578\n",
        "```"
      ]
    },
    {
      "cell_type": "markdown",
      "metadata": {
        "id": "JYM6GZPjB40r"
      },
      "source": [
        "## Training Loop (Please complete this section)\n",
        "\n",
        "This function performs training during one epoch. We run through all batches of training data in each epoch to make updates to trainable weights using our previous function.\n",
        "You can see that we also call `update_state` on our metrics to accumulate the value of our metrics. \n",
        "\n",
        "We are displaying a progress bar to indicate completion of training in each epoch. Here we use `tqdm` for displaying the progress bar. \n",
        "\n",
        "### Please complete the following function:"
      ]
    },
    {
      "cell_type": "code",
      "execution_count": 45,
      "metadata": {
        "id": "3fHoh_hgz2PC"
      },
      "outputs": [],
      "source": [
        "def train_data_for_one_epoch(train_dataset, optimizer, loss_object, model, \n",
        "                             train_acc_metric, train_f1score_metric, verbose=True):\n",
        "    '''\n",
        "    Computes the loss then updates the weights and metrics for one epoch.\n",
        "    \n",
        "    Args:\n",
        "        train_dataset: the training dataset\n",
        "        optimizer: optimizer to update model weights\n",
        "        loss_object: type of loss to measure during training\n",
        "        model: the model we are training\n",
        "        train_acc_metric: calculates how often predictions match labels\n",
        "        train_f1score_metric: custom metric we defined earlier\n",
        "    '''\n",
        "    losses = []\n",
        "\n",
        "    #Iterate through all batches of training data\n",
        "    for step, (x_batch_train, y_batch_train) in enumerate(train_dataset):\n",
        "\n",
        "        #Calculate loss and update trainable variables using optimizer\n",
        "        ### START CODE HERE ###\n",
        "        logits, loss = apply_gradient(optimizer, loss_object, model, x_batch_train, y_batch_train)\n",
        "        losses.append(loss)        \n",
        "        ### END CODE HERE ###\n",
        "\n",
        "        #Round off logits to nearest integer and cast to integer for calulating metrics\n",
        "        ### START CODE HERE ###\n",
        "        logits = tf.round(logits)\n",
        "        logits = tf.cast(logits, 'int64')\n",
        "        ### END CODE HERE ###\n",
        "\n",
        "        #Update the training metrics\n",
        "        ### START CODE HERE ###\n",
        "        train_acc_metric.update_state(y_batch_train, logits)\n",
        "        train_f1score_metric.update_state(y_batch_train, logits)\n",
        "        ### END CODE HERE ###\n",
        "\n",
        "        #Update progress\n",
        "        if verbose:\n",
        "            print(\"Training loss for step %s: %.4f\" % (int(step), float(loss_value)))\n",
        "    \n",
        "    return losses"
      ]
    },
    {
      "cell_type": "code",
      "execution_count": 46,
      "metadata": {
        "colab": {
          "base_uri": "https://localhost:8080/",
          "height": 1000
        },
        "id": "7a-d1n43EW4w",
        "outputId": "cab3e105-4a24-45f4-9659-c63297d07d98"
      },
      "outputs": [
        {
          "output_type": "error",
          "ename": "ValueError",
          "evalue": "ignored",
          "traceback": [
            "\u001b[0;31m---------------------------------------------------------------------------\u001b[0m",
            "\u001b[0;31mValueError\u001b[0m                                Traceback (most recent call last)",
            "\u001b[0;32m<ipython-input-46-897105dccc30>\u001b[0m in \u001b[0;36m<module>\u001b[0;34m()\u001b[0m\n\u001b[1;32m      4\u001b[0m \u001b[0;34m\u001b[0m\u001b[0m\n\u001b[1;32m      5\u001b[0m test_losses = train_data_for_one_epoch(train_dataset, optimizer, loss_object, test_model, \n\u001b[0;32m----> 6\u001b[0;31m                              train_acc_metric, train_f1score_metric, verbose=False)\n\u001b[0m\u001b[1;32m      7\u001b[0m \u001b[0;34m\u001b[0m\u001b[0m\n\u001b[1;32m      8\u001b[0m \u001b[0;32mfor\u001b[0m \u001b[0mtest_loss\u001b[0m \u001b[0;32min\u001b[0m \u001b[0mtest_losses\u001b[0m\u001b[0;34m:\u001b[0m\u001b[0;34m\u001b[0m\u001b[0;34m\u001b[0m\u001b[0m\n",
            "\u001b[0;32m<ipython-input-45-5c51b22c9562>\u001b[0m in \u001b[0;36mtrain_data_for_one_epoch\u001b[0;34m(train_dataset, optimizer, loss_object, model, train_acc_metric, train_f1score_metric, verbose)\u001b[0m\n\u001b[1;32m     19\u001b[0m         \u001b[0;31m#Calculate loss and update trainable variables using optimizer\u001b[0m\u001b[0;34m\u001b[0m\u001b[0;34m\u001b[0m\u001b[0;34m\u001b[0m\u001b[0m\n\u001b[1;32m     20\u001b[0m         \u001b[0;31m### START CODE HERE ###\u001b[0m\u001b[0;34m\u001b[0m\u001b[0;34m\u001b[0m\u001b[0;34m\u001b[0m\u001b[0m\n\u001b[0;32m---> 21\u001b[0;31m         \u001b[0mlogits\u001b[0m\u001b[0;34m,\u001b[0m \u001b[0mloss\u001b[0m \u001b[0;34m=\u001b[0m \u001b[0mapply_gradient\u001b[0m\u001b[0;34m(\u001b[0m\u001b[0moptimizer\u001b[0m\u001b[0;34m,\u001b[0m \u001b[0mloss_object\u001b[0m\u001b[0;34m,\u001b[0m \u001b[0mmodel\u001b[0m\u001b[0;34m,\u001b[0m \u001b[0mx_batch_train\u001b[0m\u001b[0;34m,\u001b[0m \u001b[0my_batch_train\u001b[0m\u001b[0;34m)\u001b[0m\u001b[0;34m\u001b[0m\u001b[0;34m\u001b[0m\u001b[0m\n\u001b[0m\u001b[1;32m     22\u001b[0m         \u001b[0mlosses\u001b[0m\u001b[0;34m.\u001b[0m\u001b[0mappend\u001b[0m\u001b[0;34m(\u001b[0m\u001b[0mloss\u001b[0m\u001b[0;34m)\u001b[0m\u001b[0;34m\u001b[0m\u001b[0;34m\u001b[0m\u001b[0m\n\u001b[1;32m     23\u001b[0m         \u001b[0;31m### END CODE HERE ###\u001b[0m\u001b[0;34m\u001b[0m\u001b[0;34m\u001b[0m\u001b[0;34m\u001b[0m\u001b[0m\n",
            "\u001b[0;32m<ipython-input-40-033ff9118a74>\u001b[0m in \u001b[0;36mapply_gradient\u001b[0;34m(optimizer, loss_object, model, x, y)\u001b[0m\n\u001b[1;32m     18\u001b[0m \u001b[0;34m\u001b[0m\u001b[0m\n\u001b[1;32m     19\u001b[0m     \u001b[0mgradients\u001b[0m \u001b[0;34m=\u001b[0m \u001b[0mtape\u001b[0m\u001b[0;34m.\u001b[0m\u001b[0mgradient\u001b[0m\u001b[0;34m(\u001b[0m\u001b[0mloss_value\u001b[0m\u001b[0;34m,\u001b[0m \u001b[0mmodel\u001b[0m\u001b[0;34m.\u001b[0m\u001b[0mtrainable_weights\u001b[0m\u001b[0;34m)\u001b[0m\u001b[0;34m\u001b[0m\u001b[0;34m\u001b[0m\u001b[0m\n\u001b[0;32m---> 20\u001b[0;31m     \u001b[0moptimizer\u001b[0m\u001b[0;34m.\u001b[0m\u001b[0mapply_gradients\u001b[0m\u001b[0;34m(\u001b[0m\u001b[0mzip\u001b[0m\u001b[0;34m(\u001b[0m\u001b[0mgradients\u001b[0m\u001b[0;34m,\u001b[0m \u001b[0mmodel\u001b[0m\u001b[0;34m.\u001b[0m\u001b[0mtrainable_weights\u001b[0m\u001b[0;34m)\u001b[0m\u001b[0;34m)\u001b[0m\u001b[0;34m\u001b[0m\u001b[0;34m\u001b[0m\u001b[0m\n\u001b[0m\u001b[1;32m     21\u001b[0m     \u001b[0;31m### END CODE HERE ###\u001b[0m\u001b[0;34m\u001b[0m\u001b[0;34m\u001b[0m\u001b[0;34m\u001b[0m\u001b[0m\n\u001b[1;32m     22\u001b[0m \u001b[0;34m\u001b[0m\u001b[0m\n",
            "\u001b[0;32m/usr/local/lib/python3.7/dist-packages/keras/optimizer_v2/optimizer_v2.py\u001b[0m in \u001b[0;36mapply_gradients\u001b[0;34m(self, grads_and_vars, name, experimental_aggregate_gradients)\u001b[0m\n\u001b[1;32m    631\u001b[0m       \u001b[0mRuntimeError\u001b[0m\u001b[0;34m:\u001b[0m \u001b[0mIf\u001b[0m \u001b[0mcalled\u001b[0m \u001b[0;32min\u001b[0m \u001b[0ma\u001b[0m \u001b[0mcross\u001b[0m\u001b[0;34m-\u001b[0m\u001b[0mreplica\u001b[0m \u001b[0mcontext\u001b[0m\u001b[0;34m.\u001b[0m\u001b[0;34m\u001b[0m\u001b[0;34m\u001b[0m\u001b[0m\n\u001b[1;32m    632\u001b[0m     \"\"\"\n\u001b[0;32m--> 633\u001b[0;31m     \u001b[0mgrads_and_vars\u001b[0m \u001b[0;34m=\u001b[0m \u001b[0moptimizer_utils\u001b[0m\u001b[0;34m.\u001b[0m\u001b[0mfilter_empty_gradients\u001b[0m\u001b[0;34m(\u001b[0m\u001b[0mgrads_and_vars\u001b[0m\u001b[0;34m)\u001b[0m\u001b[0;34m\u001b[0m\u001b[0;34m\u001b[0m\u001b[0m\n\u001b[0m\u001b[1;32m    634\u001b[0m     \u001b[0mvar_list\u001b[0m \u001b[0;34m=\u001b[0m \u001b[0;34m[\u001b[0m\u001b[0mv\u001b[0m \u001b[0;32mfor\u001b[0m \u001b[0;34m(\u001b[0m\u001b[0m_\u001b[0m\u001b[0;34m,\u001b[0m \u001b[0mv\u001b[0m\u001b[0;34m)\u001b[0m \u001b[0;32min\u001b[0m \u001b[0mgrads_and_vars\u001b[0m\u001b[0;34m]\u001b[0m\u001b[0;34m\u001b[0m\u001b[0;34m\u001b[0m\u001b[0m\n\u001b[1;32m    635\u001b[0m \u001b[0;34m\u001b[0m\u001b[0m\n",
            "\u001b[0;32m/usr/local/lib/python3.7/dist-packages/keras/optimizer_v2/utils.py\u001b[0m in \u001b[0;36mfilter_empty_gradients\u001b[0;34m(grads_and_vars)\u001b[0m\n\u001b[1;32m     71\u001b[0m   \u001b[0;32mif\u001b[0m \u001b[0;32mnot\u001b[0m \u001b[0mfiltered\u001b[0m\u001b[0;34m:\u001b[0m\u001b[0;34m\u001b[0m\u001b[0;34m\u001b[0m\u001b[0m\n\u001b[1;32m     72\u001b[0m     \u001b[0mvariable\u001b[0m \u001b[0;34m=\u001b[0m \u001b[0;34m(\u001b[0m\u001b[0;34m[\u001b[0m\u001b[0mv\u001b[0m\u001b[0;34m.\u001b[0m\u001b[0mname\u001b[0m \u001b[0;32mfor\u001b[0m \u001b[0m_\u001b[0m\u001b[0;34m,\u001b[0m \u001b[0mv\u001b[0m \u001b[0;32min\u001b[0m \u001b[0mgrads_and_vars\u001b[0m\u001b[0;34m]\u001b[0m\u001b[0;34m,\u001b[0m\u001b[0;34m)\u001b[0m\u001b[0;34m\u001b[0m\u001b[0;34m\u001b[0m\u001b[0m\n\u001b[0;32m---> 73\u001b[0;31m     raise ValueError(f\"No gradients provided for any variable: {variable}. \"\n\u001b[0m\u001b[1;32m     74\u001b[0m                      f\"Provided `grads_and_vars` is {grads_and_vars}.\")\n\u001b[1;32m     75\u001b[0m   \u001b[0;32mif\u001b[0m \u001b[0mvars_with_empty_grads\u001b[0m\u001b[0;34m:\u001b[0m\u001b[0;34m\u001b[0m\u001b[0;34m\u001b[0m\u001b[0m\n",
            "\u001b[0;31mValueError\u001b[0m: No gradients provided for any variable: (['dense_24/kernel:0', 'dense_24/bias:0', 'dense_25/kernel:0', 'dense_25/bias:0', 'dense_26/kernel:0', 'dense_26/bias:0'],). Provided `grads_and_vars` is ((None, <tf.Variable 'dense_24/kernel:0' shape=(9, 128) dtype=float32, numpy=\narray([[ 0.13755654, -0.10487851,  0.11320899, ...,  0.10674544,\n         0.0551021 , -0.07720634],\n       [-0.10526944,  0.18544538, -0.13544542, ..., -0.11742691,\n         0.16476552,  0.14791499],\n       [ 0.13539304, -0.00129975, -0.13119844, ...,  0.20392023,\n        -0.02359052, -0.17038697],\n       ...,\n       [-0.06590287,  0.10740338,  0.05995627, ..., -0.16363111,\n         0.05112846,  0.16904993],\n       [-0.1415501 , -0.03885564,  0.17053334, ..., -0.04159601,\n         0.05100243,  0.08285992],\n       [ 0.01516074, -0.00835484, -0.13360381, ...,  0.20048545,\n        -0.09838585, -0.05252422]], dtype=float32)>), (None, <tf.Variable 'dense_24/bias:0' shape=(128,) dtype=float32, numpy=\narray([0., 0., 0., 0., 0., 0., 0., 0., 0., 0., 0., 0., 0., 0., 0., 0., 0.,\n       0., 0., 0., 0., 0., 0., 0., 0., 0., 0., 0., 0., 0., 0., 0., 0., 0.,\n       0., 0., 0., 0., 0., 0., 0., 0., 0., 0., 0., 0., 0., 0., 0., 0., 0.,\n       0., 0., 0., 0., 0., 0., 0., 0., 0., 0., 0., 0., 0., 0., 0., 0., 0.,\n       0., 0., 0., 0., 0., 0., 0., 0., 0., 0., 0., 0., 0., 0., 0., 0., 0.,\n       0., 0., 0., 0., 0., 0., 0., 0., 0., 0., 0., 0., 0., 0., 0., 0., 0.,\n       0., 0., 0., 0., 0., 0., 0., 0., 0., 0., 0., 0., 0., 0., 0., 0., 0.,\n       0., 0., 0., 0., 0., 0., 0., 0., 0.], dtype=float32)>), (None, <tf.Variable 'dense_25/kernel:0' shape=(128, 64) dtype=float32, numpy=\narray([[ 0.1211528 , -0.09807112, -0.09546527, ..., -0.03905942,\n         0.09311445,  0.10157533],\n       [ 0.10147314,  0.08142893, -0.07211427, ...,  0.14759456,\n         0.10412671, -0.09407593],\n       [-0.14751531, -0.15590477,  0.04163653, ...,  0.08450668,\n        -0.14830971,  0.17599405],\n       ...,\n       [ 0.08948143,  0.08236797,  0.07654436, ...,  0.01610911,\n        -0.11900167, -0.03387165],\n       [-0.09120663, -0.0585912 ,  0.01050666, ...,  0.16254206,\n        -0.00427365, -0.01388288],\n       [-0.0462901 , -0.01968144, -0.1210535 , ...,  0.07749744,\n         0.07698379,  0.09172894]], dtype=float32)>), (None, <tf.Variable 'dense_25/bias:0' shape=(64,) dtype=float32, numpy=\narray([0., 0., 0., 0., 0., 0., 0., 0., 0., 0., 0., 0., 0., 0., 0., 0., 0.,\n       0., 0., 0., 0., 0., 0., 0., 0., 0., 0., 0., 0., 0., 0., 0., 0., 0.,\n       0., 0., 0., 0., 0., 0., 0., 0., 0., 0., 0., 0., 0., 0., 0., 0., 0.,\n       0., 0., 0., 0., 0., 0., 0., 0., 0., 0., 0., 0., 0.], dtype=float32)>), (None, <tf.Variable 'dense_26/kernel:0' shape=(64, 1) dtype=float32, numpy=\narray([[-0.06832482],\n       [-0.12553291],\n       [ 0.16270933],\n       [-0.22166952],\n       [ 0.01377159],\n       [ 0.22130305],\n       [-0.19193664],\n       [-0.10856946],\n       [ 0.0335049 ],\n       [-0.05059236],\n       [ 0.1525085 ],\n       [ 0.01186174],\n       [ 0.05778867],\n       [ 0.04098168],\n       [-0.23178613],\n       [ 0.26954097],\n       [-0.13214819],\n       [ 0.25155228],\n       [-0.20320323],\n       [ 0.05852479],\n       [ 0.2845245 ],\n       [ 0.10635418],\n       [-0.19337443],\n       [ 0.02901852],\n       [ 0.23112345],\n       [-0.20460466],\n       [ 0.05474421],\n       [ 0.1452305 ],\n       [-0.12810427],\n       [ 0.15138415],\n       [-0.09979874],\n       [ 0.13291198],\n       [ 0.06778806],\n       [-0.07375939],\n       [ 0.15852597],\n       [ 0.15800038],\n       [-0.14832398],\n       [ 0.28196937],\n       [-0.24139762],\n       [-0.2374267 ],\n       [-0.11828315],\n       [ 0.01057416],\n       [ 0.2168495 ],\n       [ 0.08723834],\n       [ 0.17856023],\n       [ 0.08524808],\n       [-0.1337345 ],\n       [-0.16379568],\n       [ 0.23298025],\n       [ 0.1352978 ],\n       [-0.00882989],\n       [ 0.18426797],\n       [-0.28344303],\n       [ 0.16272259],\n       [ 0.03807688],\n       [ 0.02006027],\n       [ 0.2643429 ],\n       [-0.25180098],\n       [ 0.08427837],\n       [ 0.2509395 ],\n       [ 0.2027092 ],\n       [-0.02479959],\n       [ 0.14511648],\n       [-0.0836491 ]], dtype=float32)>), (None, <tf.Variable 'dense_26/bias:0' shape=(1,) dtype=float32, numpy=array([0.], dtype=float32)>))."
          ]
        }
      ],
      "source": [
        "# TEST CODE\n",
        "\n",
        "test_model = tf.keras.models.load_model('./test_model')\n",
        "\n",
        "test_losses = train_data_for_one_epoch(train_dataset, optimizer, loss_object, test_model, \n",
        "                             train_acc_metric, train_f1score_metric, verbose=False)\n",
        "\n",
        "for test_loss in test_losses:\n",
        "    print(test_loss.numpy())\n",
        "\n",
        "del test_model\n",
        "del test_losses"
      ]
    },
    {
      "cell_type": "markdown",
      "metadata": {
        "id": "4GtfQ5CUEW4w"
      },
      "source": [
        "**Expected Output:**\n",
        "\n",
        "The losses should generally be decreasing and will start from around 0.75. For example:\n",
        "\n",
        "```\n",
        "0.7600615\n",
        "0.6092045\n",
        "0.5525634\n",
        "0.4358902\n",
        "0.4765755\n",
        "0.43327087\n",
        "0.40585428\n",
        "0.32855004\n",
        "0.35755336\n",
        "0.3651728\n",
        "0.33971977\n",
        "0.27372319\n",
        "0.25026917\n",
        "0.29229593\n",
        "0.242178\n",
        "0.20602849\n",
        "0.15887335\n",
        "0.090397514\n",
        "```"
      ]
    },
    {
      "cell_type": "markdown",
      "metadata": {
        "id": "d9RJq8BLCsSF"
      },
      "source": [
        "At the end of each epoch, we have to validate the model on the test dataset. The following function calculates the loss on test dataset and updates the states of the validation metrics."
      ]
    },
    {
      "cell_type": "code",
      "execution_count": 47,
      "metadata": {
        "id": "5gLJyAJE0YRc"
      },
      "outputs": [],
      "source": [
        "def perform_validation():\n",
        "    losses = []\n",
        "\n",
        "    #Iterate through all batches of validation data.\n",
        "    for x_val, y_val in test_dataset:\n",
        "\n",
        "        #Calculate validation loss for current batch.\n",
        "        val_logits = model(x_val) \n",
        "        val_loss = loss_object(y_true=y_val, y_pred=val_logits)\n",
        "        losses.append(val_loss)\n",
        "\n",
        "        #Round off and cast outputs to either  or 1\n",
        "        val_logits = tf.cast(tf.round(model(x_val)), 'int64')\n",
        "\n",
        "        #Update validation metrics\n",
        "        val_acc_metric.update_state(y_val, val_logits)\n",
        "        val_f1score_metric.update_state(y_val, val_logits)\n",
        "        \n",
        "    return losses"
      ]
    },
    {
      "cell_type": "markdown",
      "metadata": {
        "id": "DLymSCkUC-CL"
      },
      "source": [
        "Next we define the training loop that runs through the training samples repeatedly over a fixed number of epochs. Here we combine the functions we built earlier to establish the following flow:\n",
        "1. Perform training over all batches of training data.\n",
        "2. Get values of metrics.\n",
        "3. Perform validation to calculate loss and update validation metrics on test data.\n",
        "4. Reset the metrics at the end of epoch.\n",
        "5. Display statistics at the end of each epoch.\n",
        "\n",
        "**Note** : We also calculate the training and validation losses for the whole epoch at the end of the epoch."
      ]
    },
    {
      "cell_type": "code",
      "execution_count": 48,
      "metadata": {
        "colab": {
          "base_uri": "https://localhost:8080/",
          "height": 1000
        },
        "id": "OOO1x3VyuPUV",
        "outputId": "caffbdb4-af61-4a76-d324-bdc80e546205"
      },
      "outputs": [
        {
          "output_type": "stream",
          "name": "stdout",
          "text": [
            "Start of epoch 0\n"
          ]
        },
        {
          "output_type": "error",
          "ename": "ValueError",
          "evalue": "ignored",
          "traceback": [
            "\u001b[0;31m---------------------------------------------------------------------------\u001b[0m",
            "\u001b[0;31mValueError\u001b[0m                                Traceback (most recent call last)",
            "\u001b[0;32m<ipython-input-48-01cb494120cd>\u001b[0m in \u001b[0;36m<module>\u001b[0;34m()\u001b[0m\n\u001b[1;32m      7\u001b[0m     \u001b[0;31m#Perform Training over all batches of train data\u001b[0m\u001b[0;34m\u001b[0m\u001b[0;34m\u001b[0m\u001b[0;34m\u001b[0m\u001b[0m\n\u001b[1;32m      8\u001b[0m     losses_train = train_data_for_one_epoch(train_dataset, optimizer, loss_object, model, \n\u001b[0;32m----> 9\u001b[0;31m                              train_acc_metric, train_f1score_metric)\n\u001b[0m\u001b[1;32m     10\u001b[0m \u001b[0;34m\u001b[0m\u001b[0m\n\u001b[1;32m     11\u001b[0m     \u001b[0;31m# Get results from training metrics\u001b[0m\u001b[0;34m\u001b[0m\u001b[0;34m\u001b[0m\u001b[0;34m\u001b[0m\u001b[0m\n",
            "\u001b[0;32m<ipython-input-45-5c51b22c9562>\u001b[0m in \u001b[0;36mtrain_data_for_one_epoch\u001b[0;34m(train_dataset, optimizer, loss_object, model, train_acc_metric, train_f1score_metric, verbose)\u001b[0m\n\u001b[1;32m     19\u001b[0m         \u001b[0;31m#Calculate loss and update trainable variables using optimizer\u001b[0m\u001b[0;34m\u001b[0m\u001b[0;34m\u001b[0m\u001b[0;34m\u001b[0m\u001b[0m\n\u001b[1;32m     20\u001b[0m         \u001b[0;31m### START CODE HERE ###\u001b[0m\u001b[0;34m\u001b[0m\u001b[0;34m\u001b[0m\u001b[0;34m\u001b[0m\u001b[0m\n\u001b[0;32m---> 21\u001b[0;31m         \u001b[0mlogits\u001b[0m\u001b[0;34m,\u001b[0m \u001b[0mloss\u001b[0m \u001b[0;34m=\u001b[0m \u001b[0mapply_gradient\u001b[0m\u001b[0;34m(\u001b[0m\u001b[0moptimizer\u001b[0m\u001b[0;34m,\u001b[0m \u001b[0mloss_object\u001b[0m\u001b[0;34m,\u001b[0m \u001b[0mmodel\u001b[0m\u001b[0;34m,\u001b[0m \u001b[0mx_batch_train\u001b[0m\u001b[0;34m,\u001b[0m \u001b[0my_batch_train\u001b[0m\u001b[0;34m)\u001b[0m\u001b[0;34m\u001b[0m\u001b[0;34m\u001b[0m\u001b[0m\n\u001b[0m\u001b[1;32m     22\u001b[0m         \u001b[0mlosses\u001b[0m\u001b[0;34m.\u001b[0m\u001b[0mappend\u001b[0m\u001b[0;34m(\u001b[0m\u001b[0mloss\u001b[0m\u001b[0;34m)\u001b[0m\u001b[0;34m\u001b[0m\u001b[0;34m\u001b[0m\u001b[0m\n\u001b[1;32m     23\u001b[0m         \u001b[0;31m### END CODE HERE ###\u001b[0m\u001b[0;34m\u001b[0m\u001b[0;34m\u001b[0m\u001b[0;34m\u001b[0m\u001b[0m\n",
            "\u001b[0;32m<ipython-input-40-033ff9118a74>\u001b[0m in \u001b[0;36mapply_gradient\u001b[0;34m(optimizer, loss_object, model, x, y)\u001b[0m\n\u001b[1;32m     18\u001b[0m \u001b[0;34m\u001b[0m\u001b[0m\n\u001b[1;32m     19\u001b[0m     \u001b[0mgradients\u001b[0m \u001b[0;34m=\u001b[0m \u001b[0mtape\u001b[0m\u001b[0;34m.\u001b[0m\u001b[0mgradient\u001b[0m\u001b[0;34m(\u001b[0m\u001b[0mloss_value\u001b[0m\u001b[0;34m,\u001b[0m \u001b[0mmodel\u001b[0m\u001b[0;34m.\u001b[0m\u001b[0mtrainable_weights\u001b[0m\u001b[0;34m)\u001b[0m\u001b[0;34m\u001b[0m\u001b[0;34m\u001b[0m\u001b[0m\n\u001b[0;32m---> 20\u001b[0;31m     \u001b[0moptimizer\u001b[0m\u001b[0;34m.\u001b[0m\u001b[0mapply_gradients\u001b[0m\u001b[0;34m(\u001b[0m\u001b[0mzip\u001b[0m\u001b[0;34m(\u001b[0m\u001b[0mgradients\u001b[0m\u001b[0;34m,\u001b[0m \u001b[0mmodel\u001b[0m\u001b[0;34m.\u001b[0m\u001b[0mtrainable_weights\u001b[0m\u001b[0;34m)\u001b[0m\u001b[0;34m)\u001b[0m\u001b[0;34m\u001b[0m\u001b[0;34m\u001b[0m\u001b[0m\n\u001b[0m\u001b[1;32m     21\u001b[0m     \u001b[0;31m### END CODE HERE ###\u001b[0m\u001b[0;34m\u001b[0m\u001b[0;34m\u001b[0m\u001b[0;34m\u001b[0m\u001b[0m\n\u001b[1;32m     22\u001b[0m \u001b[0;34m\u001b[0m\u001b[0m\n",
            "\u001b[0;32m/usr/local/lib/python3.7/dist-packages/keras/optimizer_v2/optimizer_v2.py\u001b[0m in \u001b[0;36mapply_gradients\u001b[0;34m(self, grads_and_vars, name, experimental_aggregate_gradients)\u001b[0m\n\u001b[1;32m    631\u001b[0m       \u001b[0mRuntimeError\u001b[0m\u001b[0;34m:\u001b[0m \u001b[0mIf\u001b[0m \u001b[0mcalled\u001b[0m \u001b[0;32min\u001b[0m \u001b[0ma\u001b[0m \u001b[0mcross\u001b[0m\u001b[0;34m-\u001b[0m\u001b[0mreplica\u001b[0m \u001b[0mcontext\u001b[0m\u001b[0;34m.\u001b[0m\u001b[0;34m\u001b[0m\u001b[0;34m\u001b[0m\u001b[0m\n\u001b[1;32m    632\u001b[0m     \"\"\"\n\u001b[0;32m--> 633\u001b[0;31m     \u001b[0mgrads_and_vars\u001b[0m \u001b[0;34m=\u001b[0m \u001b[0moptimizer_utils\u001b[0m\u001b[0;34m.\u001b[0m\u001b[0mfilter_empty_gradients\u001b[0m\u001b[0;34m(\u001b[0m\u001b[0mgrads_and_vars\u001b[0m\u001b[0;34m)\u001b[0m\u001b[0;34m\u001b[0m\u001b[0;34m\u001b[0m\u001b[0m\n\u001b[0m\u001b[1;32m    634\u001b[0m     \u001b[0mvar_list\u001b[0m \u001b[0;34m=\u001b[0m \u001b[0;34m[\u001b[0m\u001b[0mv\u001b[0m \u001b[0;32mfor\u001b[0m \u001b[0;34m(\u001b[0m\u001b[0m_\u001b[0m\u001b[0;34m,\u001b[0m \u001b[0mv\u001b[0m\u001b[0;34m)\u001b[0m \u001b[0;32min\u001b[0m \u001b[0mgrads_and_vars\u001b[0m\u001b[0;34m]\u001b[0m\u001b[0;34m\u001b[0m\u001b[0;34m\u001b[0m\u001b[0m\n\u001b[1;32m    635\u001b[0m \u001b[0;34m\u001b[0m\u001b[0m\n",
            "\u001b[0;32m/usr/local/lib/python3.7/dist-packages/keras/optimizer_v2/utils.py\u001b[0m in \u001b[0;36mfilter_empty_gradients\u001b[0;34m(grads_and_vars)\u001b[0m\n\u001b[1;32m     71\u001b[0m   \u001b[0;32mif\u001b[0m \u001b[0;32mnot\u001b[0m \u001b[0mfiltered\u001b[0m\u001b[0;34m:\u001b[0m\u001b[0;34m\u001b[0m\u001b[0;34m\u001b[0m\u001b[0m\n\u001b[1;32m     72\u001b[0m     \u001b[0mvariable\u001b[0m \u001b[0;34m=\u001b[0m \u001b[0;34m(\u001b[0m\u001b[0;34m[\u001b[0m\u001b[0mv\u001b[0m\u001b[0;34m.\u001b[0m\u001b[0mname\u001b[0m \u001b[0;32mfor\u001b[0m \u001b[0m_\u001b[0m\u001b[0;34m,\u001b[0m \u001b[0mv\u001b[0m \u001b[0;32min\u001b[0m \u001b[0mgrads_and_vars\u001b[0m\u001b[0;34m]\u001b[0m\u001b[0;34m,\u001b[0m\u001b[0;34m)\u001b[0m\u001b[0;34m\u001b[0m\u001b[0;34m\u001b[0m\u001b[0m\n\u001b[0;32m---> 73\u001b[0;31m     raise ValueError(f\"No gradients provided for any variable: {variable}. \"\n\u001b[0m\u001b[1;32m     74\u001b[0m                      f\"Provided `grads_and_vars` is {grads_and_vars}.\")\n\u001b[1;32m     75\u001b[0m   \u001b[0;32mif\u001b[0m \u001b[0mvars_with_empty_grads\u001b[0m\u001b[0;34m:\u001b[0m\u001b[0;34m\u001b[0m\u001b[0;34m\u001b[0m\u001b[0m\n",
            "\u001b[0;31mValueError\u001b[0m: No gradients provided for any variable: (['dense/kernel:0', 'dense/bias:0', 'dense_1/kernel:0', 'dense_1/bias:0', 'dense_2/kernel:0', 'dense_2/bias:0'],). Provided `grads_and_vars` is ((None, <tf.Variable 'dense/kernel:0' shape=(9, 128) dtype=float32, numpy=\narray([[ 0.13082726, -0.19884971,  0.20701618, ...,  0.10104041,\n         0.13505359, -0.13020593],\n       [-0.04041979,  0.04547353,  0.07110815, ...,  0.17359923,\n        -0.1161974 , -0.15939593],\n       [-0.0343214 ,  0.01088081, -0.06201272, ...,  0.14761557,\n        -0.03228958, -0.14364493],\n       ...,\n       [ 0.14315991,  0.09318896, -0.15576679, ...,  0.08308075,\n         0.03400657,  0.10588969],\n       [-0.17505203, -0.1484282 ,  0.13195069, ...,  0.06937061,\n         0.01564138,  0.20718803],\n       [-0.1918816 ,  0.04489122, -0.00607929, ...,  0.20887588,\n        -0.1136359 ,  0.16671191]], dtype=float32)>), (None, <tf.Variable 'dense/bias:0' shape=(128,) dtype=float32, numpy=\narray([0., 0., 0., 0., 0., 0., 0., 0., 0., 0., 0., 0., 0., 0., 0., 0., 0.,\n       0., 0., 0., 0., 0., 0., 0., 0., 0., 0., 0., 0., 0., 0., 0., 0., 0.,\n       0., 0., 0., 0., 0., 0., 0., 0., 0., 0., 0., 0., 0., 0., 0., 0., 0.,\n       0., 0., 0., 0., 0., 0., 0., 0., 0., 0., 0., 0., 0., 0., 0., 0., 0.,\n       0., 0., 0., 0., 0., 0., 0., 0., 0., 0., 0., 0., 0., 0., 0., 0., 0.,\n       0., 0., 0., 0., 0., 0., 0., 0., 0., 0., 0., 0., 0., 0., 0., 0., 0.,\n       0., 0., 0., 0., 0., 0., 0., 0., 0., 0., 0., 0., 0., 0., 0., 0., 0.,\n       0., 0., 0., 0., 0., 0., 0., 0., 0.], dtype=float32)>), (None, <tf.Variable 'dense_1/kernel:0' shape=(128, 64) dtype=float32, numpy=\narray([[ 0.04928391,  0.00605249, -0.00905003, ...,  0.08279471,\n        -0.03543842,  0.12389906],\n       [-0.05419642,  0.00149702, -0.14559427, ...,  0.00955588,\n        -0.10105351, -0.06266166],\n       [-0.0624918 ,  0.17505024,  0.13509561, ...,  0.10165884,\n         0.05889001,  0.1731988 ],\n       ...,\n       [ 0.03238024,  0.02444513, -0.13937381, ...,  0.01946329,\n        -0.04103914,  0.03785773],\n       [ 0.01254687,  0.1224172 , -0.07707474, ..., -0.14841005,\n         0.16711272, -0.07026617],\n       [ 0.0527212 ,  0.01116243,  0.15887807, ..., -0.09341423,\n         0.01092441, -0.05822511]], dtype=float32)>), (None, <tf.Variable 'dense_1/bias:0' shape=(64,) dtype=float32, numpy=\narray([0., 0., 0., 0., 0., 0., 0., 0., 0., 0., 0., 0., 0., 0., 0., 0., 0.,\n       0., 0., 0., 0., 0., 0., 0., 0., 0., 0., 0., 0., 0., 0., 0., 0., 0.,\n       0., 0., 0., 0., 0., 0., 0., 0., 0., 0., 0., 0., 0., 0., 0., 0., 0.,\n       0., 0., 0., 0., 0., 0., 0., 0., 0., 0., 0., 0., 0.], dtype=float32)>), (None, <tf.Variable 'dense_2/kernel:0' shape=(64, 1) dtype=float32, numpy=\narray([[-0.26552513],\n       [-0.19978704],\n       [-0.14480834],\n       [ 0.11817545],\n       [-0.24379513],\n       [ 0.18611604],\n       [ 0.10086277],\n       [ 0.03828964],\n       [ 0.15284547],\n       [-0.29013684],\n       [-0.20684797],\n       [ 0.2931354 ],\n       [ 0.08643183],\n       [ 0.12230498],\n       [ 0.02124077],\n       [-0.21905725],\n       [ 0.10200849],\n       [ 0.18722129],\n       [ 0.06469703],\n       [ 0.15284953],\n       [ 0.07902786],\n       [-0.0019066 ],\n       [ 0.09166706],\n       [-0.06814829],\n       [-0.12899329],\n       [-0.15394978],\n       [ 0.01770818],\n       [ 0.07957569],\n       [ 0.252092  ],\n       [ 0.30025977],\n       [ 0.28744608],\n       [-0.27726474],\n       [-0.15565428],\n       [ 0.05190754],\n       [ 0.0006136 ],\n       [ 0.20444876],\n       [-0.27958634],\n       [ 0.07386652],\n       [ 0.29397422],\n       [ 0.25540572],\n       [-0.23136547],\n       [-0.1013407 ],\n       [ 0.11793444],\n       [ 0.13743037],\n       [ 0.21470004],\n       [ 0.12440914],\n       [ 0.10514688],\n       [ 0.01760423],\n       [ 0.26160222],\n       [ 0.05601659],\n       [ 0.04817697],\n       [ 0.0870963 ],\n       [ 0.07832232],\n       [-0.20082158],\n       [ 0.15676156],\n       [ 0.19397429],\n       [ 0.04165989],\n       [ 0.20574749],\n       [-0.2199569 ],\n       [-0.21866007],\n       [-0.15361519],\n       [ 0.13927966],\n       [-0.19540331],\n       [-0.22759074]], dtype=float32)>), (None, <tf.Variable 'dense_2/bias:0' shape=(1,) dtype=float32, numpy=array([0.], dtype=float32)>))."
          ]
        }
      ],
      "source": [
        "# Iterate over epochs.\n",
        "epochs = 5\n",
        "epochs_val_losses, epochs_train_losses = [], []\n",
        "\n",
        "for epoch in range(epochs):\n",
        "    print('Start of epoch %d' % (epoch,))\n",
        "    #Perform Training over all batches of train data\n",
        "    losses_train = train_data_for_one_epoch(train_dataset, optimizer, loss_object, model, \n",
        "                             train_acc_metric, train_f1score_metric)\n",
        "\n",
        "    # Get results from training metrics\n",
        "    train_acc = train_acc_metric.result()\n",
        "    train_f1score = train_f1score_metric.result()\n",
        "\n",
        "    #Perform validation on all batches of test data\n",
        "    losses_val = perform_validation()\n",
        "\n",
        "    # Get results from validation metrics\n",
        "    val_acc = val_acc_metric.result()\n",
        "    val_f1score = val_f1score_metric.result()\n",
        "\n",
        "    #Calculate training and validation losses for current epoch\n",
        "    losses_train_mean = np.mean(losses_train)\n",
        "    losses_val_mean = np.mean(losses_val)\n",
        "    epochs_val_losses.append(losses_val_mean)\n",
        "    epochs_train_losses.append(losses_train_mean)\n",
        "\n",
        "    print('\\n Epcoh %s: Train loss: %.4f  Validation Loss: %.4f, Train Accuracy: %.4f, Validation Accuracy %.4f, Train F1 Score: %.4f, Validation F1 Score: %.4f' % (epoch, float(losses_train_mean), float(losses_val_mean), float(train_acc), float(val_acc), train_f1score, val_f1score))\n",
        "\n",
        "    #Reset states of all metrics\n",
        "    train_acc_metric.reset_states()\n",
        "    val_acc_metric.reset_states()\n",
        "    val_f1score_metric.reset_states()\n",
        "    train_f1score_metric.reset_states()"
      ]
    },
    {
      "cell_type": "markdown",
      "metadata": {
        "id": "JoLxueMdzm14"
      },
      "source": [
        "## Evaluate the Model"
      ]
    },
    {
      "cell_type": "markdown",
      "metadata": {
        "id": "6EGW3HVUzqBX"
      },
      "source": [
        "### Plots for Evaluation"
      ]
    },
    {
      "cell_type": "markdown",
      "metadata": {
        "id": "t8Wsr6wG0T4h"
      },
      "source": [
        "We plot the progress of loss as training proceeds over number of epochs."
      ]
    },
    {
      "cell_type": "code",
      "execution_count": 49,
      "metadata": {
        "colab": {
          "base_uri": "https://localhost:8080/",
          "height": 281
        },
        "id": "MsmF_2n307SP",
        "outputId": "03a0ff86-48e9-4842-8722-67a41efccc13"
      },
      "outputs": [
        {
          "output_type": "display_data",
          "data": {
            "image/png": "[encoded data removed]",
            "text/plain": [
              "<Figure size 432x288 with 1 Axes>"
            ]
          },
          "metadata": {
            "needs_background": "light"
          }
        }
      ],
      "source": [
        "def plot_metrics(train_metric, val_metric, metric_name, title, ylim=5):\n",
        "    plt.title(title)\n",
        "    plt.ylim(0,ylim)\n",
        "    plt.gca().xaxis.set_major_locator(mticker.MultipleLocator(1))\n",
        "    plt.plot(train_metric,color='blue',label=metric_name)\n",
        "    plt.plot(val_metric,color='green',label='val_' + metric_name)\n",
        "\n",
        "plot_metrics(epochs_train_losses, epochs_val_losses, \"Loss\", \"Loss\", ylim=1.0)"
      ]
    },
    {
      "cell_type": "markdown",
      "metadata": {
        "id": "27fXX7Yqyu5S"
      },
      "source": [
        "We plot the confusion matrix to visualize the true values against the values predicted by the model."
      ]
    },
    {
      "cell_type": "code",
      "execution_count": 50,
      "metadata": {
        "colab": {
          "base_uri": "https://localhost:8080/",
          "height": 289
        },
        "id": "_9n2XJ9MwpDS",
        "outputId": "8f1e0f47-e6cf-426f-fa08-db50f86872bd"
      },
      "outputs": [
        {
          "output_type": "display_data",
          "data": {
            "image/png": "[encoded data removed]",
            "text/plain": [
              "<Figure size 432x288 with 2 Axes>"
            ]
          },
          "metadata": {
            "needs_background": "light"
          }
        }
      ],
      "source": [
        "test_outputs = model(norm_test_X.values)\n",
        "plot_confusion_matrix(test_Y.values, tf.round(test_outputs), title='Confusion Matrix for Untrained Model')"
      ]
    }
  ],
  "metadata": {
    "coursera": {
      "schema_names": [
        "TF3C2W2-1",
        "TF3C2W2-2",
        "TF3C2W2-3"
      ]
    },
    "kernelspec": {
      "display_name": "Python 3",
      "language": "python",
      "name": "python3"
    },
    "language_info": {
      "codemirror_mode": {
        "name": "ipython",
        "version": 3
      },
      "file_extension": ".py",
      "mimetype": "text/x-python",
      "name": "python",
      "nbconvert_exporter": "python",
      "pygments_lexer": "ipython3",
      "version": "3.7.6"
    },
    "colab": {
      "name": "C2W2_Assignment.ipynb",
      "provenance": []
    }
  },
  "nbformat": 4,
  "nbformat_minor": 0
}